{
 "cells": [
  {
   "cell_type": "code",
   "execution_count": 2,
   "metadata": {},
   "outputs": [],
   "source": [
    "import sympy as sp\n",
    "import numpy as np\n",
    "from sympy.physics.vector import dynamicsymbols\n",
    "from sympy.physics.vector import time_derivative\n",
    "from sympy.physics.vector import ReferenceFrame\n",
    "N = ReferenceFrame('N')\n",
    "import pylab as pl\n",
    "import control\n",
    "from EoM import *\n",
    "from sympy.physics.mechanics import *\n",
    "from numpy.linalg import matrix_rank, eig\n"
   ]
  },
  {
   "cell_type": "code",
   "execution_count": 2,
   "metadata": {},
   "outputs": [],
   "source": [
    "I_bx, I_fx, I_fy, m_all, w, l, l_f, f_d, T_gb, g, r, L = sp.symbols('I_bx, I_fx, I_fy, m_all, w, l, l_f, f_d, T_gb, g, r, L')\n",
    "K_t, K_e, R, J_m, V, n, f = sp.symbols('K_t, K_e, R, J_m, V, n, f')\n",
    "theta_R, theta_gb = dynamicsymbols('theta_R, theta_gb')\n",
    "\n",
    "theta_Rd = theta_R.diff()\n",
    "theta_Rdd = theta_Rd.diff()\n",
    "theta_gbd = theta_gb.diff()\n",
    "theta_gbdd = theta_gbd.diff()\n",
    "\n",
    "q = sp.Matrix([[theta_R], [theta_gb]])\n",
    "qd = q.diff()\n",
    "qdd = qd.diff()\n",
    "\n",
    "u = sp.Matrix([V])\n",
    "\n",
    "L = I_fy * w / 2\n",
    "\n",
    "# T_gb = (n*K_t*V)/R - sp.Pow(n,2)*J_m*theta_gbdd - sp.Pow(n,2)*(f+K_t*K_e/R)*theta_gbd + sp.Pow(n,2)*J_m*theta_Rdd + sp.Pow(n,2)*(f+K_t*K_e/R)*theta_Rd\n",
    "\n",
    "tau = sp.Matrix([[I_bx*theta_Rdd - m_all*g*l*sp.sin(theta_R) + 2*L*theta_gbd*sp.cos(theta_gb)],\n",
    "                 [2*I_fx*theta_gbdd - 2*L*theta_Rd*sp.cos(theta_gb) - T_gb]])\n",
    "# - 2*L*theta_gbd*sp.cos(theta_gb)\n",
    "\n"
   ]
  },
  {
   "cell_type": "code",
   "execution_count": 3,
   "metadata": {},
   "outputs": [
    {
     "data": {
      "text/latex": [
       "$\\displaystyle \\left[\\begin{matrix}I_{bx} \\frac{d^{2}}{d t^{2}} \\theta_{R}{\\left(t \\right)} + I_{fy} w \\cos{\\left(\\theta_{gb}{\\left(t \\right)} \\right)} \\frac{d}{d t} \\theta_{gb}{\\left(t \\right)} - g l m_{all} \\sin{\\left(\\theta_{R}{\\left(t \\right)} \\right)}\\\\2 I_{fx} \\frac{d^{2}}{d t^{2}} \\theta_{gb}{\\left(t \\right)} - I_{fy} w \\cos{\\left(\\theta_{gb}{\\left(t \\right)} \\right)} \\frac{d}{d t} \\theta_{R}{\\left(t \\right)} - T_{gb}\\end{matrix}\\right]$"
      ],
      "text/plain": [
       "Matrix([\n",
       "[I_bx*Derivative(theta_R(t), (t, 2)) + I_fy*w*cos(theta_gb(t))*Derivative(theta_gb(t), t) - g*l*m_all*sin(theta_R(t))],\n",
       "[                   2*I_fx*Derivative(theta_gb(t), (t, 2)) - I_fy*w*cos(theta_gb(t))*Derivative(theta_R(t), t) - T_gb]])"
      ]
     },
     "execution_count": 3,
     "metadata": {},
     "output_type": "execute_result"
    }
   ],
   "source": [
    "tau# eq_point = {theta_gb:0,theta_R:0, theta_Rd**2:0}\n"
   ]
  },
  {
   "cell_type": "code",
   "execution_count": 4,
   "metadata": {},
   "outputs": [
    {
     "data": {
      "text/latex": [
       "$\\displaystyle T_{gb}$"
      ],
      "text/plain": [
       "T_gb"
      ]
     },
     "execution_count": 4,
     "metadata": {},
     "output_type": "execute_result"
    }
   ],
   "source": [
    "T_gb"
   ]
  },
  {
   "cell_type": "code",
   "execution_count": 5,
   "metadata": {},
   "outputs": [],
   "source": [
    "eq_point = {sp.sin(theta_gb):theta_gb, sp.cos(theta_gb):1,sp.sin(theta_R):theta_R, sp.cos(theta_R):1,theta_gbd**2:0 ,theta_Rd**2:0}\n",
    "# eq_point = {theta_gb:0,theta_R:0, theta_Rd**2:0}\n",
    "\n",
    "tau_eq = sp.simplify(tau.subs(eq_point))"
   ]
  },
  {
   "cell_type": "code",
   "execution_count": 6,
   "metadata": {},
   "outputs": [
    {
     "data": {
      "text/latex": [
       "$\\displaystyle \\left[\\begin{matrix}I_{bx} \\frac{d^{2}}{d t^{2}} \\theta_{R}{\\left(t \\right)} + I_{fy} w \\frac{d}{d t} \\theta_{gb}{\\left(t \\right)} - g l m_{all} \\theta_{R}{\\left(t \\right)}\\\\2 I_{fx} \\frac{d^{2}}{d t^{2}} \\theta_{gb}{\\left(t \\right)} - I_{fy} w \\frac{d}{d t} \\theta_{R}{\\left(t \\right)} - T_{gb}\\end{matrix}\\right]$"
      ],
      "text/plain": [
       "Matrix([\n",
       "[I_bx*Derivative(theta_R(t), (t, 2)) + I_fy*w*Derivative(theta_gb(t), t) - g*l*m_all*theta_R(t)],\n",
       "[              2*I_fx*Derivative(theta_gb(t), (t, 2)) - I_fy*w*Derivative(theta_R(t), t) - T_gb]])"
      ]
     },
     "execution_count": 6,
     "metadata": {},
     "output_type": "execute_result"
    }
   ],
   "source": [
    "tau_eq"
   ]
  },
  {
   "cell_type": "code",
   "execution_count": 7,
   "metadata": {},
   "outputs": [],
   "source": [
    "# RMD x6 Motor Dynamics\n",
    "\n",
    "# R = 0.33    # Resistance (Ohm)\n",
    "Kv = 60     # Speed constant (rpm/V)\n",
    "# K_e = 1/Kv   # Back EMF Voltage constant (V/rpm)\n",
    "# K_t = 0.88   # Torque constant (NM/A)\n",
    "# Me = 0.7    # Motor efficiency\n",
    "# I = 0.19    # Phase to phase inductance (mH)\n",
    "# n = 6\n",
    "J_m = 8e-5  #800[g*cm^2] = 8e-5[kg*m^2]\n"
   ]
  },
  {
   "cell_type": "code",
   "execution_count": 8,
   "metadata": {},
   "outputs": [
    {
     "data": {
      "text/plain": [
       "523.5987755982989"
      ]
     },
     "execution_count": 8,
     "metadata": {},
     "output_type": "execute_result"
    }
   ],
   "source": [
    "rpm = 5000\n",
    "flywheel_ang_vel = (rpm * 2 * np.pi)/60 \n",
    "flywheel_ang_vel"
   ]
  },
  {
   "cell_type": "code",
   "execution_count": 10,
   "metadata": {},
   "outputs": [
    {
     "data": {
      "text/plain": [
       "0.7431161131007722"
      ]
     },
     "execution_count": 10,
     "metadata": {},
     "output_type": "execute_result"
    }
   ],
   "source": [
    "#무게중심_아래부터_위까지\n",
    "m1 = 0.52           # ankle_wheel\n",
    "m2 = 2.386          # ankle_roll_pitch\n",
    "m3 = 1.231          # ankle_knee\n",
    "m4 = 2.175          # knee_hip\n",
    "m5 = 3.325          # hip_roll_pitch\n",
    "m6 = 4*2+1*2+2.84   # cmg\n",
    "mw = 2.292\n",
    "\n",
    "l1 = 0.0087 + 0.138/2\n",
    "l2 = 0.171+ 0.138/2\n",
    "l3 = 0.171+0.159782+ 0.138/2\n",
    "l4 = 0.171+0.279942+0.15984+ 0.138/2\n",
    "l5 = 0.171+0.279942+0.28+ 0.138/2\n",
    "l6 = 0.171+0.279942+0.28+0.21114+ 0.138/2\n",
    "lw = 0.138/2\n",
    "\n",
    "m_bb = 22.447 + 2.292\n",
    "\n",
    "I_1 = 0.002000051\n",
    "I_2 =0.003950987\n",
    "I_3 =0.008859306\n",
    "I_4 =0.007175717\n",
    "I_5 = 0.006208194\n",
    "I_6 = 0.09603070785702778\n",
    "I_w =0.002997277\n",
    "\n",
    "l_bb = (mw*lw + m1*l1 + m2*l2 + m3*l3 + m4*l4 + m5*l5 + m6*l6)/m_bb\n",
    "l_bb\n",
    "\n",
    "I_bb = I_w + I_1 + I_2 + I_3 + I_4 + I_5 + I_6 +  mw*(l_bb-lw)**2+  m1*(l_bb-l1)**2 +  m2*(l_bb-l2)**2 +  m3*(l_bb-l3)**2 +  m4*(l_bb-l4)**2 +  m5*(l_bb-l5)**2 +  m6*(l_bb-l6)**2\n",
    "l_bb"
   ]
  },
  {
   "cell_type": "code",
   "execution_count": 11,
   "metadata": {},
   "outputs": [
    {
     "data": {
      "text/plain": [
       "3.089539709502296"
      ]
     },
     "execution_count": 11,
     "metadata": {},
     "output_type": "execute_result"
    }
   ],
   "source": [
    "I_bb"
   ]
  },
  {
   "cell_type": "code",
   "execution_count": 12,
   "metadata": {},
   "outputs": [
    {
     "name": "stdout",
     "output_type": "stream",
     "text": [
      "A = [[  0.           0.           1.           0.        ]\n",
      "     [  0.           0.           0.           1.        ]\n",
      "     [ 82.04066448   0.           0.          -1.91506379]\n",
      "     [  0.           0.         497.19879333   0.        ]]\n",
      "\n",
      "B = [[0.]\n",
      "     [0.]\n",
      "     [0.]\n",
      "     [0.]]\n",
      "\n",
      "C = [[1. 0. 0. 0.]\n",
      "     [0. 1. 0. 0.]\n",
      "     [0. 0. 1. 0.]\n",
      "     [0. 0. 0. 1.]]\n",
      "\n",
      "D = [[0.]\n",
      "     [0.]\n",
      "     [0.]\n",
      "     [0.]]\n",
      "\n"
     ]
    }
   ],
   "source": [
    "Ml, Cl, Gl, Wl = get_EoM_from_T(tau_eq,qdd,g,u)\n",
    "\n",
    "param = {w:flywheel_ang_vel, I_fx:0.005950, I_fy:0.011299999, I_bx:3.089539709502296,  m_all:25.278, r:0.069, l:1.022142,  g:9.81, R:0.33, K_t: 0.88, K_e: 0.88, J_m:8e-5, n: 6, f:0}\n",
    "\n",
    "Mlp = msubs(Ml, param)\n",
    "Clp = msubs(Cl, param)\n",
    "Glp = msubs(Gl, param)\n",
    "Wlp = msubs(Wl, param)\n",
    "\n",
    "Mlp_inv = Mlp.inv()\n",
    "qdd_rhs_A = Mlp_inv*(-Clp -Glp)\n",
    "qdd_rhs_B = Mlp_inv*Wlp*u\n",
    "\n",
    "X = q.col_join(qd)\n",
    "Xd_A = qd.col_join(qdd_rhs_A)\n",
    "Xd_B = qd.col_join(qdd_rhs_B)\n",
    "U = u\n",
    "\n",
    "A = Xd_A.jacobian(X)\n",
    "B = Xd_B.jacobian(U)\n",
    "C = X.jacobian(X)\n",
    "D = X.jacobian(U)\n",
    "\n",
    "ss0 = [A, B, C, D]\n",
    "sys0 = control.ss(*[pl.array(mat_i.subs(param)).astype(float) for mat_i in ss0])\n",
    "mprint(sys0)"
   ]
  },
  {
   "cell_type": "code",
   "execution_count": 8,
   "metadata": {},
   "outputs": [],
   "source": [
    "import sympy as sp\n",
    "import numpy as np\n",
    "from sympy.physics.vector import dynamicsymbols\n",
    "from sympy.physics.vector import time_derivative\n",
    "from sympy.physics.vector import ReferenceFrame\n",
    "N = ReferenceFrame('N')\n",
    "import pylab as pl\n",
    "import control\n",
    "from EoM import *\n",
    "from sympy.physics.mechanics import *\n",
    "from numpy.linalg import matrix_rank, eig"
   ]
  },
  {
   "cell_type": "code",
   "execution_count": 9,
   "metadata": {},
   "outputs": [],
   "source": [
    "Aaa = np.array([[0,0,1,0],\n",
    "              [0,0,0,1],\n",
    "              [82.04066448,0,0,-1.91506379],\n",
    "              [0,0,497.19879333, 0]])\n",
    "    \n",
    "Baa = np.array([[0],[0],[0],[84.03361345]])\n",
    "\n",
    "Caa = np.eye(4)\n",
    "\n",
    "Daa = np.array([[0], [0], [0], [0]])"
   ]
  },
  {
   "cell_type": "code",
   "execution_count": 26,
   "metadata": {},
   "outputs": [],
   "source": [
    "d = 0.1\n",
    "\n",
    "Aba = np.array([0, 0, 0, 0])\n",
    "Aab = np.array([[0], [0], [0], [d]])\n",
    "Abb = np.array([0])\n",
    "Bb = np.array([0])"
   ]
  },
  {
   "cell_type": "code",
   "execution_count": 17,
   "metadata": {},
   "outputs": [
    {
     "data": {
      "text/plain": [
       "(lamda, k1)"
      ]
     },
     "execution_count": 17,
     "metadata": {},
     "output_type": "execute_result"
    }
   ],
   "source": [
    "lamda, k1 = sympy.symbols('lamda, k1')\n",
    "lamda, k1"
   ]
  },
  {
   "cell_type": "code",
   "execution_count": null,
   "metadata": {},
   "outputs": [],
   "source": [
    "I = sympy.Matrix([[1, 0],\n",
    "                  [0, 1]])\n",
    "I"
   ]
  },
  {
   "cell_type": "code",
   "execution_count": 25,
   "metadata": {},
   "outputs": [
    {
     "ename": "IndexError",
     "evalue": "tuple index out of range",
     "output_type": "error",
     "traceback": [
      "\u001b[0;31m---------------------------------------------------------------------------\u001b[0m",
      "\u001b[0;31mIndexError\u001b[0m                                Traceback (most recent call last)",
      "\u001b[0;32m/tmp/ipykernel_2884/2321912042.py\u001b[0m in \u001b[0;36m<module>\u001b[0;34m\u001b[0m\n\u001b[1;32m      1\u001b[0m \u001b[0mTs\u001b[0m \u001b[0;34m=\u001b[0m \u001b[0;36m0.1\u001b[0m\u001b[0;34m\u001b[0m\u001b[0;34m\u001b[0m\u001b[0m\n\u001b[1;32m      2\u001b[0m \u001b[0mSigma\u001b[0m \u001b[0;34m=\u001b[0m \u001b[0mnp\u001b[0m\u001b[0;34m.\u001b[0m\u001b[0marray\u001b[0m\u001b[0;34m(\u001b[0m\u001b[0;34m[\u001b[0m\u001b[0;34m-\u001b[0m\u001b[0;36m4.6\u001b[0m\u001b[0;34m/\u001b[0m\u001b[0mTs\u001b[0m\u001b[0;34m]\u001b[0m\u001b[0;34m)\u001b[0m\u001b[0;34m\u001b[0m\u001b[0;34m\u001b[0m\u001b[0m\n\u001b[0;32m----> 3\u001b[0;31m \u001b[0mK_est\u001b[0m \u001b[0;34m=\u001b[0m \u001b[0mcontrol\u001b[0m\u001b[0;34m.\u001b[0m\u001b[0mplace\u001b[0m\u001b[0;34m(\u001b[0m\u001b[0;36m0\u001b[0m\u001b[0;34m,\u001b[0m \u001b[0;36m0.1\u001b[0m\u001b[0;34m,\u001b[0m \u001b[0mSigma\u001b[0m\u001b[0;34m)\u001b[0m\u001b[0;34m\u001b[0m\u001b[0;34m\u001b[0m\u001b[0m\n\u001b[0m\u001b[1;32m      4\u001b[0m \u001b[0mL\u001b[0m \u001b[0;34m=\u001b[0m \u001b[0mK_est\u001b[0m\u001b[0;34m\u001b[0m\u001b[0;34m\u001b[0m\u001b[0m\n\u001b[1;32m      5\u001b[0m \u001b[0mL\u001b[0m\u001b[0;34m\u001b[0m\u001b[0;34m\u001b[0m\u001b[0m\n",
      "\u001b[0;32m~/anaconda3/envs/py37/lib/python3.7/site-packages/control/statefbk.py\u001b[0m in \u001b[0;36mplace\u001b[0;34m(A, B, p)\u001b[0m\n\u001b[1;32m    132\u001b[0m     \u001b[0mA_mat\u001b[0m \u001b[0;34m=\u001b[0m \u001b[0mnp\u001b[0m\u001b[0;34m.\u001b[0m\u001b[0marray\u001b[0m\u001b[0;34m(\u001b[0m\u001b[0mA\u001b[0m\u001b[0;34m)\u001b[0m\u001b[0;34m\u001b[0m\u001b[0;34m\u001b[0m\u001b[0m\n\u001b[1;32m    133\u001b[0m     \u001b[0mB_mat\u001b[0m \u001b[0;34m=\u001b[0m \u001b[0mnp\u001b[0m\u001b[0;34m.\u001b[0m\u001b[0marray\u001b[0m\u001b[0;34m(\u001b[0m\u001b[0mB\u001b[0m\u001b[0;34m)\u001b[0m\u001b[0;34m\u001b[0m\u001b[0;34m\u001b[0m\u001b[0m\n\u001b[0;32m--> 134\u001b[0;31m     \u001b[0;32mif\u001b[0m \u001b[0;34m(\u001b[0m\u001b[0mA_mat\u001b[0m\u001b[0;34m.\u001b[0m\u001b[0mshape\u001b[0m\u001b[0;34m[\u001b[0m\u001b[0;36m0\u001b[0m\u001b[0;34m]\u001b[0m \u001b[0;34m!=\u001b[0m \u001b[0mA_mat\u001b[0m\u001b[0;34m.\u001b[0m\u001b[0mshape\u001b[0m\u001b[0;34m[\u001b[0m\u001b[0;36m1\u001b[0m\u001b[0;34m]\u001b[0m\u001b[0;34m)\u001b[0m\u001b[0;34m:\u001b[0m\u001b[0;34m\u001b[0m\u001b[0;34m\u001b[0m\u001b[0m\n\u001b[0m\u001b[1;32m    135\u001b[0m         \u001b[0;32mraise\u001b[0m \u001b[0mControlDimension\u001b[0m\u001b[0;34m(\u001b[0m\u001b[0;34m\"A must be a square matrix\"\u001b[0m\u001b[0;34m)\u001b[0m\u001b[0;34m\u001b[0m\u001b[0;34m\u001b[0m\u001b[0m\n\u001b[1;32m    136\u001b[0m \u001b[0;34m\u001b[0m\u001b[0m\n",
      "\u001b[0;31mIndexError\u001b[0m: tuple index out of range"
     ]
    }
   ],
   "source": [
    "Ts = 0.1\n",
    "Sigma = np.array([-4.6/Ts])\n",
    "K_est = control.place(Abb.T, Aab.T, Sigma)\n",
    "L = K_est\n",
    "L"
   ]
  },
  {
   "cell_type": "code",
   "execution_count": 16,
   "metadata": {},
   "outputs": [
    {
     "ename": "IndexError",
     "evalue": "tuple index out of range",
     "output_type": "error",
     "traceback": [
      "\u001b[0;31m---------------------------------------------------------------------------\u001b[0m",
      "\u001b[0;31mIndexError\u001b[0m                                Traceback (most recent call last)",
      "\u001b[0;32m/tmp/ipykernel_2884/1691493072.py\u001b[0m in \u001b[0;36m<module>\u001b[0;34m\u001b[0m\n\u001b[0;32m----> 1\u001b[0;31m \u001b[0;34m(\u001b[0m\u001b[0mAbb\u001b[0m\u001b[0;34m.\u001b[0m\u001b[0mT\u001b[0m\u001b[0;34m)\u001b[0m\u001b[0;34m.\u001b[0m\u001b[0mshape\u001b[0m\u001b[0;34m[\u001b[0m\u001b[0;36m1\u001b[0m\u001b[0;34m]\u001b[0m\u001b[0;34m\u001b[0m\u001b[0;34m\u001b[0m\u001b[0m\n\u001b[0m",
      "\u001b[0;31mIndexError\u001b[0m: tuple index out of range"
     ]
    }
   ],
   "source": [
    "(Abb.T).shape[1]"
   ]
  },
  {
   "cell_type": "code",
   "execution_count": 22,
   "metadata": {},
   "outputs": [
    {
     "data": {
      "text/plain": [
       "array([[-4.,  7.]])"
      ]
     },
     "execution_count": 22,
     "metadata": {},
     "output_type": "execute_result"
    }
   ],
   "source": [
    "A = [[-1, -1], [0, 1]]\n",
    "B = [[0], [1]]\n",
    "K = control.place(A, B, [-2, -5])\n",
    "K"
   ]
  },
  {
   "cell_type": "code",
   "execution_count": 3,
   "metadata": {},
   "outputs": [],
   "source": [
    "import modern_robotics as mr\n",
    "import numpy as np"
   ]
  },
  {
   "cell_type": "code",
   "execution_count": 11,
   "metadata": {},
   "outputs": [
    {
     "data": {
      "text/plain": [
       "(array([1.57079651, 3.        , 3.14159284]), True)"
      ]
     },
     "execution_count": 11,
     "metadata": {},
     "output_type": "execute_result"
    }
   ],
   "source": [
    "Slist = np.array([[0, 0,  1,  4, 0,    0],\n",
    "                  [0, 0,  0,  0, 1,    0],\n",
    "                  [0, 0, -1, -6, 0, -0.1]]).T\n",
    "M = np.array([[-1, 0,  0, 0],\n",
    "              [ 0, 1,  0, 6],\n",
    "              [ 0, 0, -1, 2],\n",
    "              [ 0, 0,  0, 1]])\n",
    "T = np.array([[0, 1,  0,     -5],\n",
    "              [1, 0,  0,      4],\n",
    "              [0, 0, -1, 1.6858],\n",
    "              [0, 0,  0,      1]])\n",
    "thetalist0 = np.array([0, 0, 0])\n",
    "eomg = 0.01\n",
    "ev = 0.001\n",
    "\n",
    "mr.IKinSpace(Slist, M, T, thetalist0, eomg, ev)"
   ]
  },
  {
   "cell_type": "code",
   "execution_count": 13,
   "metadata": {},
   "outputs": [
    {
     "data": {
      "text/plain": [
       "array([[-1.14423775e-17,  1.00000000e+00,  0.00000000e+00,\n",
       "        -5.00000000e+00],\n",
       "       [ 1.00000000e+00,  1.14423775e-17,  0.00000000e+00,\n",
       "         4.00000000e+00],\n",
       "       [ 0.00000000e+00,  0.00000000e+00, -1.00000000e+00,\n",
       "         1.68584073e+00],\n",
       "       [ 0.00000000e+00,  0.00000000e+00,  0.00000000e+00,\n",
       "         1.00000000e+00]])"
      ]
     },
     "execution_count": 13,
     "metadata": {},
     "output_type": "execute_result"
    }
   ],
   "source": [
    "M1 = np.array([[-1, 0,  0, 0],\n",
    "                      [ 0, 1,  0, 6],\n",
    "                      [ 0, 0, -1, 2],\n",
    "                      [ 0, 0,  0, 1]])\n",
    "Slist1 = np.array([[0, 0,  1,  4, 0,    0],\n",
    "                          [0, 0,  0,  0, 1,    0],\n",
    "                          [0, 0, -1, -6, 0, -0.1]]).T\n",
    "thetalist = np.array([np.pi / 2.0, 3, np.pi])\n",
    "\n",
    "mr.FKinSpace(M1, Slist1, thetalist)"
   ]
  },
  {
   "cell_type": "code",
   "execution_count": 12,
   "metadata": {},
   "outputs": [
    {
     "data": {
      "text/plain": [
       "array([[ 0. ,  0. ,  0. ],\n",
       "       [ 0. ,  0. ,  0. ],\n",
       "       [ 1. ,  0. , -1. ],\n",
       "       [ 4. ,  0. , -6. ],\n",
       "       [ 0. ,  1. ,  0. ],\n",
       "       [ 0. ,  0. , -0.1]])"
      ]
     },
     "execution_count": 12,
     "metadata": {},
     "output_type": "execute_result"
    }
   ],
   "source": [
    "Slist1"
   ]
  },
  {
   "cell_type": "code",
   "execution_count": 28,
   "metadata": {},
   "outputs": [
    {
     "data": {
      "text/plain": [
       "4"
      ]
     },
     "execution_count": 28,
     "metadata": {},
     "output_type": "execute_result"
    }
   ],
   "source": [
    "matrix_rank(control.obsv(A,C))"
   ]
  },
  {
   "cell_type": "code",
   "execution_count": 29,
   "metadata": {},
   "outputs": [
    {
     "data": {
      "text/plain": [
       "4"
      ]
     },
     "execution_count": 29,
     "metadata": {},
     "output_type": "execute_result"
    }
   ],
   "source": [
    "matrix_rank(control.ctrb(A,C))"
   ]
  },
  {
   "cell_type": "code",
   "execution_count": 14,
   "metadata": {},
   "outputs": [
    {
     "data": {
      "text/latex": [
       "$\\displaystyle \\left[\\begin{matrix}0 & 0 & 1 & 0\\\\0 & 0 & 0 & 1\\\\82.0406644847403 & 0 & 0 & -3.83012758985715\\\\0 & 0 & 0 & 0\\end{matrix}\\right]$"
      ],
      "text/plain": [
       "Matrix([\n",
       "[               0, 0, 1,                 0],\n",
       "[               0, 0, 0,                 1],\n",
       "[82.0406644847403, 0, 0, -3.83012758985715],\n",
       "[               0, 0, 0,                 0]])"
      ]
     },
     "execution_count": 14,
     "metadata": {},
     "output_type": "execute_result"
    }
   ],
   "source": [
    "A"
   ]
  },
  {
   "cell_type": "code",
   "execution_count": 14,
   "metadata": {},
   "outputs": [
    {
     "ename": "TypeError",
     "evalue": "can't convert expression to float",
     "output_type": "error",
     "traceback": [
      "\u001b[0;31m---------------------------------------------------------------------------\u001b[0m",
      "\u001b[0;31mTypeError\u001b[0m                                 Traceback (most recent call last)",
      "\u001b[0;32m/tmp/ipykernel_14426/3901469957.py\u001b[0m in \u001b[0;36m<module>\u001b[0;34m\u001b[0m\n\u001b[1;32m      1\u001b[0m \u001b[0mss0\u001b[0m \u001b[0;34m=\u001b[0m \u001b[0;34m[\u001b[0m\u001b[0mA\u001b[0m\u001b[0;34m,\u001b[0m \u001b[0mB\u001b[0m\u001b[0;34m,\u001b[0m \u001b[0mC\u001b[0m\u001b[0;34m,\u001b[0m \u001b[0mD\u001b[0m\u001b[0;34m]\u001b[0m\u001b[0;34m\u001b[0m\u001b[0;34m\u001b[0m\u001b[0m\n\u001b[0;32m----> 2\u001b[0;31m \u001b[0msys0\u001b[0m \u001b[0;34m=\u001b[0m \u001b[0mcontrol\u001b[0m\u001b[0;34m.\u001b[0m\u001b[0mss\u001b[0m\u001b[0;34m(\u001b[0m\u001b[0;34m*\u001b[0m\u001b[0;34m[\u001b[0m\u001b[0mpl\u001b[0m\u001b[0;34m.\u001b[0m\u001b[0marray\u001b[0m\u001b[0;34m(\u001b[0m\u001b[0mmat_i\u001b[0m\u001b[0;34m.\u001b[0m\u001b[0msubs\u001b[0m\u001b[0;34m(\u001b[0m\u001b[0mparam\u001b[0m\u001b[0;34m)\u001b[0m\u001b[0;34m)\u001b[0m\u001b[0;34m.\u001b[0m\u001b[0mastype\u001b[0m\u001b[0;34m(\u001b[0m\u001b[0mfloat\u001b[0m\u001b[0;34m)\u001b[0m \u001b[0;32mfor\u001b[0m \u001b[0mmat_i\u001b[0m \u001b[0;32min\u001b[0m \u001b[0mss0\u001b[0m\u001b[0;34m]\u001b[0m\u001b[0;34m)\u001b[0m\u001b[0;34m\u001b[0m\u001b[0;34m\u001b[0m\u001b[0m\n\u001b[0m\u001b[1;32m      3\u001b[0m \u001b[0mmprint\u001b[0m\u001b[0;34m(\u001b[0m\u001b[0msys0\u001b[0m\u001b[0;34m)\u001b[0m\u001b[0;34m\u001b[0m\u001b[0;34m\u001b[0m\u001b[0m\n",
      "\u001b[0;32m/tmp/ipykernel_14426/3901469957.py\u001b[0m in \u001b[0;36m<listcomp>\u001b[0;34m(.0)\u001b[0m\n\u001b[1;32m      1\u001b[0m \u001b[0mss0\u001b[0m \u001b[0;34m=\u001b[0m \u001b[0;34m[\u001b[0m\u001b[0mA\u001b[0m\u001b[0;34m,\u001b[0m \u001b[0mB\u001b[0m\u001b[0;34m,\u001b[0m \u001b[0mC\u001b[0m\u001b[0;34m,\u001b[0m \u001b[0mD\u001b[0m\u001b[0;34m]\u001b[0m\u001b[0;34m\u001b[0m\u001b[0;34m\u001b[0m\u001b[0m\n\u001b[0;32m----> 2\u001b[0;31m \u001b[0msys0\u001b[0m \u001b[0;34m=\u001b[0m \u001b[0mcontrol\u001b[0m\u001b[0;34m.\u001b[0m\u001b[0mss\u001b[0m\u001b[0;34m(\u001b[0m\u001b[0;34m*\u001b[0m\u001b[0;34m[\u001b[0m\u001b[0mpl\u001b[0m\u001b[0;34m.\u001b[0m\u001b[0marray\u001b[0m\u001b[0;34m(\u001b[0m\u001b[0mmat_i\u001b[0m\u001b[0;34m.\u001b[0m\u001b[0msubs\u001b[0m\u001b[0;34m(\u001b[0m\u001b[0mparam\u001b[0m\u001b[0;34m)\u001b[0m\u001b[0;34m)\u001b[0m\u001b[0;34m.\u001b[0m\u001b[0mastype\u001b[0m\u001b[0;34m(\u001b[0m\u001b[0mfloat\u001b[0m\u001b[0;34m)\u001b[0m \u001b[0;32mfor\u001b[0m \u001b[0mmat_i\u001b[0m \u001b[0;32min\u001b[0m \u001b[0mss0\u001b[0m\u001b[0;34m]\u001b[0m\u001b[0;34m)\u001b[0m\u001b[0;34m\u001b[0m\u001b[0;34m\u001b[0m\u001b[0m\n\u001b[0m\u001b[1;32m      3\u001b[0m \u001b[0mmprint\u001b[0m\u001b[0;34m(\u001b[0m\u001b[0msys0\u001b[0m\u001b[0;34m)\u001b[0m\u001b[0;34m\u001b[0m\u001b[0;34m\u001b[0m\u001b[0m\n",
      "\u001b[0;32m~/anaconda3/envs/py37/lib/python3.7/site-packages/sympy/core/expr.py\u001b[0m in \u001b[0;36m__float__\u001b[0;34m(self)\u001b[0m\n\u001b[1;32m    357\u001b[0m         \u001b[0;32mif\u001b[0m \u001b[0mresult\u001b[0m\u001b[0;34m.\u001b[0m\u001b[0mis_number\u001b[0m \u001b[0;32mand\u001b[0m \u001b[0mresult\u001b[0m\u001b[0;34m.\u001b[0m\u001b[0mas_real_imag\u001b[0m\u001b[0;34m(\u001b[0m\u001b[0;34m)\u001b[0m\u001b[0;34m[\u001b[0m\u001b[0;36m1\u001b[0m\u001b[0;34m]\u001b[0m\u001b[0;34m:\u001b[0m\u001b[0;34m\u001b[0m\u001b[0;34m\u001b[0m\u001b[0m\n\u001b[1;32m    358\u001b[0m             \u001b[0;32mraise\u001b[0m \u001b[0mTypeError\u001b[0m\u001b[0;34m(\u001b[0m\u001b[0;34m\"can't convert complex to float\"\u001b[0m\u001b[0;34m)\u001b[0m\u001b[0;34m\u001b[0m\u001b[0;34m\u001b[0m\u001b[0m\n\u001b[0;32m--> 359\u001b[0;31m         \u001b[0;32mraise\u001b[0m \u001b[0mTypeError\u001b[0m\u001b[0;34m(\u001b[0m\u001b[0;34m\"can't convert expression to float\"\u001b[0m\u001b[0;34m)\u001b[0m\u001b[0;34m\u001b[0m\u001b[0;34m\u001b[0m\u001b[0m\n\u001b[0m\u001b[1;32m    360\u001b[0m \u001b[0;34m\u001b[0m\u001b[0m\n\u001b[1;32m    361\u001b[0m     \u001b[0;32mdef\u001b[0m \u001b[0m__complex__\u001b[0m\u001b[0;34m(\u001b[0m\u001b[0mself\u001b[0m\u001b[0;34m)\u001b[0m\u001b[0;34m:\u001b[0m\u001b[0;34m\u001b[0m\u001b[0;34m\u001b[0m\u001b[0m\n",
      "\u001b[0;31mTypeError\u001b[0m: can't convert expression to float"
     ]
    }
   ],
   "source": [
    "ss0 = [A, B, C, D]\n",
    "sys0 = control.ss(*[pl.array(mat_i.subs(param)).astype(float) for mat_i in ss0])\n",
    "mprint(sys0)"
   ]
  },
  {
   "cell_type": "code",
   "execution_count": 8,
   "metadata": {},
   "outputs": [
    {
     "name": "stdout",
     "output_type": "stream",
     "text": [
      "A = [[ 0.00000000e+00  0.00000000e+00  1.00000000e+00  0.00000000e+00]\n",
      "     [ 0.00000000e+00  0.00000000e+00  0.00000000e+00  1.00000000e+00]\n",
      "     [ 1.23270243e+01  0.00000000e+00  0.00000000e+00 -3.69286070e-01]\n",
      "     [ 0.00000000e+00  0.00000000e+00  0.00000000e+00  4.47536922e+02]]\n",
      "\n",
      "B = [[ 0.        ]\n",
      "     [ 0.        ]\n",
      "     [ 0.        ]\n",
      "     [84.03361345]]\n",
      "\n",
      "C = [[0. 0. 1. 0.]]\n",
      "\n",
      "D = [[0.]]\n",
      "\n",
      "0 states have been removed from the model\n"
     ]
    },
    {
     "data": {
      "text/latex": [
       "$$\\frac{-31.03 s}{s^3 - 447.5 s^2 - 12.33 s + 5517}$$"
      ],
      "text/plain": [
       "TransferFunction(array([-31.03244287,   0.        ]), array([ 1.00000000e+00, -4.47536922e+02, -1.23270243e+01,  5.51679850e+03]))"
      ]
     },
     "execution_count": 8,
     "metadata": {},
     "output_type": "execute_result"
    }
   ],
   "source": [
    "sys0_output = sys0[2,0]\n",
    "mprint(sys0_output)\n",
    "tf_20 = tf_clean(control.minreal(control.ss2tf(sys0_output)))\n",
    "tf_20"
   ]
  },
  {
   "cell_type": "code",
   "execution_count": 9,
   "metadata": {},
   "outputs": [
    {
     "data": {
      "text/plain": [
       "(array([  3.51098622,  -3.51098622,   0.        , 447.53692198]),\n",
       " array([[ 2.73926095e-01, -2.73926095e-01,  0.00000000e+00,\n",
       "         -1.84387163e-06],\n",
       "        [ 0.00000000e+00,  0.00000000e+00,  1.00000000e+00,\n",
       "          2.23444617e-03],\n",
       "        [ 9.61750745e-01,  9.61750745e-01,  0.00000000e+00,\n",
       "         -8.25200635e-04],\n",
       "        [ 0.00000000e+00,  0.00000000e+00,  0.00000000e+00,\n",
       "          9.99997163e-01]]))"
      ]
     },
     "execution_count": 9,
     "metadata": {},
     "output_type": "execute_result"
    }
   ],
   "source": [
    "eig(np.array(A, dtype=float))"
   ]
  },
  {
   "cell_type": "code",
   "execution_count": 13,
   "metadata": {},
   "outputs": [],
   "source": [
    "# control.bode(tf_20);"
   ]
  },
  {
   "cell_type": "code",
   "execution_count": 14,
   "metadata": {},
   "outputs": [
    {
     "data": {
      "image/png": "[encoded data removed]",
      "text/plain": [
       "<Figure size 432x288 with 1 Axes>"
      ]
     },
     "metadata": {
      "needs_background": "light"
     },
     "output_type": "display_data"
    }
   ],
   "source": [
    "control.rlocus(tf_20);"
   ]
  },
  {
   "cell_type": "code",
   "execution_count": 15,
   "metadata": {},
   "outputs": [
    {
     "name": "stdout",
     "output_type": "stream",
     "text": [
      "[[-1720.72753484   -38.72983345  -247.69831922    27.79607196]]\n"
     ]
    },
    {
     "data": {
      "image/png": "[encoded data removed]",
      "text/plain": [
       "<Figure size 432x288 with 1 Axes>"
      ]
     },
     "metadata": {
      "needs_background": "light"
     },
     "output_type": "display_data"
    }
   ],
   "source": [
    "Q = sp.Matrix([ [89,0,0,0],\n",
    "                [0,15,0,0],\n",
    "                [0,0,26,0],\n",
    "                [0,0,0,4.7]])\n",
    "R = sp.Matrix([ [0.01] ])\n",
    "\n",
    "K, S, E = control.lqr(sys0.A, sys0.B, Q, R)\n",
    "\n",
    "print(K)\n",
    "\n",
    "sysc = sys0.feedback(K)\n",
    "control.rlocus(sysc);"
   ]
  },
  {
   "cell_type": "code",
   "execution_count": 16,
   "metadata": {},
   "outputs": [
    {
     "data": {
      "text/plain": [
       "(array([-2.50129011e+03, -9.19701078e+00, -1.73260411e+00, -5.47020139e+00]),\n",
       " array([[ 2.61962714e-07, -4.34440541e-02,  2.99934249e-02,\n",
       "         -7.25905672e-02],\n",
       "        [ 3.99793571e-04, -9.89793091e-02, -4.98979599e-01,\n",
       "          1.64526261e-01],\n",
       "        [-6.55244745e-04,  3.99555434e-01, -5.19667310e-02,\n",
       "          3.97085022e-01],\n",
       "        [-9.99999705e-01,  9.10313773e-01,  8.64534102e-01,\n",
       "         -8.99991780e-01]]))"
      ]
     },
     "execution_count": 16,
     "metadata": {},
     "output_type": "execute_result"
    }
   ],
   "source": [
    "eig(np.array(A-B*K, dtype=float))\n"
   ]
  },
  {
   "cell_type": "code",
   "execution_count": 17,
   "metadata": {},
   "outputs": [
    {
     "data": {
      "image/png": "[encoded data removed]",
      "text/plain": [
       "<Figure size 500x400 with 1 Axes>"
      ]
     },
     "metadata": {
      "needs_background": "light"
     },
     "output_type": "display_data"
    }
   ],
   "source": [
    "import numpy as np\n",
    "import matplotlib.pyplot as plt\n",
    "\n",
    "x0 = [0.1, 0, 0, 0]\n",
    "u = 0\n",
    "dt = 0.01\n",
    "tf = 10\n",
    "\n",
    "t, y = control.forced_response(sysc, X0=x0, T=pl.linspace(0,tf), transpose=True)\n",
    "\n",
    "plt.figure(1, figsize=(5,4), dpi=100)\n",
    "plt.plot(t, y);\n",
    "plt.legend([r'$\\theta_R$',r'$\\theta_gb$',r'$\\dot\\theta_R$',r'$\\dot\\theta_gb$'], loc='best')\n",
    "plt.grid()"
   ]
  },
  {
   "cell_type": "code",
   "execution_count": null,
   "metadata": {},
   "outputs": [],
   "source": []
  },
  {
   "cell_type": "markdown",
   "metadata": {},
   "source": []
  }
 ],
 "metadata": {
  "kernelspec": {
   "display_name": "Python 3.7.10 ('py37')",
   "language": "python",
   "name": "python3"
  },
  "language_info": {
   "codemirror_mode": {
    "name": "ipython",
    "version": 3
   },
   "file_extension": ".py",
   "mimetype": "text/x-python",
   "name": "python",
   "nbconvert_exporter": "python",
   "pygments_lexer": "ipython3",
   "version": "3.7.10"
  },
  "vscode": {
   "interpreter": {
    "hash": "9218e88f6a860526ea61ed05d29dff9596344eb309be19b03f0a4e8218856abc"
   }
  }
 },
 "nbformat": 4,
 "nbformat_minor": 4
}
