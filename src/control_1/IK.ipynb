{
 "cells": [
  {
   "cell_type": "code",
   "execution_count": 2,
   "metadata": {},
   "outputs": [],
   "source": [
    "import sympy as sp\n",
    "import numpy as np\n",
    "from sympy.physics.vector import dynamicsymbols\n",
    "from sympy.physics.vector import time_derivative\n",
    "from sympy.physics.vector import ReferenceFrame\n",
    "N = ReferenceFrame('N')\n",
    "import pylab as pl\n",
    "import control\n",
    "from EoM import *\n",
    "from sympy.physics.mechanics import *\n",
    "from numpy.linalg import matrix_rank, eig\n",
    "import math\n",
    "import intelligent_robotics as ir\n",
    "import numpy as np\n",
    "from scipy.integrate import odeint\n",
    "import matplotlib.pyplot as plt"
   ]
  },
  {
   "cell_type": "code",
   "execution_count": 33,
   "metadata": {},
   "outputs": [
    {
     "data": {
      "text/plain": [
       "[]"
      ]
     },
     "execution_count": 33,
     "metadata": {},
     "output_type": "execute_result"
    }
   ],
   "source": [
    "h = 0.5\n",
    "\n",
    "m1 = 2.486 + 0.3\n",
    "m2 = 1.416\n",
    "m3 = 1.739\n",
    "\n",
    "L1 = 0.171\n",
    "L2 = 0.28\n",
    "L3 = 0.280\n",
    "\n",
    "L1c = L1/2\n",
    "L2c = L2 *0.75\n",
    "L3c = L3 / 2\n",
    "\n",
    "theta_1 = 150\n",
    "DEG2RAD = np.pi/180\n",
    "A = (h-L1*np.sin(theta_1*DEG2RAD))/L2\n",
    "B = m2*L2c+m3*L2\n",
    "C = m3*L3c\n",
    "D = -(m1*L1c*np.cos(theta_1*DEG2RAD)+m2+L2*np.cos(theta_1*DEG2RAD))\n",
    "E = (-L1*np.sin(theta_1*DEG2RAD))/L2\n",
    "\n",
    "theta_2, theta_3 = sp.symbols('theta_2, theta_3')\n",
    "f1 = sp.Eq(sp.sin(theta_2)+sp.sin(theta_3),float(A))\n",
    "f2 = sp.Eq(float(B)*sp.cos(theta_2)+float(C)*sp.cos(theta_3),float(D))\n",
    "# f3 = sp.Eq(sp.sin(theta_2)+sp.sin(theta_3),float(E))\n",
    "\n",
    "sol = sp.solve([f1,f2])\n",
    "sol"
   ]
  },
  {
   "cell_type": "code",
   "execution_count": 10,
   "metadata": {},
   "outputs": [],
   "source": [
    "theta_2, theta_3 = sp.symbols('theta_2, theta_3')\n",
    "f1 = sp.Eq(sp.sin(theta_2)+sp.sin(theta_3),float(A))\n",
    "f2 = sp.Eq(float(B)*sp.cos(theta_2)+float(C)*sp.cos(theta_3),float(D))\n",
    "f3 = sp.Eq(sp.sin(theta_2)+sp.sin(theta_3),float(E))\n",
    "\n",
    "sol = sp.solve([f1,f2,f3])\n",
    "sol"
   ]
  },
  {
   "cell_type": "code",
   "execution_count": 5,
   "metadata": {},
   "outputs": [
    {
     "data": {
      "text/plain": [
       "[{theta_2: -1.22676015168757, theta_3: 1.35644820679398},\n",
       " {theta_2: 1.35644820679398, theta_3: -1.22676015168757}]"
      ]
     },
     "execution_count": 5,
     "metadata": {},
     "output_type": "execute_result"
    }
   ],
   "source": [
    "h = 0.5\n",
    "s = 0.01\n",
    "\n",
    "m1 = 2.486 + 0.3\n",
    "m2 = 1.416\n",
    "m3 = 1.739\n",
    "m4 = 16.09\n",
    "\n",
    "L1 = 0.171\n",
    "L2 = 0.28\n",
    "L3 = 0.280\n",
    "L4 = 0.346\n",
    "\n",
    "L1c = L1/2\n",
    "L2c = L2 *0.75\n",
    "L3c = L3 / 2\n",
    "\n",
    "A = (h-L4)/L2\n",
    "B = s/L2\n",
    "\n",
    "theta_2, theta_3 = sp.symbols('theta_2, theta_3')\n",
    "f1 = sp.Eq(sp.cos(theta_2)+sp.cos(theta_3),float(A))\n",
    "f2 = sp.Eq(sp.sin(theta_2)+sp.sin(theta_3),float(B))\n",
    "# f3 = sp.Eq(sp.sin(theta_2)+sp.sin(theta_3),float(E))\n",
    "\n",
    "sol = sp.solve([f1,f2])\n",
    "sol"
   ]
  },
  {
   "cell_type": "code",
   "execution_count": 5,
   "metadata": {},
   "outputs": [],
   "source": [
    "L1c = L1\n",
    "L2c = L2 *0.75\n",
    "L3c = L3 / 2\n",
    "\n",
    "D = -(m1*L1c*np.cos(135*DEG2RAD)+m2+L2*np.cos(135*DEG2RAD))"
   ]
  },
  {
   "cell_type": "code",
   "execution_count": 7,
   "metadata": {},
   "outputs": [],
   "source": [
    "B = m2*L2c+m3*L2"
   ]
  },
  {
   "cell_type": "code",
   "execution_count": null,
   "metadata": {},
   "outputs": [],
   "source": [
    "C = m3*L3c"
   ]
  }
 ],
 "metadata": {
  "kernelspec": {
   "display_name": "Python 3.7.10 ('py37')",
   "language": "python",
   "name": "python3"
  },
  "language_info": {
   "codemirror_mode": {
    "name": "ipython",
    "version": 3
   },
   "file_extension": ".py",
   "mimetype": "text/x-python",
   "name": "python",
   "nbconvert_exporter": "python",
   "pygments_lexer": "ipython3",
   "version": "3.7.10"
  },
  "vscode": {
   "interpreter": {
    "hash": "9218e88f6a860526ea61ed05d29dff9596344eb309be19b03f0a4e8218856abc"
   }
  }
 },
 "nbformat": 4,
 "nbformat_minor": 4
}
