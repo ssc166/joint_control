{
 "cells": [
  {
   "cell_type": "code",
   "execution_count": 1,
   "metadata": {},
   "outputs": [],
   "source": [
    "import sympy as sp\n",
    "import numpy as np\n",
    "from sympy.physics.vector import dynamicsymbols\n",
    "from sympy.physics.vector import time_derivative\n",
    "from sympy.physics.vector import ReferenceFrame\n",
    "N = ReferenceFrame('N')\n",
    "import pylab as pl\n",
    "import control\n",
    "from EoM import *\n",
    "from sympy.physics.mechanics import *\n",
    "from numpy.linalg import matrix_rank, eig\n",
    "import math\n",
    "import intelligent_robotics as ir\n",
    "import numpy as np\n",
    "from scipy.integrate import odeint\n",
    "import matplotlib.pyplot as plt\n",
    "import WIP_utils as utils\n",
    "import modern_robotics as mr\n"
   ]
  },
  {
   "cell_type": "code",
   "execution_count": 27,
   "metadata": {},
   "outputs": [
    {
     "data": {
      "text/plain": [
       "(1.5707963267948966, -0.925805396129726, 2.07467047296167, -1.14886507683195)"
      ]
     },
     "execution_count": 27,
     "metadata": {},
     "output_type": "execute_result"
    }
   ],
   "source": [
    "h = 0.8\n",
    "\n",
    "s = -0.031694468757419\n",
    "\n",
    "m1 = 2.486 + 0.3\n",
    "m2 = 1.416\n",
    "m3 = 1.739\n",
    "m4 = 16.09\n",
    "\n",
    "L1 = 0.171\n",
    "L2 = 0.28\n",
    "L3 = 0.280\n",
    "L4 = 0.346\n",
    "\n",
    "L2c = L2 - 0.045289\n",
    "L3c = L3 - 0.18878\n",
    "\n",
    "A = (h-L4-L1)/L2\n",
    "B = s/L2\n",
    "\n",
    "theta_2, theta_3 = sp.symbols('theta_2, theta_3')\n",
    "f1 = sp.Eq(sp.sin(theta_2)+sp.sin(theta_3),float(A))\n",
    "f2 = sp.Eq(sp.cos(theta_2)+sp.cos(theta_3),float(B))\n",
    "# f3 = sp.Eq(sp.sin(theta_2)+sp.sin(theta_3),float(E))\n",
    "\n",
    "sol = sp.solve([f1,f2])\n",
    "solu = sol[0]\n",
    "\n",
    "theta_2 = solu[theta_2]\n",
    "theta_3 = solu[theta_3]\n",
    "q1 = np.pi/2\n",
    "q2 = theta_2-q1\n",
    "q3 = theta_3-q1-q2\n",
    "q4 = -(q2+q3)\n",
    "\n",
    "# thetalistd = np.array([q1, q2, q3,q4])\n",
    "q1, q2, q3, q4"
   ]
  },
  {
   "cell_type": "code",
   "execution_count": 48,
   "metadata": {},
   "outputs": [],
   "source": [
    "def get_deg(h):\n",
    "    m2 = 1.416\n",
    "    m3 = 1.739\n",
    "    m4 = 16.09\n",
    "\n",
    "    L1 = 0.171\n",
    "    L2 = 0.28\n",
    "    L3 = 0.28\n",
    "    L4 = 0.346\n",
    "\n",
    "    L2c = L2 - 0.045289\n",
    "    L3c = L3 - 0.18878\n",
    "\n",
    "    theta_3, q2 = sp.symbols('theta_3, q2')\n",
    "    \n",
    "    A = (h-L1-L4)/L2\n",
    "    B = m2*L2c + m3*L2+m4*L2\n",
    "    C = m3*L3c + m4*L3\n",
    "    \n",
    "    f1 = sp.Eq(sp.cos(q2)+sp.sin(theta_3),float(A))\n",
    "    f2 = sp.Eq(-float(B)*sp.sin(q2)+float(C)*sp.cos(theta_3),0)\n",
    "    sol = sp.solve([f1,f2])\n",
    "    solu = sol[0]\n",
    "\n",
    "    q2 = solu[q2]\n",
    "    theta_3 = solu[theta_3]\n",
    "    q1 = np.pi/2\n",
    "    q3 = theta_3-q1-q2\n",
    "    q4 = -(q2+q3)\n",
    "\n",
    "    thetalistd = np.array([q1, q2, q3,q4])\n",
    "    return thetalistd, h"
   ]
  },
  {
   "cell_type": "code",
   "execution_count": 49,
   "metadata": {},
   "outputs": [],
   "source": [
    "def get_end_point(q1, q2, q3, q4):\n",
    "    m1 = 2.486 + 0.3\n",
    "    m2 = 1.416\n",
    "    m3 = 1.739\n",
    "    m4 = 16.09\n",
    "\n",
    "    L1 = 0.171\n",
    "    L2 = 0.28\n",
    "    L3 = 0.28\n",
    "    L4 = 0.346\n",
    "\n",
    "    L1c = L1\n",
    "    L2c = L2 - 0.045289\n",
    "    L3c = L3 - 0.18878\n",
    "    L4c = 0.17188\n",
    "\n",
    "    theta_1 = q1\n",
    "    theta_2 = q1 + q2\n",
    "    theta_3 = q1 + q2 + q3\n",
    "    theta_4 = q1 + q2 + q3 + q4\n",
    "\n",
    "    x = L1 * sp.cos(theta_1) + L2 * sp.cos(theta_2) + L3 * sp.cos(theta_3) + L4 * sp.cos(theta_4)\n",
    "    z = L1 * sp.sin(theta_1) + L2 * sp.sin(theta_2) + L3 * sp.sin(theta_3) + L4 * sp.sin(theta_4)\n",
    "\n",
    "    x_1 = L1c * sp.cos(theta_1)\n",
    "    x_2 = L1 * sp.cos(theta_1) + L2c * sp.cos(theta_2)\n",
    "    x_3 = L1 * sp.cos(theta_1) + L2 * sp.cos(theta_2) + L3c*sp.cos(theta_3)\n",
    "    x_4 = L1 * sp.cos(theta_1) + L2 * sp.cos(theta_2) + L3 * sp.cos(theta_3) + L4c * sp.cos(theta_4)\n",
    "    x_com = (m1*x_1 + m2*x_2 + m3*x_3+ m4*x_4) / (m1 + m2 + m3 + m4)\n",
    "\n",
    "    z_1c = L1c * sp.sin(theta_1)\n",
    "    z_2c = L1 * sp.sin(theta_1) + L2c * sp.sin(theta_2)\n",
    "    z_3c = L1 * sp.sin(theta_1) + L2 * sp.sin(theta_2) + L3c*sp.sin(theta_3)\n",
    "    z_4c = L1 * sp.sin(theta_1) + L2 * sp.sin(theta_2) + L3 * sp.sin(theta_3) + L4c * sp.sin(theta_4)\n",
    "\n",
    "    z_com = (m1*z_1c + m2*z_2c + m3*z_3c + m4*z_4c) / (m1 + m2 + m3 + m4)\n",
    "    theta_P = np.arctan(float(x_com)/float(z_com))\n",
    "    return x,z, theta_P\n"
   ]
  },
  {
   "cell_type": "code",
   "execution_count": 50,
   "metadata": {},
   "outputs": [],
   "source": [
    "thetalistd, h = get_deg(0.8)"
   ]
  },
  {
   "cell_type": "code",
   "execution_count": 51,
   "metadata": {},
   "outputs": [
    {
     "data": {
      "text/plain": [
       "(-0.0316944687574190, 0.800000000000000, 1.0488354603842896e-16)"
      ]
     },
     "execution_count": 51,
     "metadata": {},
     "output_type": "execute_result"
    }
   ],
   "source": [
    "x,z, theta_P = get_end_point(q1, q2, q3, q4)\n",
    "x,z, theta_P"
   ]
  },
  {
   "cell_type": "code",
   "execution_count": 63,
   "metadata": {},
   "outputs": [],
   "source": [
    "def horizon_traj(h_cur, horizon_cur, horizon_end, thetalistd):\n",
    "    time, traj = utils.Trapezoidal_Traj_Gen_Given_Amax_and_T(1,2,0.03)\n",
    "    horizon_path = utils.Path_Gen(horizon_cur, horizon_end, traj[:,0])\n",
    "    m1 = 2.486 + 0.3\n",
    "    m2 = 1.416\n",
    "    m3 = 1.739\n",
    "    m4 = 16.09\n",
    "\n",
    "    L1 = 0.171\n",
    "    L2 = 0.28\n",
    "    L3 = 0.280\n",
    "    L4 = 0.346\n",
    "\n",
    "    L1c = L1/2\n",
    "    L2c = L2 - 0.045289\n",
    "    L3c = L3 - 0.18878\n",
    "\n",
    "    h = h_cur\n",
    "    q1list = np.array([0])\n",
    "    q2list = np.array([thetalistd[1]])\n",
    "    q3list = np.array([thetalistd[2]])\n",
    "    q4list = np.array([thetalistd[3]])\n",
    "\n",
    "    for i in range(0, len(time)-1):\n",
    "        \n",
    "\n",
    "        A = (h-L4-L1)/L2\n",
    "        B = horizon_path[i]/L2\n",
    "\n",
    "        theta_2, theta_3 = sp.symbols('theta_2, theta_3')\n",
    "        f1 = sp.Eq(sp.sin(theta_2)+sp.sin(theta_3),float(A))\n",
    "        f2 = sp.Eq(sp.cos(theta_2)+sp.cos(theta_3),float(B))\n",
    "        # f3 = sp.Eq(sp.sin(theta_2)+sp.sin(theta_3),float(E))\n",
    "\n",
    "        sol = sp.solve([f1,f2])\n",
    "        solu = sol[0]\n",
    "\n",
    "        theta_2 = solu[theta_2]\n",
    "        theta_3 = solu[theta_3]\n",
    "        q1 = np.pi/2\n",
    "        q2 = theta_2-q1\n",
    "        q3 = theta_3-q1-q2\n",
    "        q4 = -(q2+q3)\n",
    "\n",
    "        q1list = np.vstack((q1list,0))\n",
    "        q2list = np.vstack((q2list,q2))\n",
    "        q3list = np.vstack((q3list,q3))\n",
    "        q4list = np.vstack((q4list,q4))\n",
    "\n",
    "    \n",
    "\n",
    "    return q1list, q2list, q3list, q4list"
   ]
  },
  {
   "cell_type": "code",
   "execution_count": 64,
   "metadata": {},
   "outputs": [],
   "source": [
    "q1list, q2list,q3list, q4list= horizon_traj(h, x, 0.02, thetalistd)\n"
   ]
  },
  {
   "cell_type": "code",
   "execution_count": 65,
   "metadata": {},
   "outputs": [
    {
     "data": {
      "text/plain": [
       "array([[0],\n",
       "       [0],\n",
       "       [0],\n",
       "       [0],\n",
       "       [0],\n",
       "       [0],\n",
       "       [0],\n",
       "       [0],\n",
       "       [0],\n",
       "       [0],\n",
       "       [0],\n",
       "       [0],\n",
       "       [0],\n",
       "       [0],\n",
       "       [0],\n",
       "       [0],\n",
       "       [0],\n",
       "       [0],\n",
       "       [0],\n",
       "       [0],\n",
       "       [0],\n",
       "       [0],\n",
       "       [0],\n",
       "       [0],\n",
       "       [0],\n",
       "       [0],\n",
       "       [0],\n",
       "       [0],\n",
       "       [0],\n",
       "       [0],\n",
       "       [0],\n",
       "       [0],\n",
       "       [0],\n",
       "       [0],\n",
       "       [0],\n",
       "       [0],\n",
       "       [0],\n",
       "       [0],\n",
       "       [0],\n",
       "       [0],\n",
       "       [0],\n",
       "       [0],\n",
       "       [0],\n",
       "       [0],\n",
       "       [0],\n",
       "       [0],\n",
       "       [0],\n",
       "       [0],\n",
       "       [0],\n",
       "       [0],\n",
       "       [0],\n",
       "       [0],\n",
       "       [0],\n",
       "       [0],\n",
       "       [0],\n",
       "       [0],\n",
       "       [0],\n",
       "       [0],\n",
       "       [0],\n",
       "       [0],\n",
       "       [0],\n",
       "       [0],\n",
       "       [0],\n",
       "       [0],\n",
       "       [0],\n",
       "       [0],\n",
       "       [0],\n",
       "       [0]])"
      ]
     },
     "execution_count": 65,
     "metadata": {},
     "output_type": "execute_result"
    }
   ],
   "source": [
    "q1list"
   ]
  },
  {
   "cell_type": "code",
   "execution_count": 66,
   "metadata": {},
   "outputs": [
    {
     "data": {
      "image/png": "[encoded data removed]",
      "text/plain": [
       "<Figure size 2250x1800 with 2 Axes>"
      ]
     },
     "metadata": {
      "needs_background": "light"
     },
     "output_type": "display_data"
    }
   ],
   "source": [
    "time, traj = utils.Trapezoidal_Traj_Gen_Given_Amax_and_T(1,2,0.03)\n",
    "height_path = utils.Path_Gen(x, 0.02, traj[:,0])\n",
    "\n",
    "pl.figure(1, figsize=(15,12), dpi=150)\n",
    "pl.subplot(221);\n",
    "pl.plot(time, height_path);\n",
    "pl.legend([r'$height$ [m]'], loc='best')\n",
    "pl.grid()\n",
    "\n",
    "plt.grid(True, axis='y')\n",
    "\n",
    "pl.figure(1, figsize=(15,12), dpi=150)\n",
    "pl.subplot(222);\n",
    "pl.plot(time, q1list,time, q2list, time, q3list, time, q4list );\n",
    "pl.legend([r'$th1$ [rad]', r'$th2$ [rad]', r'$th3$ [rad]', r'$th4$ [rad]'], loc='best')\n",
    "pl.grid()\n",
    "\n",
    "plt.grid(True, axis='y')\n",
    "\n",
    "plt.show()"
   ]
  },
  {
   "cell_type": "code",
   "execution_count": 100,
   "metadata": {},
   "outputs": [],
   "source": [
    "def get_torque_traj(q1list, q2list, q3list, q4list):\n",
    "    time, traj = utils.Trapezoidal_Traj_Gen_Given_Amax_and_T(1,2,0.03)\n",
    "    # thetalist = get_cur_deg()\n",
    "    \n",
    "    m1 = 2.486 + 0.3\n",
    "    m2 = 1.416\n",
    "    m3 = 1.739\n",
    "    m4 = 16.09\n",
    "\n",
    "    L1 = 0.171\n",
    "    L2 = 0.28\n",
    "    L3 = 0.280\n",
    "    L4 = 0.346\n",
    "\n",
    "    L1c = L1/2\n",
    "    L2c = L2 - 0.045289\n",
    "    L3c = L3 - 0.18878\n",
    "    L4c = 0.158527\n",
    "\n",
    "    traj_th1 = q1list\n",
    "    traj_th2 = q2list\n",
    "    traj_th3 = q3list\n",
    "    traj_th4 = q4list\n",
    "\n",
    "    eint = np.array([0.2, 0.2, 0.2, 0.2])\n",
    "    g = np.array([0, 0, -9.8])\n",
    "    theta_2 = 0\n",
    "    theta_3 = 0\n",
    "    \n",
    "    M01 = np.array([[1, 0, 0,       0],\n",
    "                    [0, 1, 0,       0],\n",
    "                    [0, 0, 1,       0],\n",
    "                    [0, 0, 0,       1]])\n",
    "    \n",
    "    M12 = np.array([[1, 0, 0,        0],\n",
    "                    [0, 1, 0,       L1c],\n",
    "                    [0, 0, 1,        0],\n",
    "                    [0, 0, 0,        1]])\n",
    "    \n",
    "    M23 = np.array([[ 1, 0, 0,      0],\n",
    "                    [ 0, 1, 0,      L2c],\n",
    "                    [ 0, 0, 1,       0],\n",
    "                    [ 0, 0, 0,       1]])\n",
    "    \n",
    "    M34 = np.array([[1, 0, 0,       0],\n",
    "                    [0, 1, 0,       L3c],\n",
    "                    [0, 0, 1,      0],\n",
    "                    [0, 0, 0,       1]])\n",
    "    \n",
    "    M45 = np.array([[1, 0, 0,       0],\n",
    "                    [0, 1, 0,      L4c],\n",
    "                    [0, 0, 1,       0],\n",
    "                    [0, 0, 0,       1]])\n",
    "    \n",
    "    G1 = np.diag([0.00613516, 0.00614941, 0.004981955, m1, m1, m1]) \n",
    "    G2 = np.diag([0.010192583, 0.009599672, 0.002390603, m2, m2, m2])\n",
    "    G3 = np.diag([0.008595913, 0.007917693, 0.002944951, m3, m3, m3])\n",
    "    G4 = np.diag([0.306643651, 0.257336003, 0.140868631, m4, m4, m4]) \n",
    "    \n",
    "    Glist = np.array([G1, G2, G3, G4])\n",
    "    Mlist = np.array([M01, M12, M23, M34, M45])\n",
    "    Slist = np.array([[0, 0, 1,      0, 0,     0],\n",
    "                      [0, 0, -1,   -L1, 0,     0],\n",
    "                      [0, 0, 1, L1 + L2, 0, 0.0],\n",
    "                      [0, 0, -1, -(L1 + L2 +L3 ), L2 * np.cos(theta_2)-L3 * np.cos(theta_3), 0.0]]).T\n",
    "    Kp = 1.3\n",
    "    Ki = 1.2\n",
    "    Kd = 1.1\n",
    "    dt = 0.03\n",
    "\n",
    "    torquelist = np.array([0,0,0,0])\n",
    "    dthetalist = np.array([0, 0, 0, 0])\n",
    "\n",
    "    for i in range(0, len(time)-1):\n",
    "\n",
    "        thetalist = np.array([traj_th1[i], traj_th2[i], traj_th3[i], traj_th4[i]])\n",
    "        thetalistd = np.array([traj_th1[i+1], traj_th2[i+1], traj_th3[i+1], traj_th4[i+1]])\n",
    "        \n",
    "        dthetalistd = np.array([(traj_th1[i+1]-traj_th1[i])/dt, (traj_th2[i+1]-traj_th2[i])/dt, (traj_th3[i+1]-traj_th3[i])/dt, (traj_th4[i+1]-traj_th4[i])/dt])\n",
    "        ddthetalistd = np.array([(dthetalistd[0]-dthetalist[0])/dt, (dthetalistd[1]-dthetalist[1])/dt, (dthetalistd[2]-dthetalist[2])/dt, (dthetalistd[3]-dthetalist[3])/dt])\n",
    "\n",
    "        torque = mr.ComputedTorque(thetalist, dthetalist, eint, g, Mlist, Glist, Slist,thetalistd, dthetalistd, ddthetalistd, Kp, Ki, Kd)\n",
    "\n",
    "        torquelist = np.vstack((torquelist,torque))  \n",
    "        dthetalist = dthetalistd\n",
    "        # print(ddthetalistd)\n",
    "    return torquelist"
   ]
  },
  {
   "cell_type": "code",
   "execution_count": 101,
   "metadata": {},
   "outputs": [
    {
     "ename": "TypeError",
     "evalue": "loop of ufunc does not support argument 0 of type Float which has no callable sqrt method",
     "output_type": "error",
     "traceback": [
      "\u001b[0;31m---------------------------------------------------------------------------\u001b[0m",
      "\u001b[0;31mAttributeError\u001b[0m                            Traceback (most recent call last)",
      "\u001b[0;31mAttributeError\u001b[0m: 'Float' object has no attribute 'sqrt'",
      "\nThe above exception was the direct cause of the following exception:\n",
      "\u001b[0;31mTypeError\u001b[0m                                 Traceback (most recent call last)",
      "\u001b[0;32m/tmp/ipykernel_5807/609586029.py\u001b[0m in \u001b[0;36m<module>\u001b[0;34m\u001b[0m\n\u001b[0;32m----> 1\u001b[0;31m \u001b[0mtorquelist\u001b[0m \u001b[0;34m=\u001b[0m \u001b[0mget_torque_traj\u001b[0m\u001b[0;34m(\u001b[0m\u001b[0mq1list\u001b[0m\u001b[0;34m,\u001b[0m \u001b[0mq2list\u001b[0m\u001b[0;34m,\u001b[0m \u001b[0mq3list\u001b[0m\u001b[0;34m,\u001b[0m \u001b[0mq4list\u001b[0m\u001b[0;34m)\u001b[0m\u001b[0;34m\u001b[0m\u001b[0;34m\u001b[0m\u001b[0m\n\u001b[0m",
      "\u001b[0;32m/tmp/ipykernel_5807/2386920343.py\u001b[0m in \u001b[0;36mget_torque_traj\u001b[0;34m(q1list, q2list, q3list, q4list)\u001b[0m\n\u001b[1;32m     80\u001b[0m         \u001b[0mddthetalistd\u001b[0m \u001b[0;34m=\u001b[0m \u001b[0mnp\u001b[0m\u001b[0;34m.\u001b[0m\u001b[0marray\u001b[0m\u001b[0;34m(\u001b[0m\u001b[0;34m[\u001b[0m\u001b[0;34m(\u001b[0m\u001b[0mdthetalistd\u001b[0m\u001b[0;34m[\u001b[0m\u001b[0;36m0\u001b[0m\u001b[0;34m]\u001b[0m\u001b[0;34m-\u001b[0m\u001b[0mdthetalist\u001b[0m\u001b[0;34m[\u001b[0m\u001b[0;36m0\u001b[0m\u001b[0;34m]\u001b[0m\u001b[0;34m)\u001b[0m\u001b[0;34m/\u001b[0m\u001b[0mdt\u001b[0m\u001b[0;34m,\u001b[0m \u001b[0;34m(\u001b[0m\u001b[0mdthetalistd\u001b[0m\u001b[0;34m[\u001b[0m\u001b[0;36m1\u001b[0m\u001b[0;34m]\u001b[0m\u001b[0;34m-\u001b[0m\u001b[0mdthetalist\u001b[0m\u001b[0;34m[\u001b[0m\u001b[0;36m1\u001b[0m\u001b[0;34m]\u001b[0m\u001b[0;34m)\u001b[0m\u001b[0;34m/\u001b[0m\u001b[0mdt\u001b[0m\u001b[0;34m,\u001b[0m \u001b[0;34m(\u001b[0m\u001b[0mdthetalistd\u001b[0m\u001b[0;34m[\u001b[0m\u001b[0;36m2\u001b[0m\u001b[0;34m]\u001b[0m\u001b[0;34m-\u001b[0m\u001b[0mdthetalist\u001b[0m\u001b[0;34m[\u001b[0m\u001b[0;36m2\u001b[0m\u001b[0;34m]\u001b[0m\u001b[0;34m)\u001b[0m\u001b[0;34m/\u001b[0m\u001b[0mdt\u001b[0m\u001b[0;34m,\u001b[0m \u001b[0;34m(\u001b[0m\u001b[0mdthetalistd\u001b[0m\u001b[0;34m[\u001b[0m\u001b[0;36m3\u001b[0m\u001b[0;34m]\u001b[0m\u001b[0;34m-\u001b[0m\u001b[0mdthetalist\u001b[0m\u001b[0;34m[\u001b[0m\u001b[0;36m3\u001b[0m\u001b[0;34m]\u001b[0m\u001b[0;34m)\u001b[0m\u001b[0;34m/\u001b[0m\u001b[0mdt\u001b[0m\u001b[0;34m]\u001b[0m\u001b[0;34m)\u001b[0m\u001b[0;34m\u001b[0m\u001b[0;34m\u001b[0m\u001b[0m\n\u001b[1;32m     81\u001b[0m \u001b[0;34m\u001b[0m\u001b[0m\n\u001b[0;32m---> 82\u001b[0;31m         \u001b[0mtorque\u001b[0m \u001b[0;34m=\u001b[0m \u001b[0mmr\u001b[0m\u001b[0;34m.\u001b[0m\u001b[0mComputedTorque\u001b[0m\u001b[0;34m(\u001b[0m\u001b[0mthetalist\u001b[0m\u001b[0;34m,\u001b[0m \u001b[0mdthetalist\u001b[0m\u001b[0;34m,\u001b[0m \u001b[0meint\u001b[0m\u001b[0;34m,\u001b[0m \u001b[0mg\u001b[0m\u001b[0;34m,\u001b[0m \u001b[0mMlist\u001b[0m\u001b[0;34m,\u001b[0m \u001b[0mGlist\u001b[0m\u001b[0;34m,\u001b[0m \u001b[0mSlist\u001b[0m\u001b[0;34m,\u001b[0m\u001b[0mthetalistd\u001b[0m\u001b[0;34m,\u001b[0m \u001b[0mdthetalistd\u001b[0m\u001b[0;34m,\u001b[0m \u001b[0mddthetalistd\u001b[0m\u001b[0;34m,\u001b[0m \u001b[0mKp\u001b[0m\u001b[0;34m,\u001b[0m \u001b[0mKi\u001b[0m\u001b[0;34m,\u001b[0m \u001b[0mKd\u001b[0m\u001b[0;34m)\u001b[0m\u001b[0;34m\u001b[0m\u001b[0;34m\u001b[0m\u001b[0m\n\u001b[0m\u001b[1;32m     83\u001b[0m \u001b[0;34m\u001b[0m\u001b[0m\n\u001b[1;32m     84\u001b[0m         \u001b[0mtorquelist\u001b[0m \u001b[0;34m=\u001b[0m \u001b[0mnp\u001b[0m\u001b[0;34m.\u001b[0m\u001b[0mvstack\u001b[0m\u001b[0;34m(\u001b[0m\u001b[0;34m(\u001b[0m\u001b[0mtorquelist\u001b[0m\u001b[0;34m,\u001b[0m\u001b[0mtorque\u001b[0m\u001b[0;34m)\u001b[0m\u001b[0;34m)\u001b[0m\u001b[0;34m\u001b[0m\u001b[0;34m\u001b[0m\u001b[0m\n",
      "\u001b[0;32m~/anaconda3/envs/py37/lib/python3.7/site-packages/modern_robotics/core.py\u001b[0m in \u001b[0;36mComputedTorque\u001b[0;34m(thetalist, dthetalist, eint, g, Mlist, Glist, Slist, thetalistd, dthetalistd, ddthetalistd, Kp, Ki, Kd)\u001b[0m\n\u001b[1;32m   1719\u001b[0m     \"\"\"\n\u001b[1;32m   1720\u001b[0m     \u001b[0me\u001b[0m \u001b[0;34m=\u001b[0m \u001b[0mnp\u001b[0m\u001b[0;34m.\u001b[0m\u001b[0msubtract\u001b[0m\u001b[0;34m(\u001b[0m\u001b[0mthetalistd\u001b[0m\u001b[0;34m,\u001b[0m \u001b[0mthetalist\u001b[0m\u001b[0;34m)\u001b[0m\u001b[0;34m\u001b[0m\u001b[0;34m\u001b[0m\u001b[0m\n\u001b[0;32m-> 1721\u001b[0;31m     return np.dot(MassMatrix(thetalist, Mlist, Glist, Slist), \\\n\u001b[0m\u001b[1;32m   1722\u001b[0m                   \u001b[0mKp\u001b[0m \u001b[0;34m*\u001b[0m \u001b[0me\u001b[0m \u001b[0;34m+\u001b[0m \u001b[0mKi\u001b[0m \u001b[0;34m*\u001b[0m \u001b[0;34m(\u001b[0m\u001b[0mnp\u001b[0m\u001b[0;34m.\u001b[0m\u001b[0marray\u001b[0m\u001b[0;34m(\u001b[0m\u001b[0meint\u001b[0m\u001b[0;34m)\u001b[0m \u001b[0;34m+\u001b[0m \u001b[0me\u001b[0m\u001b[0;34m)\u001b[0m\u001b[0;31m \u001b[0m\u001b[0;31m\\\u001b[0m\u001b[0;34m\u001b[0m\u001b[0;34m\u001b[0m\u001b[0m\n\u001b[1;32m   1723\u001b[0m                   + Kd * np.subtract(dthetalistd, dthetalist)) \\\n",
      "\u001b[0;32m~/anaconda3/envs/py37/lib/python3.7/site-packages/modern_robotics/core.py\u001b[0m in \u001b[0;36mMassMatrix\u001b[0;34m(thetalist, Mlist, Glist, Slist)\u001b[0m\n\u001b[1;32m    989\u001b[0m         M[:, i] = InverseDynamics(thetalist, [0] * n, ddthetalist, \\\n\u001b[1;32m    990\u001b[0m                                   \u001b[0;34m[\u001b[0m\u001b[0;36m0\u001b[0m\u001b[0;34m,\u001b[0m \u001b[0;36m0\u001b[0m\u001b[0;34m,\u001b[0m \u001b[0;36m0\u001b[0m\u001b[0;34m]\u001b[0m\u001b[0;34m,\u001b[0m \u001b[0;34m[\u001b[0m\u001b[0;36m0\u001b[0m\u001b[0;34m,\u001b[0m \u001b[0;36m0\u001b[0m\u001b[0;34m,\u001b[0m \u001b[0;36m0\u001b[0m\u001b[0;34m,\u001b[0m \u001b[0;36m0\u001b[0m\u001b[0;34m,\u001b[0m \u001b[0;36m0\u001b[0m\u001b[0;34m,\u001b[0m \u001b[0;36m0\u001b[0m\u001b[0;34m]\u001b[0m\u001b[0;34m,\u001b[0m \u001b[0mMlist\u001b[0m\u001b[0;34m,\u001b[0m\u001b[0;31m \u001b[0m\u001b[0;31m\\\u001b[0m\u001b[0;34m\u001b[0m\u001b[0;34m\u001b[0m\u001b[0m\n\u001b[0;32m--> 991\u001b[0;31m                                   Glist, Slist)\n\u001b[0m\u001b[1;32m    992\u001b[0m     \u001b[0;32mreturn\u001b[0m \u001b[0mM\u001b[0m\u001b[0;34m\u001b[0m\u001b[0;34m\u001b[0m\u001b[0m\n\u001b[1;32m    993\u001b[0m \u001b[0;34m\u001b[0m\u001b[0m\n",
      "\u001b[0;32m~/anaconda3/envs/py37/lib/python3.7/site-packages/modern_robotics/core.py\u001b[0m in \u001b[0;36mInverseDynamics\u001b[0;34m(thetalist, dthetalist, ddthetalist, g, Ftip, Mlist, Glist, Slist)\u001b[0m\n\u001b[1;32m    920\u001b[0m         \u001b[0mAi\u001b[0m\u001b[0;34m[\u001b[0m\u001b[0;34m:\u001b[0m\u001b[0;34m,\u001b[0m \u001b[0mi\u001b[0m\u001b[0;34m]\u001b[0m \u001b[0;34m=\u001b[0m \u001b[0mnp\u001b[0m\u001b[0;34m.\u001b[0m\u001b[0mdot\u001b[0m\u001b[0;34m(\u001b[0m\u001b[0mAdjoint\u001b[0m\u001b[0;34m(\u001b[0m\u001b[0mTransInv\u001b[0m\u001b[0;34m(\u001b[0m\u001b[0mMi\u001b[0m\u001b[0;34m)\u001b[0m\u001b[0;34m)\u001b[0m\u001b[0;34m,\u001b[0m \u001b[0mnp\u001b[0m\u001b[0;34m.\u001b[0m\u001b[0marray\u001b[0m\u001b[0;34m(\u001b[0m\u001b[0mSlist\u001b[0m\u001b[0;34m)\u001b[0m\u001b[0;34m[\u001b[0m\u001b[0;34m:\u001b[0m\u001b[0;34m,\u001b[0m \u001b[0mi\u001b[0m\u001b[0;34m]\u001b[0m\u001b[0;34m)\u001b[0m\u001b[0;34m\u001b[0m\u001b[0;34m\u001b[0m\u001b[0m\n\u001b[1;32m    921\u001b[0m         AdTi[i] = Adjoint(np.dot(MatrixExp6(VecTose3(Ai[:, i] * \\\n\u001b[0;32m--> 922\u001b[0;31m                                             -thetalist[i])), \\\n\u001b[0m\u001b[1;32m    923\u001b[0m                                  TransInv(Mlist[i])))\n\u001b[1;32m    924\u001b[0m         \u001b[0mVi\u001b[0m\u001b[0;34m[\u001b[0m\u001b[0;34m:\u001b[0m\u001b[0;34m,\u001b[0m \u001b[0mi\u001b[0m \u001b[0;34m+\u001b[0m \u001b[0;36m1\u001b[0m\u001b[0;34m]\u001b[0m \u001b[0;34m=\u001b[0m \u001b[0mnp\u001b[0m\u001b[0;34m.\u001b[0m\u001b[0mdot\u001b[0m\u001b[0;34m(\u001b[0m\u001b[0mAdTi\u001b[0m\u001b[0;34m[\u001b[0m\u001b[0mi\u001b[0m\u001b[0;34m]\u001b[0m\u001b[0;34m,\u001b[0m \u001b[0mVi\u001b[0m\u001b[0;34m[\u001b[0m\u001b[0;34m:\u001b[0m\u001b[0;34m,\u001b[0m\u001b[0mi\u001b[0m\u001b[0;34m]\u001b[0m\u001b[0;34m)\u001b[0m \u001b[0;34m+\u001b[0m \u001b[0mAi\u001b[0m\u001b[0;34m[\u001b[0m\u001b[0;34m:\u001b[0m\u001b[0;34m,\u001b[0m \u001b[0mi\u001b[0m\u001b[0;34m]\u001b[0m \u001b[0;34m*\u001b[0m \u001b[0mdthetalist\u001b[0m\u001b[0;34m[\u001b[0m\u001b[0mi\u001b[0m\u001b[0;34m]\u001b[0m\u001b[0;34m\u001b[0m\u001b[0;34m\u001b[0m\u001b[0m\n",
      "\u001b[0;32m~/anaconda3/envs/py37/lib/python3.7/site-packages/modern_robotics/core.py\u001b[0m in \u001b[0;36mMatrixExp6\u001b[0;34m(se3mat)\u001b[0m\n\u001b[1;32m    358\u001b[0m     \u001b[0mse3mat\u001b[0m \u001b[0;34m=\u001b[0m \u001b[0mnp\u001b[0m\u001b[0;34m.\u001b[0m\u001b[0marray\u001b[0m\u001b[0;34m(\u001b[0m\u001b[0mse3mat\u001b[0m\u001b[0;34m)\u001b[0m\u001b[0;34m\u001b[0m\u001b[0;34m\u001b[0m\u001b[0m\n\u001b[1;32m    359\u001b[0m     \u001b[0momgtheta\u001b[0m \u001b[0;34m=\u001b[0m \u001b[0mso3ToVec\u001b[0m\u001b[0;34m(\u001b[0m\u001b[0mse3mat\u001b[0m\u001b[0;34m[\u001b[0m\u001b[0;36m0\u001b[0m\u001b[0;34m:\u001b[0m \u001b[0;36m3\u001b[0m\u001b[0;34m,\u001b[0m \u001b[0;36m0\u001b[0m\u001b[0;34m:\u001b[0m \u001b[0;36m3\u001b[0m\u001b[0;34m]\u001b[0m\u001b[0;34m)\u001b[0m\u001b[0;34m\u001b[0m\u001b[0;34m\u001b[0m\u001b[0m\n\u001b[0;32m--> 360\u001b[0;31m     \u001b[0;32mif\u001b[0m \u001b[0mNearZero\u001b[0m\u001b[0;34m(\u001b[0m\u001b[0mnp\u001b[0m\u001b[0;34m.\u001b[0m\u001b[0mlinalg\u001b[0m\u001b[0;34m.\u001b[0m\u001b[0mnorm\u001b[0m\u001b[0;34m(\u001b[0m\u001b[0momgtheta\u001b[0m\u001b[0;34m)\u001b[0m\u001b[0;34m)\u001b[0m\u001b[0;34m:\u001b[0m\u001b[0;34m\u001b[0m\u001b[0;34m\u001b[0m\u001b[0m\n\u001b[0m\u001b[1;32m    361\u001b[0m         \u001b[0;32mreturn\u001b[0m \u001b[0mnp\u001b[0m\u001b[0;34m.\u001b[0m\u001b[0mr_\u001b[0m\u001b[0;34m[\u001b[0m\u001b[0mnp\u001b[0m\u001b[0;34m.\u001b[0m\u001b[0mc_\u001b[0m\u001b[0;34m[\u001b[0m\u001b[0mnp\u001b[0m\u001b[0;34m.\u001b[0m\u001b[0meye\u001b[0m\u001b[0;34m(\u001b[0m\u001b[0;36m3\u001b[0m\u001b[0;34m)\u001b[0m\u001b[0;34m,\u001b[0m \u001b[0mse3mat\u001b[0m\u001b[0;34m[\u001b[0m\u001b[0;36m0\u001b[0m\u001b[0;34m:\u001b[0m \u001b[0;36m3\u001b[0m\u001b[0;34m,\u001b[0m \u001b[0;36m3\u001b[0m\u001b[0;34m]\u001b[0m\u001b[0;34m]\u001b[0m\u001b[0;34m,\u001b[0m \u001b[0;34m[\u001b[0m\u001b[0;34m[\u001b[0m\u001b[0;36m0\u001b[0m\u001b[0;34m,\u001b[0m \u001b[0;36m0\u001b[0m\u001b[0;34m,\u001b[0m \u001b[0;36m0\u001b[0m\u001b[0;34m,\u001b[0m \u001b[0;36m1\u001b[0m\u001b[0;34m]\u001b[0m\u001b[0;34m]\u001b[0m\u001b[0;34m]\u001b[0m\u001b[0;34m\u001b[0m\u001b[0;34m\u001b[0m\u001b[0m\n\u001b[1;32m    362\u001b[0m     \u001b[0;32melse\u001b[0m\u001b[0;34m:\u001b[0m\u001b[0;34m\u001b[0m\u001b[0;34m\u001b[0m\u001b[0m\n",
      "\u001b[0;32m<__array_function__ internals>\u001b[0m in \u001b[0;36mnorm\u001b[0;34m(*args, **kwargs)\u001b[0m\n",
      "\u001b[0;32m~/anaconda3/envs/py37/lib/python3.7/site-packages/numpy/linalg/linalg.py\u001b[0m in \u001b[0;36mnorm\u001b[0;34m(x, ord, axis, keepdims)\u001b[0m\n\u001b[1;32m   2529\u001b[0m             \u001b[0;32melse\u001b[0m\u001b[0;34m:\u001b[0m\u001b[0;34m\u001b[0m\u001b[0;34m\u001b[0m\u001b[0m\n\u001b[1;32m   2530\u001b[0m                 \u001b[0msqnorm\u001b[0m \u001b[0;34m=\u001b[0m \u001b[0mdot\u001b[0m\u001b[0;34m(\u001b[0m\u001b[0mx\u001b[0m\u001b[0;34m,\u001b[0m \u001b[0mx\u001b[0m\u001b[0;34m)\u001b[0m\u001b[0;34m\u001b[0m\u001b[0;34m\u001b[0m\u001b[0m\n\u001b[0;32m-> 2531\u001b[0;31m             \u001b[0mret\u001b[0m \u001b[0;34m=\u001b[0m \u001b[0msqrt\u001b[0m\u001b[0;34m(\u001b[0m\u001b[0msqnorm\u001b[0m\u001b[0;34m)\u001b[0m\u001b[0;34m\u001b[0m\u001b[0;34m\u001b[0m\u001b[0m\n\u001b[0m\u001b[1;32m   2532\u001b[0m             \u001b[0;32mif\u001b[0m \u001b[0mkeepdims\u001b[0m\u001b[0;34m:\u001b[0m\u001b[0;34m\u001b[0m\u001b[0;34m\u001b[0m\u001b[0m\n\u001b[1;32m   2533\u001b[0m                 \u001b[0mret\u001b[0m \u001b[0;34m=\u001b[0m \u001b[0mret\u001b[0m\u001b[0;34m.\u001b[0m\u001b[0mreshape\u001b[0m\u001b[0;34m(\u001b[0m\u001b[0mndim\u001b[0m\u001b[0;34m*\u001b[0m\u001b[0;34m[\u001b[0m\u001b[0;36m1\u001b[0m\u001b[0;34m]\u001b[0m\u001b[0;34m)\u001b[0m\u001b[0;34m\u001b[0m\u001b[0;34m\u001b[0m\u001b[0m\n",
      "\u001b[0;31mTypeError\u001b[0m: loop of ufunc does not support argument 0 of type Float which has no callable sqrt method"
     ]
    }
   ],
   "source": [
    "torquelist = get_torque_traj(q1list, q2list, q3list, q4list)"
   ]
  },
  {
   "cell_type": "code",
   "execution_count": 87,
   "metadata": {},
   "outputs": [
    {
     "data": {
      "text/plain": [
       "(4, 1)"
      ]
     },
     "execution_count": 87,
     "metadata": {},
     "output_type": "execute_result"
    }
   ],
   "source": [
    "thetalist.shape"
   ]
  },
  {
   "cell_type": "code",
   "execution_count": null,
   "metadata": {},
   "outputs": [],
   "source": []
  }
 ],
 "metadata": {
  "kernelspec": {
   "display_name": "Python 3.7.11 ('py37')",
   "language": "python",
   "name": "python3"
  },
  "language_info": {
   "codemirror_mode": {
    "name": "ipython",
    "version": 3
   },
   "file_extension": ".py",
   "mimetype": "text/x-python",
   "name": "python",
   "nbconvert_exporter": "python",
   "pygments_lexer": "ipython3",
   "version": "3.7.11"
  },
  "vscode": {
   "interpreter": {
    "hash": "f2376f10e5480d9dd8a0eeeaa81051e72d24d2357c52529331f089560bf138e7"
   }
  }
 },
 "nbformat": 4,
 "nbformat_minor": 4
}
