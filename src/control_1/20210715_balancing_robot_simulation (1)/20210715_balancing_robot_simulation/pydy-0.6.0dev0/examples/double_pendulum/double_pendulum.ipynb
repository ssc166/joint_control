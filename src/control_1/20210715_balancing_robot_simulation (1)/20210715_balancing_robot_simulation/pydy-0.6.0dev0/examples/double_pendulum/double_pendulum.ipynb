{
 "cells": [
  {
   "cell_type": "markdown",
   "metadata": {
    "deletable": true,
    "editable": true
   },
   "source": [
    "# Double Pendulum #"
   ]
  },
  {
   "cell_type": "markdown",
   "metadata": {
    "deletable": true,
    "editable": true
   },
   "source": [
    "In this notebook, we are going to develop the EoMs for Double Pendulum system. We are going to derive EoMs, simulate them and finally visualize them.\n",
    "\n",
    "The code is loaded in the notebook using `%load` IPython magic, to avoid duplication of the code."
   ]
  },
  {
   "cell_type": "code",
   "execution_count": 1,
   "metadata": {
    "collapsed": false,
    "deletable": true,
    "editable": true
   },
   "outputs": [
    {
     "data": {
      "text/plain": [
       "(Matrix([\n",
       " [-2*g*l*m*sin(q1(t))],\n",
       " [  -g*l*m*sin(q2(t))]]), Matrix([\n",
       " [-l**2*m*(sin(q1(t))*sin(q2(t)) + cos(q1(t))*cos(q2(t)))*Derivative(u2(t), t) + l**2*m*(-sin(q1(t))*cos(q2(t)) + sin(q2(t))*cos(q1(t)))*u2(t)**2 - 2*l**2*m*Derivative(u1(t), t)],\n",
       " [   -l**2*m*(sin(q1(t))*sin(q2(t)) + cos(q1(t))*cos(q2(t)))*Derivative(u1(t), t) + l**2*m*(sin(q1(t))*cos(q2(t)) - sin(q2(t))*cos(q1(t)))*u1(t)**2 - l**2*m*Derivative(u2(t), t)]]))"
      ]
     },
     "execution_count": 1,
     "metadata": {},
     "output_type": "execute_result"
    }
   ],
   "source": [
    "# %load double_pendulum.py\n",
    "from sympy import symbols\n",
    "from sympy.physics.mechanics import *\n",
    "\n",
    "q1, q2 = dynamicsymbols('q1 q2')\n",
    "q1d, q2d = dynamicsymbols('q1 q2', 1)\n",
    "u1, u2 = dynamicsymbols('u1 u2')\n",
    "u1d, u2d = dynamicsymbols('u1 u2', 1)\n",
    "l, m, g = symbols('l m g')\n",
    "\n",
    "N = ReferenceFrame('N')\n",
    "A = N.orientnew('A', 'Axis', [q1, N.z])\n",
    "B = N.orientnew('B', 'Axis', [q2, N.z])\n",
    "\n",
    "A.set_ang_vel(N, u1 * N.z)\n",
    "B.set_ang_vel(N, u2 * N.z)\n",
    "\n",
    "O = Point('O')\n",
    "P = O.locatenew('P', l * A.x)\n",
    "R = P.locatenew('R', l * B.x)\n",
    "\n",
    "O.set_vel(N, 0)\n",
    "P.v2pt_theory(O, N, A)\n",
    "R.v2pt_theory(P, N, B)\n",
    "\n",
    "ParP = Particle('ParP', P, m)\n",
    "ParR = Particle('ParR', R, m)\n",
    "\n",
    "kd = [q1d - u1, q2d - u2]\n",
    "FL = [(P, m * g * N.x), (R, m * g * N.x)]\n",
    "BL = [ParP, ParR]\n",
    "\n",
    "\n",
    "KM = KanesMethod(N, q_ind=[q1, q2], u_ind=[u1, u2], kd_eqs=kd)\n",
    "\n",
    "\n",
    "KM.kanes_equations(FL, BL)\n",
    "#kdd = KM.kindiffdict()\n",
    "#mass_matrix = KM.mass_matrix_full\n",
    "#forcing_vector = KM.forcing_full\n",
    "#qudots = mass_matrix.inv() * forcing_vector\n",
    "#qudots = qudots.subs(kdd)\n",
    "#qudots.simplify()\n",
    "#\n"
   ]
  },
  {
   "cell_type": "code",
   "execution_count": 2,
   "metadata": {
    "collapsed": false,
    "deletable": true,
    "editable": true
   },
   "outputs": [
    {
     "name": "stderr",
     "output_type": "stream",
     "text": [
      "/home/moorepants/miniconda3/envs/pydy-examples-py35/lib/python3.5/site-packages/ipykernel_launcher.py:22: DeprecationWarning: object of type <class 'float'> cannot be safely interpreted as an integer.\n"
     ]
    }
   ],
   "source": [
    "# %load simulate.py\n",
    "\"\"\"\n",
    "This file will use pydy.codegen to simulate the double pendulum.\n",
    "\n",
    "\"\"\"\n",
    "\n",
    "from numpy import linspace\n",
    "from pydy.system import System\n",
    "\n",
    "from double_pendulum import *\n",
    "\n",
    "constants = {l: 10.0, m: 10.0, g: 9.81}\n",
    "\n",
    "initial_conditions = {q1: 1.0, q2: 0.0, u1: 0.0, u2: 0.0}\n",
    "\n",
    "sys = System(KM, constants=constants,\n",
    "        initial_conditions=initial_conditions)\n",
    "\n",
    "frames_per_sec = 60\n",
    "final_time = 5.0\n",
    "\n",
    "times = linspace(0.0, final_time, final_time * frames_per_sec)\n",
    "sys.times = times\n",
    "x = sys.integrate()\n"
   ]
  },
  {
   "cell_type": "code",
   "execution_count": 3,
   "metadata": {
    "collapsed": false,
    "deletable": true,
    "editable": true
   },
   "outputs": [],
   "source": [
    "# %load visualize.py\n",
    "\"\"\"\n",
    "This file will use pydy.viz to visualize the double pendulum.  Run this script\n",
    "via a command line:\n",
    "\n",
    "    $ python visualization.py\n",
    "\n",
    "\"\"\"\n",
    "\n",
    "from numpy import pi\n",
    "\n",
    "from pydy.viz.shapes import Cylinder, Sphere\n",
    "from pydy.viz.scene import Scene\n",
    "from pydy.viz.visualization_frame import VisualizationFrame\n",
    "\n",
    "from simulate import *\n",
    "\n",
    "\n",
    "# Create geometry\n",
    "# ===============\n",
    "\n",
    "# Each link in the pendulum is visualized with a cylinder, and a sphere at its\n",
    "# far end.\n",
    "link = Cylinder(name='link', radius=0.5, length=l, color='red')\n",
    "sphere = Sphere(name='sphere', radius=1.0)\n",
    "\n",
    "# By default, Cylinders are drawn so that their center is at the origin of the\n",
    "# VisualizationFrame, and their axis is the y axis of the VisualizationFrame.\n",
    "# We want the end of the Cylinder to be at the origin of the\n",
    "# VisualizationFrame, and we want the Cylinder's axis to be aligned with the x\n",
    "# axis of the VisualizationFrame. For these reasons, we must use the\n",
    "# 'orientnew' and 'locatenew' methods to create new frames/points.\n",
    "linkP_frame = A.orientnew('frameP', 'Axis', [0.5 * pi, N.z])\n",
    "linkP_origin = O.locatenew('originP', 0.5 * l * A.x)\n",
    "linkP_viz_frame = VisualizationFrame('linkP', linkP_frame, linkP_origin, link)\n",
    "\n",
    "linkR_frame = B.orientnew('frameR', 'Axis', [0.5 * pi, N.z])\n",
    "linkR_origin = P.locatenew('originP', 0.5 * l * B.x)\n",
    "linkR_viz_frame = VisualizationFrame('linkR', linkR_frame, linkR_origin, link)\n",
    "\n",
    "sphereP_viz_frame = VisualizationFrame('sphereP', N, P, sphere)\n",
    "sphereR_viz_frame = VisualizationFrame('sphereR', N, R, sphere)\n",
    "\n",
    "\n",
    "# Construct the scene\n",
    "# ===================\n",
    "\n",
    "# We want gravity to be directed downwards in the visualization. Gravity is in\n",
    "# the -x direction. By default, the visualization uses the xz plane as the\n",
    "# ground plane. Thus, gravity is contained in the ground plane. However, we\n",
    "# want gravity to point in the -y direction in the visualization. To achieve\n",
    "# this, we create a world frame that is rotated +90 degrees about the N frame's\n",
    "# z direction.\n",
    "world_frame = N.orientnew('world', 'Axis', [0.5 * pi, N.z])\n",
    "scene = Scene(world_frame, O,\n",
    "        linkP_viz_frame, linkR_viz_frame, sphereP_viz_frame, sphereR_viz_frame)\n",
    "\n",
    "\n",
    "# Create the visualization\n",
    "# ========================\n",
    "\n",
    "scene.generate_visualization_json_system(sys)\n",
    "\n",
    "if __name__ == \"__main__\":\n",
    "    try: #If called from inside notebook,\n",
    "        scene.display_ipython()\n",
    "    except:#If called from interpreter\n",
    "        scene.display()\n"
   ]
  },
  {
   "cell_type": "code",
   "execution_count": 4,
   "metadata": {
    "collapsed": true
   },
   "outputs": [],
   "source": [
    "%load_ext version_information"
   ]
  },
  {
   "cell_type": "code",
   "execution_count": 5,
   "metadata": {
    "collapsed": false
   },
   "outputs": [
    {
     "data": {
      "application/json": {
       "Software versions": [
        {
         "module": "Python",
         "version": "3.5.3 64bit [GCC 4.4.7 20120313 (Red Hat 4.4.7-1)]"
        },
        {
         "module": "IPython",
         "version": "4.2.0"
        },
        {
         "module": "OS",
         "version": "Linux 4.10.0 21 generic x86_64 with debian stretch sid"
        },
        {
         "module": "numpy",
         "version": "1.12.1"
        },
        {
         "module": "scipy",
         "version": "0.19.0"
        },
        {
         "module": "pydy",
         "version": "0.4.0dev"
        }
       ]
      },
      "text/html": [
       "<table><tr><th>Software</th><th>Version</th></tr><tr><td>Python</td><td>3.5.3 64bit [GCC 4.4.7 20120313 (Red Hat 4.4.7-1)]</td></tr><tr><td>IPython</td><td>4.2.0</td></tr><tr><td>OS</td><td>Linux 4.10.0 21 generic x86_64 with debian stretch sid</td></tr><tr><td>numpy</td><td>1.12.1</td></tr><tr><td>scipy</td><td>0.19.0</td></tr><tr><td>pydy</td><td>0.4.0dev</td></tr><tr><td colspan='2'>Mon May 29 13:31:36 2017 PDT</td></tr></table>"
      ],
      "text/latex": [
       "\\begin{tabular}{|l|l|}\\hline\n",
       "{\\bf Software} & {\\bf Version} \\\\ \\hline\\hline\n",
       "Python & 3.5.3 64bit [GCC 4.4.7 20120313 (Red Hat 4.4.7-1)] \\\\ \\hline\n",
       "IPython & 4.2.0 \\\\ \\hline\n",
       "OS & Linux 4.10.0 21 generic x86\\_64 with debian stretch sid \\\\ \\hline\n",
       "numpy & 1.12.1 \\\\ \\hline\n",
       "scipy & 0.19.0 \\\\ \\hline\n",
       "pydy & 0.4.0dev \\\\ \\hline\n",
       "\\hline \\multicolumn{2}{|l|}{Mon May 29 13:31:36 2017 PDT} \\\\ \\hline\n",
       "\\end{tabular}\n"
      ],
      "text/plain": [
       "Software versions\n",
       "Python 3.5.3 64bit [GCC 4.4.7 20120313 (Red Hat 4.4.7-1)]\n",
       "IPython 4.2.0\n",
       "OS Linux 4.10.0 21 generic x86_64 with debian stretch sid\n",
       "numpy 1.12.1\n",
       "scipy 0.19.0\n",
       "pydy 0.4.0dev\n",
       "Mon May 29 13:31:36 2017 PDT"
      ]
     },
     "execution_count": 5,
     "metadata": {},
     "output_type": "execute_result"
    }
   ],
   "source": [
    "%version_information numpy, scipy, pydy"
   ]
  }
 ],
 "metadata": {
  "kernelspec": {
   "display_name": "Python 3",
   "language": "python",
   "name": "python3"
  },
  "language_info": {
   "codemirror_mode": {
    "name": "ipython",
    "version": 3
   },
   "file_extension": ".py",
   "mimetype": "text/x-python",
   "name": "python",
   "nbconvert_exporter": "python",
   "pygments_lexer": "ipython3",
   "version": "3.5.3"
  }
 },
 "nbformat": 4,
 "nbformat_minor": 0
}
