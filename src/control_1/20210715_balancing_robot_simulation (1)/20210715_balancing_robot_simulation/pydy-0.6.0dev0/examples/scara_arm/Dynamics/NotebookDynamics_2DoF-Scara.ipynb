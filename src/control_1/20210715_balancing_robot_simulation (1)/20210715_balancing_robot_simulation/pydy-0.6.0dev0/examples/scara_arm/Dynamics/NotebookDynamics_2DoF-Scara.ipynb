{
 "cells": [
  {
   "cell_type": "markdown",
   "metadata": {},
   "source": [
    "# Problem:\n",
    "Find the moviment equations of the 2 DoF Scara arm."
   ]
  },
  {
   "cell_type": "markdown",
   "metadata": {},
   "source": [
    "## Frames and Variables\n",
    "Initialy, we need to define our reference frames and the symbolic variables.The first **Reference Frame** `B0`, is located in the same high as the arm and pointing in the rotating joint. The next frame,`B1`, is a **Moving Frame**. It follows the rotations of the first frame, therefora, related by a rotations of $\\theta_1$ related to `B0`. Finally, the last frame rotates $\\theta_2$ regarding `B1`."
   ]
  },
  {
   "cell_type": "code",
   "execution_count": 2,
   "metadata": {},
   "outputs": [],
   "source": [
    "# Funções e Bibliotecas Utilizadas\n",
    "from sympy import symbols, pprint, simplify, Eq, diff\n",
    "from sympy.physics.mechanics import *\n",
    "from sympy.physics.mechanics.functions import inertia\n",
    "init_vprinting()\n",
    "\n",
    "# Variáveis Simbólicas\n",
    "theta_1, theta_2 = dynamicsymbols('theta_1 theta_2')\n",
    "dtheta_1, dtheta_2 = dynamicsymbols('theta_1 theta_2', 1)\n",
    "tau_1, tau_2 = symbols('tau_1 tau_2')\n",
    "l_1, l_2 = symbols('l_1 l_2', positive = True)\n",
    "r_1, r_2 = symbols('r_1 r_2', positive = True)\n",
    "m_1, m_2, g = symbols('m_1 m_2 g')\n",
    "I_1_zz, I_2_zz = symbols('I_{1zz}, I_{2zz}') \n",
    "\n",
    "# Referenciais \n",
    "B0 = ReferenceFrame('B0')                 # Referencial Inercial\n",
    "B1 = ReferenceFrame('B1')     \n",
    "B1.orient(B0, 'Axis', [theta_1, B0.z])    # Referencial móvel: theta_1 em relação a B0.z \n",
    "B2 = ReferenceFrame('B2')\n",
    "B2.orient(B1, 'Axis', [theta_2, B1.z])    # Referencial móvel: theta_2 em relação a B1.z \n"
   ]
  },
  {
   "cell_type": "markdown",
   "metadata": {},
   "source": [
    "## Points e Rigid Bodies\n",
    "Now that the frames are defined, we can start to place the fixed points.The points `CM_1` and `CM_2` represent the **Center of Mass ** of the arm's links. Each of this links have their own moment, `I_1` e `I_2`. Furthermore, points O and A represent the fixed joints."
   ]
  },
  {
   "cell_type": "code",
   "execution_count": 3,
   "metadata": {},
   "outputs": [],
   "source": [
    "# Pontos e Centros de Massa\n",
    "O = Point('O')\n",
    "O.set_vel(B0, 0)\n",
    "A = Point('A')     \n",
    "A.set_pos(O, l_1 * B1.x)                     \n",
    "A.v2pt_theory(O, B0, B1)\n",
    "CM_1 = Point('CM_1')\n",
    "CM_1.set_pos(O, r_1 * B1.x)\n",
    "CM_1.v2pt_theory(O, B0, B1)\n",
    "CM_2 = Point('CM_2')\n",
    "CM_2.set_pos(A, r_2 * B2.x)\n",
    "CM_2.v2pt_theory(O, B0, B2)\n",
    "\n",
    "# Corpos Rígidos\n",
    "I_1 = inertia(B1, 0, 0, I_1_zz)            \n",
    "E_1 = RigidBody('Elo_1', CM_1, B1, m_1, (I_1, CM_1)) # Elo 1\n",
    "I_2 = inertia(B1, 0, 0, I_1_zz)                 \n",
    "E_2 = RigidBody('Elo_2', CM_2, B2, m_2, (I_2, CM_2)) # Elo 2"
   ]
  },
  {
   "cell_type": "markdown",
   "metadata": {},
   "source": [
    " ## Potencial Energy and Generalized Forces\n",
    "**Sympy** needs explicit definition of external potencial energies in the beodies.As the arm is only acting in the $(x,y)$ plane, the gravity force will not perfom any influence in the moviment equations."
   ]
  },
  {
   "cell_type": "code",
   "execution_count": 4,
   "metadata": {},
   "outputs": [
    {
     "data": {
      "image/png": "[encoded data removed]",
      "text/latex": [
       "$$\\left ( 0, \\quad 0\\right )$$"
      ],
      "text/plain": [
       "(0, 0)"
      ]
     },
     "execution_count": 4,
     "metadata": {},
     "output_type": "execute_result"
    }
   ],
   "source": [
    "# Energia Potencial\n",
    "P_1 = -m_1 * g * B0.z\n",
    "r_1_CM = CM_1.pos_from(O).express(B0)\n",
    "E_1.potential_energy = r_1_CM.dot(P_1)\n",
    "P_2 = -m_2 * g * B0.z\n",
    "r_2_CM = CM_2.pos_from(O).express(B0).simplify()\n",
    "E_2.potential_energy = r_2_CM.dot(P_2)\n",
    "\n",
    "# Forças/Momentos Generalizados\n",
    "FL = [(B1, tau_1 * B0.z),(B2, tau_2 * B0.z)]\n",
    "\n",
    "(E_2.potential_energy, E_1.potential_energy)"
   ]
  },
  {
   "cell_type": "markdown",
   "metadata": {},
   "source": [
    "## Lagrangian e Moviment Equations\n",
    "Finally, we can solve the langrangian and movimento equations of the system.In **Sympy**, we call the `Lagrangian` method andthe  `LagrangesMethod` class to solve the system."
   ]
  },
  {
   "cell_type": "code",
   "execution_count": 5,
   "metadata": {},
   "outputs": [
    {
     "data": {
      "image/png": "[encoded data removed]",
      "text/latex": [
       "$$\\left[\\begin{matrix}\\frac{I_{1zz}}{2} \\left(\\ddot{\\theta}_{1} + \\ddot{\\theta}_{2}\\right) + \\frac{3 I_{1zz}}{2} \\ddot{\\theta}_{1} + \\frac{I_{1zz} \\ddot{\\theta}_{2}}{2} - l_{1} m_{2} r_{2} \\left(2 \\dot{\\theta}_{1} + 2 \\dot{\\theta}_{2}\\right) \\operatorname{sin}\\left(\\theta_{2}\\right) \\dot{\\theta}_{2} + m_{1} r_{1}^{2} \\ddot{\\theta}_{1} + \\frac{m_{2}}{2} \\left(2 \\ddot{\\theta}_{1} + 2 \\ddot{\\theta}_{2}\\right) \\left(l_{1}^{2} + 2 l_{1} r_{2} \\operatorname{cos}\\left(\\theta_{2}\\right) + r_{2}^{2}\\right) - \\tau_{1} - \\tau_{2}\\\\\\frac{I_{1zz}}{2} \\left(\\ddot{\\theta}_{1} + \\ddot{\\theta}_{2}\\right) + \\frac{I_{1zz} \\ddot{\\theta}_{1}}{2} + \\frac{I_{1zz} \\ddot{\\theta}_{2}}{2} + l_{1} m_{2} r_{2} \\dot{\\theta}_{1} + \\dot{\\theta}_{2}^{2} \\operatorname{sin}\\left(\\theta_{2}\\right) - l_{1} m_{2} r_{2} \\left(2 \\dot{\\theta}_{1} + 2 \\dot{\\theta}_{2}\\right) \\operatorname{sin}\\left(\\theta_{2}\\right) \\dot{\\theta}_{2} + \\frac{m_{2}}{2} \\left(2 \\ddot{\\theta}_{1} + 2 \\ddot{\\theta}_{2}\\right) \\left(l_{1}^{2} + 2 l_{1} r_{2} \\operatorname{cos}\\left(\\theta_{2}\\right) + r_{2}^{2}\\right) - \\tau_{2}\\end{matrix}\\right]$$"
      ],
      "text/plain": [
       "⎡                                                                             \n",
       "⎢      I_{1zz}⋅(θ₁̈ + θ₂̈)   3⋅I_{1zz}⋅θ₁̈   I_{1zz}⋅θ₂̈                      \n",
       "⎢      ─────────────────── + ───────────── + ─────────── - l₁⋅m₂⋅r₂⋅(2⋅θ₁̇ + 2\n",
       "⎢               2                  2              2                           \n",
       "⎢                                                                             \n",
       "⎢                                                                             \n",
       "⎢I_{1zz}⋅(θ₁̈ + θ₂̈)   I_{1zz}⋅θ₁̈   I_{1zz}⋅θ₂̈                       2      \n",
       "⎢─────────────────── + ─────────── + ─────────── + l₁⋅m₂⋅r₂⋅(θ₁̇ + θ₂̇) ⋅sin(θ\n",
       "⎣         2                 2             2                                   \n",
       "\n",
       "                                                    ⎛  2                      \n",
       "                         2       m₂⋅(2⋅θ₁̈ + 2⋅θ₂̈)⋅⎝l₁  + 2⋅l₁⋅r₂⋅cos(θ₂) + r\n",
       "⋅θ₂̇)⋅sin(θ₂)⋅θ₂̇ + m₁⋅r₁ ⋅θ₁̈ + ─────────────────────────────────────────────\n",
       "                                                        2                     \n",
       "                                                                              \n",
       "                                                               ⎛  2           \n",
       "                                            m₂⋅(2⋅θ₁̈ + 2⋅θ₂̈)⋅⎝l₁  + 2⋅l₁⋅r₂⋅\n",
       "₂) - l₁⋅m₂⋅r₂⋅(2⋅θ₁̇ + 2⋅θ₂̇)⋅sin(θ₂)⋅θ₂̇ + ──────────────────────────────────\n",
       "                                                                   2          \n",
       "\n",
       " 2⎞                ⎤\n",
       "₂ ⎠                ⎥\n",
       "─── - τ₁ - τ₂      ⎥\n",
       "                   ⎥\n",
       "                   ⎥\n",
       "            2⎞     ⎥\n",
       "cos(θ₂) + r₂ ⎠     ⎥\n",
       "────────────── - τ₂⎥\n",
       "                   ⎦"
      ]
     },
     "execution_count": 5,
     "metadata": {},
     "output_type": "execute_result"
    }
   ],
   "source": [
    "# Método de Lagrange\n",
    "L = Lagrangian(B0, E_1, E_2)\n",
    "L = L.simplify()\n",
    "LM = LagrangesMethod(L, [theta_1, theta_2], frame=B0, forcelist=FL)\n",
    "\n",
    "# Equações do Movimento\n",
    "L_eq = LM.form_lagranges_equations()\n",
    "L_eq"
   ]
  },
  {
   "cell_type": "markdown",
   "metadata": {},
   "source": [
    "We still can decouple the **Moviment Equations** using the `rhs` method on the previous class."
   ]
  },
  {
   "cell_type": "code",
   "execution_count": 6,
   "metadata": {},
   "outputs": [
    {
     "data": {
      "image/png": "[encoded data removed]",
      "text/latex": [
       "$$\\left[\\begin{matrix}\\dot{\\theta}_{1}\\\\\\dot{\\theta}_{2}\\\\\\frac{1}{2 I_{1zz} + m_{1} r_{1}^{2} + m_{2} \\left(l_{1}^{2} + 2 l_{1} r_{2} \\operatorname{cos}\\left(\\theta_{2}\\right) + r_{2}^{2}\\right)} \\left(l_{1} m_{2} r_{2} \\left(2 \\dot{\\theta}_{1} + 2 \\dot{\\theta}_{2}\\right) \\operatorname{sin}\\left(\\theta_{2}\\right) \\dot{\\theta}_{2} + \\tau_{1} + \\tau_{2} - \\frac{\\left(I_{1zz} + m_{2} \\left(l_{1}^{2} + 2 l_{1} r_{2} \\operatorname{cos}\\left(\\theta_{2}\\right) + r_{2}^{2}\\right)\\right) \\left(- l_{1} m_{2} r_{2} \\dot{\\theta}_{1} + \\dot{\\theta}_{2}^{2} \\operatorname{sin}\\left(\\theta_{2}\\right) + l_{1} m_{2} r_{2} \\left(2 \\dot{\\theta}_{1} + 2 \\dot{\\theta}_{2}\\right) \\operatorname{sin}\\left(\\theta_{2}\\right) \\dot{\\theta}_{2} + \\tau_{2} - \\frac{\\left(I_{1zz} + m_{2} \\left(l_{1}^{2} + 2 l_{1} r_{2} \\operatorname{cos}\\left(\\theta_{2}\\right) + r_{2}^{2}\\right)\\right) \\left(l_{1} m_{2} r_{2} \\left(2 \\dot{\\theta}_{1} + 2 \\dot{\\theta}_{2}\\right) \\operatorname{sin}\\left(\\theta_{2}\\right) \\dot{\\theta}_{2} + \\tau_{1} + \\tau_{2}\\right)}{2 I_{1zz} + m_{1} r_{1}^{2} + m_{2} \\left(l_{1}^{2} + 2 l_{1} r_{2} \\operatorname{cos}\\left(\\theta_{2}\\right) + r_{2}^{2}\\right)}\\right)}{I_{1zz} + m_{2} \\left(l_{1}^{2} + 2 l_{1} r_{2} \\operatorname{cos}\\left(\\theta_{2}\\right) + r_{2}^{2}\\right) - \\frac{\\left(I_{1zz} + m_{2} \\left(l_{1}^{2} + 2 l_{1} r_{2} \\operatorname{cos}\\left(\\theta_{2}\\right) + r_{2}^{2}\\right)\\right)^{2}}{2 I_{1zz} + m_{1} r_{1}^{2} + m_{2} \\left(l_{1}^{2} + 2 l_{1} r_{2} \\operatorname{cos}\\left(\\theta_{2}\\right) + r_{2}^{2}\\right)}}\\right)\\\\\\frac{- l_{1} m_{2} r_{2} \\dot{\\theta}_{1} + \\dot{\\theta}_{2}^{2} \\operatorname{sin}\\left(\\theta_{2}\\right) + l_{1} m_{2} r_{2} \\left(2 \\dot{\\theta}_{1} + 2 \\dot{\\theta}_{2}\\right) \\operatorname{sin}\\left(\\theta_{2}\\right) \\dot{\\theta}_{2} + \\tau_{2} - \\frac{\\left(I_{1zz} + m_{2} \\left(l_{1}^{2} + 2 l_{1} r_{2} \\operatorname{cos}\\left(\\theta_{2}\\right) + r_{2}^{2}\\right)\\right) \\left(l_{1} m_{2} r_{2} \\left(2 \\dot{\\theta}_{1} + 2 \\dot{\\theta}_{2}\\right) \\operatorname{sin}\\left(\\theta_{2}\\right) \\dot{\\theta}_{2} + \\tau_{1} + \\tau_{2}\\right)}{2 I_{1zz} + m_{1} r_{1}^{2} + m_{2} \\left(l_{1}^{2} + 2 l_{1} r_{2} \\operatorname{cos}\\left(\\theta_{2}\\right) + r_{2}^{2}\\right)}}{I_{1zz} + m_{2} \\left(l_{1}^{2} + 2 l_{1} r_{2} \\operatorname{cos}\\left(\\theta_{2}\\right) + r_{2}^{2}\\right) - \\frac{\\left(I_{1zz} + m_{2} \\left(l_{1}^{2} + 2 l_{1} r_{2} \\operatorname{cos}\\left(\\theta_{2}\\right) + r_{2}^{2}\\right)\\right)^{2}}{2 I_{1zz} + m_{1} r_{1}^{2} + m_{2} \\left(l_{1}^{2} + 2 l_{1} r_{2} \\operatorname{cos}\\left(\\theta_{2}\\right) + r_{2}^{2}\\right)}}\\end{matrix}\\right]$$"
      ],
      "text/plain": [
       "⎡                                                                             \n",
       "⎢                                                                             \n",
       "⎢                                                                             \n",
       "⎢                                                                             \n",
       "⎢                                                                             \n",
       "⎢                                                 ⎛             ⎛  2          \n",
       "⎢                                                 ⎝I_{1zz} + m₂⋅⎝l₁  + 2⋅l₁⋅r₂\n",
       "⎢                                                                             \n",
       "⎢                                                                             \n",
       "⎢l₁⋅m₂⋅r₂⋅(2⋅θ₁̇ + 2⋅θ₂̇)⋅sin(θ₂)⋅θ₂̇ + τ₁ + τ₂ - ────────────────────────────\n",
       "⎢                                                                             \n",
       "⎢                                                                             \n",
       "⎢                                                                             \n",
       "⎢                                                                             \n",
       "⎢                                                                             \n",
       "⎢                                                                             \n",
       "⎢─────────────────────────────────────────────────────────────────────────────\n",
       "⎢                                                                             \n",
       "⎢                                                                             \n",
       "⎢                                                                             \n",
       "⎢                                                                             \n",
       "⎢                                                                      2      \n",
       "⎢                                                - l₁⋅m₂⋅r₂⋅(θ₁̇ + θ₂̇) ⋅sin(θ\n",
       "⎢                                                                             \n",
       "⎢                                                                             \n",
       "⎢                                                ─────────────────────────────\n",
       "⎢                                                                             \n",
       "⎢                                                                             \n",
       "⎢                                                                             \n",
       "⎢                                                                             \n",
       "⎢                                                                             \n",
       "⎣                                                                             \n",
       "\n",
       "                                                       θ₁̇                    \n",
       "                                                                              \n",
       "                                                       θ₂̇                    \n",
       "                                                                              \n",
       "                 ⎛                                                            \n",
       "             2⎞⎞ ⎜                      2                                     \n",
       "⋅cos(θ₂) + r₂ ⎠⎠⋅⎜- l₁⋅m₂⋅r₂⋅(θ₁̇ + θ₂̇) ⋅sin(θ₂) + l₁⋅m₂⋅r₂⋅(2⋅θ₁̇ + 2⋅θ₂̇)⋅s\n",
       "                 ⎜                                                            \n",
       "                 ⎝                                                            \n",
       "──────────────────────────────────────────────────────────────────────────────\n",
       "                                                                              \n",
       "                                                                              \n",
       "                                             ⎛  2                       2⎞    \n",
       "                                I_{1zz} + m₂⋅⎝l₁  + 2⋅l₁⋅r₂⋅cos(θ₂) + r₂ ⎠ - ─\n",
       "                                                                              \n",
       "                                                                             2\n",
       "──────────────────────────────────────────────────────────────────────────────\n",
       "                                               2      ⎛  2                    \n",
       "                              2⋅I_{1zz} + m₁⋅r₁  + m₂⋅⎝l₁  + 2⋅l₁⋅r₂⋅cos(θ₂) +\n",
       "                                                                              \n",
       "                                                 ⎛             ⎛  2           \n",
       "                                                 ⎝I_{1zz} + m₂⋅⎝l₁  + 2⋅l₁⋅r₂⋅\n",
       "₂) + l₁⋅m₂⋅r₂⋅(2⋅θ₁̇ + 2⋅θ₂̇)⋅sin(θ₂)⋅θ₂̇ + τ₂ - ─────────────────────────────\n",
       "                                                                              \n",
       "                                                                     2⋅I_{1zz}\n",
       "──────────────────────────────────────────────────────────────────────────────\n",
       "                                                                              \n",
       "                                                         ⎛             ⎛  2   \n",
       "                     ⎛  2                       2⎞       ⎝I_{1zz} + m₂⋅⎝l₁  + \n",
       "        I_{1zz} + m₂⋅⎝l₁  + 2⋅l₁⋅r₂⋅cos(θ₂) + r₂ ⎠ - ─────────────────────────\n",
       "                                                                      2      ⎛\n",
       "                                                     2⋅I_{1zz} + m₁⋅r₁  + m₂⋅⎝\n",
       "\n",
       "                                                                              \n",
       "                                                                              \n",
       "                                                                              \n",
       "                                                                              \n",
       "                  ⎛             ⎛  2                       2⎞⎞                \n",
       "                  ⎝I_{1zz} + m₂⋅⎝l₁  + 2⋅l₁⋅r₂⋅cos(θ₂) + r₂ ⎠⎠⋅(l₁⋅m₂⋅r₂⋅(2⋅θ₁\n",
       "in(θ₂)⋅θ₂̇ + τ₂ - ────────────────────────────────────────────────────────────\n",
       "                                                       2      ⎛  2            \n",
       "                                      2⋅I_{1zz} + m₁⋅r₁  + m₂⋅⎝l₁  + 2⋅l₁⋅r₂⋅c\n",
       "──────────────────────────────────────────────────────────────────────────────\n",
       "                                               2                              \n",
       "   ⎛             ⎛  2                       2⎞⎞                               \n",
       "   ⎝I_{1zz} + m₂⋅⎝l₁  + 2⋅l₁⋅r₂⋅cos(θ₂) + r₂ ⎠⎠                               \n",
       "────────────────────────────────────────────────────                          \n",
       "                2      ⎛  2                       2⎞                          \n",
       "⋅I_{1zz} + m₁⋅r₁  + m₂⋅⎝l₁  + 2⋅l₁⋅r₂⋅cos(θ₂) + r₂ ⎠                          \n",
       "──────────────────────────────────────────────────────────────────────────────\n",
       "   2⎞                                                                         \n",
       " r₂ ⎠                                                                         \n",
       "                                                                              \n",
       "            2⎞⎞                                                               \n",
       "cos(θ₂) + r₂ ⎠⎠⋅(l₁⋅m₂⋅r₂⋅(2⋅θ₁̇ + 2⋅θ₂̇)⋅sin(θ₂)⋅θ₂̇ + τ₁ + τ₂)              \n",
       "────────────────────────────────────────────────────────────────              \n",
       "        2      ⎛  2                       2⎞                                  \n",
       " + m₁⋅r₁  + m₂⋅⎝l₁  + 2⋅l₁⋅r₂⋅cos(θ₂) + r₂ ⎠                                  \n",
       "────────────────────────────────────────────────────────────────              \n",
       "                       2                                                      \n",
       "                    2⎞⎞                                                       \n",
       "2⋅l₁⋅r₂⋅cos(θ₂) + r₂ ⎠⎠                                                       \n",
       "────────────────────────────                                                  \n",
       "  2                       2⎞                                                  \n",
       "l₁  + 2⋅l₁⋅r₂⋅cos(θ₂) + r₂ ⎠                                                  \n",
       "\n",
       "                                  ⎤\n",
       "                                  ⎥\n",
       "                                  ⎥\n",
       "                                  ⎥\n",
       "                                 ⎞⎥\n",
       "̇ + 2⋅θ₂̇)⋅sin(θ₂)⋅θ₂̇ + τ₁ + τ₂)⎟⎥\n",
       "─────────────────────────────────⎟⎥\n",
       "           2⎞                    ⎟⎥\n",
       "os(θ₂) + r₂ ⎠                    ⎠⎥\n",
       "──────────────────────────────────⎥\n",
       "                                  ⎥\n",
       "                                  ⎥\n",
       "                                  ⎥\n",
       "                                  ⎥\n",
       "                                  ⎥\n",
       "                                  ⎥\n",
       "──────────────────────────────────⎥\n",
       "                                  ⎥\n",
       "                                  ⎥\n",
       "                                  ⎥\n",
       "                                  ⎥\n",
       "                                  ⎥\n",
       "                                  ⎥\n",
       "                                  ⎥\n",
       "                                  ⎥\n",
       "                                  ⎥\n",
       "                                  ⎥\n",
       "                                  ⎥\n",
       "                                  ⎥\n",
       "                                  ⎥\n",
       "                                  ⎥\n",
       "                                  ⎦"
      ]
     },
     "execution_count": 6,
     "metadata": {},
     "output_type": "execute_result"
    }
   ],
   "source": [
    "# Equações Prontas para Solução Numérica\n",
    "rhs = LM.rhs()\n",
    "rhs"
   ]
  },
  {
   "cell_type": "code",
   "execution_count": null,
   "metadata": {},
   "outputs": [],
   "source": []
  }
 ],
 "metadata": {
  "kernelspec": {
   "display_name": "Python 3",
   "language": "python",
   "name": "python3"
  },
  "language_info": {
   "codemirror_mode": {
    "name": "ipython",
    "version": 3
   },
   "file_extension": ".py",
   "mimetype": "text/x-python",
   "name": "python",
   "nbconvert_exporter": "python",
   "pygments_lexer": "ipython3",
   "version": "3.6.5"
  }
 },
 "nbformat": 4,
 "nbformat_minor": 2
}
