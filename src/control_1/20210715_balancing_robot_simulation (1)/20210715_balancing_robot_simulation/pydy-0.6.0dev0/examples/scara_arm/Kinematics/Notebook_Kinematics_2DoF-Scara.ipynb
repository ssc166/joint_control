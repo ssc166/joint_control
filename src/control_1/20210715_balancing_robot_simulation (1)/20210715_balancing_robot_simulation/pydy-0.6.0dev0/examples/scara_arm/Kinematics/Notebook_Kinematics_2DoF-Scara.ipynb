{
 "cells": [
  {
   "cell_type": "markdown",
   "metadata": {},
   "source": [
    "# Problema:\n",
    "Encontrar as cinmática das pontos que representam o movimento de um braço `Scara` de dois graus de liberdade como mostrado na figura abaixo.\n",
    "![Robô - 2 Graus de Liberdade](img/2dscara.png \"Braço - 2 Graus de Liberdade\")"
   ]
  },
  {
   "cell_type": "markdown",
   "metadata": {},
   "source": [
    "## Referênciais\n",
    "A localização dos referência fixo, `B0`, foi definida na altura do braço (fazendo com que seja um problema no plano) no centro do da base. Os referenciais móveis, `B1` e `B2`, foram fixados nos pinos de rotação acompanhando o movimento dos elos 1 e 2, respectivamente. Também definiu-se os comprimentos de cada elo como sendo `l_1` e `l_2`."
   ]
  },
  {
   "cell_type": "code",
   "execution_count": 1,
   "metadata": {},
   "outputs": [],
   "source": [
    "# Funções das Bibliotecas Utilizadas\n",
    "from sympy import symbols\n",
    "from sympy.physics.mechanics import dynamicsymbols\n",
    "from sympy.physics.vector import ReferenceFrame\n",
    "\n",
    "# Variáveis Simbólicas\n",
    "theta_1, theta_2 = dynamicsymbols('theta_1 theta_2')\n",
    "l_1, l_2 = symbols('l_1 l_2', positive = True)\n",
    "\n",
    "# Referenciais \n",
    "B0 = ReferenceFrame('B0')                 # Referencial Parado\n",
    "B1 = ReferenceFrame('B1')     \n",
    "B1.orient(B0, 'Axis', [theta_1, B0.z])    # Referencial móvel: theta_1 em relação a B0.z \n",
    "B2 = ReferenceFrame('B2')\n",
    "B2.orient(B1, 'Axis', [theta_2, B1.z])    # Referencial móvel: theta_2 em relação a B1.z "
   ]
  },
  {
   "cell_type": "markdown",
   "metadata": {},
   "source": [
    "## Matrizes de Rotação\n",
    "Com a definição dos referenciais as matrizes de rotação entre os referenciais podem ser facilmente encontradas."
   ]
  },
  {
   "cell_type": "code",
   "execution_count": 2,
   "metadata": {
    "scrolled": true
   },
   "outputs": [
    {
     "data": {
      "text/latex": [
       "\\begin{eqnarray}T_{\\theta_1}&=&\\left[\\begin{matrix}\\cos{\\left (\\theta_{1}{\\left (t \\right )} \\right )} & - \\sin{\\left (\\theta_{1}{\\left (t \\right )} \\right )} & 0\\\\\\sin{\\left (\\theta_{1}{\\left (t \\right )} \\right )} & \\cos{\\left (\\theta_{1}{\\left (t \\right )} \\right )} & 0\\\\0 & 0 & 1\\end{matrix}\\right] T_{\\theta_2}=\\left[\\begin{matrix}\\cos{\\left (\\theta_{2}{\\left (t \\right )} \\right )} & - \\sin{\\left (\\theta_{2}{\\left (t \\right )} \\right )} & 0\\\\\\sin{\\left (\\theta_{2}{\\left (t \\right )} \\right )} & \\cos{\\left (\\theta_{2}{\\left (t \\right )} \\right )} & 0\\\\0 & 0 & 1\\end{matrix}\\right]\\\\T_{\\theta_1, \\theta_2}&=&\\left[\\begin{matrix}\\cos{\\left (\\theta_{1}{\\left (t \\right )} + \\theta_{2}{\\left (t \\right )} \\right )} & - \\sin{\\left (\\theta_{1}{\\left (t \\right )} + \\theta_{2}{\\left (t \\right )} \\right )} & 0\\\\\\sin{\\left (\\theta_{1}{\\left (t \\right )} + \\theta_{2}{\\left (t \\right )} \\right )} & \\cos{\\left (\\theta_{1}{\\left (t \\right )} + \\theta_{2}{\\left (t \\right )} \\right )} & 0\\\\0 & 0 & 1\\end{matrix}\\right]\\end{eqnarray}"
      ],
      "text/plain": [
       "<IPython.core.display.Latex object>"
      ]
     },
     "execution_count": 2,
     "metadata": {},
     "output_type": "execute_result"
    }
   ],
   "source": [
    "# Matrizes de Rotação\n",
    "T_B0B1 = B0.dcm(B1)    # Matriz de rotação de B1 para B0\n",
    "T_B1B2 = B1.dcm(B2)    # Matriz de rotação de B2 para B1\n",
    "\n",
    "T_B0B2 = (B0.dcm(B2)).simplify()     # Matriz de rotação de B0 para B3\n",
    "\n",
    "# Resultados em LaTeX\n",
    "from IPython.display import Latex\n",
    "from sympy import latex\n",
    "\n",
    "Latex(\"\\\\begin{eqnarray}\" +\n",
    "     \"T_{\\\\theta_1}&=\" + \"&\" +str(latex(T_B0B1)) + \" T_{\\\\theta_2}=\" + str(latex(T_B1B2)) + \n",
    "      \"\\\\\\\\T_{\\\\theta_1, \\\\theta_2}&=\" + \"&\" + str(latex(T_B0B2))    + \"\\\\end{eqnarray}\")"
   ]
  },
  {
   "cell_type": "markdown",
   "metadata": {},
   "source": [
    "## Posições Relativas dos pontos A e B\n",
    "Por termos definido um referencial móvel para cada grau de liberdade do mecanismo, podemos facilmente expressar a posição de cada um dos pontos $A$, $B$ e $C$ em relação a esses referênciais. O ponto $A$ coincide com a origem do referencial fixo, ou seja, $\\vec{r_{OA}}=\\vec{0}$. O ponto $B$ é facilmente expresso em relação ao referencial `B1`, nesse caso temos que $\\vec{r_{AB}}={l_1 \\vec{{i}_{B1}}}$. Finalmente, o ponto $C$ é representado por $\\vec{r_{BC}}={l_2 \\vec{{i}_{B2}}}$. Sendo $\\vec{{i}_{B2}}$ e $\\vec{{i}_{B3}}$ os versores na direção $x$ dos referenciais ```B1``` e  ```B2```, respectivamente. A seguir, nota-se que a definição desses vetores posição é simples de ser implementado em ```sympy```. A principal vantagem é que não precisamos nos preocupar em relação a qual referencial estamos definindo os vetores, pois as relações entre os referenciais já foram criadas nas suas definições. Ou seja, podemos reescrever um vetor em relação a diferentes referenciais de maneira imediata, como mostrado abaixo."
   ]
  },
  {
   "cell_type": "code",
   "execution_count": 3,
   "metadata": {},
   "outputs": [
    {
     "data": {
      "text/latex": [
       "\\begin{eqnarray}R_{AB}&=&l_{1} \\operatorname{cos}\\left(\\theta_{1}\\right)\\mathbf{\\hat{b0}_x} + l_{1} \\operatorname{sin}\\left(\\theta_{1}\\right)\\mathbf{\\hat{b0}_y}\\\\R_{AB}&=&\\left[\\begin{matrix}l_{1} \\cos{\\left (\\theta_{1}{\\left (t \\right )} \\right )}\\\\l_{1} \\sin{\\left (\\theta_{1}{\\left (t \\right )} \\right )}\\\\0\\end{matrix}\\right]\\end{eqnarray}"
      ],
      "text/plain": [
       "<IPython.core.display.Latex object>"
      ]
     },
     "execution_count": 3,
     "metadata": {},
     "output_type": "execute_result"
    }
   ],
   "source": [
    "from sympy.physics.vector import Vector\n",
    "\n",
    "# Vetores Posição entre os Pontos\n",
    "r_OA = Vector(0)      # Vetor Nulo\n",
    "r_AB = l_1 * B1.x     # Vetor que liga os pontos A e B expresso no referencial móvel B1\n",
    "r_BC = l_2 * B2.x     # Vetor que liga os pontos B e C expresso no referencial móvel B2\n",
    "\n",
    "R_AB = r_AB.express(B0) # Vetor que liga os pontos A e B expresso no referencial fixo B0\n",
    "R_BC = r_BC.express(B0) # Vetor que liga os pontos B e C expresso no referencial fixo B0\n",
    "\n",
    "# Resultado em LaTeX na Forma Vetorial ou Vetor Coluna\n",
    "Latex(\"\\\\begin{eqnarray}\" +\n",
    "     \"R_{AB}&=\" + \"&\" +str(latex(R_AB)) + \"\\\\\\\\\" + \n",
    "     \"R_{AB}&=\" + \"&\" +str(latex(R_AB.to_matrix(B0))) +\n",
    "     \"\\\\end{eqnarray}\")"
   ]
  },
  {
   "cell_type": "markdown",
   "metadata": {},
   "source": [
    "## Resultados\n",
    "Assim, já podemos encontrar os resultados da cinemática do ponto $C$ em relação a ```B0```. Para tal, só precisamos calcular a os vetores posição dos pontos $A$, $B$ e $C$, e suas primeiras e segunda derivadas no tempo, já que as variáveis $\\theta_1$, $\\theta_2$ e $\\theta_3$ foram definidas como funções do tempo. Para melhor eficiência, poderíamos calcular os vetores aproveitando as fórmulas de Cinemática. Adicionalmente, a função ```trigsimp``` foi utilizada em cada elementos dos vetores colunas resultantes para simplificá-los. Então, segue o resultado."
   ]
  },
  {
   "cell_type": "code",
   "execution_count": 16,
   "metadata": {},
   "outputs": [
    {
     "data": {
      "text/latex": [
       "\\begin{align}r_{A}&=\\left[\\begin{matrix}0\\\\0\\\\0\\end{matrix}\\right]&v_{A}&=\\left[\\begin{matrix}0\\\\0\\\\0\\end{matrix}\\right]&a_{A}&= \\left[\\begin{matrix}0\\\\0\\\\0\\end{matrix}\\right]\\\\r_{B}&=\\left[\\begin{matrix}l_{1} \\operatorname{cos}\\left(\\theta_{1}\\right)\\\\l_{1} \\operatorname{sin}\\left(\\theta_{1}\\right)\\\\0\\end{matrix}\\right]&v_{B}&=\\left[\\begin{matrix}- l_{1} \\operatorname{sin}\\left(\\theta_{1}\\right) \\dot{\\theta}_{1}\\\\l_{1} \\operatorname{cos}\\left(\\theta_{1}\\right) \\dot{\\theta}_{1}\\\\0\\end{matrix}\\right]&a_{B}&=\\left[\\begin{matrix}- l_{1} \\left(\\operatorname{sin}\\left(\\theta_{1}\\right) \\ddot{\\theta}_{1} + \\operatorname{cos}\\left(\\theta_{1}\\right) \\dot{\\theta}_{1}^{2}\\right)\\\\l_{1} \\left(- \\operatorname{sin}\\left(\\theta_{1}\\right) \\dot{\\theta}_{1}^{2} + \\operatorname{cos}\\left(\\theta_{1}\\right) \\ddot{\\theta}_{1}\\right)\\\\0\\end{matrix}\\right]\\\\\\end{align}"
      ],
      "text/plain": [
       "<IPython.core.display.Latex object>"
      ]
     },
     "execution_count": 16,
     "metadata": {},
     "output_type": "execute_result"
    }
   ],
   "source": [
    "from sympy.physics.vector import time_derivative, vlatex\n",
    "from sympy import trigsimp\n",
    "\n",
    "# Cinemática do ponto A em relação ao referencial B0\n",
    "r_A  = r_OA.express(B0)\n",
    "v_A = time_derivative(r_A, B0)\n",
    "a_A = time_derivative(v_A, B0)\n",
    "\n",
    "# Cinemática do ponto B em relação ao referencial B0\n",
    "r_B  = r_A.express(B0) + r_AB.express(B0)\n",
    "v_B = time_derivative(r_B, B0)\n",
    "a_B = time_derivative(v_B, B0)\n",
    "\n",
    "# Cinemática do ponto C em relação ao referencial B0\n",
    "r_C  = r_B.express(B0) + r_BC.express(B0)\n",
    "v_C = (time_derivative(r_C, B0))\n",
    "a_C = (time_derivative(v_C, B0))\n",
    "\n",
    "# Simplifcação dos Resultados\n",
    "r_A = (r_A.to_matrix(B0)).applyfunc(trigsimp)\n",
    "v_A = (v_A.to_matrix(B0)).applyfunc(trigsimp)\n",
    "a_A = (a_A.to_matrix(B0)).applyfunc(trigsimp)\n",
    "r_B = (r_B.to_matrix(B0)).applyfunc(trigsimp)\n",
    "v_B = (v_B.to_matrix(B0)).applyfunc(trigsimp)\n",
    "a_B = (a_B.to_matrix(B0)).applyfunc(trigsimp)\n",
    "r_C = (r_C.to_matrix(B0)).applyfunc(trigsimp)\n",
    "v_C = (v_C.to_matrix(B0)).applyfunc(trigsimp)\n",
    "a_C = (a_C.to_matrix(B0)).applyfunc(trigsimp)\n",
    "\n",
    "# Resultados em LaTeX na forma de Vetores Coluna dos pontos A e B\n",
    "Latex(\"\\\\begin{align}\"\n",
    "     \"r_{A}&=\" + str(vlatex(r_A)) + \"&v_{A}&=\" + str(vlatex(v_A)) + \"&a_{A}&= \" + str(vlatex(a_A)) + \"\\\\\" + \"\\\\\"\n",
    "     \"r_{B}&=\" + str(vlatex(r_B)) + \"&v_{B}&=\" + str(vlatex(v_B)) + \"&a_{B}&=\" + str(vlatex(a_B)) + \"\\\\\" + \"\\\\\"\n",
    "      \"\\\\end{align}\")"
   ]
  },
  {
   "cell_type": "code",
   "execution_count": 18,
   "metadata": {
    "scrolled": false
   },
   "outputs": [
    {
     "data": {
      "text/latex": [
       "\\begin{align}\r",
       "_{C}=&\\left[\\begin{matrix}l_{1} \\operatorname{cos}\\left(\\theta_{1}\\right) + l_{2} \\operatorname{cos}\\left(\\theta_{1} + \\theta_{2}\\right)\\\\l_{1} \\operatorname{sin}\\left(\\theta_{1}\\right) + l_{2} \\operatorname{sin}\\left(\\theta_{1} + \\theta_{2}\\right)\\\\0\\end{matrix}\\right]\\\\\\\\v_{C}=&\\left[\\begin{matrix}- l_{1} \\operatorname{sin}\\left(\\theta_{1}\\right) \\dot{\\theta}_{1} - l_{2} \\left(\\dot{\\theta}_{1} + \\dot{\\theta}_{2}\\right) \\operatorname{sin}\\left(\\theta_{1} + \\theta_{2}\\right)\\\\l_{1} \\operatorname{cos}\\left(\\theta_{1}\\right) \\dot{\\theta}_{1} + l_{2} \\left(\\dot{\\theta}_{1} + \\dot{\\theta}_{2}\\right) \\operatorname{cos}\\left(\\theta_{1} + \\theta_{2}\\right)\\\\0\\end{matrix}\\right]\\\\\\\\a_{C}=& \\left[\\begin{matrix}- l_{1} \\operatorname{sin}\\left(\\theta_{1}\\right) \\ddot{\\theta}_{1} - l_{1} \\operatorname{cos}\\left(\\theta_{1}\\right) \\dot{\\theta}_{1}^{2} - l_{2} \\operatorname{sin}\\left(\\theta_{1} + \\theta_{2}\\right) \\ddot{\\theta}_{1} - l_{2} \\operatorname{sin}\\left(\\theta_{1} + \\theta_{2}\\right) \\ddot{\\theta}_{2} - l_{2} \\operatorname{cos}\\left(\\theta_{1} + \\theta_{2}\\right) \\dot{\\theta}_{1}^{2} - 2 l_{2} \\operatorname{cos}\\left(\\theta_{1} + \\theta_{2}\\right) \\dot{\\theta}_{1} \\dot{\\theta}_{2} - l_{2} \\operatorname{cos}\\left(\\theta_{1} + \\theta_{2}\\right) \\dot{\\theta}_{2}^{2}\\\\- l_{1} \\operatorname{sin}\\left(\\theta_{1}\\right) \\dot{\\theta}_{1}^{2} + l_{1} \\operatorname{cos}\\left(\\theta_{1}\\right) \\ddot{\\theta}_{1} + l_{2} \\left(- \\operatorname{sin}\\left(\\theta_{1} + \\theta_{2}\\right) \\dot{\\theta}_{1}^{2} - 2 \\operatorname{sin}\\left(\\theta_{1} + \\theta_{2}\\right) \\dot{\\theta}_{1} \\dot{\\theta}_{2} - \\operatorname{sin}\\left(\\theta_{1} + \\theta_{2}\\right) \\dot{\\theta}_{2}^{2} + \\operatorname{cos}\\left(\\theta_{1} + \\theta_{2}\\right) \\ddot{\\theta}_{1} + \\operatorname{cos}\\left(\\theta_{1} + \\theta_{2}\\right) \\ddot{\\theta}_{2}\\right)\\\\0\\end{matrix}\\right]\\end{align}"
      ],
      "text/plain": [
       "<IPython.core.display.Latex object>"
      ]
     },
     "execution_count": 18,
     "metadata": {},
     "output_type": "execute_result"
    }
   ],
   "source": [
    "# Resultados em LaTeX na forma de Vetores Coluna do ponto C\n",
    "Latex(\"\\\\begin{align}\"\n",
    "     \"\\r_{C}=&\" + str(vlatex(r_C)) + \"\\\\\\\\\" + \"\\\\\\\\\"\n",
    "     \"v_{C}=&\" + str(vlatex(v_C)) + \"\\\\\\\\\" + \"\\\\\\\\\"\n",
    "     \"a_{C}=& \" + str(vlatex(a_C)) + \"\\\\end{align}\")"
   ]
  },
  {
   "cell_type": "code",
   "execution_count": null,
   "metadata": {},
   "outputs": [],
   "source": []
  }
 ],
 "metadata": {
  "kernelspec": {
   "display_name": "Python 3",
   "language": "python",
   "name": "python3"
  },
  "language_info": {
   "codemirror_mode": {
    "name": "ipython",
    "version": 3
   },
   "file_extension": ".py",
   "mimetype": "text/x-python",
   "name": "python",
   "nbconvert_exporter": "python",
   "pygments_lexer": "ipython3",
   "version": "3.6.5"
  }
 },
 "nbformat": 4,
 "nbformat_minor": 2
}
