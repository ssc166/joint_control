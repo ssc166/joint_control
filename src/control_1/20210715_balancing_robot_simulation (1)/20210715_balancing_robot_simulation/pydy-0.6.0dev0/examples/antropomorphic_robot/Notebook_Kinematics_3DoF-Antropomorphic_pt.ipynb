{
 "cells": [
  {
   "cell_type": "markdown",
   "metadata": {
    "lang": "pt"
   },
   "source": [
    "# Problema:\n",
    "Solução da cadeia cinemática do robô antropomorphico mostrado abaixo.\n",
    "\n",
    "![Robot - 3 Degrees of Freedom](antropo.svg \"Arm - 3 Degrees of Freedom\")\n",
    "\n",
    "O mecanismo possui 2 elos e 3 juntas."
   ]
  },
  {
   "cell_type": "markdown",
   "metadata": {
    "lang": "pt",
    "slideshow": {
     "slide_type": "skip"
    }
   },
   "source": [
    "## Sistema de Coordenadas\n",
    "Primeiramente, temos que determinar a localização dos referenciais. O primeiro referencial, ```B0```, está fixo e será colocado na intercessão dos eixos das duas primeiras juntas. O segundo referencial, ```B1``` , está em rotação pura de $\\theta_1$ em relação ao eixo $y$ do referencial ```B0```, e suas origens são coincidentes. A origem do referencial ```B2``` é a mesma de ```B1```  e ele segue o movimento da segunda junta, ou seja, ele está em rotação pura de $\\theta_2$ em relação ao eixo $z$ de ```B1```. Por fim, a origem do referencial ```B3``` coincide com a intercessão do eixo $x$ de ```B2``` e o eixo de rotação da terceira junta, além de ser uma rotação pura de $\\theta_3$ em relação ao eixo $z$ de ```B2```. Os elos são as partes rígidas que conectam as juntas; assim, nesse caso, temos três elos. Como o primeiro referencial é conincidente com os dois próximos, só precisaremos definir o comprimento de dois dos elos. Definindo o ponto $A$ na junta 2, o ponto $B$ na junta 3 e o ponto $C$ na ponta do último elo, podemos definir a distância entre os pontos  A e B, e B e C como sendo $l_1$ e $l_2$, respectivamente.\n",
    "Assim, já podemos iniciar a implementação da solução do problema."
   ]
  },
  {
   "cell_type": "code",
   "execution_count": 40,
   "metadata": {
    "format": "row"
   },
   "outputs": [],
   "source": [
    "# Funções das Bibliotecas Utilizadas\n",
    "from sympy import symbols\n",
    "from sympy.physics.mechanics import dynamicsymbols\n",
    "from sympy.physics.vector import ReferenceFrame\n",
    "\n",
    "# Variáveis Simbólicas\n",
    "theta_1, theta_2, theta_3 = dynamicsymbols('theta_1 theta_2 theta_3')\n",
    "l_1, l_2 = symbols('l_1 l_2', positive = True)\n",
    "\n",
    "# Referenciais \n",
    "B0 = ReferenceFrame('B0')                 # Referencial Parado\n",
    "B1 = ReferenceFrame('B1')     \n",
    "B1.orient(B0, 'Axis', [theta_1, B0.y])    # Referencial móvel: theta_1 em relação a B0.y \n",
    "B2 = ReferenceFrame('B2')\n",
    "B2.orient(B1, 'Axis', [theta_2, B1.z])    # Referencial móvel: theta_2 em relação a B1.z \n",
    "B3 = ReferenceFrame('B3')\n",
    "B3.orient(B2, 'Axis', [theta_3, B2.z])    # Referencial móvel: theta_3 em relação a B2.z "
   ]
  },
  {
   "cell_type": "markdown",
   "metadata": {
    "lang": "pt"
   },
   "source": [
    "Esse código cria as variáveis simbolicas e os referenciais que serão usados pelo ```sympy```. $\\theta_1, \\theta_2$ e $\\theta_3$ foram definidas usando ```dynammicsymbols``` para mostrar que as variáveis são funções do tempo, e o método ```symbols``` foi usado junto com o argumento ```positive=True``` para definir que os comprimentos dos elos assumem apenas valores positivos.\n",
    "Através na classe ```ReferenceFrame``` podemos facilmente criar referenciais inerciais. Todos os referenciais foram definidos a partir de uma rotação de outro referencial definido anteriormente, com exceção do referencial fixo ```B0```."
   ]
  },
  {
   "cell_type": "markdown",
   "metadata": {
    "lang": "pt"
   },
   "source": [
    "### Matrizes de Rotação\n",
    "Então com essas definições fica fácil representar as matrizes de rotação entre qualquer um dos referenciais definidos. Para isso, invocamos o método ```.dcm``` no referencial que queremos definir a partir do referencial do argumento. A seguir estão alguns exemplos, junto com o representação dos resultados em LaTeX."
   ]
  },
  {
   "cell_type": "code",
   "execution_count": 48,
   "metadata": {
    "scrolled": true
   },
   "outputs": [
    {
     "data": {
      "text/latex": [
       "\\begin{eqnarray}T_{\\theta_1}&=&\\left[\\begin{matrix}\\cos{\\left (\\theta_{1}{\\left (t \\right )} \\right )} & 0 & \\sin{\\left (\\theta_{1}{\\left (t \\right )} \\right )}\\\\0 & 1 & 0\\\\- \\sin{\\left (\\theta_{1}{\\left (t \\right )} \\right )} & 0 & \\cos{\\left (\\theta_{1}{\\left (t \\right )} \\right )}\\end{matrix}\\right] T_{\\theta_2}=\\left[\\begin{matrix}\\cos{\\left (\\theta_{2}{\\left (t \\right )} \\right )} & - \\sin{\\left (\\theta_{2}{\\left (t \\right )} \\right )} & 0\\\\\\sin{\\left (\\theta_{2}{\\left (t \\right )} \\right )} & \\cos{\\left (\\theta_{2}{\\left (t \\right )} \\right )} & 0\\\\0 & 0 & 1\\end{matrix}\\right]T_{\\theta_3}=\\left[\\begin{matrix}\\cos{\\left (\\theta_{3}{\\left (t \\right )} \\right )} & - \\sin{\\left (\\theta_{3}{\\left (t \\right )} \\right )} & 0\\\\\\sin{\\left (\\theta_{3}{\\left (t \\right )} \\right )} & \\cos{\\left (\\theta_{3}{\\left (t \\right )} \\right )} & 0\\\\0 & 0 & 1\\end{matrix}\\right]\\\\T_{\\theta_1, \\theta_3}&=&\\left[\\begin{matrix}\\cos{\\left (\\theta_{2}{\\left (t \\right )} + \\theta_{3}{\\left (t \\right )} \\right )} \\cos{\\left (\\theta_{1}{\\left (t \\right )} \\right )} & - \\sin{\\left (\\theta_{2}{\\left (t \\right )} + \\theta_{3}{\\left (t \\right )} \\right )} \\cos{\\left (\\theta_{1}{\\left (t \\right )} \\right )} & \\sin{\\left (\\theta_{1}{\\left (t \\right )} \\right )}\\\\\\sin{\\left (\\theta_{2}{\\left (t \\right )} + \\theta_{3}{\\left (t \\right )} \\right )} & \\cos{\\left (\\theta_{2}{\\left (t \\right )} + \\theta_{3}{\\left (t \\right )} \\right )} & 0\\\\- \\sin{\\left (\\theta_{1}{\\left (t \\right )} \\right )} \\cos{\\left (\\theta_{2}{\\left (t \\right )} + \\theta_{3}{\\left (t \\right )} \\right )} & \\sin{\\left (\\theta_{2}{\\left (t \\right )} + \\theta_{3}{\\left (t \\right )} \\right )} \\sin{\\left (\\theta_{1}{\\left (t \\right )} \\right )} & \\cos{\\left (\\theta_{1}{\\left (t \\right )} \\right )}\\end{matrix}\\right]\\end{eqnarray}"
      ],
      "text/plain": [
       "<IPython.core.display.Latex object>"
      ]
     },
     "execution_count": 48,
     "metadata": {},
     "output_type": "execute_result"
    }
   ],
   "source": [
    "# Matrizes de Rotação\n",
    "T_B0B1 = B0.dcm(B1)    # Matriz de rotação de B1 para B0\n",
    "T_B1B2 = B1.dcm(B2)    # Matriz de rotação de B2 para B1\n",
    "T_B2B3 = B2.dcm(B3)    # Matriz de rotação de B3 para B2\n",
    "\n",
    "T_B0B3 = (B0.dcm(B3)).simplify()    # Matriz de rotação de B0 para B3\n",
    "T_B0B2 = (B0.dcm(B2)).simplify()\n",
    "\n",
    "# Resultados em LaTeX\n",
    "from IPython.display import Latex\n",
    "from sympy import latex\n",
    "\n",
    "Latex(\"\\\\begin{eqnarray}\" +\n",
    "     \"T_{\\\\theta_1}&=\" + \"&\" +str(latex(T_B0B1)) + \" T_{\\\\theta_2}=\"\n",
    "     + str(latex(T_B1B2)) + \"T_{\\\\theta_3}=\" + str(latex(T_B2B3)) + \n",
    "     \"\\\\\\\\T_{\\\\theta_1, \\\\theta_3}&=\" + \"&\" + str(latex(T_B0B3))\n",
    "     + \"\\\\end{eqnarray}\")"
   ]
  },
  {
   "cell_type": "markdown",
   "metadata": {
    "lang": "pt"
   },
   "source": [
    "### Posições Relativas de $A$, $B$ e $C$\n",
    "Por termos definido um referencial para cada grau de liberdade do mecanismo, podemos facilmente expressar a posição de cada um dos pontos $A$, $B$ e $C$ em relação a esses referênciais. O ponto $A$ coincide com a origem do referencial fixo, ou seja, $\\vec{r_{OA}}=\\vec{0}$. O ponto $B$ é facilmente expresso em relação ao referencial ```B2```, nesse caso temos que $\\vec{r_{AB}}={l_1 \\vec{{i}_{B2}}}$. Finalmente, o ponto $C$ é representado por $\\vec{r_{BC}}={l_2 \\vec{{i}_{B3}}}$. Sendo $\\vec{{i}_{B2}}$ e $\\vec{{i}_{B3}}$ os versores na direção $x$ dos referenciais ```B2``` e  ```B3``` respectivamente. A seguir, nota-se que a definição desses vetores posição é simples de ser implementado em ```sympy```. A principal vantagem é que não precisamos nos preocupar em relação a qual referencial estamos definindo os vetores, pois as relações entre os referenciais já foram criadas nas suas definições. Ou seja, podemos reescrever um vetor em relação a diferentes referenciais de maneira imediata, como mostrado abaixo."
   ]
  },
  {
   "cell_type": "code",
   "execution_count": 50,
   "metadata": {
    "scrolled": false
   },
   "outputs": [
    {
     "data": {
      "text/latex": [
       "\\begin{eqnarray}R_{AB}&=&l_{1} \\operatorname{cos}\\left(\\theta_{1}\\right) \\operatorname{cos}\\left(\\theta_{2}\\right)\\mathbf{\\hat{b0}_x} + l_{1} \\operatorname{sin}\\left(\\theta_{2}\\right)\\mathbf{\\hat{b0}_y} -  l_{1} \\operatorname{sin}\\left(\\theta_{1}\\right) \\operatorname{cos}\\left(\\theta_{2}\\right)\\mathbf{\\hat{b0}_z}\\\\R_{AB}&=&\\left[\\begin{matrix}l_{1} \\cos{\\left (\\theta_{1}{\\left (t \\right )} \\right )} \\cos{\\left (\\theta_{2}{\\left (t \\right )} \\right )}\\\\l_{1} \\sin{\\left (\\theta_{2}{\\left (t \\right )} \\right )}\\\\- l_{1} \\sin{\\left (\\theta_{1}{\\left (t \\right )} \\right )} \\cos{\\left (\\theta_{2}{\\left (t \\right )} \\right )}\\end{matrix}\\right]\\end{eqnarray}"
      ],
      "text/plain": [
       "<IPython.core.display.Latex object>"
      ]
     },
     "execution_count": 50,
     "metadata": {},
     "output_type": "execute_result"
    }
   ],
   "source": [
    "from sympy.physics.vector import Vector\n",
    "\n",
    "# Vetores Posição entre os Pontos\n",
    "r_OA = Vector(0)      # Vetor Nulo\n",
    "r_AB = l_1 * B2.x     # Vetor que liga os pontos A e B expresso no referencial móvel B2\n",
    "r_BC = l_2 * B3.x     # Vetor que liga os pontos B e C expresso no referencial móvel B3\n",
    "\n",
    "R_AB = r_AB.express(B0) # Vetor que liga os pontos A e B expresso no referencial fixo B0\n",
    "R_BC = r_BC.express(B0) # Vetor que liga os pontos B e C expresso no referencial fixo B0\n",
    "\n",
    "# Resultado em LaTeX na Forma Vetorial ou Vetor Coluna\n",
    "Latex(\"\\\\begin{eqnarray}\" +\n",
    "     \"R_{AB}&=\" + \"&\" +str(latex(R_AB)) + \"\\\\\\\\\" + \n",
    "     \"R_{AB}&=\" + \"&\" +str(latex(R_AB.to_matrix(B0))) +\n",
    "     \"\\\\end{eqnarray}\")"
   ]
  },
  {
   "cell_type": "markdown",
   "metadata": {
    "lang": "pt"
   },
   "source": [
    "## Resultados\n",
    "Assim, já podemos encontrar os resultados da cinemática do ponto $C$ em relação a ```B0```. Para tal, só precisamos calcular a os vetores posição dos pontos $A$, $B$ e $C$, e suas primeiras e segunda derivadas no tempo, já que as variáveis $\\theta_1$, $\\theta_2$ e $\\theta_3$ foram definidas como funções do tempo. Para melhor eficiência, poderíamos calcular os vetores aproveitando as fórmulas de Cinemática. Adicionalmente, a função ```trigsimp``` foi utilizada em cada elementos dos vetores colunas resultantes para simplificá-los. Então, segue o resultado."
   ]
  },
  {
   "cell_type": "code",
   "execution_count": 45,
   "metadata": {
    "collapsed": true,
    "scrolled": true
   },
   "outputs": [],
   "source": [
    "from sympy.physics.vector import time_derivative, vlatex\n",
    "from sympy import trigsimp\n",
    "\n",
    "# Cinemática do ponto A em relação ao referencial B0\n",
    "r_A  = r_OA.express(B0)\n",
    "v_A = time_derivative(r_A, B0)\n",
    "a_A = time_derivative(v_A, B0)\n",
    "\n",
    "# Cinemática do ponto B em relação ao referencial B0\n",
    "r_B  = r_A.express(B0) + r_AB.express(B0)\n",
    "v_B = time_derivative(r_B, B0)\n",
    "a_B = time_derivative(v_B, B0)\n",
    "\n",
    "# Cinemática do ponto C em relação ao referencial B0\n",
    "r_C  = r_B.express(B0) + r_BC.express(B0)\n",
    "v_C = (time_derivative(r_C, B0))\n",
    "a_C = (time_derivative(v_C, B0))\n",
    "\n",
    "# Simplifcação dos Resultados\n",
    "r_A = (r_A.to_matrix(B0)).applyfunc(trigsimp)\n",
    "v_A = (v_A.to_matrix(B0)).applyfunc(trigsimp)\n",
    "a_A = (a_A.to_matrix(B0)).applyfunc(trigsimp)\n",
    "r_B = (r_B.to_matrix(B0)).applyfunc(trigsimp)\n",
    "v_B = (v_B.to_matrix(B0)).applyfunc(trigsimp)\n",
    "a_B = (a_B.to_matrix(B0)).applyfunc(trigsimp)\n",
    "r_C = (r_C.to_matrix(B0)).applyfunc(trigsimp)\n",
    "v_C = (v_C.to_matrix(B0)).applyfunc(trigsimp)\n",
    "a_C = (a_C.to_matrix(B0)).applyfunc(trigsimp)"
   ]
  },
  {
   "cell_type": "code",
   "execution_count": 51,
   "metadata": {
    "scrolled": false
   },
   "outputs": [
    {
     "data": {
      "text/latex": [
       "\\begin{align}\r",
       "_{C}=&\\left[\\begin{matrix}\\left(l_{1} \\operatorname{cos}\\left(\\theta_{2}\\right) + l_{2} \\operatorname{cos}\\left(\\theta_{2} + \\theta_{3}\\right)\\right) \\operatorname{cos}\\left(\\theta_{1}\\right)\\\\l_{1} \\operatorname{sin}\\left(\\theta_{2}\\right) + l_{2} \\operatorname{sin}\\left(\\theta_{2} + \\theta_{3}\\right)\\\\- \\left(l_{1} \\operatorname{cos}\\left(\\theta_{2}\\right) + l_{2} \\operatorname{cos}\\left(\\theta_{2} + \\theta_{3}\\right)\\right) \\operatorname{sin}\\left(\\theta_{1}\\right)\\end{matrix}\\right]\\\\\\\\v_{C}=&\\left[\\begin{matrix}- l_{1} \\operatorname{sin}\\left(\\theta_{1}\\right) \\operatorname{cos}\\left(\\theta_{2}\\right) \\dot{\\theta}_{1} - l_{1} \\operatorname{sin}\\left(\\theta_{2}\\right) \\operatorname{cos}\\left(\\theta_{1}\\right) \\dot{\\theta}_{2} - l_{2} \\operatorname{sin}\\left(\\theta_{2} + \\theta_{3}\\right) \\operatorname{cos}\\left(\\theta_{1}\\right) \\dot{\\theta}_{2} - l_{2} \\operatorname{sin}\\left(\\theta_{2} + \\theta_{3}\\right) \\operatorname{cos}\\left(\\theta_{1}\\right) \\dot{\\theta}_{3} - l_{2} \\operatorname{sin}\\left(\\theta_{1}\\right) \\operatorname{cos}\\left(\\theta_{2} + \\theta_{3}\\right) \\dot{\\theta}_{1}\\\\l_{1} \\operatorname{cos}\\left(\\theta_{2}\\right) \\dot{\\theta}_{2} + l_{2} \\left(\\dot{\\theta}_{2} + \\dot{\\theta}_{3}\\right) \\operatorname{cos}\\left(\\theta_{2} + \\theta_{3}\\right)\\\\l_{1} \\operatorname{sin}\\left(\\theta_{1}\\right) \\operatorname{sin}\\left(\\theta_{2}\\right) \\dot{\\theta}_{2} - l_{1} \\operatorname{cos}\\left(\\theta_{1}\\right) \\operatorname{cos}\\left(\\theta_{2}\\right) \\dot{\\theta}_{1} + l_{2} \\left(\\operatorname{sin}\\left(\\theta_{2} + \\theta_{3}\\right) \\operatorname{sin}\\left(\\theta_{1}\\right) \\dot{\\theta}_{2} + \\operatorname{sin}\\left(\\theta_{2} + \\theta_{3}\\right) \\operatorname{sin}\\left(\\theta_{1}\\right) \\dot{\\theta}_{3} - \\operatorname{cos}\\left(\\theta_{2} + \\theta_{3}\\right) \\operatorname{cos}\\left(\\theta_{1}\\right) \\dot{\\theta}_{1}\\right)\\end{matrix}\\right]\\\\\\\\a_{C}=& \\left[\\begin{matrix}2 l_{1} \\operatorname{sin}\\left(\\theta_{1}\\right) \\operatorname{sin}\\left(\\theta_{2}\\right) \\dot{\\theta}_{1} \\dot{\\theta}_{2} - l_{1} \\operatorname{sin}\\left(\\theta_{1}\\right) \\operatorname{cos}\\left(\\theta_{2}\\right) \\ddot{\\theta}_{1} - l_{1} \\operatorname{sin}\\left(\\theta_{2}\\right) \\operatorname{cos}\\left(\\theta_{1}\\right) \\ddot{\\theta}_{2} - l_{1} \\operatorname{cos}\\left(\\theta_{1}\\right) \\operatorname{cos}\\left(\\theta_{2}\\right) \\dot{\\theta}_{1}^{2} - l_{1} \\operatorname{cos}\\left(\\theta_{1}\\right) \\operatorname{cos}\\left(\\theta_{2}\\right) \\dot{\\theta}_{2}^{2} + l_{2} \\left(2 \\operatorname{sin}\\left(\\theta_{2} + \\theta_{3}\\right) \\operatorname{sin}\\left(\\theta_{1}\\right) \\dot{\\theta}_{1} \\dot{\\theta}_{2} + 2 \\operatorname{sin}\\left(\\theta_{2} + \\theta_{3}\\right) \\operatorname{sin}\\left(\\theta_{1}\\right) \\dot{\\theta}_{1} \\dot{\\theta}_{3} - \\operatorname{sin}\\left(\\theta_{2} + \\theta_{3}\\right) \\operatorname{cos}\\left(\\theta_{1}\\right) \\ddot{\\theta}_{2} - \\operatorname{sin}\\left(\\theta_{2} + \\theta_{3}\\right) \\operatorname{cos}\\left(\\theta_{1}\\right) \\ddot{\\theta}_{3} - \\operatorname{sin}\\left(\\theta_{1}\\right) \\operatorname{cos}\\left(\\theta_{2} + \\theta_{3}\\right) \\ddot{\\theta}_{1} - \\operatorname{cos}\\left(\\theta_{2} + \\theta_{3}\\right) \\operatorname{cos}\\left(\\theta_{1}\\right) \\dot{\\theta}_{1}^{2} - \\operatorname{cos}\\left(\\theta_{2} + \\theta_{3}\\right) \\operatorname{cos}\\left(\\theta_{1}\\right) \\dot{\\theta}_{2}^{2} - 2 \\operatorname{cos}\\left(\\theta_{2} + \\theta_{3}\\right) \\operatorname{cos}\\left(\\theta_{1}\\right) \\dot{\\theta}_{2} \\dot{\\theta}_{3} - \\operatorname{cos}\\left(\\theta_{2} + \\theta_{3}\\right) \\operatorname{cos}\\left(\\theta_{1}\\right) \\dot{\\theta}_{3}^{2}\\right)\\\\- l_{1} \\operatorname{sin}\\left(\\theta_{2}\\right) \\dot{\\theta}_{2}^{2} + l_{1} \\operatorname{cos}\\left(\\theta_{2}\\right) \\ddot{\\theta}_{2} + l_{2} \\left(- \\operatorname{sin}\\left(\\theta_{2} + \\theta_{3}\\right) \\dot{\\theta}_{2}^{2} - 2 \\operatorname{sin}\\left(\\theta_{2} + \\theta_{3}\\right) \\dot{\\theta}_{2} \\dot{\\theta}_{3} - \\operatorname{sin}\\left(\\theta_{2} + \\theta_{3}\\right) \\dot{\\theta}_{3}^{2} + \\operatorname{cos}\\left(\\theta_{2} + \\theta_{3}\\right) \\ddot{\\theta}_{2} + \\operatorname{cos}\\left(\\theta_{2} + \\theta_{3}\\right) \\ddot{\\theta}_{3}\\right)\\\\l_{1} \\operatorname{sin}\\left(\\theta_{1}\\right) \\operatorname{sin}\\left(\\theta_{2}\\right) \\ddot{\\theta}_{2} + l_{1} \\operatorname{sin}\\left(\\theta_{1}\\right) \\operatorname{cos}\\left(\\theta_{2}\\right) \\dot{\\theta}_{1}^{2} + l_{1} \\operatorname{sin}\\left(\\theta_{1}\\right) \\operatorname{cos}\\left(\\theta_{2}\\right) \\dot{\\theta}_{2}^{2} + 2 l_{1} \\operatorname{sin}\\left(\\theta_{2}\\right) \\operatorname{cos}\\left(\\theta_{1}\\right) \\dot{\\theta}_{1} \\dot{\\theta}_{2} - l_{1} \\operatorname{cos}\\left(\\theta_{1}\\right) \\operatorname{cos}\\left(\\theta_{2}\\right) \\ddot{\\theta}_{1} + l_{2} \\left(\\operatorname{sin}\\left(\\theta_{2} + \\theta_{3}\\right) \\operatorname{sin}\\left(\\theta_{1}\\right) \\ddot{\\theta}_{2} + \\operatorname{sin}\\left(\\theta_{2} + \\theta_{3}\\right) \\operatorname{sin}\\left(\\theta_{1}\\right) \\ddot{\\theta}_{3} + 2 \\operatorname{sin}\\left(\\theta_{2} + \\theta_{3}\\right) \\operatorname{cos}\\left(\\theta_{1}\\right) \\dot{\\theta}_{1} \\dot{\\theta}_{2} + 2 \\operatorname{sin}\\left(\\theta_{2} + \\theta_{3}\\right) \\operatorname{cos}\\left(\\theta_{1}\\right) \\dot{\\theta}_{1} \\dot{\\theta}_{3} + \\operatorname{sin}\\left(\\theta_{1}\\right) \\operatorname{cos}\\left(\\theta_{2} + \\theta_{3}\\right) \\dot{\\theta}_{1}^{2} + \\operatorname{sin}\\left(\\theta_{1}\\right) \\operatorname{cos}\\left(\\theta_{2} + \\theta_{3}\\right) \\dot{\\theta}_{2}^{2} + 2 \\operatorname{sin}\\left(\\theta_{1}\\right) \\operatorname{cos}\\left(\\theta_{2} + \\theta_{3}\\right) \\dot{\\theta}_{2} \\dot{\\theta}_{3} + \\operatorname{sin}\\left(\\theta_{1}\\right) \\operatorname{cos}\\left(\\theta_{2} + \\theta_{3}\\right) \\dot{\\theta}_{3}^{2} - \\operatorname{cos}\\left(\\theta_{2} + \\theta_{3}\\right) \\operatorname{cos}\\left(\\theta_{1}\\right) \\ddot{\\theta}_{1}\\right)\\end{matrix}\\right]\\end{align}"
      ],
      "text/plain": [
       "<IPython.core.display.Latex object>"
      ]
     },
     "execution_count": 51,
     "metadata": {},
     "output_type": "execute_result"
    }
   ],
   "source": [
    "# Resultados em LaTeX na forma de Vetores Coluna\n",
    "Latex(\"\\\\begin{align}\"\n",
    "     \"r_{C}=&\" + str(vlatex(r_C)) + \"\\\\\\\\\" + \"\\\\\\\\\"\n",
    "     \"v_{C}=&\" + str(vlatex(v_C)) + \"\\\\\\\\\" + \"\\\\\\\\\"\n",
    "     \"a_{C}=& \" + str(vlatex(a_C)) + \"\\\\end{align}\")"
   ]
  }
 ],
 "metadata": {
  "kernelspec": {
   "display_name": "Python 3",
   "language": "python",
   "name": "python3"
  },
  "language_info": {
   "codemirror_mode": {
    "name": "ipython",
    "version": 3
   },
   "file_extension": ".py",
   "mimetype": "text/x-python",
   "name": "python",
   "nbconvert_exporter": "python",
   "pygments_lexer": "ipython3",
   "version": "3.6.5"
  },
  "latex_envs": {
   "LaTeX_envs_menu_present": true,
   "autoclose": false,
   "autocomplete": true,
   "bibliofile": "biblio.bib",
   "cite_by": "apalike",
   "current_citInitial": 1,
   "eqLabelWithNumbers": true,
   "eqNumInitial": 1,
   "hotkeys": {
    "equation": "Ctrl-E",
    "itemize": "Ctrl-I"
   },
   "labels_anchors": false,
   "latex_user_defs": false,
   "report_style_numbering": false,
   "user_envs_cfg": false
  },
  "nbTranslate": {
   "displayLangs": [
    "en"
   ],
   "hotkey": "alt-t",
   "langInMainMenu": true,
   "sourceLang": "pt",
   "targetLang": "en",
   "useGoogleTranslate": true
  }
 },
 "nbformat": 4,
 "nbformat_minor": 2
}
