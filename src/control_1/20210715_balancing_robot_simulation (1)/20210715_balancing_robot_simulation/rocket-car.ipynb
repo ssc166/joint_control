{
 "cells": [
  {
   "cell_type": "code",
   "execution_count": 1,
   "metadata": {},
   "outputs": [
    {
     "data": {
      "image/svg+xml": [
       "<svg xmlns:ns2=\"http://www.iki.fi/pav/software/textext/\" xmlns:dc=\"http://purl.org/dc/elements/1.1/\" xmlns:cc=\"http://creativecommons.org/ns#\" xmlns:rdf=\"http://www.w3.org/1999/02/22-rdf-syntax-ns#\" xmlns:svg=\"http://www.w3.org/2000/svg\" xmlns=\"http://www.w3.org/2000/svg\" xmlns:sodipodi=\"http://sodipodi.sourceforge.net/DTD/sodipodi-0.dtd\" xmlns:inkscape=\"http://www.inkscape.org/namespaces/inkscape\" width=\"7.9066453in\" height=\"5.3065357in\" viewBox=\"0 0 200.82879 134.78601\" version=\"1.1\" id=\"svg8\" inkscape:version=\"1.0.2 (e86c8708, 2021-01-15)\" sodipodi:docname=\"rocket-car.svg\">\n",
       "  <defs id=\"defs2\">\n",
       "    <marker style=\"overflow:visible\" id=\"marker2127\" refX=\"0\" refY=\"0\" orient=\"auto\" inkscape:stockid=\"Arrow1Mend\" inkscape:isstock=\"true\">\n",
       "      <path transform=\"matrix(-0.4,0,0,-0.4,-4,0)\" style=\"fill:#000000;fill-opacity:1;fill-rule:evenodd;stroke:#000000;stroke-width:1pt;stroke-opacity:1\" d=\"M 0,0 5,-5 -12.5,0 5,5 Z\" id=\"path2125\"/>\n",
       "    </marker>\n",
       "    <marker style=\"overflow:visible\" id=\"marker12096\" refX=\"0\" refY=\"0\" orient=\"auto\" inkscape:stockid=\"Arrow1Mend\" inkscape:isstock=\"true\" inkscape:collect=\"always\">\n",
       "      <path transform=\"matrix(-0.4,0,0,-0.4,-4,0)\" style=\"fill:#000000;fill-opacity:1;fill-rule:evenodd;stroke:#000000;stroke-width:1pt;stroke-opacity:1\" d=\"M 0,0 5,-5 -12.5,0 5,5 Z\" id=\"path12094\"/>\n",
       "    </marker>\n",
       "    <marker style=\"overflow:visible\" id=\"marker11790\" refX=\"0\" refY=\"0\" orient=\"auto\" inkscape:stockid=\"Arrow1Mend\" inkscape:isstock=\"true\" inkscape:collect=\"always\">\n",
       "      <path transform=\"matrix(-0.4,0,0,-0.4,-4,0)\" style=\"fill:#000000;fill-opacity:1;fill-rule:evenodd;stroke:#000000;stroke-width:1pt;stroke-opacity:1\" d=\"M 0,0 5,-5 -12.5,0 5,5 Z\" id=\"path11788\"/>\n",
       "    </marker>\n",
       "    <marker style=\"overflow:visible\" id=\"marker11488\" refX=\"0\" refY=\"0\" orient=\"auto\" inkscape:stockid=\"Arrow1Mend\" inkscape:isstock=\"true\" inkscape:collect=\"always\">\n",
       "      <path transform=\"matrix(-0.4,0,0,-0.4,-4,0)\" style=\"fill:#000000;fill-opacity:1;fill-rule:evenodd;stroke:#000000;stroke-width:1pt;stroke-opacity:1\" d=\"M 0,0 5,-5 -12.5,0 5,5 Z\" id=\"path11486\"/>\n",
       "    </marker>\n",
       "    <marker style=\"overflow:visible\" id=\"marker10880\" refX=\"0\" refY=\"0\" orient=\"auto\" inkscape:stockid=\"Arrow1Mend\" inkscape:isstock=\"true\" inkscape:collect=\"always\">\n",
       "      <path transform=\"matrix(-0.4,0,0,-0.4,-4,0)\" style=\"fill:#000000;fill-opacity:1;fill-rule:evenodd;stroke:#000000;stroke-width:1pt;stroke-opacity:1\" d=\"M 0,0 5,-5 -12.5,0 5,5 Z\" id=\"path10878\"/>\n",
       "    </marker>\n",
       "    <marker style=\"overflow:visible\" id=\"marker10580\" refX=\"0\" refY=\"0\" orient=\"auto\" inkscape:stockid=\"Arrow1Mend\" inkscape:isstock=\"true\" inkscape:collect=\"always\">\n",
       "      <path transform=\"matrix(-0.4,0,0,-0.4,-4,0)\" style=\"fill:#000000;fill-opacity:1;fill-rule:evenodd;stroke:#000000;stroke-width:1pt;stroke-opacity:1\" d=\"M 0,0 5,-5 -12.5,0 5,5 Z\" id=\"path10578\"/>\n",
       "    </marker>\n",
       "    <marker style=\"overflow:visible\" id=\"marker10266\" refX=\"0\" refY=\"0\" orient=\"auto\" inkscape:stockid=\"Arrow1Mend\" inkscape:isstock=\"true\" inkscape:collect=\"always\">\n",
       "      <path transform=\"matrix(-0.4,0,0,-0.4,-4,0)\" style=\"fill:#000000;fill-opacity:1;fill-rule:evenodd;stroke:#000000;stroke-width:1pt;stroke-opacity:1\" d=\"M 0,0 5,-5 -12.5,0 5,5 Z\" id=\"path10264\"/>\n",
       "    </marker>\n",
       "    <marker style=\"overflow:visible\" id=\"marker4860\" refX=\"0\" refY=\"0\" orient=\"auto\" inkscape:stockid=\"Arrow2Mend\" inkscape:isstock=\"true\">\n",
       "      <path transform=\"scale(-0.6)\" d=\"M 8.7185878,4.0337352 -2.2072895,0.01601326 8.7185884,-4.0017078 c -1.7454984,2.3720609 -1.7354408,5.6174519 -6e-7,8.035443 z\" style=\"fill:#0000ff;fill-opacity:1;fill-rule:evenodd;stroke:#0000ff;stroke-width:0.625;stroke-linejoin:round;stroke-opacity:1\" id=\"path4858\"/>\n",
       "    </marker>\n",
       "    <marker style=\"overflow:visible\" id=\"Arrow2Mend\" refX=\"0\" refY=\"0\" orient=\"auto\" inkscape:stockid=\"Arrow2Mend\" inkscape:isstock=\"true\" inkscape:collect=\"always\">\n",
       "      <path transform=\"scale(-0.6)\" d=\"M 8.7185878,4.0337352 -2.2072895,0.01601326 8.7185884,-4.0017078 c -1.7454984,2.3720609 -1.7354408,5.6174519 -6e-7,8.035443 z\" style=\"fill:#d40000;fill-opacity:1;fill-rule:evenodd;stroke:#d40000;stroke-width:0.625;stroke-linejoin:round;stroke-opacity:1\" id=\"path3161\"/>\n",
       "    </marker>\n",
       "    <marker style=\"overflow:visible\" id=\"marker11438\" refX=\"0\" refY=\"0\" orient=\"auto\" inkscape:stockid=\"Arrow2Mstart\" inkscape:isstock=\"true\">\n",
       "      <path transform=\"scale(0.6)\" d=\"M 8.7185878,4.0337352 -2.2072895,0.01601326 8.7185884,-4.0017078 c -1.7454984,2.3720609 -1.7354408,5.6174519 -6e-7,8.035443 z\" style=\"fill:#008000;fill-opacity:1;fill-rule:evenodd;stroke:#008000;stroke-width:0.625;stroke-linejoin:round;stroke-opacity:1\" id=\"path11436\"/>\n",
       "    </marker>\n",
       "    <marker style=\"overflow:visible\" id=\"Arrow2Lstart\" refX=\"0\" refY=\"0\" orient=\"auto\" inkscape:stockid=\"Arrow2Lstart\" inkscape:isstock=\"true\">\n",
       "      <path transform=\"matrix(1.1,0,0,1.1,1.1,0)\" d=\"M 8.7185878,4.0337352 -2.2072895,0.01601326 8.7185884,-4.0017078 c -1.7454984,2.3720609 -1.7354408,5.6174519 -6e-7,8.035443 z\" style=\"fill:#000000;fill-opacity:1;fill-rule:evenodd;stroke:#000000;stroke-width:0.625;stroke-linejoin:round;stroke-opacity:1\" id=\"path942\"/>\n",
       "    </marker>\n",
       "    <marker style=\"overflow:visible\" id=\"marker5652\" refX=\"0\" refY=\"0\" orient=\"auto\" inkscape:stockid=\"Arrow1Lstart\" inkscape:isstock=\"true\">\n",
       "      <path transform=\"matrix(0.8,0,0,0.8,10,0)\" style=\"fill:#000000;fill-opacity:1;fill-rule:evenodd;stroke:#000000;stroke-width:1pt;stroke-opacity:1\" d=\"M 0,0 5,-5 -12.5,0 5,5 Z\" id=\"path5650\"/>\n",
       "    </marker>\n",
       "    <marker style=\"overflow:visible\" id=\"marker5538\" refX=\"0\" refY=\"0\" orient=\"auto\" inkscape:stockid=\"Arrow1Lend\" inkscape:isstock=\"true\">\n",
       "      <path transform=\"matrix(-0.8,0,0,-0.8,-10,0)\" style=\"fill:#000000;fill-opacity:1;fill-rule:evenodd;stroke:#000000;stroke-width:1pt;stroke-opacity:1\" d=\"M 0,0 5,-5 -12.5,0 5,5 Z\" id=\"path5536\"/>\n",
       "    </marker>\n",
       "    <marker style=\"overflow:visible\" id=\"marker3262\" refX=\"0\" refY=\"0\" orient=\"auto\" inkscape:stockid=\"Arrow1Lend\" inkscape:isstock=\"true\">\n",
       "      <path transform=\"matrix(-0.8,0,0,-0.8,-10,0)\" style=\"fill:#000000;fill-opacity:1;fill-rule:evenodd;stroke:#000000;stroke-width:1pt;stroke-opacity:1\" d=\"M 0,0 5,-5 -12.5,0 5,5 Z\" id=\"path3260\"/>\n",
       "    </marker>\n",
       "    <marker style=\"overflow:visible\" id=\"marker3252\" refX=\"0\" refY=\"0\" orient=\"auto\" inkscape:stockid=\"Arrow1Lend\" inkscape:isstock=\"true\" inkscape:collect=\"always\">\n",
       "      <path transform=\"matrix(-0.8,0,0,-0.8,-10,0)\" style=\"fill:#000000;fill-opacity:1;fill-rule:evenodd;stroke:#000000;stroke-width:1pt;stroke-opacity:1\" d=\"M 0,0 5,-5 -12.5,0 5,5 Z\" id=\"path3250\"/>\n",
       "    </marker>\n",
       "    <marker style=\"overflow:visible\" id=\"marker3028\" refX=\"0\" refY=\"0\" orient=\"auto\" inkscape:stockid=\"Arrow1Lstart\" inkscape:isstock=\"true\" inkscape:collect=\"always\">\n",
       "      <path transform=\"matrix(0.8,0,0,0.8,10,0)\" style=\"fill:#000000;fill-opacity:1;fill-rule:evenodd;stroke:#000000;stroke-width:1pt;stroke-opacity:1\" d=\"M 0,0 5,-5 -12.5,0 5,5 Z\" id=\"path3026\"/>\n",
       "    </marker>\n",
       "    <marker id=\"marker2442\" refX=\"5\" refY=\"3\" orient=\"auto-start-reverse\" inkscape:stockid=\"ExperimentalArrow\" inkscape:isstock=\"true\">\n",
       "      <path style=\"fill:context-stroke;stroke:#000000;stroke-opacity:1\" d=\"M 10,3 0,6 V 0 Z\" id=\"path2440\"/>\n",
       "    </marker>\n",
       "    <marker id=\"marker2208\" refX=\"5\" refY=\"3\" orient=\"auto-start-reverse\" inkscape:stockid=\"ExperimentalArrow\" inkscape:isstock=\"true\">\n",
       "      <path style=\"fill:context-stroke;stroke:#000000;stroke-opacity:1\" d=\"M 10,3 0,6 V 0 Z\" id=\"path2206\"/>\n",
       "    </marker>\n",
       "    <marker id=\"marker2026\" refX=\"5\" refY=\"3\" orient=\"auto-start-reverse\" inkscape:stockid=\"ExperimentalArrow\" inkscape:isstock=\"true\">\n",
       "      <path style=\"fill:context-stroke;stroke:#000000;stroke-opacity:1\" d=\"M 10,3 0,6 V 0 Z\" id=\"path2024\"/>\n",
       "    </marker>\n",
       "    <marker id=\"marker1896\" refX=\"5\" refY=\"3\" orient=\"auto-start-reverse\" inkscape:stockid=\"ExperimentalArrow\" inkscape:isstock=\"true\" inkscape:collect=\"always\">\n",
       "      <path style=\"fill:context-stroke;stroke:#000000;stroke-opacity:1\" d=\"M 10,3 0,6 V 0 Z\" id=\"path1894\"/>\n",
       "    </marker>\n",
       "    <marker id=\"marker1536\" refX=\"5\" refY=\"3\" orient=\"auto-start-reverse\" inkscape:stockid=\"ExperimentalArrow\" inkscape:isstock=\"true\" inkscape:collect=\"always\">\n",
       "      <path style=\"fill:context-stroke;stroke:#000000;stroke-opacity:1\" d=\"M 10,3 0,6 V 0 Z\" id=\"path1534\"/>\n",
       "    </marker>\n",
       "    <marker id=\"marker1244\" refX=\"5\" refY=\"3\" orient=\"auto-start-reverse\" inkscape:stockid=\"ExperimentalArrow\" inkscape:isstock=\"true\" inkscape:collect=\"always\">\n",
       "      <path style=\"fill:#000000;fill-opacity:1;stroke:#000000;stroke-opacity:1\" d=\"M 10,3 0,6 V 0 Z\" id=\"path1242\"/>\n",
       "    </marker>\n",
       "    <marker id=\"ExperimentalArrow\" refX=\"5\" refY=\"3\" orient=\"auto-start-reverse\" inkscape:stockid=\"ExperimentalArrow\" inkscape:isstock=\"true\">\n",
       "      <path style=\"fill:#000000;fill-opacity:1;stroke:#000000;stroke-opacity:1\" d=\"M 10,3 0,6 V 0 Z\" id=\"path1177\"/>\n",
       "    </marker>\n",
       "    <marker style=\"overflow:visible\" id=\"marker1961\" refX=\"0\" refY=\"0\" orient=\"auto\" inkscape:stockid=\"Arrow1Lstart\" inkscape:isstock=\"true\" inkscape:collect=\"always\">\n",
       "      <path transform=\"matrix(0.8,0,0,0.8,10,0)\" style=\"fill:#000000;fill-opacity:1;fill-rule:evenodd;stroke:#000000;stroke-width:1pt;stroke-opacity:1\" d=\"M 0,0 5,-5 -12.5,0 5,5 Z\" id=\"path1959\"/>\n",
       "    </marker>\n",
       "    <inkscape:path-effect effect=\"spiro\" id=\"path-effect1951\" is_visible=\"true\" lpeversion=\"1\"/>\n",
       "    <inkscape:path-effect effect=\"spiro\" id=\"path-effect1559\" is_visible=\"true\" lpeversion=\"1\"/>\n",
       "    <marker style=\"overflow:visible\" id=\"Arrow1Lend\" refX=\"0\" refY=\"0\" orient=\"auto\" inkscape:stockid=\"Arrow1Lend\" inkscape:isstock=\"true\">\n",
       "      <path transform=\"matrix(-0.8,0,0,-0.8,-10,0)\" style=\"fill:#000000;fill-opacity:1;fill-rule:evenodd;stroke:#000000;stroke-width:1pt;stroke-opacity:1\" d=\"M 0,0 5,-5 -12.5,0 5,5 Z\" id=\"path984\"/>\n",
       "    </marker>\n",
       "    <marker id=\"marker1536-9\" refX=\"5\" refY=\"3\" orient=\"auto-start-reverse\" inkscape:stockid=\"ExperimentalArrow\" inkscape:isstock=\"true\">\n",
       "      <path style=\"fill:context-stroke;stroke:#000000;stroke-opacity:1\" d=\"M 10,3 0,6 V 0 Z\" id=\"path1534-7\"/>\n",
       "    </marker>\n",
       "    <marker id=\"marker1536-8\" refX=\"5\" refY=\"3\" orient=\"auto-start-reverse\" inkscape:stockid=\"ExperimentalArrow\" inkscape:isstock=\"true\" inkscape:collect=\"always\">\n",
       "      <path style=\"fill:context-stroke;stroke:#000000;stroke-opacity:1\" d=\"M 10,3 0,6 V 0 Z\" id=\"path1534-0\"/>\n",
       "    </marker>\n",
       "    <marker id=\"marker1536-9-4\" refX=\"5\" refY=\"3\" orient=\"auto-start-reverse\" inkscape:stockid=\"ExperimentalArrow\" inkscape:isstock=\"true\">\n",
       "      <path style=\"fill:context-stroke;stroke:#000000;stroke-opacity:1\" d=\"M 10,3 0,6 V 0 Z\" id=\"path1534-7-6\"/>\n",
       "    </marker>\n",
       "    <marker style=\"overflow:visible\" id=\"marker3252-2\" refX=\"0\" refY=\"0\" orient=\"auto\" inkscape:stockid=\"Arrow1Lend\" inkscape:isstock=\"true\">\n",
       "      <path transform=\"matrix(-0.8,0,0,-0.8,-10,0)\" style=\"fill:#000000;fill-opacity:1;fill-rule:evenodd;stroke:#000000;stroke-width:1pt;stroke-opacity:1\" d=\"M 0,0 5,-5 -12.5,0 5,5 Z\" id=\"path3250-6\"/>\n",
       "    </marker>\n",
       "    <marker style=\"overflow:visible\" id=\"marker3028-9\" refX=\"0\" refY=\"0\" orient=\"auto\" inkscape:stockid=\"Arrow1Lstart\" inkscape:isstock=\"true\">\n",
       "      <path transform=\"matrix(0.8,0,0,0.8,10,0)\" style=\"fill:#000000;fill-opacity:1;fill-rule:evenodd;stroke:#000000;stroke-width:1pt;stroke-opacity:1\" d=\"M 0,0 5,-5 -12.5,0 5,5 Z\" id=\"path3026-4\"/>\n",
       "    </marker>\n",
       "    <marker style=\"overflow:visible\" id=\"marker3262-1\" refX=\"0\" refY=\"0\" orient=\"auto\" inkscape:stockid=\"Arrow1Lend\" inkscape:isstock=\"true\">\n",
       "      <path transform=\"matrix(-0.8,0,0,-0.8,-10,0)\" style=\"fill:#000000;fill-opacity:1;fill-rule:evenodd;stroke:#000000;stroke-width:1pt;stroke-opacity:1\" d=\"M 0,0 5,-5 -12.5,0 5,5 Z\" id=\"path3260-3\"/>\n",
       "    </marker>\n",
       "    <marker style=\"overflow:visible\" id=\"marker1961-0\" refX=\"0\" refY=\"0\" orient=\"auto\" inkscape:stockid=\"Arrow1Lstart\" inkscape:isstock=\"true\" inkscape:collect=\"always\">\n",
       "      <path transform=\"matrix(0.8,0,0,0.8,10,0)\" style=\"fill:#000000;fill-opacity:1;fill-rule:evenodd;stroke:#000000;stroke-width:1pt;stroke-opacity:1\" d=\"M 0,0 5,-5 -12.5,0 5,5 Z\" id=\"path1959-3\"/>\n",
       "    </marker>\n",
       "    <marker style=\"overflow:visible\" id=\"marker3252-2-8\" refX=\"0\" refY=\"0\" orient=\"auto\" inkscape:stockid=\"Arrow1Lend\" inkscape:isstock=\"true\">\n",
       "      <path transform=\"matrix(-0.8,0,0,-0.8,-10,0)\" style=\"fill:#000000;fill-opacity:1;fill-rule:evenodd;stroke:#000000;stroke-width:1pt;stroke-opacity:1\" d=\"M 0,0 5,-5 -12.5,0 5,5 Z\" id=\"path3250-6-4\"/>\n",
       "    </marker>\n",
       "    <marker style=\"overflow:visible\" id=\"marker3262-7\" refX=\"0\" refY=\"0\" orient=\"auto\" inkscape:stockid=\"Arrow1Lend\" inkscape:isstock=\"true\">\n",
       "      <path transform=\"matrix(-0.8,0,0,-0.8,-10,0)\" style=\"fill:#000000;fill-opacity:1;fill-rule:evenodd;stroke:#000000;stroke-width:1pt;stroke-opacity:1\" d=\"M 0,0 5,-5 -12.5,0 5,5 Z\" id=\"path3260-7\"/>\n",
       "    </marker>\n",
       "    <marker style=\"overflow:visible\" id=\"marker3028-7\" refX=\"0\" refY=\"0\" orient=\"auto\" inkscape:stockid=\"Arrow1Lstart\" inkscape:isstock=\"true\" inkscape:collect=\"always\">\n",
       "      <path transform=\"matrix(0.8,0,0,0.8,10,0)\" style=\"fill:#000000;fill-opacity:1;fill-rule:evenodd;stroke:#000000;stroke-width:1pt;stroke-opacity:1\" d=\"M 0,0 5,-5 -12.5,0 5,5 Z\" id=\"path3026-8\"/>\n",
       "    </marker>\n",
       "    <marker style=\"overflow:visible\" id=\"marker3262-7-4\" refX=\"0\" refY=\"0\" orient=\"auto\" inkscape:stockid=\"Arrow1Lend\" inkscape:isstock=\"true\">\n",
       "      <path transform=\"matrix(-0.8,0,0,-0.8,-10,0)\" style=\"fill:#000000;fill-opacity:1;fill-rule:evenodd;stroke:#000000;stroke-width:1pt;stroke-opacity:1\" d=\"M 0,0 5,-5 -12.5,0 5,5 Z\" id=\"path3260-7-9\"/>\n",
       "    </marker>\n",
       "    <marker style=\"overflow:visible\" id=\"marker3028-7-5\" refX=\"0\" refY=\"0\" orient=\"auto\" inkscape:stockid=\"Arrow1Lstart\" inkscape:isstock=\"true\" inkscape:collect=\"always\">\n",
       "      <path transform=\"matrix(0.8,0,0,0.8,10,0)\" style=\"fill:#000000;fill-opacity:1;fill-rule:evenodd;stroke:#000000;stroke-width:1pt;stroke-opacity:1\" d=\"M 0,0 5,-5 -12.5,0 5,5 Z\" id=\"path3026-8-5\"/>\n",
       "    </marker>\n",
       "    <marker style=\"overflow:visible\" id=\"marker3262-7-4-5\" refX=\"0\" refY=\"0\" orient=\"auto\" inkscape:stockid=\"Arrow1Lend\" inkscape:isstock=\"true\">\n",
       "      <path transform=\"matrix(-0.8,0,0,-0.8,-10,0)\" style=\"fill:#000000;fill-opacity:1;fill-rule:evenodd;stroke:#000000;stroke-width:1pt;stroke-opacity:1\" d=\"M 0,0 5,-5 -12.5,0 5,5 Z\" id=\"path3260-7-9-8\"/>\n",
       "    </marker>\n",
       "    <marker id=\"ExperimentalArrow-5\" refX=\"5\" refY=\"3\" orient=\"auto-start-reverse\" inkscape:stockid=\"ExperimentalArrow\" inkscape:isstock=\"true\">\n",
       "      <path style=\"fill:#000000;fill-opacity:1;stroke:#000000;stroke-opacity:1\" d=\"M 10,3 0,6 V 0 Z\" id=\"path1177-8\"/>\n",
       "    </marker>\n",
       "    <marker id=\"ExperimentalArrow-5-2\" refX=\"5\" refY=\"3\" orient=\"auto-start-reverse\" inkscape:stockid=\"ExperimentalArrow\" inkscape:isstock=\"true\">\n",
       "      <path style=\"fill:context-stroke;stroke:#000000;stroke-opacity:1\" d=\"M 10,3 0,6 V 0 Z\" id=\"path1177-8-2\"/>\n",
       "    </marker>\n",
       "    <marker style=\"overflow:visible\" id=\"marker11438-8\" refX=\"0\" refY=\"0\" orient=\"auto\" inkscape:stockid=\"Arrow2Mstart\" inkscape:isstock=\"true\">\n",
       "      <path transform=\"scale(0.6)\" d=\"M 8.7185878,4.0337352 -2.2072895,0.01601326 8.7185884,-4.0017078 c -1.7454984,2.3720609 -1.7354408,5.6174519 -6e-7,8.035443 z\" style=\"fill:#008000;fill-opacity:1;fill-rule:evenodd;stroke:#008000;stroke-width:0.625;stroke-linejoin:round;stroke-opacity:1\" id=\"path11436-6\"/>\n",
       "    </marker>\n",
       "    <marker style=\"overflow:visible\" id=\"Arrow2Mend-3\" refX=\"0\" refY=\"0\" orient=\"auto\" inkscape:stockid=\"Arrow2Mend\" inkscape:isstock=\"true\">\n",
       "      <path transform=\"scale(-0.6)\" d=\"M 8.7185878,4.0337352 -2.2072895,0.01601326 8.7185884,-4.0017078 c -1.7454984,2.3720609 -1.7354408,5.6174519 -6e-7,8.035443 z\" style=\"fill:#0000ff;fill-opacity:1;fill-rule:evenodd;stroke:#0000ff;stroke-width:0.625;stroke-linejoin:round;stroke-opacity:1\" id=\"path3161-9\"/>\n",
       "    </marker>\n",
       "    <marker style=\"overflow:visible\" id=\"marker11438-9\" refX=\"0\" refY=\"0\" orient=\"auto\" inkscape:stockid=\"Arrow2Mstart\" inkscape:isstock=\"true\">\n",
       "      <path transform=\"scale(0.6)\" d=\"M 8.7185878,4.0337352 -2.2072895,0.01601326 8.7185884,-4.0017078 c -1.7454984,2.3720609 -1.7354408,5.6174519 -6e-7,8.035443 z\" style=\"fill:#008000;fill-opacity:1;fill-rule:evenodd;stroke:#008000;stroke-width:0.625;stroke-linejoin:round;stroke-opacity:1\" id=\"path11436-1\"/>\n",
       "    </marker>\n",
       "    <marker style=\"overflow:visible\" id=\"Arrow2Mend-6\" refX=\"0\" refY=\"0\" orient=\"auto\" inkscape:stockid=\"Arrow2Mend\" inkscape:isstock=\"true\" inkscape:collect=\"always\">\n",
       "      <path transform=\"scale(-0.6)\" d=\"M 8.7185878,4.0337352 -2.2072895,0.01601326 8.7185884,-4.0017078 c -1.7454984,2.3720609 -1.7354408,5.6174519 -6e-7,8.035443 z\" style=\"fill:#d40000;fill-opacity:1;fill-rule:evenodd;stroke:#d40000;stroke-width:0.625;stroke-linejoin:round;stroke-opacity:1\" id=\"path3161-5\"/>\n",
       "    </marker>\n",
       "    <marker style=\"overflow:visible\" id=\"marker11438-4\" refX=\"0\" refY=\"0\" orient=\"auto\" inkscape:stockid=\"Arrow2Mstart\" inkscape:isstock=\"true\">\n",
       "      <path transform=\"scale(0.6)\" d=\"M 8.7185878,4.0337352 -2.2072895,0.01601326 8.7185884,-4.0017078 c -1.7454984,2.3720609 -1.7354408,5.6174519 -6e-7,8.035443 z\" style=\"fill:#008000;fill-opacity:1;fill-rule:evenodd;stroke:#008000;stroke-width:0.625;stroke-linejoin:round;stroke-opacity:1\" id=\"path11436-7\"/>\n",
       "    </marker>\n",
       "    <marker style=\"overflow:visible\" id=\"marker11438-48\" refX=\"0\" refY=\"0\" orient=\"auto\" inkscape:stockid=\"Arrow2Mstart\" inkscape:isstock=\"true\">\n",
       "      <path transform=\"scale(0.6)\" d=\"M 8.7185878,4.0337352 -2.2072895,0.01601326 8.7185884,-4.0017078 c -1.7454984,2.3720609 -1.7354408,5.6174519 -6e-7,8.035443 z\" style=\"fill:#008000;fill-opacity:1;fill-rule:evenodd;stroke:#008000;stroke-width:0.625;stroke-linejoin:round;stroke-opacity:1\" id=\"path11436-0\"/>\n",
       "    </marker>\n",
       "    <marker style=\"overflow:visible\" id=\"Arrow2Mend-9\" refX=\"0\" refY=\"0\" orient=\"auto\" inkscape:stockid=\"Arrow2Mend\" inkscape:isstock=\"true\" inkscape:collect=\"always\">\n",
       "      <path transform=\"scale(-0.6)\" d=\"M 8.7185878,4.0337352 -2.2072895,0.01601326 8.7185884,-4.0017078 c -1.7454984,2.3720609 -1.7354408,5.6174519 -6e-7,8.035443 z\" style=\"fill:#d40000;fill-opacity:1;fill-rule:evenodd;stroke:#d40000;stroke-width:0.625;stroke-linejoin:round;stroke-opacity:1\" id=\"path3161-99\"/>\n",
       "    </marker>\n",
       "    <marker style=\"overflow:visible\" id=\"marker4860-7\" refX=\"0\" refY=\"0\" orient=\"auto\" inkscape:stockid=\"Arrow2Mend\" inkscape:isstock=\"true\">\n",
       "      <path transform=\"scale(-0.6)\" d=\"M 8.7185878,4.0337352 -2.2072895,0.01601326 8.7185884,-4.0017078 c -1.7454984,2.3720609 -1.7354408,5.6174519 -6e-7,8.035443 z\" style=\"fill:#0000ff;fill-opacity:1;fill-rule:evenodd;stroke:#0000ff;stroke-width:0.625;stroke-linejoin:round;stroke-opacity:1\" id=\"path4858-2\"/>\n",
       "    </marker>\n",
       "    <marker style=\"overflow:visible\" id=\"Arrow1Mend-9\" refX=\"0\" refY=\"0\" orient=\"auto\" inkscape:stockid=\"Arrow1Mend\" inkscape:isstock=\"true\">\n",
       "      <path transform=\"matrix(-0.4,0,0,-0.4,-4,0)\" style=\"fill:#000000;fill-opacity:1;fill-rule:evenodd;stroke:#000000;stroke-width:1pt;stroke-opacity:1\" d=\"M 0,0 5,-5 -12.5,0 5,5 Z\" id=\"path933-5\"/>\n",
       "    </marker>\n",
       "    <g id=\"id-ae840f0e-20e5-49ff-bce5-e5c45c490b2b\">\n",
       "      <symbol overflow=\"visible\" id=\"id-e05701b5-f0cb-4411-b4d9-39fb6be3706e\">\n",
       "        <path style=\"stroke:none;stroke-width:0\" d=\"\" id=\"id-fe5ca359-afae-4f6f-8a33-d0bcf67de597\"/>\n",
       "      </symbol>\n",
       "      <symbol overflow=\"visible\" id=\"id-15a61354-cf1b-4e1e-bd4c-ecaf4b7d22bb\">\n",
       "        <path style=\"stroke:none;stroke-width:0\" d=\"M 4,-5.28125 2.5,-6.890625 0.984375,-5.28125 1.109375,-5.140625 2.5,-6.21875 3.875,-5.140625 Z m 0,0\" id=\"id-431164d8-5434-45b1-9772-8aa3201af27b\"/>\n",
       "      </symbol>\n",
       "      <symbol overflow=\"visible\" id=\"id-fb328d46-fa4d-480f-985c-421128ab01d3\">\n",
       "        <path style=\"stroke:none;stroke-width:0\" d=\"\" id=\"id-947fba54-2ef0-410b-bd78-8a5e4539ebda\"/>\n",
       "      </symbol>\n",
       "      <symbol overflow=\"visible\" id=\"id-af94ac38-1ca5-4098-985f-f100770ef714\">\n",
       "        <path style=\"stroke:none;stroke-width:0\" d=\"m 4.96875,-1.421875 c 0,-0.109375 -0.09375,-0.109375 -0.125,-0.109375 -0.09375,0 -0.109375,0.046875 -0.140625,0.1875 -0.171875,0.640625 -0.34375,1.234375 -0.75,1.234375 -0.28125,0 -0.296875,-0.265625 -0.296875,-0.453125 0,-0.21875 0.015625,-0.3125 0.125,-0.75 L 4,-2.203125 4.359375,-3.59375 c 0.0625,-0.28125 0.0625,-0.296875 0.0625,-0.34375 0,-0.171875 -0.109375,-0.265625 -0.28125,-0.265625 -0.25,0 -0.390625,0.21875 -0.421875,0.4375 -0.1875,-0.375 -0.46875,-0.640625 -0.921875,-0.640625 -1.15625,0 -2.390625,1.46875 -2.390625,2.921875 0,0.9375 0.546875,1.59375 1.3125,1.59375 0.203125,0 0.703125,-0.046875 1.296875,-0.75 0.078125,0.421875 0.4375,0.75 0.90625,0.75 0.359375,0 0.578125,-0.234375 0.75,-0.546875 0.15625,-0.359375 0.296875,-0.984375 0.296875,-0.984375 z M 3.5625,-3.140625 3.078125,-1.1875 C 3.015625,-1 3.015625,-0.984375 2.875,-0.8125 2.4375,-0.265625 2.03125,-0.109375 1.75,-0.109375 c -0.5,0 -0.640625,-0.546875 -0.640625,-0.9375 0,-0.5 0.3125,-1.71875 0.546875,-2.1875 0.3125,-0.578125 0.75,-0.953125 1.15625,-0.953125 0.640625,0 0.78125,0.8125 0.78125,0.875 0,0.0625 -0.015625,0.125 -0.03125,0.171875 z m 0,0\" id=\"id-76de8372-faab-46bc-a918-775c8bed7eb4\"/>\n",
       "      </symbol>\n",
       "      <symbol overflow=\"visible\" id=\"id-b978410c-934f-4144-9336-b4acb7887b21\">\n",
       "        <path style=\"stroke:none;stroke-width:0\" d=\"\" id=\"id-9b232ca9-09e9-417d-a825-c2152de416d2\"/>\n",
       "      </symbol>\n",
       "      <symbol overflow=\"visible\" id=\"id-39a4d936-dbc6-466e-a974-573f0f95ee5a\">\n",
       "        <path style=\"stroke:none;stroke-width:0\" d=\"M 3.296875,0 V -0.25 H 3.03125 c -0.703125,0 -0.703125,-0.09375 -0.703125,-0.328125 V -4.4375 c 0,-0.1875 0,-0.1875 -0.203125,-0.1875 -0.453125,0.4375 -1.078125,0.4375 -1.359375,0.4375 v 0.25 c 0.15625,0 0.625,0 1,-0.1875 v 3.546875 c 0,0.234375 0,0.328125 -0.6875,0.328125 H 0.8125 V 0 l 1.234375,-0.03125 z m 0,0\" id=\"id-8a30c22a-4ce0-4763-8b6a-5dcda7f33c1a\"/>\n",
       "      </symbol>\n",
       "      <symbol overflow=\"visible\" id=\"id-fee89922-d906-40ac-9af5-fb63ae15f791\">\n",
       "        <path style=\"stroke:none;stroke-width:0\" d=\"\" id=\"id-a8981499-ff28-4e48-b6ef-cd5bf4758ad9\"/>\n",
       "      </symbol>\n",
       "      <symbol overflow=\"visible\" id=\"id-d27b0948-f115-44a6-bc4d-679e68e8680a\">\n",
       "        <path style=\"stroke:none;stroke-width:0\" d=\"m 3.328125,-0.71875 c 0,-0.0625 -0.078125,-0.0625 -0.109375,-0.0625 -0.078125,0 -0.09375,0.03125 -0.109375,0.0625 C 2.96875,-0.265625 2.59375,-0.109375 2.375,-0.109375 c -0.15625,0 -0.359375,-0.0625 -0.359375,-0.34375 0,-0.0625 0,-0.09375 0.03125,-0.265625 0.09375,-0.34375 0.21875,-0.890625 0.265625,-0.984375 0.0625,-0.125 0.234375,-0.328125 0.484375,-0.328125 0.015625,0 0.1875,0 0.296875,0.078125 -0.234375,0.0625 -0.234375,0.296875 -0.234375,0.296875 0,0.078125 0.0625,0.203125 0.234375,0.203125 0.140625,0 0.3125,-0.125 0.3125,-0.34375 0,-0.296875 -0.328125,-0.40625 -0.59375,-0.40625 -0.328125,0 -0.546875,0.203125 -0.640625,0.34375 -0.15625,-0.28125 -0.484375,-0.34375 -0.65625,-0.34375 -0.625,0 -0.984375,0.59375 -0.984375,0.765625 0,0.078125 0.078125,0.078125 0.109375,0.078125 0.046875,0 0.078125,0 0.109375,-0.0625 0.140625,-0.484375 0.546875,-0.609375 0.734375,-0.609375 0.171875,0 0.359375,0.0625 0.359375,0.328125 0,0.125 -0.09375,0.46875 -0.265625,1.140625 -0.0625,0.28125 -0.296875,0.453125 -0.515625,0.453125 -0.03125,0 -0.171875,0 -0.296875,-0.078125 0.21875,-0.09375 0.21875,-0.28125 0.21875,-0.296875 0,-0.140625 -0.109375,-0.203125 -0.21875,-0.203125 -0.125,0 -0.296875,0.09375 -0.296875,0.328125 0,0.3125 0.328125,0.421875 0.59375,0.421875 0.265625,0 0.5,-0.171875 0.609375,-0.34375 C 1.875,0.015625 2.1875,0.0625 2.34375,0.0625 c 0.625,0 0.984375,-0.59375 0.984375,-0.78125 z m 0,0\" id=\"id-0cbd4712-9f62-4d4d-bf03-89ce36761e2d\"/>\n",
       "      </symbol>\n",
       "    </g>\n",
       "    <g id=\"id-4196398e-b3f6-4091-99bb-dabb7754efaf\">\n",
       "      <symbol overflow=\"visible\" id=\"id-faaf9641-ad31-4b1b-886b-ccde5463ad0f\">\n",
       "        <path style=\"stroke:none;stroke-width:0\" d=\"\" id=\"id-7b2f2838-d7e2-4df5-8d8a-020214d6289e\"/>\n",
       "      </symbol>\n",
       "      <symbol overflow=\"visible\" id=\"id-d6b6adc5-0eb9-4e4e-bc87-880b7961900c\">\n",
       "        <path style=\"stroke:none;stroke-width:0\" d=\"M 4,-5.28125 2.5,-6.890625 0.984375,-5.28125 1.109375,-5.140625 2.5,-6.21875 3.875,-5.140625 Z m 0,0\" id=\"id-794ebc06-1f1c-4e07-8d5b-344675489917\"/>\n",
       "      </symbol>\n",
       "      <symbol overflow=\"visible\" id=\"id-3c02bf5a-adae-4d32-8223-2c5d3706d881\">\n",
       "        <path style=\"stroke:none;stroke-width:0\" d=\"\" id=\"id-deb80421-d3da-4882-8d1d-4694d0b94f3a\"/>\n",
       "      </symbol>\n",
       "      <symbol overflow=\"visible\" id=\"id-d1fcd853-6d46-406c-b18f-2eb8aabef0fc\">\n",
       "        <path style=\"stroke:none;stroke-width:0\" d=\"m 4.96875,-1.421875 c 0,-0.109375 -0.09375,-0.109375 -0.125,-0.109375 -0.09375,0 -0.109375,0.046875 -0.140625,0.1875 -0.171875,0.640625 -0.34375,1.234375 -0.75,1.234375 -0.28125,0 -0.296875,-0.265625 -0.296875,-0.453125 0,-0.21875 0.015625,-0.3125 0.125,-0.75 L 4,-2.203125 4.359375,-3.59375 c 0.0625,-0.28125 0.0625,-0.296875 0.0625,-0.34375 0,-0.171875 -0.109375,-0.265625 -0.28125,-0.265625 -0.25,0 -0.390625,0.21875 -0.421875,0.4375 -0.1875,-0.375 -0.46875,-0.640625 -0.921875,-0.640625 -1.15625,0 -2.390625,1.46875 -2.390625,2.921875 0,0.9375 0.546875,1.59375 1.3125,1.59375 0.203125,0 0.703125,-0.046875 1.296875,-0.75 0.078125,0.421875 0.4375,0.75 0.90625,0.75 0.359375,0 0.578125,-0.234375 0.75,-0.546875 0.15625,-0.359375 0.296875,-0.984375 0.296875,-0.984375 z M 3.5625,-3.140625 3.078125,-1.1875 C 3.015625,-1 3.015625,-0.984375 2.875,-0.8125 2.4375,-0.265625 2.03125,-0.109375 1.75,-0.109375 c -0.5,0 -0.640625,-0.546875 -0.640625,-0.9375 0,-0.5 0.3125,-1.71875 0.546875,-2.1875 0.3125,-0.578125 0.75,-0.953125 1.15625,-0.953125 0.640625,0 0.78125,0.8125 0.78125,0.875 0,0.0625 -0.015625,0.125 -0.03125,0.171875 z m 0,0\" id=\"id-2dc20f28-a2bd-44a1-bc33-1eaa8252583b\"/>\n",
       "      </symbol>\n",
       "      <symbol overflow=\"visible\" id=\"id-b74ede09-dbdf-4968-b382-f2d4c79391c1\">\n",
       "        <path style=\"stroke:none;stroke-width:0\" d=\"\" id=\"id-084c10da-a2b4-40e4-a91a-19ac5f885f63\"/>\n",
       "      </symbol>\n",
       "      <symbol overflow=\"visible\" id=\"id-c21e4f63-863a-4430-8c57-75d857ef80ff\">\n",
       "        <path style=\"stroke:none;stroke-width:0\" d=\"M 3.296875,0 V -0.25 H 3.03125 c -0.703125,0 -0.703125,-0.09375 -0.703125,-0.328125 V -4.4375 c 0,-0.1875 0,-0.1875 -0.203125,-0.1875 -0.453125,0.4375 -1.078125,0.4375 -1.359375,0.4375 v 0.25 c 0.15625,0 0.625,0 1,-0.1875 v 3.546875 c 0,0.234375 0,0.328125 -0.6875,0.328125 H 0.8125 V 0 l 1.234375,-0.03125 z m 0,0\" id=\"id-bc54f177-528a-4e01-8cba-2c6f1240cadd\"/>\n",
       "      </symbol>\n",
       "      <symbol overflow=\"visible\" id=\"id-1a673fdc-6a13-4597-b86c-84635c172807\">\n",
       "        <path style=\"stroke:none;stroke-width:0\" d=\"\" id=\"id-bd412f0f-6737-4158-91af-ed8fb8ff36c4\"/>\n",
       "      </symbol>\n",
       "      <symbol overflow=\"visible\" id=\"id-50b46bdf-ac03-4aed-9de0-9cd449901c03\">\n",
       "        <path style=\"stroke:none;stroke-width:0\" d=\"M 2.984375,-0.734375 C 2.984375,-0.8125 2.90625,-0.8125 2.875,-0.8125 c -0.078125,0 -0.078125,0.03125 -0.109375,0.078125 -0.109375,0.3125 -0.5,0.359375 -0.6875,0.359375 C 1.96875,-0.375 1.84375,-0.390625 1.6875,-0.40625 1.421875,-0.453125 1.328125,-0.453125 1.265625,-0.453125 c -0.078125,0 -0.09375,0 -0.125,0 0.203125,-0.1875 0.453125,-0.375 0.734375,-0.578125 0.34375,-0.234375 0.546875,-0.40625 0.765625,-0.59375 0.25,-0.234375 0.421875,-0.453125 0.421875,-0.515625 0,-0.0625 -0.078125,-0.0625 -0.109375,-0.0625 -0.078125,0 -0.078125,0 -0.109375,0.0625 -0.203125,0.265625 -0.3125,0.28125 -0.390625,0.28125 -0.078125,0 -0.15625,-0.015625 -0.3125,-0.125 -0.171875,-0.140625 -0.28125,-0.21875 -0.46875,-0.21875 -0.453125,0 -0.75,0.4375 -0.75,0.59375 0,0.078125 0.0625,0.078125 0.109375,0.078125 0.046875,0 0.078125,-0.015625 0.09375,-0.0625 0.03125,-0.0625 0.078125,-0.1875 0.46875,-0.1875 0.140625,0 0.25,0.015625 0.515625,0.0625 0.171875,0.03125 0.234375,0.03125 0.328125,0.03125 -0.15625,0.125 -0.296875,0.25 -0.671875,0.53125 -0.359375,0.25 -0.578125,0.40625 -0.8125,0.625 -0.203125,0.171875 -0.4375,0.453125 -0.4375,0.515625 0,0.078125 0.078125,0.078125 0.109375,0.078125 0.0625,0 0.078125,-0.015625 0.109375,-0.046875 0.140625,-0.203125 0.328125,-0.3125 0.5,-0.3125 0.140625,0 0.203125,0.0625 0.390625,0.203125 C 1.765625,0 1.875,0.0625 2.015625,0.0625 c 0.59375,0 0.96875,-0.59375 0.96875,-0.796875 z m 0,0\" id=\"id-b3e24eac-3172-4d67-b4a4-87a5a21a28e1\"/>\n",
       "      </symbol>\n",
       "    </g>\n",
       "    <g id=\"id-eec1caf0-1ce2-4a09-b911-47dcea61b288\">\n",
       "      <symbol overflow=\"visible\" id=\"id-30af510a-1e7e-45d3-8aee-03807185ccaa\">\n",
       "        <path style=\"stroke:none;stroke-width:0\" d=\"\" id=\"id-435dea75-42c6-4ff8-bef6-58242297d159\"/>\n",
       "      </symbol>\n",
       "      <symbol overflow=\"visible\" id=\"id-64c32fc9-227c-4bcb-b287-321711926579\">\n",
       "        <path style=\"stroke:none;stroke-width:0\" d=\"M 4,-5.28125 2.5,-6.890625 0.984375,-5.28125 1.109375,-5.140625 2.5,-6.21875 3.875,-5.140625 Z m 0,0\" id=\"id-eedccb89-f428-4e12-895c-c06e0e8ee469\"/>\n",
       "      </symbol>\n",
       "      <symbol overflow=\"visible\" id=\"id-320369b2-9c3c-43cb-8157-9b09aae321b2\">\n",
       "        <path style=\"stroke:none;stroke-width:0\" d=\"\" id=\"id-3e6d7c1b-350f-43da-a459-52fdf11f60b1\"/>\n",
       "      </symbol>\n",
       "      <symbol overflow=\"visible\" id=\"id-eafb030d-e63a-45ad-b89c-9f75fdc9412c\">\n",
       "        <path style=\"stroke:none;stroke-width:0\" d=\"m 4.96875,-1.421875 c 0,-0.109375 -0.09375,-0.109375 -0.125,-0.109375 -0.09375,0 -0.109375,0.046875 -0.140625,0.1875 -0.171875,0.640625 -0.34375,1.234375 -0.75,1.234375 -0.28125,0 -0.296875,-0.265625 -0.296875,-0.453125 0,-0.21875 0.015625,-0.3125 0.125,-0.75 L 4,-2.203125 4.359375,-3.59375 c 0.0625,-0.28125 0.0625,-0.296875 0.0625,-0.34375 0,-0.171875 -0.109375,-0.265625 -0.28125,-0.265625 -0.25,0 -0.390625,0.21875 -0.421875,0.4375 -0.1875,-0.375 -0.46875,-0.640625 -0.921875,-0.640625 -1.15625,0 -2.390625,1.46875 -2.390625,2.921875 0,0.9375 0.546875,1.59375 1.3125,1.59375 0.203125,0 0.703125,-0.046875 1.296875,-0.75 0.078125,0.421875 0.4375,0.75 0.90625,0.75 0.359375,0 0.578125,-0.234375 0.75,-0.546875 0.15625,-0.359375 0.296875,-0.984375 0.296875,-0.984375 z M 3.5625,-3.140625 3.078125,-1.1875 C 3.015625,-1 3.015625,-0.984375 2.875,-0.8125 2.4375,-0.265625 2.03125,-0.109375 1.75,-0.109375 c -0.5,0 -0.640625,-0.546875 -0.640625,-0.9375 0,-0.5 0.3125,-1.71875 0.546875,-2.1875 0.3125,-0.578125 0.75,-0.953125 1.15625,-0.953125 0.640625,0 0.78125,0.8125 0.78125,0.875 0,0.0625 -0.015625,0.125 -0.03125,0.171875 z m 0,0\" id=\"id-67607ea3-199c-4ed5-ac2f-ef430b6028bd\"/>\n",
       "      </symbol>\n",
       "      <symbol overflow=\"visible\" id=\"id-ca9aa545-59ff-4d96-9670-71c4ef139cd5\">\n",
       "        <path style=\"stroke:none;stroke-width:0\" d=\"\" id=\"id-f8e9a8ac-63f9-4131-a485-e0a585eeb9ab\"/>\n",
       "      </symbol>\n",
       "      <symbol overflow=\"visible\" id=\"id-b05060a9-4850-49bc-9196-243707e0251d\">\n",
       "        <path style=\"stroke:none;stroke-width:0\" d=\"M 3.515625,-1.265625 H 3.28125 c -0.015625,0.15625 -0.09375,0.5625 -0.1875,0.625 C 3.046875,-0.59375 2.515625,-0.59375 2.40625,-0.59375 H 1.125 c 0.734375,-0.640625 0.984375,-0.84375 1.390625,-1.171875 0.515625,-0.40625 1,-0.84375 1,-1.5 0,-0.84375 -0.734375,-1.359375 -1.625,-1.359375 -0.859375,0 -1.453125,0.609375 -1.453125,1.25 0,0.34375 0.296875,0.390625 0.375,0.390625 0.15625,0 0.359375,-0.125 0.359375,-0.375 0,-0.125 -0.046875,-0.375 -0.40625,-0.375 C 0.984375,-4.21875 1.453125,-4.375 1.78125,-4.375 c 0.703125,0 1.0625,0.546875 1.0625,1.109375 0,0.609375 -0.4375,1.078125 -0.65625,1.328125 L 0.515625,-0.265625 C 0.4375,-0.203125 0.4375,-0.1875 0.4375,0 h 2.875 z m 0,0\" id=\"id-19ae1e25-9c08-42e3-9b43-4f18e49fe327\"/>\n",
       "      </symbol>\n",
       "      <symbol overflow=\"visible\" id=\"id-574f5c2f-707f-427f-ba1e-5cc0f21ed92e\">\n",
       "        <path style=\"stroke:none;stroke-width:0\" d=\"\" id=\"id-35ce9ab3-9710-4664-b616-16a474c4314e\"/>\n",
       "      </symbol>\n",
       "      <symbol overflow=\"visible\" id=\"id-b0cc7711-5b7e-4f57-91f0-fc16227c726a\">\n",
       "        <path style=\"stroke:none;stroke-width:0\" d=\"M 3.296875,-1.859375 C 3.3125,-1.9375 3.3125,-1.96875 3.3125,-1.96875 c 0,-0.109375 -0.078125,-0.171875 -0.171875,-0.171875 -0.203125,0 -0.25,0.171875 -0.28125,0.296875 L 2.75,-1.421875 l -0.140625,0.625 c -0.03125,0.0625 -0.046875,0.15625 -0.0625,0.1875 0,0.03125 -0.265625,0.5 -0.6875,0.5 -0.234375,0 -0.40625,-0.109375 -0.40625,-0.4375 0,-0.265625 0.140625,-0.640625 0.28125,-1 0.03125,-0.046875 0.0625,-0.140625 0.0625,-0.21875 0,-0.25 -0.234375,-0.4375 -0.546875,-0.4375 -0.515625,0 -0.796875,0.640625 -0.796875,0.765625 0,0.078125 0.078125,0.078125 0.109375,0.078125 0.078125,0 0.078125,-0.03125 0.109375,-0.09375 0.109375,-0.34375 0.34375,-0.578125 0.5625,-0.578125 0.09375,0 0.15625,0.046875 0.15625,0.1875 0,0.09375 -0.03125,0.171875 -0.0625,0.265625 -0.25,0.59375 -0.296875,0.765625 -0.296875,0.96875 0,0.546875 0.46875,0.671875 0.796875,0.671875 0.28125,0 0.5,-0.140625 0.625,-0.25 -0.078125,0.28125 -0.125,0.5 -0.359375,0.734375 -0.125,0.109375 -0.359375,0.3125 -0.65625,0.3125 -0.09375,0 -0.28125,-0.015625 -0.390625,-0.125 0.21875,-0.0625 0.25,-0.25 0.25,-0.296875 0,-0.140625 -0.125,-0.203125 -0.21875,-0.203125 -0.15625,0 -0.328125,0.109375 -0.328125,0.34375 0,0.25 0.265625,0.4375 0.6875,0.4375 C 2,1.015625 2.671875,0.640625 2.828125,0 Z m 0,0\" id=\"id-05922e12-8154-4806-ba91-d053718832e7\"/>\n",
       "      </symbol>\n",
       "    </g>\n",
       "    <g id=\"id-375619a4-a150-4339-9eb5-41f6f44610df-6\">\n",
       "      <symbol overflow=\"visible\" id=\"id-a6d6436e-c917-4d12-9be4-511cf83fd323-2\">\n",
       "        <path style=\"stroke:none;stroke-width:0\" d=\"\" id=\"id-24b16306-e861-483e-8161-b65de111a2d5-2\"/>\n",
       "      </symbol>\n",
       "      <symbol overflow=\"visible\" id=\"id-209b2600-9a50-44cd-96ed-a6b1b65d2793-5\">\n",
       "        <path style=\"stroke:none;stroke-width:0\" d=\"m 2.390625,-1.421875 c 0,-0.109375 -0.09375,-0.109375 -0.125,-0.109375 -0.09375,0 -0.109375,0.046875 -0.125,0.1875 C 1.96875,-0.703125 1.78125,-0.109375 1.375,-0.109375 c -0.296875,0 -0.296875,-0.3125 -0.296875,-0.453125 0,-0.25 0.015625,-0.296875 0.0625,-0.484375 l 1.4375,-5.765625 c 0,0 0,-0.109375 -0.140625,-0.109375 -0.21875,0 -0.953125,0.078125 -1.21875,0.109375 -0.078125,0 -0.1875,0.015625 -0.1875,0.203125 0,0.109375 0.109375,0.109375 0.25,0.109375 0.484375,0 0.5,0.09375 0.5,0.171875 L 1.75,-6.125 0.484375,-1.140625 C 0.453125,-1.03125 0.4375,-0.96875 0.4375,-0.8125 c 0,0.578125 0.4375,0.921875 0.90625,0.921875 0.328125,0 0.578125,-0.203125 0.75,-0.5625 0.171875,-0.375 0.296875,-0.96875 0.296875,-0.96875 z m 0,0\" id=\"id-aa7b715a-61b1-4390-a328-a9412a8c4e71-2\"/>\n",
       "      </symbol>\n",
       "    </g>\n",
       "    <defs id=\"id-e083adbe-8ad6-4f4d-a71f-ca735d99d471-0\">\n",
       "      <g id=\"g19258\">\n",
       "        <symbol overflow=\"visible\" id=\"symbol19252\">\n",
       "          <path style=\"stroke:none;stroke-width:0\" d=\"\" id=\"path19250\"/>\n",
       "        </symbol>\n",
       "        <symbol overflow=\"visible\" id=\"symbol19256\">\n",
       "          <path style=\"stroke:none;stroke-width:0\" d=\"m 2.390625,-1.421875 c 0,-0.109375 -0.09375,-0.109375 -0.125,-0.109375 -0.09375,0 -0.109375,0.046875 -0.125,0.1875 C 1.96875,-0.703125 1.78125,-0.109375 1.375,-0.109375 c -0.296875,0 -0.296875,-0.3125 -0.296875,-0.453125 0,-0.25 0.015625,-0.296875 0.0625,-0.484375 l 1.4375,-5.765625 c 0,0 0,-0.109375 -0.140625,-0.109375 -0.21875,0 -0.953125,0.078125 -1.21875,0.109375 -0.078125,0 -0.1875,0.015625 -0.1875,0.203125 0,0.109375 0.109375,0.109375 0.25,0.109375 0.484375,0 0.5,0.09375 0.5,0.171875 L 1.75,-6.125 0.484375,-1.140625 C 0.453125,-1.03125 0.4375,-0.96875 0.4375,-0.8125 c 0,0.578125 0.4375,0.921875 0.90625,0.921875 0.328125,0 0.578125,-0.203125 0.75,-0.5625 0.171875,-0.375 0.296875,-0.96875 0.296875,-0.96875 z m 0,0\" id=\"path19254\"/>\n",
       "        </symbol>\n",
       "      </g>\n",
       "    </defs>\n",
       "    <defs id=\"id-e9f7ed46-3696-43f8-b969-39d8d0e1d609\">\n",
       "      <g id=\"id-55a9d8f5-4a3d-4524-9fba-f49015696c47\">\n",
       "        <symbol overflow=\"visible\" id=\"id-8ccbe57d-f8a7-4c0c-a929-5323f8546112\">\n",
       "          <path style=\"stroke:none;stroke-width:0\" d=\"\" id=\"id-07f680cb-3d1a-45bd-9c5e-f6534692fd7a\"/>\n",
       "        </symbol>\n",
       "        <symbol overflow=\"visible\" id=\"id-b0cb2039-789c-4f43-99d4-922967c90135\">\n",
       "          <path style=\"stroke:none;stroke-width:0\" d=\"M 6.453125,-2.390625 C 6.453125,-2.5 6.328125,-2.5 6.328125,-2.5 c -0.0625,0 -0.109375,0.03125 -0.125,0.109375 -0.09375,0.28125 -0.328125,1 -1.015625,1.578125 -0.6875,0.546875 -1.3125,0.71875 -1.828125,0.71875 -0.890625,0 -1.953125,-0.515625 -1.953125,-2.0625 0,-0.578125 0.203125,-2.1875 1.203125,-3.359375 0.609375,-0.703125 1.546875,-1.203125 2.4375,-1.203125 1.015625,0 1.609375,0.765625 1.609375,1.921875 0,0.40625 -0.03125,0.40625 -0.03125,0.515625 0,0.09375 0.109375,0.09375 0.140625,0.09375 0.125,0 0.125,-0.015625 0.1875,-0.203125 l 0.625,-2.53125 c 0,-0.03125 -0.015625,-0.109375 -0.109375,-0.109375 -0.03125,0 -0.046875,0.015625 -0.15625,0.125 L 6.625,-6.140625 C 6.53125,-6.28125 6.078125,-7.03125 4.96875,-7.03125 2.734375,-7.03125 0.5,-4.828125 0.5,-2.515625 0.5,-0.875 1.671875,0.21875 3.203125,0.21875 c 0.859375,0 1.625,-0.390625 2.15625,-0.859375 0.921875,-0.8125 1.09375,-1.71875 1.09375,-1.75 z m 0,0\" id=\"id-d479e058-0663-47fb-9188-e054a4ab442d\"/>\n",
       "        </symbol>\n",
       "      </g>\n",
       "    </defs>\n",
       "    <defs id=\"id-59c9b527-4353-4022-afdf-ca0ea40be883\">\n",
       "      <g id=\"id-b87e4606-d20b-48e6-94ca-f7d416cf39ff\">\n",
       "        <symbol overflow=\"visible\" id=\"id-4af7bb17-24c1-40a5-ab7b-de5b212a550d\">\n",
       "          <path style=\"stroke:none;stroke-width:0\" d=\"\" id=\"id-1466ac64-416f-4517-adda-25ea2dbdad33\"/>\n",
       "        </symbol>\n",
       "        <symbol overflow=\"visible\" id=\"id-f1016b93-e3cb-4520-b02f-7df9405d767f\">\n",
       "          <path style=\"stroke:none;stroke-width:0\" d=\"m 6.40625,-2.46875 c 0,-0.03125 -0.03125,-0.109375 -0.109375,-0.109375 -0.09375,0 -0.109375,0.0625 -0.171875,0.21875 -0.34375,0.90625 -0.78125,2.046875 -2.5,2.046875 H 2.6875 c -0.140625,0 -0.171875,0 -0.21875,0 -0.109375,-0.015625 -0.140625,-0.03125 -0.140625,-0.109375 0,-0.03125 0,-0.046875 0.046875,-0.21875 L 3.734375,-6.03125 C 3.8125,-6.390625 3.84375,-6.5 4.78125,-6.5 c 0.296875,0 0.375,0 0.375,-0.1875 0,-0.125 -0.109375,-0.125 -0.15625,-0.125 L 3.53125,-6.78125 2.203125,-6.8125 c -0.0625,0 -0.1875,0 -0.1875,0.203125 0,0.109375 0.09375,0.109375 0.28125,0.109375 0,0 0.203125,0 0.375,0.015625 0.171875,0.03125 0.265625,0.03125 0.265625,0.171875 0,0.03125 0,0.0625 -0.03125,0.1875 L 1.5625,-0.78125 c -0.09375,0.390625 -0.109375,0.46875 -0.90625,0.46875 -0.171875,0 -0.265625,0 -0.265625,0.203125 C 0.390625,0 0.484375,0 0.65625,0 h 4.625 C 5.515625,0 5.515625,0 5.578125,-0.171875 L 6.375,-2.328125 C 6.40625,-2.4375 6.40625,-2.46875 6.40625,-2.46875 Z m 0,0\" id=\"id-eda6c8e2-3bf9-455b-88d2-d65fe56f5c80\"/>\n",
       "        </symbol>\n",
       "      </g>\n",
       "    </defs>\n",
       "    <defs id=\"id-df6f3ee7-e414-49d4-a33c-6bd313abf82a\">\n",
       "      <g id=\"id-206948d4-fc27-41c9-88bd-ac5ea3eb41b6\">\n",
       "        <symbol overflow=\"visible\" id=\"id-17ee3978-f03f-48e1-91b8-7fc2a2a550ad\">\n",
       "          <path style=\"stroke:none;stroke-width:0\" d=\"\" id=\"id-78df8c81-2a5f-4f75-be4f-0d97540257e8\"/>\n",
       "        </symbol>\n",
       "        <symbol overflow=\"visible\" id=\"id-c077e8e8-5bce-438c-bcbc-7678d67ac05b\">\n",
       "          <path style=\"stroke:none;stroke-width:0\" d=\"m 6.46875,0 c 0,-0.0625 -0.0625,-0.09375 -0.109375,-0.09375 -0.078125,0 -0.09375,0.046875 -0.125,0.109375 C 6,0.71875 5.421875,0.96875 5.078125,0.96875 4.609375,0.96875 4.46875,0.703125 4.359375,-0.0625 5.90625,-0.640625 7.375,-2.421875 7.375,-4.34375 c 0,-1.609375 -1.0625,-2.6875 -2.546875,-2.6875 -2.140625,0 -4.34375,2.265625 -4.34375,4.59375 0,1.65625 1.125,2.65625 2.5625,2.65625 0.25,0 0.578125,-0.046875 0.96875,-0.15625 -0.03125,0.625 -0.03125,0.640625 -0.03125,0.78125 0,0.3125 0,1.09375 0.828125,1.09375 C 5.984375,1.9375 6.46875,0.109375 6.46875,0 Z M 6.5,-4.671875 c 0,1 -0.515625,3.34375 -2.1875,4.265625 -0.046875,-0.34375 -0.140625,-1.0625 -0.875,-1.0625 -0.53125,0 -1.015625,0.484375 -1.015625,1.015625 0,0.1875 0.0625,0.3125 0.0625,0.3125 -0.78125,-0.3125 -1.125,-1.078125 -1.125,-1.984375 0,-0.6875 0.265625,-2.109375 1.015625,-3.171875 C 3.109375,-6.3125 4.046875,-6.78125 4.78125,-6.78125 5.765625,-6.78125 6.5,-6 6.5,-4.671875 Z M 4.046875,-0.40625 c 0,0.140625 -0.015625,0.15625 -0.109375,0.203125 -0.265625,0.109375 -0.5625,0.171875 -0.84375,0.171875 -0.140625,0 -0.453125,0 -0.453125,-0.421875 0,-0.40625 0.375,-0.796875 0.796875,-0.796875 0.421875,0 0.609375,0.234375 0.609375,0.84375 z m 0,0\" id=\"id-e9e4efa9-0e91-4cbc-a911-6f63f0439727\"/>\n",
       "        </symbol>\n",
       "      </g>\n",
       "    </defs>\n",
       "    <defs id=\"id-3a50289b-fa2c-410a-92f7-9bd6e48fda8b\">\n",
       "      <g id=\"id-359bab1b-a545-4cf0-9d63-1212e9f6b8b8\">\n",
       "        <symbol overflow=\"visible\" id=\"id-a52e7ec6-34a9-4119-8e6d-2225c95dfd46\">\n",
       "          <path style=\"stroke:none;stroke-width:0\" d=\"\" id=\"id-ef37e9a8-18e1-408e-bed2-6b3aa8411150\"/>\n",
       "        </symbol>\n",
       "        <symbol overflow=\"visible\" id=\"id-518394da-929f-4693-8bdd-006f1333598c\">\n",
       "          <path style=\"stroke:none;stroke-width:0\" d=\"m 7.515625,-5.296875 c 0,-0.78125 -0.65625,-1.515625 -1.96875,-1.515625 h -3.21875 c -0.1875,0 -0.296875,0 -0.296875,0.1875 0,0.125 0.078125,0.125 0.28125,0.125 0.125,0 0.3125,0.015625 0.421875,0.015625 0.171875,0.03125 0.21875,0.046875 0.21875,0.171875 0,0.03125 0,0.0625 -0.03125,0.1875 l -1.34375,5.34375 c -0.09375,0.390625 -0.109375,0.46875 -0.90625,0.46875 -0.15625,0 -0.265625,0 -0.265625,0.1875 C 0.40625,0 0.515625,0 0.546875,0 L 1.8125,-0.03125 2.453125,-0.015625 C 2.671875,-0.015625 2.890625,0 3.09375,0 c 0.078125,0 0.203125,0 0.203125,-0.203125 0,-0.109375 -0.09375,-0.109375 -0.28125,-0.109375 -0.359375,0 -0.640625,0 -0.640625,-0.171875 0,-0.0625 0.015625,-0.109375 0.03125,-0.171875 l 0.609375,-2.5 H 4.71875 c 1.40625,0 2.796875,-1.03125 2.796875,-2.140625 z m -0.921875,-0.25 c 0,0.390625 -0.203125,1.25 -0.59375,1.609375 -0.5,0.453125 -1.09375,0.53125 -1.53125,0.53125 H 3.0625 L 3.734375,-6.125 C 3.828125,-6.46875 3.84375,-6.5 4.28125,-6.5 h 0.953125 c 0.828125,0 1.359375,0.265625 1.359375,0.953125 z m 0,0\" id=\"id-4cae6e25-a9e9-483a-813b-c72666ece8ba\"/>\n",
       "        </symbol>\n",
       "      </g>\n",
       "    </defs>\n",
       "    <defs id=\"id-98f06569-2213-48ec-bfcf-020550ed17bb\">\n",
       "      <g id=\"id-7acb8133-3e27-4fa4-95a8-406baf68933a\">\n",
       "        <symbol overflow=\"visible\" id=\"id-d970b34d-b630-4bb2-987e-82fbd37a8a1d\">\n",
       "          <path style=\"stroke:none;stroke-width:0\" d=\"\" id=\"id-3edc8d91-d2c4-4f3e-9a10-abbcd6d240e0\"/>\n",
       "        </symbol>\n",
       "        <symbol overflow=\"visible\" id=\"id-1f18cf70-901b-4466-9e8f-055b39ecbce9\">\n",
       "          <path style=\"stroke:none;stroke-width:0\" d=\"m 7.375,-4.34375 c 0,-1.609375 -1.0625,-2.6875 -2.546875,-2.6875 -2.140625,0 -4.34375,2.265625 -4.34375,4.59375 0,1.65625 1.125,2.65625 2.5625,2.65625 2.109375,0 4.328125,-2.1875 4.328125,-4.5625 z M 6.484375,-4.734375 c 0,0.71875 -0.265625,2.265625 -1.25,3.5 C 4.75,-0.625 3.9375,-0.046875 3.09375,-0.046875 c -0.984375,0 -1.671875,-0.796875 -1.671875,-2.109375 0,-0.453125 0.140625,-1.90625 0.90625,-3.0625 0.6875,-1.046875 1.65625,-1.5625 2.453125,-1.5625 0.8125,0 1.703125,0.5625 1.703125,2.046875 z m 0,0\" id=\"id-3719d267-869c-4271-a1a3-1ef2a221b03b\"/>\n",
       "        </symbol>\n",
       "      </g>\n",
       "    </defs>\n",
       "    <defs id=\"id-52fc825f-ff28-439e-9a25-512888f38f43\">\n",
       "      <g id=\"id-d720179f-ea7c-41ce-b537-227e3db0c7f6\">\n",
       "        <symbol overflow=\"visible\" id=\"id-72ac017a-5028-4f6e-b15a-f6502be4a889\">\n",
       "          <path style=\"stroke:none;stroke-width:0\" d=\"\" id=\"id-326e7486-202f-4381-94aa-58117dbd21b7\"/>\n",
       "        </symbol>\n",
       "        <symbol overflow=\"visible\" id=\"id-e9db5f05-f7c6-47e8-be47-17b6c959d9b7\">\n",
       "          <path style=\"stroke:none;stroke-width:0\" d=\"m 6.640625,-0.15625 c 0,-0.125 -0.109375,-0.125 -0.203125,-0.125 -0.546875,0 -0.546875,-0.0625 -0.578125,-0.3125 l -0.625,-5.578125 c -0.03125,-0.203125 -0.03125,-0.25 -0.1875,-0.25 -0.125,0 -0.171875,0.0625 -0.25,0.171875 L 1.625,-1.046875 C 1.1875,-0.328125 0.796875,-0.3125 0.4375,-0.28125 0.375,-0.265625 0.328125,-0.203125 0.328125,-0.109375 0.328125,-0.0625 0.375,0 0.453125,0 0.625,0 1.046875,-0.03125 1.21875,-0.03125 1.421875,-0.03125 1.90625,0 2.09375,0 c 0.0625,0 0.171875,0 0.171875,-0.15625 0,-0.109375 -0.109375,-0.125 -0.125,-0.125 -0.09375,0 -0.421875,-0.03125 -0.421875,-0.296875 0,-0.125 0.09375,-0.296875 0.125,-0.34375 l 0.703125,-1.15625 h 2.34375 L 4.96875,-1.34375 C 5,-0.984375 5.0625,-0.59375 5.0625,-0.5625 c 0,0.125 -0.125,0.28125 -0.65625,0.28125 -0.078125,0 -0.203125,0 -0.203125,0.171875 C 4.203125,-0.015625 4.28125,0 4.34375,0 4.515625,0 4.734375,-0.015625 4.90625,-0.015625 L 5.4375,-0.03125 5.96875,-0.015625 C 6.109375,-0.015625 6.328125,0 6.46875,0 6.515625,0 6.640625,0 6.640625,-0.15625 Z m -1.78125,-2.1875 H 2.71875 l 1.8125,-2.96875 z m 0,0\" id=\"id-6e0ee0c7-59b2-43da-a400-4ffbbdd71efb\"/>\n",
       "        </symbol>\n",
       "        <symbol overflow=\"visible\" id=\"id-0d5b1419-d6ff-4223-86b4-28e7d718073c\">\n",
       "          <path style=\"stroke:none;stroke-width:0\" d=\"\" id=\"id-5f5f1d33-5137-4d25-a533-9b58f3d5ca60\"/>\n",
       "        </symbol>\n",
       "        <symbol overflow=\"visible\" id=\"id-d25eb050-bcf8-4fab-beae-77cc5b85ebc0\">\n",
       "          <path style=\"stroke:none;stroke-width:0\" d=\"m 3.015625,0 v -0.234375 h -0.25 c -0.625,0 -0.625,-0.078125 -0.625,-0.28125 v -3.28125 c 0,-0.1875 -0.015625,-0.1875 -0.203125,-0.1875 -0.390625,0.390625 -1,0.390625 -1.21875,0.390625 v 0.234375 c 0.15625,0 0.5625,0 0.921875,-0.171875 v 3.015625 c 0,0.203125 0,0.28125 -0.625,0.28125 h -0.25 V 0 c 0.328125,-0.03125 0.796875,-0.03125 1.125,-0.03125 0.328125,0 0.796875,0 1.125,0.03125 z m 0,0\" id=\"id-6b696951-74d3-4191-812d-0a93eb994201\"/>\n",
       "        </symbol>\n",
       "        <symbol overflow=\"visible\" id=\"id-e2ca4bdf-a685-4c9d-a50c-30a52de8e301\">\n",
       "          <path style=\"stroke:none;stroke-width:0\" d=\"\" id=\"id-ed733c88-d923-4d7a-b969-a55550bc3fd7\"/>\n",
       "        </symbol>\n",
       "        <symbol overflow=\"visible\" id=\"id-05575293-f573-45b1-9651-41a39d59fc1a\">\n",
       "          <path style=\"stroke:none;stroke-width:0\" d=\"m 11.265625,-2.984375 c 0,-3.125 -2.40625,-5.578125 -5.296875,-5.578125 -2.921875,0 -5.296875,2.484375 -5.296875,5.578125 0,3.09375 2.375,5.5625 5.296875,5.5625 2.90625,0 5.296875,-2.453125 5.296875,-5.5625 z m -0.46875,0 c 0,2.859375 -2.203125,5.09375 -4.828125,5.09375 -2.65625,0 -4.828125,-2.265625 -4.828125,-5.09375 0,-2.859375 2.203125,-5.09375 4.828125,-5.09375 2.65625,0 4.828125,2.25 4.828125,5.09375 z m 0,0\" id=\"id-4f4605a2-8e47-4c82-a473-5d69ed1f1bdf\"/>\n",
       "        </symbol>\n",
       "      </g>\n",
       "    </defs>\n",
       "    <defs id=\"id-ecef9c30-4a3b-4405-b0f8-e221e6b8f90f\">\n",
       "      <g id=\"id-e96a6d4e-ff06-4454-8d70-7014ca09a690\">\n",
       "        <symbol overflow=\"visible\" id=\"id-f15ecc6c-dba3-4cde-9ada-dd9cc29c15da\">\n",
       "          <path style=\"stroke:none;stroke-width:0\" d=\"\" id=\"id-cd44799a-c9c7-4df7-a56a-671deefdb99a\"/>\n",
       "        </symbol>\n",
       "        <symbol overflow=\"visible\" id=\"id-fac0f19d-031c-41e9-9282-afa9d265476e\">\n",
       "          <path style=\"stroke:none;stroke-width:0\" d=\"m 1.75,-4.296875 v -1.15625 c 0,-0.875 0.46875,-1.359375 0.90625,-1.359375 0.03125,0 0.1875,0 0.328125,0.078125 C 2.875,-6.703125 2.6875,-6.5625 2.6875,-6.3125 c 0,0.21875 0.15625,0.421875 0.4375,0.421875 0.28125,0 0.4375,-0.203125 0.4375,-0.4375 0,-0.375 -0.375,-0.703125 -0.90625,-0.703125 -0.6875,0 -1.546875,0.53125 -1.546875,1.59375 v 1.140625 h -0.78125 v 0.3125 h 0.78125 V -0.75 C 1.109375,-0.3125 1,-0.3125 0.34375,-0.3125 V 0 c 0.390625,-0.015625 0.859375,-0.03125 1.125,-0.03125 0.40625,0 0.875,0 1.265625,0.03125 V -0.3125 H 2.53125 c -0.734375,0 -0.75,-0.109375 -0.75,-0.46875 v -3.203125 h 1.125 v -0.3125 z m 0,0\" id=\"id-8c91e26e-6426-40b7-bec6-2899693f15ad\"/>\n",
       "        </symbol>\n",
       "        <symbol overflow=\"visible\" id=\"id-676a86ed-f043-46d0-b287-04636c849c27\">\n",
       "          <path style=\"stroke:none;stroke-width:0\" d=\"\" id=\"id-7afb6f7a-aa37-4dce-8e78-dcbdfd59862d\"/>\n",
       "        </symbol>\n",
       "        <symbol overflow=\"visible\" id=\"id-c2c65ba1-088b-4e36-b276-dae882d4c2a7\">\n",
       "          <path style=\"stroke:none;stroke-width:0\" d=\"M 5.296875,-7.703125 C 5.03125,-7.671875 4.75,-7.65625 4.484375,-7.59375 c -2.265625,0.53125 -3.9375,2.625 -3.9375,5.078125 0,2.15625 1.34375,4.375 3.65625,5.03125 0.4375,0.125 0.890625,0.203125 1.34375,0.203125 2.75,0 4.875,-2.359375 4.96875,-5.015625 V -2.5 C 10.515625,-5.171875 8.5,-7.703125 5.4375,-7.703125 Z m -4.34375,5.40625 V -2.4375 c 0,-2.484375 1.78125,-4.875 4.578125,-4.875 H 5.671875 C 8.03125,-7.203125 10.125,-5.203125 10.125,-2.5 10.125,-0.0625 8.25,2.296875 5.5,2.296875 3.328125,2.296875 1.4375,0.609375 1.03125,-1.5625 0.984375,-1.796875 0.984375,-2.046875 0.953125,-2.296875 Z m 0,0\" id=\"id-dfb63205-880b-45ca-86f6-704dd26921c0\"/>\n",
       "        </symbol>\n",
       "      </g>\n",
       "    </defs>\n",
       "  </defs>\n",
       "  <sodipodi:namedview id=\"base\" pagecolor=\"#ffffff\" bordercolor=\"#666666\" borderopacity=\"1.0\" inkscape:pageopacity=\"0.0\" inkscape:pageshadow=\"2\" inkscape:zoom=\"0.73301219\" inkscape:cx=\"357.78914\" inkscape:cy=\"220.07682\" inkscape:document-units=\"mm\" inkscape:current-layer=\"layer1\" inkscape:document-rotation=\"0\" showgrid=\"false\" inkscape:window-width=\"1267\" inkscape:window-height=\"694\" inkscape:window-x=\"15\" inkscape:window-y=\"223\" inkscape:window-maximized=\"0\" inkscape:snap-global=\"false\" inkscape:snap-others=\"true\" inkscape:snap-object-midpoints=\"true\" inkscape:snap-bbox=\"true\" inkscape:object-paths=\"true\" inkscape:snap-intersection-paths=\"true\" inkscape:snap-bbox-edge-midpoints=\"false\" inkscape:snap-bbox-midpoints=\"false\" inkscape:snap-midpoints=\"true\" inkscape:object-nodes=\"true\" inkscape:snap-perpendicular=\"true\" inkscape:bbox-nodes=\"false\" units=\"in\" inkscape:snap-smooth-nodes=\"true\" fit-margin-top=\"0\" fit-margin-left=\"0\" fit-margin-right=\"0\" fit-margin-bottom=\"0\">\n",
       "    <inkscape:grid type=\"xygrid\" id=\"grid2874\" originx=\"-10.2739\" originy=\"-61.810113\"/>\n",
       "  </sodipodi:namedview>\n",
       "  <metadata id=\"metadata5\">\n",
       "    <rdf:RDF>\n",
       "      <cc:Work rdf:about=\"\">\n",
       "        <dc:format>image/svg+xml</dc:format>\n",
       "        <dc:type rdf:resource=\"http://purl.org/dc/dcmitype/StillImage\"/>\n",
       "        <dc:title/>\n",
       "      </cc:Work>\n",
       "    </rdf:RDF>\n",
       "  </metadata>\n",
       "  <g inkscape:label=\"Layer 1\" inkscape:groupmode=\"layer\" id=\"layer1\" transform=\"translate(-10.2739,-61.810112)\">\n",
       "    <circle style=\"fill:#000000;stroke:none;stroke-width:0.25;stroke-linecap:round;stroke-linejoin:round;stroke-miterlimit:4;stroke-dasharray:none\" id=\"path6605-8\" cx=\"147.46944\" cy=\"100.36565\" r=\"1.25\"/>\n",
       "    <path style=\"fill:none;stroke:#000000;stroke-width:0.5;stroke-linecap:butt;stroke-linejoin:miter;stroke-miterlimit:4;stroke-dasharray:0.5, 0.5;stroke-dashoffset:0;stroke-opacity:1\" d=\"m 171.07038,87.337226 -1.64313,7.22965\" id=\"path1471-5-5\"/>\n",
       "    <path style=\"fill:none;stroke:#000000;stroke-width:0.5;stroke-linecap:butt;stroke-linejoin:miter;stroke-miterlimit:4;stroke-dasharray:0.5, 0.5;stroke-dashoffset:0;stroke-opacity:1\" d=\"m 131.5403,78.368472 -1.64312,7.22964\" id=\"path1471-5-7-4\"/>\n",
       "    <path style=\"fill:none;stroke:#000000;stroke-width:0.25;stroke-linecap:butt;stroke-linejoin:miter;stroke-miterlimit:4;stroke-dasharray:none;stroke-opacity:1;marker-start:url(#marker1961-0);marker-end:url(#marker3252-2-8)\" d=\"m 171.07038,87.337228 -32.06756,-7.27563 -7.46253,-1.69312\" id=\"path897-0-3\" sodipodi:nodetypes=\"ccc\"/>\n",
       "    <path style=\"fill:none;stroke:#000000;stroke-width:0.5;stroke-linecap:round;stroke-linejoin:miter;stroke-miterlimit:4;stroke-dasharray:4, 2;stroke-dashoffset:0;stroke-opacity:1\" d=\"m 70.431077,116.67709 12.16333,12.57859 2.83055,2.92719\" id=\"path897-7-9\" sodipodi:nodetypes=\"ccc\"/>\n",
       "    <ellipse style=\"opacity:1;fill:#b3b3b3;stroke:#000000;stroke-width:0.797618;stroke-linecap:round;stroke-linejoin:round;stroke-miterlimit:4;stroke-dasharray:none;stroke-dashoffset:0;stroke-opacity:1\" id=\"path877\" cx=\"143.60478\" cy=\"160.08508\" rx=\"9.9350128\" ry=\"11.236617\" transform=\"matrix(0.99266414,-0.12090456,-0.35685,0.9341617,0,0)\"/>\n",
       "    <path style=\"fill:none;stroke:#000000;stroke-width:0.75;stroke-linecap:round;stroke-linejoin:miter;stroke-miterlimit:4;stroke-dasharray:none;stroke-opacity:1\" d=\"m 85.424967,132.18286 7.1369,7.37795 15.725293,16.25643 5.32032,5.50001\" id=\"path897\" sodipodi:nodetypes=\"cccc\"/>\n",
       "    <ellipse style=\"opacity:1;fill:#b3b3b3;stroke:#000000;stroke-width:0.797618;stroke-linecap:round;stroke-linejoin:round;stroke-miterlimit:4;stroke-dasharray:none;stroke-dashoffset:0;stroke-opacity:1\" id=\"ellipse879\" cx=\"185.13965\" cy=\"196.64847\" rx=\"9.9350128\" ry=\"11.236617\" transform=\"matrix(0.99266414,-0.12090456,-0.35685,0.9341617,0,0)\"/>\n",
       "    <path style=\"fill:none;stroke:#000000;stroke-width:0.75;stroke-linecap:round;stroke-linejoin:miter;stroke-opacity:1\" d=\"m 147.46838,100.36458 -40.50501,39.18164 -7.447153,7.20384\" id=\"path944\" sodipodi:nodetypes=\"ccc\"/>\n",
       "    <path style=\"fill:none;stroke:#000000;stroke-width:0.5;stroke-linecap:butt;stroke-linejoin:round;stroke-miterlimit:4;stroke-dasharray:none;stroke-opacity:1;marker-start:url(#ExperimentalArrow);marker-end:url(#marker1244)\" d=\"m 43.216147,66.203498 c 0,122.557632 0,122.557632 0,122.557632 164.516523,0 164.516523,0 164.516523,0\" id=\"path979\"/>\n",
       "    <path style=\"fill:none;stroke:#000000;stroke-width:0.5;stroke-linecap:round;stroke-linejoin:miter;stroke-miterlimit:4;stroke-dasharray:4, 2;stroke-dashoffset:0;stroke-opacity:1\" d=\"m 56.149447,188.69996 43.36677,-41.9499\" id=\"path1471\"/>\n",
       "    <path style=\"fill:none;stroke:#000000;stroke-width:0.5;stroke-linecap:round;stroke-linejoin:miter;stroke-miterlimit:4;stroke-dasharray:4, 2;stroke-dashoffset:0;stroke-opacity:1\" d=\"m 147.46838,100.36458 v 88.33538\" id=\"path1473\"/>\n",
       "    <path style=\"fill:none;stroke:#000000;stroke-width:0.499998;stroke-linecap:round;stroke-linejoin:miter;stroke-miterlimit:4;stroke-dasharray:3.99998, 1.99999;stroke-dashoffset:0;stroke-opacity:1\" d=\"m 113.60749,161.31725 12.16333,12.57859 2.83056,2.92719\" id=\"path897-7\" sodipodi:nodetypes=\"ccc\"/>\n",
       "    <path id=\"path877-9\" style=\"fill:none;stroke:#000000;stroke-width:0.25;stroke-linecap:round;stroke-linejoin:round;stroke-miterlimit:4;stroke-dasharray:none;stroke-dashoffset:0;stroke-opacity:1;marker-start:url(#marker1536)\" d=\"m 75.244757,117.42847 c 0.4179,-0.80898 0.69717,-1.63878 0.79462,-2.43824 0.36015,-2.95451 -1.89926,-4.37581 -5.04654,-3.17455 -3.14729,1.20126 -5.99063,4.57019 -6.35078,7.5247 -0.36016,2.95452 1.89925,4.37581 5.04654,3.17455 0.84961,-0.32428 1.67708,-0.80652 2.43952,-1.39594\" sodipodi:nodetypes=\"cssssc\"/>\n",
       "    <path id=\"path877-9-0\" style=\"fill:none;stroke:#000000;stroke-width:0.25;stroke-linecap:round;stroke-linejoin:round;stroke-miterlimit:4;stroke-dasharray:none;stroke-dashoffset:0;stroke-opacity:1;marker-start:url(#marker1536-9)\" d=\"m 131.91164,176.08097 c 0.4179,-0.80898 0.69717,-1.63878 0.79462,-2.43823 0.36015,-2.95452 -1.89926,-4.37581 -5.04654,-3.17455 -3.14729,1.20126 -5.99063,4.57018 -6.35079,7.52469 -0.36015,2.95452 1.89926,4.37582 5.04655,3.17456 0.84961,-0.32428 1.67707,-0.80653 2.43952,-1.39595\" sodipodi:nodetypes=\"cssssc\"/>\n",
       "    <path style=\"fill:none;stroke:#000000;stroke-width:0.25;stroke-linecap:butt;stroke-linejoin:miter;stroke-opacity:1;marker-end:url(#marker1896)\" d=\"m 86.773777,188.69996 c 0.19333,-6.74961 -2.59714,-13.04017 -8.91247,-18.78844\" id=\"path1886\" sodipodi:nodetypes=\"cc\"/>\n",
       "    <path style=\"fill:none;stroke:#000000;stroke-width:0.5;stroke-linecap:butt;stroke-linejoin:miter;stroke-miterlimit:4;stroke-dasharray:0.5, 0.5;stroke-dashoffset:0;stroke-opacity:1\" d=\"m 70.277367,145.63191 5.33075,-5.15274\" id=\"path1471-5\"/>\n",
       "    <path style=\"fill:none;stroke:#000000;stroke-width:0.5;stroke-linecap:butt;stroke-linejoin:miter;stroke-miterlimit:4;stroke-dasharray:0.5, 0.5;stroke-dashoffset:0;stroke-opacity:1\" d=\"m 98.459867,174.76629 5.330753,-5.15274\" id=\"path1471-5-7\"/>\n",
       "    <path style=\"fill:none;stroke:#000000;stroke-width:0.25;stroke-linecap:butt;stroke-linejoin:miter;stroke-miterlimit:4;stroke-dasharray:none;stroke-opacity:1;marker-start:url(#marker1961);marker-end:url(#marker3252)\" d=\"m 70.277367,145.63191 22.86219,23.63437 5.32032,5.50001\" id=\"path897-0\" sodipodi:nodetypes=\"ccc\"/>\n",
       "    <path style=\"fill:none;stroke:#000000;stroke-width:0.499998;stroke-linecap:butt;stroke-linejoin:miter;stroke-miterlimit:4;stroke-dasharray:0.499998, 0.499998;stroke-dashoffset:0;stroke-opacity:1\" d=\"m 67.129807,131.70378 6.87882,7.11773 1.60079,1.65638\" id=\"path897-7-9-6\" sodipodi:nodetypes=\"ccc\"/>\n",
       "    <path style=\"fill:none;stroke:#000000;stroke-width:0.499998;stroke-linecap:butt;stroke-linejoin:miter;stroke-miterlimit:4;stroke-dasharray:0.499998, 0.499998;stroke-dashoffset:0;stroke-opacity:1\" d=\"m 85.311637,114.1226 6.87882,7.11773 0.7325,0.75794\" id=\"path897-7-9-6-1\" sodipodi:nodetypes=\"ccc\"/>\n",
       "    <path style=\"fill:none;stroke:#000000;stroke-width:0.25;stroke-linecap:round;stroke-linejoin:miter;stroke-miterlimit:4;stroke-dasharray:none;stroke-dashoffset:0;stroke-opacity:1;marker-start:url(#marker3028);marker-end:url(#marker3262)\" d=\"M 67.129807,131.70378 85.311637,114.1226\" id=\"path1471-3\"/>\n",
       "    <path style=\"fill:none;stroke:#000000;stroke-width:0.499998;stroke-linecap:round;stroke-linejoin:miter;stroke-miterlimit:4;stroke-dasharray:3.99998, 1.99999;stroke-dashoffset:0;stroke-opacity:1\" d=\"m 106.66923,91.103992 17.06328,3.874558 3.97083,0.901658\" id=\"path897-7-9-7\" sodipodi:nodetypes=\"ccc\"/>\n",
       "    <ellipse style=\"fill:#b3b3b3;stroke:#000000;stroke-width:0.797618;stroke-linecap:round;stroke-linejoin:round;stroke-miterlimit:4;stroke-dasharray:none;stroke-dashoffset:0;stroke-opacity:1\" id=\"path877-8\" cx=\"118.10914\" cy=\"175.99167\" rx=\"9.9350128\" ry=\"11.236617\" transform=\"matrix(0.76477924,-0.64429242,0.21237321,0.97718863,0,0)\"/>\n",
       "    <path style=\"fill:none;stroke:#000000;stroke-width:0.75;stroke-linecap:round;stroke-linejoin:miter;stroke-opacity:1\" d=\"m 127.70334,95.880194 c 3.68706,0.836538 7.37412,1.673075 11.06119,2.509613 7.00212,1.588674 14.00425,3.177353 21.00638,4.766023 l 7.46252,1.69312\" id=\"path897-83\" sodipodi:nodetypes=\"cscc\"/>\n",
       "    <ellipse style=\"fill:#b3b3b3;stroke:#000000;stroke-width:0.797618;stroke-linecap:round;stroke-linejoin:round;stroke-miterlimit:4;stroke-dasharray:none;stroke-dashoffset:0;stroke-opacity:1\" id=\"ellipse879-8\" cx=\"159.64401\" cy=\"212.55505\" rx=\"9.9350128\" ry=\"11.236617\" transform=\"matrix(0.76477924,-0.64429242,0.21237321,0.97718863,0,0)\"/>\n",
       "    <path style=\"fill:none;stroke:#000000;stroke-width:0.499998;stroke-linecap:round;stroke-linejoin:miter;stroke-miterlimit:4;stroke-dasharray:3.99998, 1.99999;stroke-dashoffset:0;stroke-opacity:1\" d=\"m 167.23344,104.84895 17.06327,3.87455 3.97084,0.90166\" id=\"path897-7-1\" sodipodi:nodetypes=\"ccc\"/>\n",
       "    <path id=\"path877-9-5\" style=\"fill:none;stroke:#000000;stroke-width:0.25;stroke-linecap:round;stroke-linejoin:round;stroke-miterlimit:4;stroke-dasharray:none;stroke-dashoffset:0;stroke-opacity:1;marker-start:url(#marker1536-8)\" d=\"m 111.10969,89.09938 c -0.0928,-0.905805 -0.313,-1.753189 -0.66881,-2.475701 -1.31495,-2.670166 -3.98382,-2.62376 -5.96109,0.103653 -1.97728,2.72742 -2.51421,7.103027 -1.19926,9.773192 1.31494,2.670175 3.98381,2.623764 5.96109,-0.103655 0.53376,-0.736266 0.96258,-1.592643 1.27832,-2.503158\" sodipodi:nodetypes=\"cssssc\"/>\n",
       "    <path id=\"path877-9-0-3\" style=\"fill:none;stroke:#000000;stroke-width:0.25;stroke-linecap:round;stroke-linejoin:round;stroke-miterlimit:4;stroke-dasharray:none;stroke-dashoffset:0;stroke-opacity:1;marker-start:url(#marker1536-9-4)\" d=\"m 190.63248,107.19296 c -0.0928,-0.90581 -0.313,-1.75319 -0.66881,-2.4757 -1.31495,-2.67017 -3.98382,-2.62376 -5.96109,0.10365 -1.97728,2.72742 -2.51421,7.10303 -1.19927,9.77319 1.31495,2.67017 3.98382,2.62377 5.9611,-0.10365 0.53377,-0.73627 0.96257,-1.59265 1.27832,-2.50317\" sodipodi:nodetypes=\"cssssc\"/>\n",
       "    <path style=\"fill:none;stroke:#000000;stroke-width:0.499998;stroke-linecap:butt;stroke-linejoin:miter;stroke-miterlimit:4;stroke-dasharray:0.499998, 0.499998;stroke-dashoffset:0;stroke-opacity:1\" d=\"m 112.12697,105.48847 9.65214,2.19461 2.24618,0.5107\" id=\"path897-7-9-6-6\" sodipodi:nodetypes=\"ccc\"/>\n",
       "    <path style=\"fill:none;stroke:#000000;stroke-width:0.499998;stroke-linecap:butt;stroke-linejoin:miter;stroke-miterlimit:4;stroke-dasharray:0.499998, 0.499998;stroke-dashoffset:0;stroke-opacity:1\" d=\"m 117.7277,80.824552 9.65214,2.194609 1.12534,0.255866\" id=\"path897-7-9-6-1-5\" sodipodi:nodetypes=\"ccc\"/>\n",
       "    <path style=\"fill:none;stroke:#000000;stroke-width:0.25;stroke-linecap:round;stroke-linejoin:miter;stroke-miterlimit:4;stroke-dasharray:none;stroke-dashoffset:0;stroke-opacity:1;marker-start:url(#marker3028-9);marker-end:url(#marker3262-1)\" d=\"M 112.12697,105.48847 117.7277,80.824552\" id=\"path1471-3-9\"/>\n",
       "    <path style=\"fill:none;stroke:#000000;stroke-width:0.5;stroke-linecap:round;stroke-linejoin:miter;stroke-miterlimit:4;stroke-dasharray:4, 2;stroke-dashoffset:0;stroke-opacity:1\" d=\"m 154.33176,69.328994 -3.66531,16.366485 m -1.19052,5.315958 -2.08638,9.316173\" id=\"path944-9\" sodipodi:nodetypes=\"cccc\"/>\n",
       "    <path style=\"fill:none;stroke:#000000;stroke-width:0.5;stroke-linecap:round;stroke-linejoin:miter;stroke-miterlimit:4;stroke-dasharray:4, 2;stroke-dashoffset:0;stroke-opacity:1\" d=\"M 147.46944,100.36565 176.5418,72.246874\" id=\"path1471-7\"/>\n",
       "    <path style=\"fill:none;stroke:#000000;stroke-width:0.264583px;stroke-linecap:butt;stroke-linejoin:miter;stroke-opacity:1;marker-start:url(#marker2442)\" d=\"m 154.36563,76.324624 c 5.71127,0.01503 9.82729,1.853197 12.84063,4.95158\" id=\"path5622\" sodipodi:nodetypes=\"cc\"/>\n",
       "    <ellipse style=\"fill:none;stroke:none;stroke-width:0.25;stroke-linecap:round;stroke-linejoin:round;stroke-miterlimit:4;stroke-dasharray:none\" id=\"path6601\" cx=\"64.909271\" cy=\"68.461617\" rx=\"3.0090144\" ry=\"2.8506453\"/>\n",
       "    <ellipse style=\"fill:none;stroke:none;stroke-width:0.25;stroke-linecap:round;stroke-linejoin:round;stroke-miterlimit:4;stroke-dasharray:none\" id=\"path6603\" cx=\"72.19426\" cy=\"66.561188\" rx=\"3.9592295\" ry=\"4.7510757\"/>\n",
       "    <circle style=\"fill:#000000;stroke:none;stroke-width:0.25;stroke-linecap:round;stroke-linejoin:round;stroke-miterlimit:4;stroke-dasharray:none\" id=\"path6605\" cx=\"115.972\" cy=\"130.83186\" r=\"1.25\"/>\n",
       "    <path style=\"fill:none;stroke:#000000;stroke-width:0.499998;stroke-linecap:butt;stroke-linejoin:miter;stroke-miterlimit:4;stroke-dasharray:0.499998, 0.499998;stroke-dashoffset:0;stroke-opacity:1\" d=\"m 111.77966,126.48823 3.40091,3.52365 0.79143,0.81999\" id=\"path897-7-9-8\" sodipodi:nodetypes=\"ccc\"/>\n",
       "    <path style=\"fill:none;stroke:#000000;stroke-width:0.25;stroke-linecap:round;stroke-linejoin:miter;stroke-miterlimit:4;stroke-dasharray:none;stroke-dashoffset:0;stroke-opacity:1;marker-start:url(#marker3028-7);marker-end:url(#marker3262-7-4)\" d=\"m 95.315697,142.4054 7.690033,-7.43463 m 2.62176,-2.53469 6.15217,-5.94785\" id=\"path1471-3-4\" sodipodi:nodetypes=\"cccc\"/>\n",
       "    <path style=\"fill:none;stroke:#000000;stroke-width:0.5;stroke-linecap:butt;stroke-linejoin:miter;stroke-miterlimit:4;stroke-dasharray:0.5, 0.5;stroke-dashoffset:0;stroke-opacity:1\" d=\"m 147.46944,100.36565 3.40091,3.52365 0.79143,0.81999\" id=\"path897-7-9-8-1\" sodipodi:nodetypes=\"ccc\"/>\n",
       "    <path style=\"fill:none;stroke:#000000;stroke-width:0.25;stroke-linecap:round;stroke-linejoin:miter;stroke-miterlimit:4;stroke-dasharray:none;stroke-dashoffset:0;stroke-opacity:1;marker-start:url(#marker3028-7-5);marker-end:url(#marker3262-7-4-5)\" d=\"m 103.71273,151.08831 6.88881,-6.66603 m 4.27284,-4.11015 1.65514,-1.6206 m 5.40645,-5.23713 29.71589,-28.75487\" id=\"path1471-3-4-2\" sodipodi:nodetypes=\"cccccc\"/>\n",
       "    <circle style=\"fill:#ff6600;stroke:none;stroke-width:0.25;stroke-linecap:round;stroke-linejoin:round;stroke-miterlimit:4;stroke-dasharray:none\" id=\"path6605-9\" cx=\"99.405823\" cy=\"146.63594\" r=\"1.5\"/>\n",
       "    <path style=\"fill:none;stroke:#000000;stroke-width:0.5;stroke-linecap:butt;stroke-linejoin:miter;stroke-miterlimit:4;stroke-dasharray:none;stroke-opacity:1;marker-start:url(#ExperimentalArrow-5)\" d=\"M 11.33785,92.951917 43.216147,188.76113\" id=\"path979-6\" sodipodi:nodetypes=\"cc\"/>\n",
       "    <path style=\"fill:#0000ff;stroke:#0000ff;stroke-width:0.75;stroke-linecap:round;stroke-linejoin:miter;stroke-miterlimit:4;stroke-dasharray:none;stroke-opacity:1;marker-end:url(#marker4860)\" d=\"m 99.516217,146.75006 -6.38157,-6.59712\" id=\"path1870\"/>\n",
       "    <path style=\"fill:#d40000;stroke:#d40000;stroke-width:0.75;stroke-linecap:round;stroke-linejoin:miter;stroke-miterlimit:4;stroke-dasharray:none;stroke-opacity:1;marker-end:url(#Arrow2Mend)\" d=\"m 99.516227,146.75006 6.621653,-6.40532\" id=\"path4354\"/>\n",
       "    <path style=\"fill:#008000;stroke:#008000;stroke-width:0.75;stroke-linecap:round;stroke-linejoin:miter;stroke-miterlimit:4;stroke-dasharray:none;stroke-opacity:1;marker-start:url(#marker11438)\" d=\"m 95.917262,133.66223 3.59896,13.08783\" id=\"path979-6-5\" sodipodi:nodetypes=\"cc\"/>\n",
       "    <path style=\"fill:#d40000;stroke:#d40000;stroke-width:0.75;stroke-linecap:round;stroke-linejoin:miter;stroke-opacity:1;marker-end:url(#Arrow2Mend-9)\" d=\"m 43.220057,188.75265 9.21272,0.008\" id=\"path4354-1\" inkscape:transform-center-x=\"-4.7431949\" inkscape:transform-center-y=\"0.0125159\"/>\n",
       "    <path style=\"fill:#0000ff;stroke:#0000ff;stroke-width:0.75;stroke-linecap:round;stroke-linejoin:miter;stroke-opacity:1;marker-end:url(#marker4860-7)\" d=\"m 43.220057,188.75265 -0.0114,-11.4643\" id=\"path1870-3\" inkscape:transform-center-x=\"0.0039569\" inkscape:transform-center-y=\"-6.3751726\"/>\n",
       "    <g transform=\"matrix(0.49780927,0,0,0.49780927,172.96414,144.29875)\" ns2:version=\"1.3.0\" ns2:texconverter=\"pdflatex\" ns2:pdfconverter=\"inkscape\" ns2:text=\"\\\\raisebox{.5pt}{\\\\textcircled{\\\\raisebox{-.9pt} {$A_{1}$}}} \\n\\n\" ns2:preamble=\"\" ns2:scale=\"2.0\" ns2:alignment=\"middle center\" ns2:inkscapeversion=\"1.0.2\" ns2:jacobian_sqrt=\"0.705556\" id=\"g585\">\n",
       "      <defs id=\"id-5509f399-faf0-44a5-8a96-032606f94d61\">\n",
       "        <g id=\"id-7cde75e6-f8ec-445e-ab46-2904f90aed68\">\n",
       "          <symbol overflow=\"visible\" id=\"id-4cded0c9-5645-436d-b50f-6ae05ca649fe\">\n",
       "            <path style=\"stroke:none;stroke-width:0\" d=\"\" id=\"id-7ff4acd6-c77a-4698-9d47-2e1d3f4edacf\"/>\n",
       "          </symbol>\n",
       "          <symbol overflow=\"visible\" id=\"id-2c4e77ca-9c35-4397-89c6-d8082665e6bb\">\n",
       "            <path style=\"stroke:none;stroke-width:0\" d=\"M 1.78125,-1.140625 C 1.390625,-0.484375 1,-0.34375 0.5625,-0.3125 0.4375,-0.296875 0.34375,-0.296875 0.34375,-0.109375 0.34375,-0.046875 0.40625,0 0.484375,0 0.75,0 1.0625,-0.03125 1.328125,-0.03125 c 0.34375,0 0.6875,0.03125 1,0.03125 0.0625,0 0.1875,0 0.1875,-0.1875 0,-0.109375 -0.078125,-0.125 -0.15625,-0.125 -0.21875,-0.015625 -0.46875,-0.09375 -0.46875,-0.34375 0,-0.125 0.0625,-0.234375 0.140625,-0.375 l 0.765625,-1.265625 h 2.5 c 0.015625,0.203125 0.15625,1.5625 0.15625,1.65625 0,0.296875 -0.515625,0.328125 -0.71875,0.328125 C 4.59375,-0.3125 4.5,-0.3125 4.5,-0.109375 4.5,0 4.609375,0 4.640625,0 5.046875,0 5.46875,-0.03125 5.875,-0.03125 6.125,-0.03125 6.765625,0 7.015625,0 7.0625,0 7.1875,0 7.1875,-0.203125 7.1875,-0.3125 7.09375,-0.3125 6.953125,-0.3125 6.34375,-0.3125 6.34375,-0.375 6.3125,-0.671875 l -0.609375,-6.21875 c -0.015625,-0.203125 -0.015625,-0.25 -0.1875,-0.25 -0.15625,0 -0.203125,0.078125 -0.265625,0.171875 z M 2.984375,-2.609375 4.9375,-5.90625 5.265625,-2.609375 Z m 0,0\" id=\"id-ac0987e4-c606-4acb-83f4-38b0aeb504a2\"/>\n",
       "          </symbol>\n",
       "          <symbol overflow=\"visible\" id=\"id-6b32bd25-ee96-4c52-9c98-c25a16207d9e\">\n",
       "            <path style=\"stroke:none;stroke-width:0\" d=\"\" id=\"id-208ae344-46f4-49a3-a23f-096085e46f9b\"/>\n",
       "          </symbol>\n",
       "          <symbol overflow=\"visible\" id=\"id-ffc2a9d3-fafd-42e3-a033-6ecc19e62e59\">\n",
       "            <path style=\"stroke:none;stroke-width:0\" d=\"m 2.328125,-4.4375 c 0,-0.1875 0,-0.1875 -0.203125,-0.1875 -0.453125,0.4375 -1.078125,0.4375 -1.359375,0.4375 v 0.25 c 0.15625,0 0.625,0 1,-0.1875 v 3.546875 c 0,0.234375 0,0.328125 -0.6875,0.328125 H 0.8125 V 0 c 0.125,0 0.984375,-0.03125 1.234375,-0.03125 0.21875,0 1.09375,0.03125 1.25,0.03125 V -0.25 H 3.03125 c -0.703125,0 -0.703125,-0.09375 -0.703125,-0.328125 z m 0,0\" id=\"id-fc95a871-31ef-4dd0-8d29-7c953de6fcc0\"/>\n",
       "          </symbol>\n",
       "          <symbol overflow=\"visible\" id=\"id-13239b61-b04e-46cb-8113-b8fddbe769e4\">\n",
       "            <path style=\"stroke:none;stroke-width:0\" d=\"\" id=\"id-63fa619b-0428-43f0-b76e-57de3a3734ba\"/>\n",
       "          </symbol>\n",
       "          <symbol overflow=\"visible\" id=\"id-ae2a77b2-8c39-4190-bfd3-2d17984c4135\">\n",
       "            <path style=\"stroke:none;stroke-width:0\" d=\"M 5.296875,-7.703125 C 5.03125,-7.671875 4.75,-7.65625 4.484375,-7.59375 c -2.265625,0.53125 -3.9375,2.625 -3.9375,5.078125 0,2.15625 1.34375,4.375 3.65625,5.03125 0.4375,0.125 0.890625,0.203125 1.34375,0.203125 2.75,0 4.875,-2.359375 4.96875,-5.015625 V -2.5 C 10.515625,-5.171875 8.5,-7.703125 5.4375,-7.703125 Z m -4.34375,5.40625 V -2.4375 c 0,-2.484375 1.78125,-4.875 4.578125,-4.875 H 5.671875 C 8.03125,-7.203125 10.125,-5.203125 10.125,-2.5 10.125,-0.0625 8.25,2.296875 5.5,2.296875 3.328125,2.296875 1.4375,0.609375 1.03125,-1.5625 0.984375,-1.796875 0.984375,-2.046875 0.953125,-2.296875 Z m 0,0\" id=\"id-d617e24a-bb2e-45c0-9e8e-8455f01533be\"/>\n",
       "          </symbol>\n",
       "        </g>\n",
       "      </defs>\n",
       "    </g>\n",
       "    <g id=\"id-493320c7-afd9-4121-a45e-6a37ef7c7a56\" transform=\"matrix(0.705556,0,0,0.705556,34.387222,39.566716)\">\n",
       "      <g transform=\"matrix(0.705556,0,0,0.705556,163.26841,107.63989)\" ns2:version=\"1.3.0\" ns2:texconverter=\"pdflatex\" ns2:pdfconverter=\"inkscape\" ns2:text=\"\\\\fontsize{11pt}{1em}\\\\selectfont{ \\\\circled{$A_{1}$} }\\n\\n\" ns2:preamble=\"/Users/abhi/Software/textext-1.3.0/textext/default_packages.tex\" ns2:scale=\"2.0\" ns2:alignment=\"middle center\" ns2:inkscapeversion=\"1.0.2\" ns2:jacobian_sqrt=\"0.705556\" id=\"g6271\">\n",
       "        <defs id=\"id-d7c02e9c-568e-4d6e-8587-26301f402282\">\n",
       "          <g id=\"id-90a140b5-4a22-4c5c-b03b-bcf22cf71ea5\">\n",
       "            <symbol overflow=\"visible\" id=\"id-9fb94547-0a5f-46b7-b7f3-73b16802351b\">\n",
       "              <path style=\"stroke:none;stroke-width:0\" d=\"\" id=\"id-1fdd4d8e-bc2b-4b9d-b237-3576760be104\"/>\n",
       "            </symbol>\n",
       "            <symbol overflow=\"visible\" id=\"id-10b4e7c3-bf40-4f32-bfbb-ee62d2adfcfa\">\n",
       "              <path style=\"stroke:none;stroke-width:0\" d=\"M 7.734375,-0.203125 C 7.734375,-0.3125 7.640625,-0.3125 7.46875,-0.3125 6.875,-0.3125 6.859375,-0.421875 6.828125,-0.75 L 6.15625,-7.578125 c -0.015625,-0.21875 -0.0625,-0.25 -0.1875,-0.25 -0.109375,0 -0.171875,0.03125 -0.265625,0.1875 l -3.84375,6.421875 c -0.375,0.65625 -0.75,0.875 -1.28125,0.90625 -0.125,0 -0.203125,0 -0.203125,0.203125 C 0.375,-0.046875 0.421875,0 0.5,0 L 1.390625,-0.015625 C 1.703125,-0.015625 2.0625,0 2.359375,0 2.4375,0 2.5625,0 2.5625,-0.203125 2.5625,-0.3125 2.46875,-0.3125 2.40625,-0.3125 c -0.25,-0.03125 -0.453125,-0.109375 -0.453125,-0.375 0,-0.15625 0.0625,-0.28125 0.203125,-0.515625 l 0.828125,-1.375 H 5.78125 c 0.015625,0.09375 0.015625,0.171875 0.03125,0.28125 0.03125,0.28125 0.15625,1.421875 0.15625,1.625 0,0.328125 -0.5625,0.359375 -0.734375,0.359375 C 5.109375,-0.3125 5,-0.3125 5,-0.125 5,0 5.09375,0 5.15625,0 5.34375,0 5.5625,-0.015625 5.75,-0.015625 H 6.375 L 7.53125,0 C 7.609375,0 7.734375,0 7.734375,-0.203125 Z M 5.75,-2.90625 H 3.171875 L 5.375,-6.578125 Z m 0,0\" id=\"id-eaff52a7-e5c2-4083-b268-798b722ca40a\"/>\n",
       "            </symbol>\n",
       "            <symbol overflow=\"visible\" id=\"id-f4500229-9833-497e-a938-378b5019ac34\">\n",
       "              <path style=\"stroke:none;stroke-width:0\" d=\"\" id=\"id-558fe10c-5173-4a3a-8603-7c0dbdb54ee9\"/>\n",
       "            </symbol>\n",
       "            <symbol overflow=\"visible\" id=\"id-4bd40f89-3e5e-4c1b-b2dc-4fb45b506d44\">\n",
       "              <path style=\"stroke:none;stroke-width:0\" d=\"M 3.421875,0 V -0.25 H 3.15625 c -0.71875,0 -0.75,-0.09375 -0.75,-0.375 v -4.265625 c 0,-0.203125 -0.015625,-0.21875 -0.21875,-0.21875 -0.3125,0.3125 -0.71875,0.5 -1.453125,0.5 v 0.25 c 0.203125,0 0.625,0 1.0625,-0.203125 v 3.9375 c 0,0.28125 -0.015625,0.375 -0.75,0.375 H 0.78125 V 0 c 0.3125,-0.015625 0.96875,-0.015625 1.328125,-0.015625 0.34375,0 1,0 1.3125,0.015625 z m 0,0\" id=\"id-7bfb2986-007a-4cc2-b56e-7d9af9f27501\"/>\n",
       "            </symbol>\n",
       "          </g>\n",
       "        </defs>\n",
       "        <g id=\"id-5397bbbe-6c14-4ba7-9f99-73e9e9f7937f\" transform=\"translate(-148.711,-124.801)\">\n",
       "          <path style=\"fill:none;stroke:#000000;stroke-width:0.3985;stroke-linecap:butt;stroke-linejoin:miter;stroke-miterlimit:10;stroke-opacity:1\" d=\"M 10.574594,-2.1875e-4 C 10.574594,5.839625 5.840219,10.574 3.75e-4,10.574 c -5.839844,0 -10.574219,-4.734375 -10.574219,-10.57421875 0,-5.83984325 4.734375,-10.57421825 10.574219,-10.57421825 5.839844,0 10.574219,4.734375 10.574219,10.57421825 z m 0,0\" transform=\"matrix(1,0,0,-1,159.484,135.574)\" id=\"id-3087361a-9d3d-44bc-8d81-4e7c0a502b09\"/>\n",
       "          <g style=\"fill:#000000;fill-opacity:1\" id=\"id-f4c21617-4512-4ead-9ac2-5bd82e3d6efc\">\n",
       "            <g transform=\"translate(153.175,138.496)\" id=\"g6263\">\n",
       "              <path style=\"stroke:none;stroke-width:0\" d=\"M 7.734375,-0.203125 C 7.734375,-0.3125 7.640625,-0.3125 7.46875,-0.3125 6.875,-0.3125 6.859375,-0.421875 6.828125,-0.75 L 6.15625,-7.578125 c -0.015625,-0.21875 -0.0625,-0.25 -0.1875,-0.25 -0.109375,0 -0.171875,0.03125 -0.265625,0.1875 l -3.84375,6.421875 c -0.375,0.65625 -0.75,0.875 -1.28125,0.90625 -0.125,0 -0.203125,0 -0.203125,0.203125 C 0.375,-0.046875 0.421875,0 0.5,0 L 1.390625,-0.015625 C 1.703125,-0.015625 2.0625,0 2.359375,0 2.4375,0 2.5625,0 2.5625,-0.203125 2.5625,-0.3125 2.46875,-0.3125 2.40625,-0.3125 c -0.25,-0.03125 -0.453125,-0.109375 -0.453125,-0.375 0,-0.15625 0.0625,-0.28125 0.203125,-0.515625 l 0.828125,-1.375 H 5.78125 c 0.015625,0.09375 0.015625,0.171875 0.03125,0.28125 0.03125,0.28125 0.15625,1.421875 0.15625,1.625 0,0.328125 -0.5625,0.359375 -0.734375,0.359375 C 5.109375,-0.3125 5,-0.3125 5,-0.125 5,0 5.09375,0 5.15625,0 5.34375,0 5.5625,-0.015625 5.75,-0.015625 H 6.375 L 7.53125,0 C 7.609375,0 7.734375,0 7.734375,-0.203125 Z M 5.75,-2.90625 H 3.171875 L 5.375,-6.578125 Z m 0,0\" id=\"id-7edfadcf-1a97-4af8-b10a-af3e18f7a9e9\"/>\n",
       "            </g>\n",
       "          </g>\n",
       "          <g style=\"fill:#000000;fill-opacity:1\" id=\"id-f28069f2-67e9-40d7-bf06-49e7977ccb70\">\n",
       "            <g transform=\"translate(161.22,140.14)\" id=\"g6267\">\n",
       "              <path style=\"stroke:none;stroke-width:0\" d=\"M 3.421875,0 V -0.25 H 3.15625 c -0.71875,0 -0.75,-0.09375 -0.75,-0.375 v -4.265625 c 0,-0.203125 -0.015625,-0.21875 -0.21875,-0.21875 -0.3125,0.3125 -0.71875,0.5 -1.453125,0.5 v 0.25 c 0.203125,0 0.625,0 1.0625,-0.203125 v 3.9375 c 0,0.28125 -0.015625,0.375 -0.75,0.375 H 0.78125 V 0 c 0.3125,-0.015625 0.96875,-0.015625 1.328125,-0.015625 0.34375,0 1,0 1.3125,0.015625 z m 0,0\" id=\"id-60cd8fbb-bc02-49d4-8519-b042cc3cb03d\"/>\n",
       "            </g>\n",
       "          </g>\n",
       "        </g>\n",
       "      </g>\n",
       "      <g id=\"g6564\" transform=\"translate(1.7103187,-14.965289)\">\n",
       "        <g transform=\"matrix(0.705556,0,0,0.705556,98.007,117.20274)\" ns2:version=\"1.3.0\" ns2:texconverter=\"pdflatex\" ns2:pdfconverter=\"inkscape\" ns2:text=\"\\\\fontsize{11pt}{1em}\\\\selectfont{ \\\\circled{$A_{2}$} }\\n\\n\" ns2:preamble=\"/Users/abhi/Software/textext-1.3.0/textext/default_packages.tex\" ns2:scale=\"2.0\" ns2:alignment=\"middle center\" ns2:inkscapeversion=\"1.0.2\" ns2:jacobian_sqrt=\"0.705556\" id=\"g6519\">\n",
       "          <defs id=\"id-0bf337ba-55d8-415a-9ae6-c41ddfeeacfc\">\n",
       "            <g id=\"id-1f49e6a0-3834-41a3-b203-15854bf38c58\">\n",
       "              <symbol overflow=\"visible\" id=\"id-08f68a6e-6c35-411c-815f-e80dd29040e3\">\n",
       "                <path style=\"stroke:none;stroke-width:0\" d=\"\" id=\"id-ab5512ef-cd30-4009-8716-94ef36e1167f\"/>\n",
       "              </symbol>\n",
       "              <symbol overflow=\"visible\" id=\"id-32d35ea6-fe62-42c1-b178-955b0b21831a\">\n",
       "                <path style=\"stroke:none;stroke-width:0\" d=\"M 7.734375,-0.203125 C 7.734375,-0.3125 7.640625,-0.3125 7.46875,-0.3125 6.875,-0.3125 6.859375,-0.421875 6.828125,-0.75 L 6.15625,-7.578125 c -0.015625,-0.21875 -0.0625,-0.25 -0.1875,-0.25 -0.109375,0 -0.171875,0.03125 -0.265625,0.1875 l -3.84375,6.421875 c -0.375,0.65625 -0.75,0.875 -1.28125,0.90625 -0.125,0 -0.203125,0 -0.203125,0.203125 C 0.375,-0.046875 0.421875,0 0.5,0 L 1.390625,-0.015625 C 1.703125,-0.015625 2.0625,0 2.359375,0 2.4375,0 2.5625,0 2.5625,-0.203125 2.5625,-0.3125 2.46875,-0.3125 2.40625,-0.3125 c -0.25,-0.03125 -0.453125,-0.109375 -0.453125,-0.375 0,-0.15625 0.0625,-0.28125 0.203125,-0.515625 l 0.828125,-1.375 H 5.78125 c 0.015625,0.09375 0.015625,0.171875 0.03125,0.28125 0.03125,0.28125 0.15625,1.421875 0.15625,1.625 0,0.328125 -0.5625,0.359375 -0.734375,0.359375 C 5.109375,-0.3125 5,-0.3125 5,-0.125 5,0 5.09375,0 5.15625,0 5.34375,0 5.5625,-0.015625 5.75,-0.015625 H 6.375 L 7.53125,0 C 7.609375,0 7.734375,0 7.734375,-0.203125 Z M 5.75,-2.90625 H 3.171875 L 5.375,-6.578125 Z m 0,0\" id=\"id-435c396a-1fb1-49b7-ab9a-a2ffd76a3961\"/>\n",
       "              </symbol>\n",
       "              <symbol overflow=\"visible\" id=\"id-59f66104-c6c9-4176-ae6a-8b300d2f6ee4\">\n",
       "                <path style=\"stroke:none;stroke-width:0\" d=\"\" id=\"id-ba958b30-4374-4723-9ca2-34d27716d77a\"/>\n",
       "              </symbol>\n",
       "              <symbol overflow=\"visible\" id=\"id-3d028309-57af-46c5-b058-b10cab054b2d\">\n",
       "                <path style=\"stroke:none;stroke-width:0\" d=\"M 3.65625,-1.375 H 3.421875 C 3.40625,-1.21875 3.34375,-0.84375 3.25,-0.6875 3.203125,-0.625 2.609375,-0.625 2.5,-0.625 H 1.125 l 1.03125,-0.9375 c 0.125,-0.125 0.453125,-0.375 0.578125,-0.484375 0.46875,-0.4375 0.921875,-0.859375 0.921875,-1.546875 0,-0.921875 -0.765625,-1.515625 -1.71875,-1.515625 -0.921875,0 -1.53125,0.703125 -1.53125,1.390625 0,0.375 0.296875,0.421875 0.40625,0.421875 0.15625,0 0.40625,-0.109375 0.40625,-0.40625 0,-0.390625 -0.390625,-0.390625 -0.484375,-0.390625 0.21875,-0.5625 0.734375,-0.75 1.109375,-0.75 0.71875,0 1.09375,0.59375 1.09375,1.25 0,0.796875 -0.5625,1.375 -1.46875,2.3125 L 0.5,-0.296875 C 0.40625,-0.203125 0.40625,-0.1875 0.40625,0 H 3.4375 Z m 0,0\" id=\"id-0f6bd194-a90f-4027-9a9e-d6c210ecabf2\"/>\n",
       "              </symbol>\n",
       "            </g>\n",
       "          </defs>\n",
       "          <g id=\"id-49a7737c-d45f-4ad1-af01-2616876b6b73\" transform=\"translate(-148.711,-124.801)\">\n",
       "            <path style=\"fill:none;stroke:#000000;stroke-width:0.3985;stroke-linecap:butt;stroke-linejoin:miter;stroke-miterlimit:10;stroke-opacity:1\" d=\"M 10.574594,-2.1875e-4 C 10.574594,5.839625 5.840219,10.574 3.75e-4,10.574 c -5.839844,0 -10.574219,-4.734375 -10.574219,-10.57421875 0,-5.83984325 4.734375,-10.57421825 10.574219,-10.57421825 5.839844,0 10.574219,4.734375 10.574219,10.57421825 z m 0,0\" transform=\"matrix(1,0,0,-1,159.484,135.574)\" id=\"id-d6ed10a6-913c-4316-ba2d-fbca555c4eb9\"/>\n",
       "            <g style=\"fill:#000000;fill-opacity:1\" id=\"id-e50c8d6a-2dc6-47d2-9cc1-99e543c50edd\">\n",
       "              <g transform=\"translate(153.175,138.496)\" id=\"g6511\">\n",
       "                <path style=\"stroke:none;stroke-width:0\" d=\"M 7.734375,-0.203125 C 7.734375,-0.3125 7.640625,-0.3125 7.46875,-0.3125 6.875,-0.3125 6.859375,-0.421875 6.828125,-0.75 L 6.15625,-7.578125 c -0.015625,-0.21875 -0.0625,-0.25 -0.1875,-0.25 -0.109375,0 -0.171875,0.03125 -0.265625,0.1875 l -3.84375,6.421875 c -0.375,0.65625 -0.75,0.875 -1.28125,0.90625 -0.125,0 -0.203125,0 -0.203125,0.203125 C 0.375,-0.046875 0.421875,0 0.5,0 L 1.390625,-0.015625 C 1.703125,-0.015625 2.0625,0 2.359375,0 2.4375,0 2.5625,0 2.5625,-0.203125 2.5625,-0.3125 2.46875,-0.3125 2.40625,-0.3125 c -0.25,-0.03125 -0.453125,-0.109375 -0.453125,-0.375 0,-0.15625 0.0625,-0.28125 0.203125,-0.515625 l 0.828125,-1.375 H 5.78125 c 0.015625,0.09375 0.015625,0.171875 0.03125,0.28125 0.03125,0.28125 0.15625,1.421875 0.15625,1.625 0,0.328125 -0.5625,0.359375 -0.734375,0.359375 C 5.109375,-0.3125 5,-0.3125 5,-0.125 5,0 5.09375,0 5.15625,0 5.34375,0 5.5625,-0.015625 5.75,-0.015625 H 6.375 L 7.53125,0 C 7.609375,0 7.734375,0 7.734375,-0.203125 Z M 5.75,-2.90625 H 3.171875 L 5.375,-6.578125 Z m 0,0\" id=\"id-b9aac18b-52ad-47c9-b4f3-dadeebba44a8\"/>\n",
       "              </g>\n",
       "            </g>\n",
       "            <g style=\"fill:#000000;fill-opacity:1\" id=\"id-c3f47b98-9dee-481a-9956-effb4b9e0592\">\n",
       "              <g transform=\"translate(161.22,140.14)\" id=\"g6515\">\n",
       "                <path style=\"stroke:none;stroke-width:0\" d=\"M 3.65625,-1.375 H 3.421875 C 3.40625,-1.21875 3.34375,-0.84375 3.25,-0.6875 3.203125,-0.625 2.609375,-0.625 2.5,-0.625 H 1.125 l 1.03125,-0.9375 c 0.125,-0.125 0.453125,-0.375 0.578125,-0.484375 0.46875,-0.4375 0.921875,-0.859375 0.921875,-1.546875 0,-0.921875 -0.765625,-1.515625 -1.71875,-1.515625 -0.921875,0 -1.53125,0.703125 -1.53125,1.390625 0,0.375 0.296875,0.421875 0.40625,0.421875 0.15625,0 0.40625,-0.109375 0.40625,-0.40625 0,-0.390625 -0.390625,-0.390625 -0.484375,-0.390625 0.21875,-0.5625 0.734375,-0.75 1.109375,-0.75 0.71875,0 1.09375,0.59375 1.09375,1.25 0,0.796875 -0.5625,1.375 -1.46875,2.3125 L 0.5,-0.296875 C 0.40625,-0.203125 0.40625,-0.1875 0.40625,0 H 3.4375 Z m 0,0\" id=\"id-394b6fa3-93e6-448b-b722-f894eb1b024f\"/>\n",
       "              </g>\n",
       "            </g>\n",
       "          </g>\n",
       "        </g>\n",
       "        <g id=\"g6874\" transform=\"translate(60.288734,-8.5515935)\">\n",
       "          <g transform=\"matrix(0.705556,0,0,0.705556,56.948351,60.751222)\" ns2:version=\"1.3.0\" ns2:texconverter=\"pdflatex\" ns2:pdfconverter=\"inkscape\" ns2:text=\"\\\\fontsize{11pt}{1em}\\\\selectfont{ \\\\circled{$B_{1}$} }\\n\" ns2:preamble=\"/Users/abhi/Software/textext-1.3.0/textext/default_packages.tex\" ns2:scale=\"2.0\" ns2:alignment=\"middle center\" ns2:inkscapeversion=\"1.0.2\" ns2:jacobian_sqrt=\"0.705556\" id=\"g6807\">\n",
       "            <defs id=\"id-b043adb8-7d8a-4ef9-a2bb-9bb1a9ac4410\">\n",
       "              <g id=\"id-240ba5bd-e910-44d6-8171-3428c397a7e0\">\n",
       "                <symbol overflow=\"visible\" id=\"id-2517d830-e016-4eda-88e3-c955090c389e\">\n",
       "                  <path style=\"stroke:none;stroke-width:0\" d=\"\" id=\"id-6f99fe92-058a-449d-9c8b-ae9564ef3e4d\"/>\n",
       "                </symbol>\n",
       "                <symbol overflow=\"visible\" id=\"id-cac07935-b890-4ee0-bde9-f0b9eeea33d0\">\n",
       "                  <path style=\"stroke:none;stroke-width:0\" d=\"M 7.234375,-6.015625 C 7.234375,-5.125 6.359375,-4 4.90625,-4 H 3.328125 l 0.6875,-2.734375 c 0.09375,-0.40625 0.140625,-0.421875 0.5625,-0.421875 H 6 c 1.234375,0 1.234375,1.046875 1.234375,1.140625 z M 7.53125,-2.375 c 0,-0.90625 -0.78125,-1.453125 -1.671875,-1.53125 1.1875,-0.21875 2.28125,-1.0625 2.28125,-2.0625 0,-0.859375 -0.765625,-1.515625 -2,-1.515625 H 2.625 c -0.203125,0 -0.296875,0 -0.296875,0.21875 0,0.109375 0.09375,0.109375 0.25,0.109375 0.671875,0 0.671875,0.078125 0.671875,0.203125 0,0 0,0.078125 -0.046875,0.25 L 1.734375,-0.8125 c -0.109375,0.390625 -0.125,0.5 -0.890625,0.5 -0.203125,0 -0.3125,0 -0.3125,0.1875 C 0.53125,0 0.59375,0 0.8125,0 h 3.75 C 6.25,0 7.53125,-1.265625 7.53125,-2.375 Z M 6.609375,-2.484375 c 0,1.046875 -0.953125,2.171875 -2.3125,2.171875 h -1.46875 c -0.15625,0 -0.171875,0 -0.25,-0.015625 -0.109375,-0.015625 -0.125,-0.03125 -0.125,-0.125 C 2.453125,-0.53125 2.46875,-0.59375 2.5,-0.6875 l 0.765625,-3.09375 h 2.0625 c 1.28125,0 1.28125,1.203125 1.28125,1.296875 z m 0,0\" id=\"id-9627a0db-fee8-44f0-8e99-bb674be70bcb\"/>\n",
       "                </symbol>\n",
       "                <symbol overflow=\"visible\" id=\"id-df14d76f-02dc-46f6-8438-4d0369b757a7\">\n",
       "                  <path style=\"stroke:none;stroke-width:0\" d=\"\" id=\"id-ccb8698b-2f0b-4478-90bc-a1666209de1a\"/>\n",
       "                </symbol>\n",
       "                <symbol overflow=\"visible\" id=\"id-8ce958f7-8d79-4036-a596-8854110dc383\">\n",
       "                  <path style=\"stroke:none;stroke-width:0\" d=\"M 3.421875,0 V -0.25 H 3.15625 c -0.71875,0 -0.75,-0.09375 -0.75,-0.375 v -4.265625 c 0,-0.203125 -0.015625,-0.21875 -0.21875,-0.21875 -0.3125,0.3125 -0.71875,0.5 -1.453125,0.5 v 0.25 c 0.203125,0 0.625,0 1.0625,-0.203125 v 3.9375 c 0,0.28125 -0.015625,0.375 -0.75,0.375 H 0.78125 V 0 c 0.3125,-0.015625 0.96875,-0.015625 1.328125,-0.015625 0.34375,0 1,0 1.3125,0.015625 z m 0,0\" id=\"id-762722c1-7c84-4aa4-b320-e9a049ad631d\"/>\n",
       "                </symbol>\n",
       "              </g>\n",
       "            </defs>\n",
       "            <g id=\"id-c40bf59b-6cef-454b-8e6a-3c395419c791\" transform=\"translate(-148.711,-124.801)\">\n",
       "              <path style=\"fill:none;stroke:#000000;stroke-width:0.3985;stroke-linecap:butt;stroke-linejoin:miter;stroke-miterlimit:10;stroke-opacity:1\" d=\"M 10.589844,1.5625e-4 C 10.589844,5.847813 5.847656,10.59 0,10.59 -5.847656,10.59 -10.589844,5.847813 -10.589844,1.5625e-4 -10.589844,-5.8475 -5.847656,-10.589687 0,-10.589687 c 5.847656,0 10.589844,4.742187 10.589844,10.58984325 z m 0,0\" transform=\"matrix(1,0,0,-1,159.5,135.59)\" id=\"id-8fe52f06-d389-4137-b658-4a4742009101\"/>\n",
       "              <g style=\"fill:#000000;fill-opacity:1\" id=\"id-9cf6528e-5ae8-40fb-8227-03817a557e92\">\n",
       "                <g transform=\"translate(153.138,138.512)\" id=\"g6799\">\n",
       "                  <path style=\"stroke:none;stroke-width:0\" d=\"M 7.234375,-6.015625 C 7.234375,-5.125 6.359375,-4 4.90625,-4 H 3.328125 l 0.6875,-2.734375 c 0.09375,-0.40625 0.140625,-0.421875 0.5625,-0.421875 H 6 c 1.234375,0 1.234375,1.046875 1.234375,1.140625 z M 7.53125,-2.375 c 0,-0.90625 -0.78125,-1.453125 -1.671875,-1.53125 1.1875,-0.21875 2.28125,-1.0625 2.28125,-2.0625 0,-0.859375 -0.765625,-1.515625 -2,-1.515625 H 2.625 c -0.203125,0 -0.296875,0 -0.296875,0.21875 0,0.109375 0.09375,0.109375 0.25,0.109375 0.671875,0 0.671875,0.078125 0.671875,0.203125 0,0 0,0.078125 -0.046875,0.25 L 1.734375,-0.8125 c -0.109375,0.390625 -0.125,0.5 -0.890625,0.5 -0.203125,0 -0.3125,0 -0.3125,0.1875 C 0.53125,0 0.59375,0 0.8125,0 h 3.75 C 6.25,0 7.53125,-1.265625 7.53125,-2.375 Z M 6.609375,-2.484375 c 0,1.046875 -0.953125,2.171875 -2.3125,2.171875 h -1.46875 c -0.15625,0 -0.171875,0 -0.25,-0.015625 -0.109375,-0.015625 -0.125,-0.03125 -0.125,-0.125 C 2.453125,-0.53125 2.46875,-0.59375 2.5,-0.6875 l 0.765625,-3.09375 h 2.0625 c 1.28125,0 1.28125,1.203125 1.28125,1.296875 z m 0,0\" id=\"id-946d8aaa-343c-48b0-9820-edc0dce71abc\"/>\n",
       "                </g>\n",
       "              </g>\n",
       "              <g style=\"fill:#000000;fill-opacity:1\" id=\"id-3982f138-9b77-4fd4-ab24-78a8f23a7ab5\">\n",
       "                <g transform=\"translate(161.289,140.156)\" id=\"g6803\">\n",
       "                  <path style=\"stroke:none;stroke-width:0\" d=\"M 3.421875,0 V -0.25 H 3.15625 c -0.71875,0 -0.75,-0.09375 -0.75,-0.375 v -4.265625 c 0,-0.203125 -0.015625,-0.21875 -0.21875,-0.21875 -0.3125,0.3125 -0.71875,0.5 -1.453125,0.5 v 0.25 c 0.203125,0 0.625,0 1.0625,-0.203125 v 3.9375 c 0,0.28125 -0.015625,0.375 -0.75,0.375 H 0.78125 V 0 c 0.3125,-0.015625 0.96875,-0.015625 1.328125,-0.015625 0.34375,0 1,0 1.3125,0.015625 z m 0,0\" id=\"id-8ccb85ec-548b-4c9c-be26-3fb9930783da\"/>\n",
       "                </g>\n",
       "              </g>\n",
       "            </g>\n",
       "          </g>\n",
       "        </g>\n",
       "        <g id=\"g7183\" transform=\"translate(95.98184,-40.940121)\">\n",
       "          <g transform=\"matrix(0.705556,0,0,0.705556,108.583,120.682)\" ns2:version=\"1.3.0\" ns2:texconverter=\"pdflatex\" ns2:pdfconverter=\"inkscape\" ns2:text=\"\\\\fontsize{11pt}{1em}\\\\selectfont{ \\\\circled{$B_{2}$} }\\n\\n\" ns2:preamble=\"/Users/abhi/Software/textext-1.3.0/textext/default_packages.tex\" ns2:scale=\"2.0\" ns2:alignment=\"middle center\" ns2:inkscapeversion=\"1.0.2\" ns2:jacobian_sqrt=\"0.705556\" id=\"g7137\">\n",
       "            <defs id=\"id-38f7c6e8-2b1d-4fb2-afc3-4a1e05338498\">\n",
       "              <g id=\"id-13bba10a-e493-451e-a090-e9c94c5a17ea\">\n",
       "                <symbol overflow=\"visible\" id=\"id-1a7c9fed-123c-4670-ae2c-fad749236b72\">\n",
       "                  <path style=\"stroke:none;stroke-width:0\" d=\"\" id=\"id-e2b1e880-2794-4010-9e13-c597d68e5684\"/>\n",
       "                </symbol>\n",
       "                <symbol overflow=\"visible\" id=\"id-1f1d5d68-4409-49d7-a959-c7997108bf33\">\n",
       "                  <path style=\"stroke:none;stroke-width:0\" d=\"M 7.234375,-6.015625 C 7.234375,-5.125 6.359375,-4 4.90625,-4 H 3.328125 l 0.6875,-2.734375 c 0.09375,-0.40625 0.140625,-0.421875 0.5625,-0.421875 H 6 c 1.234375,0 1.234375,1.046875 1.234375,1.140625 z M 7.53125,-2.375 c 0,-0.90625 -0.78125,-1.453125 -1.671875,-1.53125 1.1875,-0.21875 2.28125,-1.0625 2.28125,-2.0625 0,-0.859375 -0.765625,-1.515625 -2,-1.515625 H 2.625 c -0.203125,0 -0.296875,0 -0.296875,0.21875 0,0.109375 0.09375,0.109375 0.25,0.109375 0.671875,0 0.671875,0.078125 0.671875,0.203125 0,0 0,0.078125 -0.046875,0.25 L 1.734375,-0.8125 c -0.109375,0.390625 -0.125,0.5 -0.890625,0.5 -0.203125,0 -0.3125,0 -0.3125,0.1875 C 0.53125,0 0.59375,0 0.8125,0 h 3.75 C 6.25,0 7.53125,-1.265625 7.53125,-2.375 Z M 6.609375,-2.484375 c 0,1.046875 -0.953125,2.171875 -2.3125,2.171875 h -1.46875 c -0.15625,0 -0.171875,0 -0.25,-0.015625 -0.109375,-0.015625 -0.125,-0.03125 -0.125,-0.125 C 2.453125,-0.53125 2.46875,-0.59375 2.5,-0.6875 l 0.765625,-3.09375 h 2.0625 c 1.28125,0 1.28125,1.203125 1.28125,1.296875 z m 0,0\" id=\"id-200424c5-27ef-4177-b0ab-59e0d28deb53\"/>\n",
       "                </symbol>\n",
       "                <symbol overflow=\"visible\" id=\"id-398102e5-c8b7-4d94-aa2c-d53a797cba19\">\n",
       "                  <path style=\"stroke:none;stroke-width:0\" d=\"\" id=\"id-611c6b9c-aab0-457b-84f4-38adbb30a01a\"/>\n",
       "                </symbol>\n",
       "                <symbol overflow=\"visible\" id=\"id-4393409e-0e85-43df-bf19-b251d88f6c93\">\n",
       "                  <path style=\"stroke:none;stroke-width:0\" d=\"M 3.65625,-1.375 H 3.421875 C 3.40625,-1.21875 3.34375,-0.84375 3.25,-0.6875 3.203125,-0.625 2.609375,-0.625 2.5,-0.625 H 1.125 l 1.03125,-0.9375 c 0.125,-0.125 0.453125,-0.375 0.578125,-0.484375 0.46875,-0.4375 0.921875,-0.859375 0.921875,-1.546875 0,-0.921875 -0.765625,-1.515625 -1.71875,-1.515625 -0.921875,0 -1.53125,0.703125 -1.53125,1.390625 0,0.375 0.296875,0.421875 0.40625,0.421875 0.15625,0 0.40625,-0.109375 0.40625,-0.40625 0,-0.390625 -0.390625,-0.390625 -0.484375,-0.390625 0.21875,-0.5625 0.734375,-0.75 1.109375,-0.75 0.71875,0 1.09375,0.59375 1.09375,1.25 0,0.796875 -0.5625,1.375 -1.46875,2.3125 L 0.5,-0.296875 C 0.40625,-0.203125 0.40625,-0.1875 0.40625,0 H 3.4375 Z m 0,0\" id=\"id-0c6012c4-0daf-407d-814c-99591e40bd33\"/>\n",
       "                </symbol>\n",
       "              </g>\n",
       "            </defs>\n",
       "            <g id=\"id-c07f54cb-7363-4b75-80c4-407ea6ee2ec4\" transform=\"translate(-148.711,-124.801)\">\n",
       "              <path style=\"fill:none;stroke:#000000;stroke-width:0.3985;stroke-linecap:butt;stroke-linejoin:miter;stroke-miterlimit:10;stroke-opacity:1\" d=\"M 10.589844,1.5625e-4 C 10.589844,5.847813 5.847656,10.59 0,10.59 -5.847656,10.59 -10.589844,5.847813 -10.589844,1.5625e-4 -10.589844,-5.8475 -5.847656,-10.589687 0,-10.589687 c 5.847656,0 10.589844,4.742187 10.589844,10.58984325 z m 0,0\" transform=\"matrix(1,0,0,-1,159.5,135.59)\" id=\"id-0be992c5-b591-4758-b4f9-194609e70cd7\"/>\n",
       "              <g style=\"fill:#000000;fill-opacity:1\" id=\"id-e4c09e54-8b7a-49d0-bae6-e21cf40066aa\">\n",
       "                <g transform=\"translate(153.138,138.512)\" id=\"g7129\">\n",
       "                  <path style=\"stroke:none;stroke-width:0\" d=\"M 7.234375,-6.015625 C 7.234375,-5.125 6.359375,-4 4.90625,-4 H 3.328125 l 0.6875,-2.734375 c 0.09375,-0.40625 0.140625,-0.421875 0.5625,-0.421875 H 6 c 1.234375,0 1.234375,1.046875 1.234375,1.140625 z M 7.53125,-2.375 c 0,-0.90625 -0.78125,-1.453125 -1.671875,-1.53125 1.1875,-0.21875 2.28125,-1.0625 2.28125,-2.0625 0,-0.859375 -0.765625,-1.515625 -2,-1.515625 H 2.625 c -0.203125,0 -0.296875,0 -0.296875,0.21875 0,0.109375 0.09375,0.109375 0.25,0.109375 0.671875,0 0.671875,0.078125 0.671875,0.203125 0,0 0,0.078125 -0.046875,0.25 L 1.734375,-0.8125 c -0.109375,0.390625 -0.125,0.5 -0.890625,0.5 -0.203125,0 -0.3125,0 -0.3125,0.1875 C 0.53125,0 0.59375,0 0.8125,0 h 3.75 C 6.25,0 7.53125,-1.265625 7.53125,-2.375 Z M 6.609375,-2.484375 c 0,1.046875 -0.953125,2.171875 -2.3125,2.171875 h -1.46875 c -0.15625,0 -0.171875,0 -0.25,-0.015625 -0.109375,-0.015625 -0.125,-0.03125 -0.125,-0.125 C 2.453125,-0.53125 2.46875,-0.59375 2.5,-0.6875 l 0.765625,-3.09375 h 2.0625 c 1.28125,0 1.28125,1.203125 1.28125,1.296875 z m 0,0\" id=\"id-6f9deb4b-0cf7-47bc-ab50-97ef30cbfc52\"/>\n",
       "                </g>\n",
       "              </g>\n",
       "              <g style=\"fill:#000000;fill-opacity:1\" id=\"id-926acc23-d4f2-4fbb-aa70-7d1a96c18364\">\n",
       "                <g transform=\"translate(161.289,140.156)\" id=\"g7133\">\n",
       "                  <path style=\"stroke:none;stroke-width:0\" d=\"M 3.65625,-1.375 H 3.421875 C 3.40625,-1.21875 3.34375,-0.84375 3.25,-0.6875 3.203125,-0.625 2.609375,-0.625 2.5,-0.625 H 1.125 l 1.03125,-0.9375 c 0.125,-0.125 0.453125,-0.375 0.578125,-0.484375 0.46875,-0.4375 0.921875,-0.859375 0.921875,-1.546875 0,-0.921875 -0.765625,-1.515625 -1.71875,-1.515625 -0.921875,0 -1.53125,0.703125 -1.53125,1.390625 0,0.375 0.296875,0.421875 0.40625,0.421875 0.15625,0 0.40625,-0.109375 0.40625,-0.40625 0,-0.390625 -0.390625,-0.390625 -0.484375,-0.390625 0.21875,-0.5625 0.734375,-0.75 1.109375,-0.75 0.71875,0 1.09375,0.59375 1.09375,1.25 0,0.796875 -0.5625,1.375 -1.46875,2.3125 L 0.5,-0.296875 C 0.40625,-0.203125 0.40625,-0.1875 0.40625,0 H 3.4375 Z m 0,0\" id=\"id-6527eb72-7229-4999-af64-3b86784de4be\"/>\n",
       "                </g>\n",
       "              </g>\n",
       "            </g>\n",
       "          </g>\n",
       "        </g>\n",
       "        <g id=\"g7512\" transform=\"translate(-83.244913,30.477645)\">\n",
       "          <g transform=\"matrix(0.705556,0,0,0.705556,108.583,120.682)\" ns2:version=\"1.3.0\" ns2:texconverter=\"pdflatex\" ns2:pdfconverter=\"inkscape\" ns2:text=\"\\\\fontsize{11pt}{1em}\\\\selectfont{ \\\\circled{$B_{3}$} }\\n\\n\" ns2:preamble=\"/Users/abhi/Software/textext-1.3.0/textext/default_packages.tex\" ns2:scale=\"2.0\" ns2:alignment=\"middle center\" ns2:inkscapeversion=\"1.0.2\" ns2:jacobian_sqrt=\"0.705556\" id=\"g7466\">\n",
       "            <defs id=\"id-fa7ef1cc-6045-4f74-9124-ba3a5ce74780\">\n",
       "              <g id=\"id-6560fcfa-8930-4cac-927a-4362abcd8b70\">\n",
       "                <symbol overflow=\"visible\" id=\"id-95f307ff-2353-4e2c-a6bf-7e7e0dd626e8\">\n",
       "                  <path style=\"stroke:none;stroke-width:0\" d=\"\" id=\"id-dd61671e-0a9a-4d40-95a9-7363683bf711\"/>\n",
       "                </symbol>\n",
       "                <symbol overflow=\"visible\" id=\"id-c2caa11d-fda1-4126-a140-add612afce49\">\n",
       "                  <path style=\"stroke:none;stroke-width:0\" d=\"M 7.234375,-6.015625 C 7.234375,-5.125 6.359375,-4 4.90625,-4 H 3.328125 l 0.6875,-2.734375 c 0.09375,-0.40625 0.140625,-0.421875 0.5625,-0.421875 H 6 c 1.234375,0 1.234375,1.046875 1.234375,1.140625 z M 7.53125,-2.375 c 0,-0.90625 -0.78125,-1.453125 -1.671875,-1.53125 1.1875,-0.21875 2.28125,-1.0625 2.28125,-2.0625 0,-0.859375 -0.765625,-1.515625 -2,-1.515625 H 2.625 c -0.203125,0 -0.296875,0 -0.296875,0.21875 0,0.109375 0.09375,0.109375 0.25,0.109375 0.671875,0 0.671875,0.078125 0.671875,0.203125 0,0 0,0.078125 -0.046875,0.25 L 1.734375,-0.8125 c -0.109375,0.390625 -0.125,0.5 -0.890625,0.5 -0.203125,0 -0.3125,0 -0.3125,0.1875 C 0.53125,0 0.59375,0 0.8125,0 h 3.75 C 6.25,0 7.53125,-1.265625 7.53125,-2.375 Z M 6.609375,-2.484375 c 0,1.046875 -0.953125,2.171875 -2.3125,2.171875 h -1.46875 c -0.15625,0 -0.171875,0 -0.25,-0.015625 -0.109375,-0.015625 -0.125,-0.03125 -0.125,-0.125 C 2.453125,-0.53125 2.46875,-0.59375 2.5,-0.6875 l 0.765625,-3.09375 h 2.0625 c 1.28125,0 1.28125,1.203125 1.28125,1.296875 z m 0,0\" id=\"id-4a353cb4-c500-4afa-b927-e6e2cf1ce706\"/>\n",
       "                </symbol>\n",
       "                <symbol overflow=\"visible\" id=\"id-1d589a0b-4da0-4b6b-90b1-8979153115b7\">\n",
       "                  <path style=\"stroke:none;stroke-width:0\" d=\"\" id=\"id-786922cc-09ef-405a-9d97-72d7e955eac6\"/>\n",
       "                </symbol>\n",
       "                <symbol overflow=\"visible\" id=\"id-7f5e1961-cb52-45f7-ba46-4091800b632b\">\n",
       "                  <path style=\"stroke:none;stroke-width:0\" d=\"M 3.734375,-1.3125 C 3.734375,-1.953125 3.21875,-2.53125 2.4375,-2.703125 3.046875,-2.921875 3.5,-3.4375 3.5,-4.046875 c 0,-0.625 -0.6875,-1.0625 -1.484375,-1.0625 -0.828125,0 -1.453125,0.453125 -1.453125,1.03125 0,0.28125 0.203125,0.40625 0.390625,0.40625 0.25,0 0.390625,-0.15625 0.390625,-0.390625 0,-0.28125 -0.234375,-0.390625 -0.40625,-0.390625 C 1.265625,-4.875 1.84375,-4.90625 1.984375,-4.90625 c 0.203125,0 0.78125,0.0625 0.78125,0.859375 0,0.53125 -0.21875,0.859375 -0.328125,0.984375 -0.234375,0.234375 -0.40625,0.25 -0.875,0.28125 -0.140625,0 -0.203125,0.015625 -0.203125,0.109375 0,0.109375 0.0625,0.109375 0.203125,0.109375 h 0.375 c 0.609375,0 1,0.4375 1,1.25 0,0.953125 -0.546875,1.25 -0.953125,1.25 -0.421875,0 -1,-0.15625 -1.265625,-0.5625 0.265625,0 0.46875,-0.1875 0.46875,-0.4375 0,-0.234375 -0.1875,-0.421875 -0.421875,-0.421875 -0.21875,0 -0.421875,0.140625 -0.421875,0.4375 C 0.34375,-0.3125 1.125,0.15625 2,0.15625 c 1.015625,0 1.734375,-0.703125 1.734375,-1.46875 z m 0,0\" id=\"id-db6ac5e0-e30f-4b8f-aad4-639c9cbd5613\"/>\n",
       "                </symbol>\n",
       "              </g>\n",
       "            </defs>\n",
       "            <g id=\"id-b4ee7ebb-45a0-4d8d-bc03-56791e35780e\" transform=\"translate(-148.711,-124.801)\">\n",
       "              <path style=\"fill:none;stroke:#000000;stroke-width:0.3985;stroke-linecap:butt;stroke-linejoin:miter;stroke-miterlimit:10;stroke-opacity:1\" d=\"M 10.589844,1.5625e-4 C 10.589844,5.847813 5.847656,10.59 0,10.59 -5.847656,10.59 -10.589844,5.847813 -10.589844,1.5625e-4 -10.589844,-5.8475 -5.847656,-10.589687 0,-10.589687 c 5.847656,0 10.589844,4.742187 10.589844,10.58984325 z m 0,0\" transform=\"matrix(1,0,0,-1,159.5,135.59)\" id=\"id-7d0a9578-6074-4149-822e-86b7d8debbad\"/>\n",
       "              <g style=\"fill:#000000;fill-opacity:1\" id=\"id-fc755d46-71a3-4124-8dc6-9910317e2bdd\">\n",
       "                <g transform=\"translate(153.138,138.512)\" id=\"g7458\">\n",
       "                  <path style=\"stroke:none;stroke-width:0\" d=\"M 7.234375,-6.015625 C 7.234375,-5.125 6.359375,-4 4.90625,-4 H 3.328125 l 0.6875,-2.734375 c 0.09375,-0.40625 0.140625,-0.421875 0.5625,-0.421875 H 6 c 1.234375,0 1.234375,1.046875 1.234375,1.140625 z M 7.53125,-2.375 c 0,-0.90625 -0.78125,-1.453125 -1.671875,-1.53125 1.1875,-0.21875 2.28125,-1.0625 2.28125,-2.0625 0,-0.859375 -0.765625,-1.515625 -2,-1.515625 H 2.625 c -0.203125,0 -0.296875,0 -0.296875,0.21875 0,0.109375 0.09375,0.109375 0.25,0.109375 0.671875,0 0.671875,0.078125 0.671875,0.203125 0,0 0,0.078125 -0.046875,0.25 L 1.734375,-0.8125 c -0.109375,0.390625 -0.125,0.5 -0.890625,0.5 -0.203125,0 -0.3125,0 -0.3125,0.1875 C 0.53125,0 0.59375,0 0.8125,0 h 3.75 C 6.25,0 7.53125,-1.265625 7.53125,-2.375 Z M 6.609375,-2.484375 c 0,1.046875 -0.953125,2.171875 -2.3125,2.171875 h -1.46875 c -0.15625,0 -0.171875,0 -0.25,-0.015625 -0.109375,-0.015625 -0.125,-0.03125 -0.125,-0.125 C 2.453125,-0.53125 2.46875,-0.59375 2.5,-0.6875 l 0.765625,-3.09375 h 2.0625 c 1.28125,0 1.28125,1.203125 1.28125,1.296875 z m 0,0\" id=\"id-3ed13b74-a0c4-4424-b336-5ee2b40bd17d\"/>\n",
       "                </g>\n",
       "              </g>\n",
       "              <g style=\"fill:#000000;fill-opacity:1\" id=\"id-b305e0eb-637a-4f1f-aef7-10d771b91dfd\">\n",
       "                <g transform=\"translate(161.289,140.156)\" id=\"g7462\">\n",
       "                  <path style=\"stroke:none;stroke-width:0\" d=\"M 3.734375,-1.3125 C 3.734375,-1.953125 3.21875,-2.53125 2.4375,-2.703125 3.046875,-2.921875 3.5,-3.4375 3.5,-4.046875 c 0,-0.625 -0.6875,-1.0625 -1.484375,-1.0625 -0.828125,0 -1.453125,0.453125 -1.453125,1.03125 0,0.28125 0.203125,0.40625 0.390625,0.40625 0.25,0 0.390625,-0.15625 0.390625,-0.390625 0,-0.28125 -0.234375,-0.390625 -0.40625,-0.390625 C 1.265625,-4.875 1.84375,-4.90625 1.984375,-4.90625 c 0.203125,0 0.78125,0.0625 0.78125,0.859375 0,0.53125 -0.21875,0.859375 -0.328125,0.984375 -0.234375,0.234375 -0.40625,0.25 -0.875,0.28125 -0.140625,0 -0.203125,0.015625 -0.203125,0.109375 0,0.109375 0.0625,0.109375 0.203125,0.109375 h 0.375 c 0.609375,0 1,0.4375 1,1.25 0,0.953125 -0.546875,1.25 -0.953125,1.25 -0.421875,0 -1,-0.15625 -1.265625,-0.5625 0.265625,0 0.46875,-0.1875 0.46875,-0.4375 0,-0.234375 -0.1875,-0.421875 -0.421875,-0.421875 -0.21875,0 -0.421875,0.140625 -0.421875,0.4375 C 0.34375,-0.3125 1.125,0.15625 2,0.15625 c 1.015625,0 1.734375,-0.703125 1.734375,-1.46875 z m 0,0\" id=\"id-f6282695-6860-4a76-a625-0e2fcedc782d\"/>\n",
       "                </g>\n",
       "              </g>\n",
       "            </g>\n",
       "          </g>\n",
       "        </g>\n",
       "        <g id=\"g7861\" transform=\"translate(25.018963,40.485231)\">\n",
       "          <g transform=\"matrix(0.705556,0,0,0.705556,108.583,120.682)\" ns2:version=\"1.3.0\" ns2:texconverter=\"pdflatex\" ns2:pdfconverter=\"inkscape\" ns2:text=\"\\\\fontsize{11pt}{1em}\\\\selectfont{ \\\\circled{$B_{4}$} }\\n\\n\" ns2:preamble=\"/Users/abhi/Software/textext-1.3.0/textext/default_packages.tex\" ns2:scale=\"2.0\" ns2:alignment=\"middle center\" ns2:inkscapeversion=\"1.0.2\" ns2:jacobian_sqrt=\"0.705556\" id=\"g7815\">\n",
       "            <defs id=\"id-9384c951-7ae5-4bec-a62b-dfc57f98978e\">\n",
       "              <g id=\"id-a62c9ff4-71a5-46af-9886-bc15ab182683\">\n",
       "                <symbol overflow=\"visible\" id=\"id-0411f1a1-6f50-4191-bed6-3c8d7dc713d0\">\n",
       "                  <path style=\"stroke:none;stroke-width:0\" d=\"\" id=\"id-b15df594-4fa8-4bc2-8692-5c6fa7b70efb\"/>\n",
       "                </symbol>\n",
       "                <symbol overflow=\"visible\" id=\"id-340fd12b-510f-41ca-a156-156e58029ab0\">\n",
       "                  <path style=\"stroke:none;stroke-width:0\" d=\"M 7.234375,-6.015625 C 7.234375,-5.125 6.359375,-4 4.90625,-4 H 3.328125 l 0.6875,-2.734375 c 0.09375,-0.40625 0.140625,-0.421875 0.5625,-0.421875 H 6 c 1.234375,0 1.234375,1.046875 1.234375,1.140625 z M 7.53125,-2.375 c 0,-0.90625 -0.78125,-1.453125 -1.671875,-1.53125 1.1875,-0.21875 2.28125,-1.0625 2.28125,-2.0625 0,-0.859375 -0.765625,-1.515625 -2,-1.515625 H 2.625 c -0.203125,0 -0.296875,0 -0.296875,0.21875 0,0.109375 0.09375,0.109375 0.25,0.109375 0.671875,0 0.671875,0.078125 0.671875,0.203125 0,0 0,0.078125 -0.046875,0.25 L 1.734375,-0.8125 c -0.109375,0.390625 -0.125,0.5 -0.890625,0.5 -0.203125,0 -0.3125,0 -0.3125,0.1875 C 0.53125,0 0.59375,0 0.8125,0 h 3.75 C 6.25,0 7.53125,-1.265625 7.53125,-2.375 Z M 6.609375,-2.484375 c 0,1.046875 -0.953125,2.171875 -2.3125,2.171875 h -1.46875 c -0.15625,0 -0.171875,0 -0.25,-0.015625 -0.109375,-0.015625 -0.125,-0.03125 -0.125,-0.125 C 2.453125,-0.53125 2.46875,-0.59375 2.5,-0.6875 l 0.765625,-3.09375 h 2.0625 c 1.28125,0 1.28125,1.203125 1.28125,1.296875 z m 0,0\" id=\"id-7c376aea-cc9f-480a-9ca8-3bc4762fceb3\"/>\n",
       "                </symbol>\n",
       "                <symbol overflow=\"visible\" id=\"id-5eb95732-7048-4684-8f9d-c80bc14b6e86\">\n",
       "                  <path style=\"stroke:none;stroke-width:0\" d=\"\" id=\"id-140b2c4e-2aca-4b95-b0b3-32196cfaa7e6\"/>\n",
       "                </symbol>\n",
       "                <symbol overflow=\"visible\" id=\"id-ed87597e-ef8f-4176-807c-1dd8de73dfdc\">\n",
       "                  <path style=\"stroke:none;stroke-width:0\" d=\"m 3.828125,-1.265625 v -0.25 h -0.8125 V -4.96875 c 0,-0.140625 0,-0.203125 -0.15625,-0.203125 -0.09375,0 -0.109375,0 -0.1875,0.109375 l -2.4375,3.546875 v 0.25 h 2.15625 V -0.625 c 0,0.28125 -0.015625,0.375 -0.609375,0.375 H 1.609375 V 0 L 2.703125,-0.015625 3.8125,0 V -0.25 H 3.640625 c -0.59375,0 -0.625,-0.09375 -0.625,-0.375 v -0.640625 z m -1.375,-0.25 H 0.5 L 2.453125,-4.34375 Z m 0,0\" id=\"id-40312e74-e9b4-47a7-beca-431e91bbc587\"/>\n",
       "                </symbol>\n",
       "              </g>\n",
       "            </defs>\n",
       "            <g id=\"id-086c3300-1a5d-41f1-85c7-ce256c4999ef\" transform=\"translate(-148.711,-124.801)\">\n",
       "              <path style=\"fill:none;stroke:#000000;stroke-width:0.3985;stroke-linecap:butt;stroke-linejoin:miter;stroke-miterlimit:10;stroke-opacity:1\" d=\"M 10.589844,1.5625e-4 C 10.589844,5.847813 5.847656,10.59 0,10.59 -5.847656,10.59 -10.589844,5.847813 -10.589844,1.5625e-4 -10.589844,-5.8475 -5.847656,-10.589687 0,-10.589687 c 5.847656,0 10.589844,4.742187 10.589844,10.58984325 z m 0,0\" transform=\"matrix(1,0,0,-1,159.5,135.59)\" id=\"id-c00933dc-7e58-4f7d-b6ce-c801dff5d89e\"/>\n",
       "              <g style=\"fill:#000000;fill-opacity:1\" id=\"id-ce6defe4-3f0a-4194-b27f-268b81162332\">\n",
       "                <g transform=\"translate(153.138,138.512)\" id=\"g7807\">\n",
       "                  <path style=\"stroke:none;stroke-width:0\" d=\"M 7.234375,-6.015625 C 7.234375,-5.125 6.359375,-4 4.90625,-4 H 3.328125 l 0.6875,-2.734375 c 0.09375,-0.40625 0.140625,-0.421875 0.5625,-0.421875 H 6 c 1.234375,0 1.234375,1.046875 1.234375,1.140625 z M 7.53125,-2.375 c 0,-0.90625 -0.78125,-1.453125 -1.671875,-1.53125 1.1875,-0.21875 2.28125,-1.0625 2.28125,-2.0625 0,-0.859375 -0.765625,-1.515625 -2,-1.515625 H 2.625 c -0.203125,0 -0.296875,0 -0.296875,0.21875 0,0.109375 0.09375,0.109375 0.25,0.109375 0.671875,0 0.671875,0.078125 0.671875,0.203125 0,0 0,0.078125 -0.046875,0.25 L 1.734375,-0.8125 c -0.109375,0.390625 -0.125,0.5 -0.890625,0.5 -0.203125,0 -0.3125,0 -0.3125,0.1875 C 0.53125,0 0.59375,0 0.8125,0 h 3.75 C 6.25,0 7.53125,-1.265625 7.53125,-2.375 Z M 6.609375,-2.484375 c 0,1.046875 -0.953125,2.171875 -2.3125,2.171875 h -1.46875 c -0.15625,0 -0.171875,0 -0.25,-0.015625 -0.109375,-0.015625 -0.125,-0.03125 -0.125,-0.125 C 2.453125,-0.53125 2.46875,-0.59375 2.5,-0.6875 l 0.765625,-3.09375 h 2.0625 c 1.28125,0 1.28125,1.203125 1.28125,1.296875 z m 0,0\" id=\"id-6af47130-b15d-4fa1-a7a7-bbc5de9e0f19\"/>\n",
       "                </g>\n",
       "              </g>\n",
       "              <g style=\"fill:#000000;fill-opacity:1\" id=\"id-244d8146-78ea-4683-9a8c-e4ea310313f2\">\n",
       "                <g transform=\"translate(161.289,140.156)\" id=\"g7811\">\n",
       "                  <path style=\"stroke:none;stroke-width:0\" d=\"m 3.828125,-1.265625 v -0.25 h -0.8125 V -4.96875 c 0,-0.140625 0,-0.203125 -0.15625,-0.203125 -0.09375,0 -0.109375,0 -0.1875,0.109375 l -2.4375,3.546875 v 0.25 h 2.15625 V -0.625 c 0,0.28125 -0.015625,0.375 -0.609375,0.375 H 1.609375 V 0 L 2.703125,-0.015625 3.8125,0 V -0.25 H 3.640625 c -0.59375,0 -0.625,-0.09375 -0.625,-0.375 v -0.640625 z m -1.375,-0.25 H 0.5 L 2.453125,-4.34375 Z m 0,0\" id=\"id-6d69282a-ed22-4fcf-b053-4218ff663071\"/>\n",
       "                </g>\n",
       "              </g>\n",
       "            </g>\n",
       "          </g>\n",
       "        </g>\n",
       "      </g>\n",
       "    </g>\n",
       "    <path style=\"fill:none;stroke:#000000;stroke-width:0.25;stroke-linecap:butt;stroke-linejoin:miter;stroke-opacity:1;marker-end:url(#marker10266)\" d=\"m 130.2052,149.6948 c -5.99918,0.75661 -9.75421,4.12864 -12.47405,8.70711\" id=\"path10556\" sodipodi:nodetypes=\"cc\"/>\n",
       "    <path style=\"fill:none;stroke:#000000;stroke-width:0.25;stroke-linecap:butt;stroke-linejoin:miter;stroke-opacity:1;marker-end:url(#marker10580)\" d=\"m 126.24012,75.818832 c 3.1732,5.524488 3.49227,10.134613 3.29861,14.344685\" id=\"path10570\" sodipodi:nodetypes=\"cc\"/>\n",
       "    <path style=\"fill:none;stroke:#000000;stroke-width:0.25;stroke-linecap:butt;stroke-linejoin:miter;stroke-opacity:1;marker-end:url(#marker10880)\" d=\"m 180.14649,91.771053 c -4.07583,0.671086 -7.71602,3.248076 -11.01256,7.328535\" id=\"path11188\" sodipodi:nodetypes=\"cc\"/>\n",
       "    <path style=\"fill:none;stroke:#000000;stroke-width:0.25;stroke-linecap:butt;stroke-linejoin:miter;stroke-opacity:1;marker-end:url(#marker11488)\" d=\"m 63.6892,138.95398 c 5.000873,-3.15975 11.057399,-3.61024 17.412041,-3.29563\" id=\"path11478\" sodipodi:nodetypes=\"cc\"/>\n",
       "    <path style=\"fill:none;stroke:#000000;stroke-width:0.25;stroke-linecap:butt;stroke-linejoin:miter;stroke-opacity:1;marker-end:url(#marker11790)\" d=\"m 154.89475,115.61199 c -0.62552,-4.81395 0.004,-9.1714 1.44037,-13.23569\" id=\"path11780\" sodipodi:nodetypes=\"cc\"/>\n",
       "    <path style=\"fill:none;stroke:#000000;stroke-width:0.25;stroke-linecap:butt;stroke-linejoin:miter;stroke-opacity:1;marker-end:url(#marker12096)\" d=\"m 115.3704,117.06397 c 4.66033,-0.72411 8.64482,0.57929 12.50606,2.25243\" id=\"path12086\" sodipodi:nodetypes=\"cc\"/>\n",
       "    <path style=\"fill:#008000;stroke:#008000;stroke-width:0.75;stroke-linecap:round;stroke-linejoin:miter;stroke-miterlimit:4;stroke-dasharray:none;stroke-opacity:1;marker-start:url(#marker11438-48)\" d=\"m 38.569998,174.86621 4.667797,13.91321\" id=\"path979-6-5-4\" sodipodi:nodetypes=\"cc\" inkscape:transform-center-x=\"2.4083142\" inkscape:transform-center-y=\"-6.9042961\"/>\n",
       "    <path style=\"fill:none;stroke:#000000;stroke-width:0.5;stroke-linecap:round;stroke-linejoin:miter;stroke-miterlimit:4;stroke-dasharray:4, 2;stroke-dashoffset:0;stroke-opacity:1\" d=\"m 147.46838,100.36458 h -20.13269 m -7.52974,0 H 43.164907\" id=\"path1475\" sodipodi:nodetypes=\"cccc\"/>\n",
       "    <path style=\"fill:#0000ff;stroke:#0000ff;stroke-width:0.75;stroke-linecap:round;stroke-linejoin:miter;stroke-opacity:1;marker-end:url(#Arrow2Mend-3)\" d=\"m 147.38955,100.32761 -8.95104,-2.031094\" id=\"path1870-9\" inkscape:transform-center-x=\"4.4957163\" inkscape:transform-center-y=\"-0.9943414\"/>\n",
       "    <g transform=\"matrix(0.705556,0,0,0.705556,145.11845,191.53412)\" ns2:version=\"1.3.0\" ns2:texconverter=\"pdflatex\" ns2:pdfconverter=\"inkscape\" ns2:text=\"\\\\fontsize{10pt}{1em}\\\\selectfont{$q_1$}\\n\" ns2:preamble=\"/Users/abhi/Software/textext-1.3.0/textext/default_packages.tex\" ns2:scale=\"2.0\" ns2:alignment=\"middle center\" ns2:inkscapeversion=\"1.0.2\" ns2:jacobian_sqrt=\"0.705556\" id=\"g4528\">\n",
       "      <defs id=\"id-389eded5-bda8-499c-8f38-fa17e4268914\">\n",
       "        <g id=\"id-6534276a-3b07-401e-9e2a-7dc562875f0a\">\n",
       "          <symbol overflow=\"visible\" id=\"id-b1638925-00a3-4709-abd7-e9a7ad77d618\">\n",
       "            <path style=\"stroke:none;stroke-width:0\" d=\"\" id=\"id-c9287607-03c4-4714-a880-05f0e517f350\"/>\n",
       "          </symbol>\n",
       "          <symbol overflow=\"visible\" id=\"id-35c5ad2d-6fbb-4901-abc9-1656a7b22d56\">\n",
       "            <path style=\"stroke:none;stroke-width:0\" d=\"M 3.828125,1.734375 C 3.828125,1.625 3.734375,1.625 3.5625,1.625 3.09375,1.625 3.09375,1.5625 3.09375,1.46875 3.09375,1.390625 3.109375,1.328125 3.125,1.25 L 4.5,-4.296875 c 0,-0.046875 -0.03125,-0.09375 -0.09375,-0.09375 -0.109375,0 -0.515625,0.390625 -0.671875,0.6875 C 3.515625,-4.25 3.125,-4.40625 2.796875,-4.40625 c -1.171875,0 -2.390625,1.46875 -2.390625,2.921875 0,0.96875 0.578125,1.59375 1.3125,1.59375 0.421875,0 0.8125,-0.234375 1.171875,-0.59375 L 2.4375,1.296875 C 2.359375,1.578125 2.28125,1.609375 1.71875,1.625 1.59375,1.625 1.5,1.625 1.5,1.828125 c 0,0 0,0.109375 0.125,0.109375 0.3125,0 0.671875,-0.03125 1,-0.03125 0.328125,0 0.6875,0.03125 1.03125,0.03125 0.046875,0 0.171875,0 0.171875,-0.203125 z M 3.59375,-3.3125 c 0,0.0625 -0.546875,2.25 -0.578125,2.28125 C 2.859375,-0.75 2.296875,-0.109375 1.75,-0.109375 c -0.609375,0 -0.640625,-0.765625 -0.640625,-0.9375 0,-0.484375 0.28125,-1.5625 0.453125,-1.984375 0.3125,-0.734375 0.828125,-1.15625 1.234375,-1.15625 0.65625,0 0.796875,0.8125 0.796875,0.875 z m 0,0\" id=\"id-464f4a86-c72d-43a0-ae77-0d6ad82cd8dc\"/>\n",
       "          </symbol>\n",
       "          <symbol overflow=\"visible\" id=\"id-0b2874ac-6853-4777-888a-ead4a5a8d616\">\n",
       "            <path style=\"stroke:none;stroke-width:0\" d=\"\" id=\"id-99b184e3-e861-42bf-b568-3ac5c48ea8e5\"/>\n",
       "          </symbol>\n",
       "          <symbol overflow=\"visible\" id=\"id-c92a9db1-9d3c-4139-88dc-490d6eb28627\">\n",
       "            <path style=\"stroke:none;stroke-width:0\" d=\"M 3.296875,0 V -0.25 H 3.03125 c -0.703125,0 -0.703125,-0.09375 -0.703125,-0.328125 V -4.4375 c 0,-0.1875 0,-0.1875 -0.203125,-0.1875 -0.453125,0.4375 -1.078125,0.4375 -1.359375,0.4375 v 0.25 c 0.15625,0 0.625,0 1,-0.1875 v 3.546875 c 0,0.234375 0,0.328125 -0.6875,0.328125 H 0.8125 V 0 l 1.234375,-0.03125 z m 0,0\" id=\"id-70318c74-1d37-43e7-afa5-a8973d21d10c\"/>\n",
       "          </symbol>\n",
       "        </g>\n",
       "      </defs>\n",
       "      <g id=\"id-36d234eb-29a0-4c1e-99f8-bc598b5c4638\" transform=\"translate(-149.118,-130.359)\">\n",
       "        <g style=\"fill:#000000;fill-opacity:1\" id=\"id-5d34682d-f9e5-4b64-afe9-c55a95884891\">\n",
       "          <g transform=\"translate(148.712,134.765)\" id=\"g4520\">\n",
       "            <path style=\"stroke:none;stroke-width:0\" d=\"M 3.828125,1.734375 C 3.828125,1.625 3.734375,1.625 3.5625,1.625 3.09375,1.625 3.09375,1.5625 3.09375,1.46875 3.09375,1.390625 3.109375,1.328125 3.125,1.25 L 4.5,-4.296875 c 0,-0.046875 -0.03125,-0.09375 -0.09375,-0.09375 -0.109375,0 -0.515625,0.390625 -0.671875,0.6875 C 3.515625,-4.25 3.125,-4.40625 2.796875,-4.40625 c -1.171875,0 -2.390625,1.46875 -2.390625,2.921875 0,0.96875 0.578125,1.59375 1.3125,1.59375 0.421875,0 0.8125,-0.234375 1.171875,-0.59375 L 2.4375,1.296875 C 2.359375,1.578125 2.28125,1.609375 1.71875,1.625 1.59375,1.625 1.5,1.625 1.5,1.828125 c 0,0 0,0.109375 0.125,0.109375 0.3125,0 0.671875,-0.03125 1,-0.03125 0.328125,0 0.6875,0.03125 1.03125,0.03125 0.046875,0 0.171875,0 0.171875,-0.203125 z M 3.59375,-3.3125 c 0,0.0625 -0.546875,2.25 -0.578125,2.28125 C 2.859375,-0.75 2.296875,-0.109375 1.75,-0.109375 c -0.609375,0 -0.640625,-0.765625 -0.640625,-0.9375 0,-0.484375 0.28125,-1.5625 0.453125,-1.984375 0.3125,-0.734375 0.828125,-1.15625 1.234375,-1.15625 0.65625,0 0.796875,0.8125 0.796875,0.875 z m 0,0\" id=\"id-fa14ac6a-1c0c-4355-8df9-be946f29526a\"/>\n",
       "          </g>\n",
       "        </g>\n",
       "        <g style=\"fill:#000000;fill-opacity:1\" id=\"id-08ebdda4-0a7d-4ac5-8edf-0aa9ef4a757b\">\n",
       "          <g transform=\"translate(153.16,136.259)\" id=\"g4524\">\n",
       "            <path style=\"stroke:none;stroke-width:0\" d=\"M 3.296875,0 V -0.25 H 3.03125 c -0.703125,0 -0.703125,-0.09375 -0.703125,-0.328125 V -4.4375 c 0,-0.1875 0,-0.1875 -0.203125,-0.1875 -0.453125,0.4375 -1.078125,0.4375 -1.359375,0.4375 v 0.25 c 0.15625,0 0.625,0 1,-0.1875 v 3.546875 c 0,0.234375 0,0.328125 -0.6875,0.328125 H 0.8125 V 0 l 1.234375,-0.03125 z m 0,0\" id=\"id-c13e9411-760a-4e77-9de0-29a8c364fd7e\"/>\n",
       "          </g>\n",
       "        </g>\n",
       "      </g>\n",
       "    </g>\n",
       "    <g transform=\"matrix(0.705556,0,0,0.705556,35.099174,98.149226)\" ns2:version=\"1.3.0\" ns2:texconverter=\"pdflatex\" ns2:pdfconverter=\"inkscape\" ns2:text=\"\\\\fontsize{10pt}{1em}\\\\selectfont{$q_2$}\\n\" ns2:preamble=\"/Users/abhi/Software/textext-1.3.0/textext/default_packages.tex\" ns2:scale=\"2.0\" ns2:alignment=\"middle center\" ns2:inkscapeversion=\"1.0.2\" ns2:jacobian_sqrt=\"0.705556\" id=\"g4931\">\n",
       "      <defs id=\"id-5793da5c-991c-4fc7-a2d8-772a7cb50039\">\n",
       "        <g id=\"id-b07f93db-a0d9-4a4d-b3fe-c53191125f4c\">\n",
       "          <symbol overflow=\"visible\" id=\"id-c493869a-d6e1-4bc7-8675-3adf77892d59\">\n",
       "            <path style=\"stroke:none;stroke-width:0\" d=\"\" id=\"id-bc35442e-d71d-4cf0-9777-5d38dbefec3e\"/>\n",
       "          </symbol>\n",
       "          <symbol overflow=\"visible\" id=\"id-11d5b1be-f5c5-4ef9-b439-a9dab2eaeb23\">\n",
       "            <path style=\"stroke:none;stroke-width:0\" d=\"M 3.828125,1.734375 C 3.828125,1.625 3.734375,1.625 3.5625,1.625 3.09375,1.625 3.09375,1.5625 3.09375,1.46875 3.09375,1.390625 3.109375,1.328125 3.125,1.25 L 4.5,-4.296875 c 0,-0.046875 -0.03125,-0.09375 -0.09375,-0.09375 -0.109375,0 -0.515625,0.390625 -0.671875,0.6875 C 3.515625,-4.25 3.125,-4.40625 2.796875,-4.40625 c -1.171875,0 -2.390625,1.46875 -2.390625,2.921875 0,0.96875 0.578125,1.59375 1.3125,1.59375 0.421875,0 0.8125,-0.234375 1.171875,-0.59375 L 2.4375,1.296875 C 2.359375,1.578125 2.28125,1.609375 1.71875,1.625 1.59375,1.625 1.5,1.625 1.5,1.828125 c 0,0 0,0.109375 0.125,0.109375 0.3125,0 0.671875,-0.03125 1,-0.03125 0.328125,0 0.6875,0.03125 1.03125,0.03125 0.046875,0 0.171875,0 0.171875,-0.203125 z M 3.59375,-3.3125 c 0,0.0625 -0.546875,2.25 -0.578125,2.28125 C 2.859375,-0.75 2.296875,-0.109375 1.75,-0.109375 c -0.609375,0 -0.640625,-0.765625 -0.640625,-0.9375 0,-0.484375 0.28125,-1.5625 0.453125,-1.984375 0.3125,-0.734375 0.828125,-1.15625 1.234375,-1.15625 0.65625,0 0.796875,0.8125 0.796875,0.875 z m 0,0\" id=\"id-f1899196-b1f9-4b0b-aff4-80a2c9c8f10b\"/>\n",
       "          </symbol>\n",
       "          <symbol overflow=\"visible\" id=\"id-44150409-c290-49b9-93ed-8b1467464825\">\n",
       "            <path style=\"stroke:none;stroke-width:0\" d=\"\" id=\"id-0365440a-1120-49ed-b1d6-7be58f8cae45\"/>\n",
       "          </symbol>\n",
       "          <symbol overflow=\"visible\" id=\"id-9f09c876-4a97-4681-b100-37e16de1ba9b\">\n",
       "            <path style=\"stroke:none;stroke-width:0\" d=\"M 3.515625,-1.265625 H 3.28125 c -0.015625,0.15625 -0.09375,0.5625 -0.1875,0.625 C 3.046875,-0.59375 2.515625,-0.59375 2.40625,-0.59375 H 1.125 c 0.734375,-0.640625 0.984375,-0.84375 1.390625,-1.171875 0.515625,-0.40625 1,-0.84375 1,-1.5 0,-0.84375 -0.734375,-1.359375 -1.625,-1.359375 -0.859375,0 -1.453125,0.609375 -1.453125,1.25 0,0.34375 0.296875,0.390625 0.375,0.390625 0.15625,0 0.359375,-0.125 0.359375,-0.375 0,-0.125 -0.046875,-0.375 -0.40625,-0.375 C 0.984375,-4.21875 1.453125,-4.375 1.78125,-4.375 c 0.703125,0 1.0625,0.546875 1.0625,1.109375 0,0.609375 -0.4375,1.078125 -0.65625,1.328125 L 0.515625,-0.265625 C 0.4375,-0.203125 0.4375,-0.1875 0.4375,0 h 2.875 z m 0,0\" id=\"id-bbb8d1c1-e5bf-4cbe-a971-c1fcdec40d89\"/>\n",
       "          </symbol>\n",
       "        </g>\n",
       "      </defs>\n",
       "      <g id=\"id-23ef88dd-39c4-4324-9c7c-ff5cd2bc7dd8\" transform=\"translate(-149.118,-130.359)\">\n",
       "        <g style=\"fill:#000000;fill-opacity:1\" id=\"id-fdcc2105-aa45-4adf-8773-2a10db2ebec1\">\n",
       "          <g transform=\"translate(148.712,134.765)\" id=\"g4923\">\n",
       "            <path style=\"stroke:none;stroke-width:0\" d=\"M 3.828125,1.734375 C 3.828125,1.625 3.734375,1.625 3.5625,1.625 3.09375,1.625 3.09375,1.5625 3.09375,1.46875 3.09375,1.390625 3.109375,1.328125 3.125,1.25 L 4.5,-4.296875 c 0,-0.046875 -0.03125,-0.09375 -0.09375,-0.09375 -0.109375,0 -0.515625,0.390625 -0.671875,0.6875 C 3.515625,-4.25 3.125,-4.40625 2.796875,-4.40625 c -1.171875,0 -2.390625,1.46875 -2.390625,2.921875 0,0.96875 0.578125,1.59375 1.3125,1.59375 0.421875,0 0.8125,-0.234375 1.171875,-0.59375 L 2.4375,1.296875 C 2.359375,1.578125 2.28125,1.609375 1.71875,1.625 1.59375,1.625 1.5,1.625 1.5,1.828125 c 0,0 0,0.109375 0.125,0.109375 0.3125,0 0.671875,-0.03125 1,-0.03125 0.328125,0 0.6875,0.03125 1.03125,0.03125 0.046875,0 0.171875,0 0.171875,-0.203125 z M 3.59375,-3.3125 c 0,0.0625 -0.546875,2.25 -0.578125,2.28125 C 2.859375,-0.75 2.296875,-0.109375 1.75,-0.109375 c -0.609375,0 -0.640625,-0.765625 -0.640625,-0.9375 0,-0.484375 0.28125,-1.5625 0.453125,-1.984375 0.3125,-0.734375 0.828125,-1.15625 1.234375,-1.15625 0.65625,0 0.796875,0.8125 0.796875,0.875 z m 0,0\" id=\"id-a78b99c7-7b54-445b-8908-1e8ce6f1d4c5\"/>\n",
       "          </g>\n",
       "        </g>\n",
       "        <g style=\"fill:#000000;fill-opacity:1\" id=\"id-3fbb5ac1-210a-4e56-bb7d-f7cd5676a247\">\n",
       "          <g transform=\"translate(153.16,136.259)\" id=\"g4927\">\n",
       "            <path style=\"stroke:none;stroke-width:0\" d=\"M 3.515625,-1.265625 H 3.28125 c -0.015625,0.15625 -0.09375,0.5625 -0.1875,0.625 C 3.046875,-0.59375 2.515625,-0.59375 2.40625,-0.59375 H 1.125 c 0.734375,-0.640625 0.984375,-0.84375 1.390625,-1.171875 0.515625,-0.40625 1,-0.84375 1,-1.5 0,-0.84375 -0.734375,-1.359375 -1.625,-1.359375 -0.859375,0 -1.453125,0.609375 -1.453125,1.25 0,0.34375 0.296875,0.390625 0.375,0.390625 0.15625,0 0.359375,-0.125 0.359375,-0.375 0,-0.125 -0.046875,-0.375 -0.40625,-0.375 C 0.984375,-4.21875 1.453125,-4.375 1.78125,-4.375 c 0.703125,0 1.0625,0.546875 1.0625,1.109375 0,0.609375 -0.4375,1.078125 -0.65625,1.328125 L 0.515625,-0.265625 C 0.4375,-0.203125 0.4375,-0.1875 0.4375,0 h 2.875 z m 0,0\" id=\"id-ed99a53a-15a6-445b-b7ef-5419eaaa1945\"/>\n",
       "          </g>\n",
       "        </g>\n",
       "      </g>\n",
       "    </g>\n",
       "    <g transform=\"matrix(0.705556,0,0,0.705556,85.721593,173.99064)\" ns2:version=\"1.3.0\" ns2:texconverter=\"pdflatex\" ns2:pdfconverter=\"inkscape\" ns2:text=\"\\\\fontsize{10pt}{1em}\\\\selectfont{$q_3$}\\n\" ns2:preamble=\"/Users/abhi/Software/textext-1.3.0/textext/default_packages.tex\" ns2:scale=\"2.0\" ns2:alignment=\"middle center\" ns2:inkscapeversion=\"1.0.2\" ns2:jacobian_sqrt=\"0.705556\" id=\"g5353\">\n",
       "      <defs id=\"id-6226419e-e443-41df-8557-898aa2eb1d5f\">\n",
       "        <g id=\"id-6ea6086d-f0ca-449a-9fbe-4bf03c87b11e\">\n",
       "          <symbol overflow=\"visible\" id=\"id-13cbe417-ee37-4da4-ab33-2b5b6c462fbc\">\n",
       "            <path style=\"stroke:none;stroke-width:0\" d=\"\" id=\"id-52fc5ab7-5acf-44af-b1cc-b986e7896c7a\"/>\n",
       "          </symbol>\n",
       "          <symbol overflow=\"visible\" id=\"id-56d1e98f-9bf5-4e4c-baa8-df4b382649ea\">\n",
       "            <path style=\"stroke:none;stroke-width:0\" d=\"M 3.828125,1.734375 C 3.828125,1.625 3.734375,1.625 3.5625,1.625 3.09375,1.625 3.09375,1.5625 3.09375,1.46875 3.09375,1.390625 3.109375,1.328125 3.125,1.25 L 4.5,-4.296875 c 0,-0.046875 -0.03125,-0.09375 -0.09375,-0.09375 -0.109375,0 -0.515625,0.390625 -0.671875,0.6875 C 3.515625,-4.25 3.125,-4.40625 2.796875,-4.40625 c -1.171875,0 -2.390625,1.46875 -2.390625,2.921875 0,0.96875 0.578125,1.59375 1.3125,1.59375 0.421875,0 0.8125,-0.234375 1.171875,-0.59375 L 2.4375,1.296875 C 2.359375,1.578125 2.28125,1.609375 1.71875,1.625 1.59375,1.625 1.5,1.625 1.5,1.828125 c 0,0 0,0.109375 0.125,0.109375 0.3125,0 0.671875,-0.03125 1,-0.03125 0.328125,0 0.6875,0.03125 1.03125,0.03125 0.046875,0 0.171875,0 0.171875,-0.203125 z M 3.59375,-3.3125 c 0,0.0625 -0.546875,2.25 -0.578125,2.28125 C 2.859375,-0.75 2.296875,-0.109375 1.75,-0.109375 c -0.609375,0 -0.640625,-0.765625 -0.640625,-0.9375 0,-0.484375 0.28125,-1.5625 0.453125,-1.984375 0.3125,-0.734375 0.828125,-1.15625 1.234375,-1.15625 0.65625,0 0.796875,0.8125 0.796875,0.875 z m 0,0\" id=\"id-9d28d255-73ad-4dab-a254-87654dd60187\"/>\n",
       "          </symbol>\n",
       "          <symbol overflow=\"visible\" id=\"id-2d47b689-bc38-458c-ba95-f4f9891d72cb\">\n",
       "            <path style=\"stroke:none;stroke-width:0\" d=\"\" id=\"id-9e8442b7-9b75-4133-85dd-6344516b9cc5\"/>\n",
       "          </symbol>\n",
       "          <symbol overflow=\"visible\" id=\"id-f046f6a7-592a-4113-b99b-7fb154c0329d\">\n",
       "            <path style=\"stroke:none;stroke-width:0\" d=\"m 3.578125,-1.203125 c 0,-0.546875 -0.4375,-1.09375 -1.203125,-1.25 0.71875,-0.265625 0.984375,-0.78125 0.984375,-1.21875 0,-0.546875 -0.625,-0.953125 -1.40625,-0.953125 -0.765625,0 -1.359375,0.375 -1.359375,0.9375 0,0.234375 0.15625,0.359375 0.359375,0.359375 0.21875,0 0.359375,-0.15625 0.359375,-0.34375 0,-0.203125 -0.140625,-0.359375 -0.359375,-0.375 0.25,-0.296875 0.71875,-0.375 0.984375,-0.375 0.3125,0 0.75,0.15625 0.75,0.75 0,0.296875 -0.09375,0.625 -0.28125,0.828125 -0.21875,0.265625 -0.421875,0.28125 -0.765625,0.3125 -0.171875,0.015625 -0.1875,0.015625 -0.21875,0.015625 0,0 -0.078125,0.015625 -0.078125,0.09375 0,0.09375 0.0625,0.09375 0.1875,0.09375 h 0.375 c 0.546875,0 0.9375,0.375 0.9375,1.125 0,0.859375 -0.515625,1.125 -0.90625,1.125 -0.28125,0 -0.90625,-0.078125 -1.1875,-0.5 0.328125,0 0.40625,-0.234375 0.40625,-0.390625 0,-0.21875 -0.171875,-0.375 -0.390625,-0.375 -0.1875,0 -0.390625,0.125 -0.390625,0.40625 0,0.65625 0.71875,1.078125 1.5625,1.078125 0.96875,0 1.640625,-0.65625 1.640625,-1.34375 z m 0,0\" id=\"id-e0610611-7896-4561-b20f-7360017613a9\"/>\n",
       "          </symbol>\n",
       "        </g>\n",
       "      </defs>\n",
       "      <g id=\"id-648f8544-88cb-4dad-a282-1532b8f1c6c4\" transform=\"translate(-149.118,-130.359)\">\n",
       "        <g style=\"fill:#000000;fill-opacity:1\" id=\"id-6687923a-a505-483e-a914-189664a1e807\">\n",
       "          <g transform=\"translate(148.712,134.765)\" id=\"g5345\">\n",
       "            <path style=\"stroke:none;stroke-width:0\" d=\"M 3.828125,1.734375 C 3.828125,1.625 3.734375,1.625 3.5625,1.625 3.09375,1.625 3.09375,1.5625 3.09375,1.46875 3.09375,1.390625 3.109375,1.328125 3.125,1.25 L 4.5,-4.296875 c 0,-0.046875 -0.03125,-0.09375 -0.09375,-0.09375 -0.109375,0 -0.515625,0.390625 -0.671875,0.6875 C 3.515625,-4.25 3.125,-4.40625 2.796875,-4.40625 c -1.171875,0 -2.390625,1.46875 -2.390625,2.921875 0,0.96875 0.578125,1.59375 1.3125,1.59375 0.421875,0 0.8125,-0.234375 1.171875,-0.59375 L 2.4375,1.296875 C 2.359375,1.578125 2.28125,1.609375 1.71875,1.625 1.59375,1.625 1.5,1.625 1.5,1.828125 c 0,0 0,0.109375 0.125,0.109375 0.3125,0 0.671875,-0.03125 1,-0.03125 0.328125,0 0.6875,0.03125 1.03125,0.03125 0.046875,0 0.171875,0 0.171875,-0.203125 z M 3.59375,-3.3125 c 0,0.0625 -0.546875,2.25 -0.578125,2.28125 C 2.859375,-0.75 2.296875,-0.109375 1.75,-0.109375 c -0.609375,0 -0.640625,-0.765625 -0.640625,-0.9375 0,-0.484375 0.28125,-1.5625 0.453125,-1.984375 0.3125,-0.734375 0.828125,-1.15625 1.234375,-1.15625 0.65625,0 0.796875,0.8125 0.796875,0.875 z m 0,0\" id=\"id-52d1f6f5-2b28-4ab9-9fc7-e01dd423ced4\"/>\n",
       "          </g>\n",
       "        </g>\n",
       "        <g style=\"fill:#000000;fill-opacity:1\" id=\"id-9018b0ce-1e8d-4fb5-baf7-20853f2b59b5\">\n",
       "          <g transform=\"translate(153.16,136.259)\" id=\"g5349\">\n",
       "            <path style=\"stroke:none;stroke-width:0\" d=\"m 3.578125,-1.203125 c 0,-0.546875 -0.4375,-1.09375 -1.203125,-1.25 0.71875,-0.265625 0.984375,-0.78125 0.984375,-1.21875 0,-0.546875 -0.625,-0.953125 -1.40625,-0.953125 -0.765625,0 -1.359375,0.375 -1.359375,0.9375 0,0.234375 0.15625,0.359375 0.359375,0.359375 0.21875,0 0.359375,-0.15625 0.359375,-0.34375 0,-0.203125 -0.140625,-0.359375 -0.359375,-0.375 0.25,-0.296875 0.71875,-0.375 0.984375,-0.375 0.3125,0 0.75,0.15625 0.75,0.75 0,0.296875 -0.09375,0.625 -0.28125,0.828125 -0.21875,0.265625 -0.421875,0.28125 -0.765625,0.3125 -0.171875,0.015625 -0.1875,0.015625 -0.21875,0.015625 0,0 -0.078125,0.015625 -0.078125,0.09375 0,0.09375 0.0625,0.09375 0.1875,0.09375 h 0.375 c 0.546875,0 0.9375,0.375 0.9375,1.125 0,0.859375 -0.515625,1.125 -0.90625,1.125 -0.28125,0 -0.90625,-0.078125 -1.1875,-0.5 0.328125,0 0.40625,-0.234375 0.40625,-0.390625 0,-0.21875 -0.171875,-0.375 -0.390625,-0.375 -0.1875,0 -0.390625,0.125 -0.390625,0.40625 0,0.65625 0.71875,1.078125 1.5625,1.078125 0.96875,0 1.640625,-0.65625 1.640625,-1.34375 z m 0,0\" id=\"id-839d7d6f-ec00-469a-a16d-a186f2ef8526\"/>\n",
       "          </g>\n",
       "        </g>\n",
       "      </g>\n",
       "    </g>\n",
       "    <g transform=\"matrix(0.705556,0,0,0.705556,161.01412,71.351986)\" ns2:version=\"1.3.0\" ns2:texconverter=\"pdflatex\" ns2:pdfconverter=\"inkscape\" ns2:text=\"\\\\fontsize{10pt}{1em}\\\\selectfont{$q_4$}\\n\" ns2:preamble=\"/Users/abhi/Software/textext-1.3.0/textext/default_packages.tex\" ns2:scale=\"2.0\" ns2:alignment=\"middle center\" ns2:inkscapeversion=\"1.0.2\" ns2:jacobian_sqrt=\"0.705556\" id=\"g5794\">\n",
       "      <defs id=\"id-e2293a23-2c5c-4f16-9c47-53cc6d82fb88\">\n",
       "        <g id=\"id-c7c25abd-8701-4f83-b996-198e0e728377\">\n",
       "          <symbol overflow=\"visible\" id=\"id-50628fe4-1124-4041-83bb-3007394a4068\">\n",
       "            <path style=\"stroke:none;stroke-width:0\" d=\"\" id=\"id-5e6363f9-7f83-42e1-a5be-86301a6b75a0\"/>\n",
       "          </symbol>\n",
       "          <symbol overflow=\"visible\" id=\"id-7f374c0a-2db4-4ac0-9778-2dfb9502a359\">\n",
       "            <path style=\"stroke:none;stroke-width:0\" d=\"M 3.828125,1.734375 C 3.828125,1.625 3.734375,1.625 3.5625,1.625 3.09375,1.625 3.09375,1.5625 3.09375,1.46875 3.09375,1.390625 3.109375,1.328125 3.125,1.25 L 4.5,-4.296875 c 0,-0.046875 -0.03125,-0.09375 -0.09375,-0.09375 -0.109375,0 -0.515625,0.390625 -0.671875,0.6875 C 3.515625,-4.25 3.125,-4.40625 2.796875,-4.40625 c -1.171875,0 -2.390625,1.46875 -2.390625,2.921875 0,0.96875 0.578125,1.59375 1.3125,1.59375 0.421875,0 0.8125,-0.234375 1.171875,-0.59375 L 2.4375,1.296875 C 2.359375,1.578125 2.28125,1.609375 1.71875,1.625 1.59375,1.625 1.5,1.625 1.5,1.828125 c 0,0 0,0.109375 0.125,0.109375 0.3125,0 0.671875,-0.03125 1,-0.03125 0.328125,0 0.6875,0.03125 1.03125,0.03125 0.046875,0 0.171875,0 0.171875,-0.203125 z M 3.59375,-3.3125 c 0,0.0625 -0.546875,2.25 -0.578125,2.28125 C 2.859375,-0.75 2.296875,-0.109375 1.75,-0.109375 c -0.609375,0 -0.640625,-0.765625 -0.640625,-0.9375 0,-0.484375 0.28125,-1.5625 0.453125,-1.984375 0.3125,-0.734375 0.828125,-1.15625 1.234375,-1.15625 0.65625,0 0.796875,0.8125 0.796875,0.875 z m 0,0\" id=\"id-6f3f9baa-1f56-411c-98d7-7526430f86c5\"/>\n",
       "          </symbol>\n",
       "          <symbol overflow=\"visible\" id=\"id-07e514bd-4101-42be-a98f-32fb607410d1\">\n",
       "            <path style=\"stroke:none;stroke-width:0\" d=\"\" id=\"id-372d2956-338e-4d77-8331-655313bbd0db\"/>\n",
       "          </symbol>\n",
       "          <symbol overflow=\"visible\" id=\"id-c125a4b1-e9ef-454d-bb44-1d44068ceb2a\">\n",
       "            <path style=\"stroke:none;stroke-width:0\" d=\"m 3.6875,-1.140625 v -0.25 H 2.90625 V -4.5 c 0,-0.140625 0,-0.203125 -0.140625,-0.203125 -0.09375,0 -0.125,0 -0.1875,0.109375 l -2.3125,3.203125 v 0.25 h 2.0625 v 0.5625 c 0,0.25 0,0.328125 -0.578125,0.328125 H 1.5625 V 0 L 2.609375,-0.03125 3.671875,0 v -0.25 h -0.1875 C 2.90625,-0.25 2.90625,-0.328125 2.90625,-0.578125 v -0.5625 z m -1.3125,-0.25 H 0.53125 L 2.375,-3.9375 Z m 0,0\" id=\"id-00d2d0fd-4acf-4c25-b8ed-eb13706ebd42\"/>\n",
       "          </symbol>\n",
       "        </g>\n",
       "      </defs>\n",
       "      <g id=\"id-e59a89b9-1b02-4020-b24d-e98bd3eaf07d\" transform=\"translate(-149.118,-130.359)\">\n",
       "        <g style=\"fill:#000000;fill-opacity:1\" id=\"id-e7b02ffb-ee16-4e4f-9749-11e4458ce3f8\">\n",
       "          <g transform=\"translate(148.712,134.765)\" id=\"g5786\">\n",
       "            <path style=\"stroke:none;stroke-width:0\" d=\"M 3.828125,1.734375 C 3.828125,1.625 3.734375,1.625 3.5625,1.625 3.09375,1.625 3.09375,1.5625 3.09375,1.46875 3.09375,1.390625 3.109375,1.328125 3.125,1.25 L 4.5,-4.296875 c 0,-0.046875 -0.03125,-0.09375 -0.09375,-0.09375 -0.109375,0 -0.515625,0.390625 -0.671875,0.6875 C 3.515625,-4.25 3.125,-4.40625 2.796875,-4.40625 c -1.171875,0 -2.390625,1.46875 -2.390625,2.921875 0,0.96875 0.578125,1.59375 1.3125,1.59375 0.421875,0 0.8125,-0.234375 1.171875,-0.59375 L 2.4375,1.296875 C 2.359375,1.578125 2.28125,1.609375 1.71875,1.625 1.59375,1.625 1.5,1.625 1.5,1.828125 c 0,0 0,0.109375 0.125,0.109375 0.3125,0 0.671875,-0.03125 1,-0.03125 0.328125,0 0.6875,0.03125 1.03125,0.03125 0.046875,0 0.171875,0 0.171875,-0.203125 z M 3.59375,-3.3125 c 0,0.0625 -0.546875,2.25 -0.578125,2.28125 C 2.859375,-0.75 2.296875,-0.109375 1.75,-0.109375 c -0.609375,0 -0.640625,-0.765625 -0.640625,-0.9375 0,-0.484375 0.28125,-1.5625 0.453125,-1.984375 0.3125,-0.734375 0.828125,-1.15625 1.234375,-1.15625 0.65625,0 0.796875,0.8125 0.796875,0.875 z m 0,0\" id=\"id-ab69a47a-2670-4b82-ae79-6335bfb38618\"/>\n",
       "          </g>\n",
       "        </g>\n",
       "        <g style=\"fill:#000000;fill-opacity:1\" id=\"id-c5dade14-a99a-4443-858b-22a58bbefa75\">\n",
       "          <g transform=\"translate(153.16,136.259)\" id=\"g5790\">\n",
       "            <path style=\"stroke:none;stroke-width:0\" d=\"m 3.6875,-1.140625 v -0.25 H 2.90625 V -4.5 c 0,-0.140625 0,-0.203125 -0.140625,-0.203125 -0.09375,0 -0.125,0 -0.1875,0.109375 l -2.3125,3.203125 v 0.25 h 2.0625 v 0.5625 c 0,0.25 0,0.328125 -0.578125,0.328125 H 1.5625 V 0 L 2.609375,-0.03125 3.671875,0 v -0.25 h -0.1875 C 2.90625,-0.25 2.90625,-0.328125 2.90625,-0.578125 v -0.5625 z m -1.3125,-0.25 H 0.53125 L 2.375,-3.9375 Z m 0,0\" id=\"id-b0d4e7b2-1fa4-4a69-862c-c5f3ac4181de\"/>\n",
       "          </g>\n",
       "        </g>\n",
       "      </g>\n",
       "    </g>\n",
       "    <g transform=\"matrix(0.705556,0,0,0.705556,95.796938,86.47022)\" ns2:version=\"1.3.0\" ns2:texconverter=\"pdflatex\" ns2:pdfconverter=\"inkscape\" ns2:text=\"\\\\fontsize{10pt}{1em}\\\\selectfont{$q_5$}\\n\" ns2:preamble=\"/Users/abhi/Software/textext-1.3.0/textext/default_packages.tex\" ns2:scale=\"2.0\" ns2:alignment=\"middle center\" ns2:inkscapeversion=\"1.0.2\" ns2:jacobian_sqrt=\"0.705556\" id=\"g6290\">\n",
       "      <defs id=\"id-9cc1e478-ae62-419e-b80e-7f177bfe5525\">\n",
       "        <g id=\"id-c4fda1d8-a01b-4359-b1b4-1191b08df1dd\">\n",
       "          <symbol overflow=\"visible\" id=\"id-764c571c-f22f-4ce4-a42b-b3b6dc3cc2a3\">\n",
       "            <path style=\"stroke:none;stroke-width:0\" d=\"\" id=\"id-5c111a58-2b28-4095-a85d-f3a21aa6221e\"/>\n",
       "          </symbol>\n",
       "          <symbol overflow=\"visible\" id=\"id-5016b941-e1b3-457f-a1e1-f20aee944907\">\n",
       "            <path style=\"stroke:none;stroke-width:0\" d=\"M 3.828125,1.734375 C 3.828125,1.625 3.734375,1.625 3.5625,1.625 3.09375,1.625 3.09375,1.5625 3.09375,1.46875 3.09375,1.390625 3.109375,1.328125 3.125,1.25 L 4.5,-4.296875 c 0,-0.046875 -0.03125,-0.09375 -0.09375,-0.09375 -0.109375,0 -0.515625,0.390625 -0.671875,0.6875 C 3.515625,-4.25 3.125,-4.40625 2.796875,-4.40625 c -1.171875,0 -2.390625,1.46875 -2.390625,2.921875 0,0.96875 0.578125,1.59375 1.3125,1.59375 0.421875,0 0.8125,-0.234375 1.171875,-0.59375 L 2.4375,1.296875 C 2.359375,1.578125 2.28125,1.609375 1.71875,1.625 1.59375,1.625 1.5,1.625 1.5,1.828125 c 0,0 0,0.109375 0.125,0.109375 0.3125,0 0.671875,-0.03125 1,-0.03125 0.328125,0 0.6875,0.03125 1.03125,0.03125 0.046875,0 0.171875,0 0.171875,-0.203125 z M 3.59375,-3.3125 c 0,0.0625 -0.546875,2.25 -0.578125,2.28125 C 2.859375,-0.75 2.296875,-0.109375 1.75,-0.109375 c -0.609375,0 -0.640625,-0.765625 -0.640625,-0.9375 0,-0.484375 0.28125,-1.5625 0.453125,-1.984375 0.3125,-0.734375 0.828125,-1.15625 1.234375,-1.15625 0.65625,0 0.796875,0.8125 0.796875,0.875 z m 0,0\" id=\"id-17acf21d-750b-4e0b-85ee-7a1b3dc75798\"/>\n",
       "          </symbol>\n",
       "          <symbol overflow=\"visible\" id=\"id-bd8b33e5-3af5-47ad-9e7b-32d3e5913060\">\n",
       "            <path style=\"stroke:none;stroke-width:0\" d=\"\" id=\"id-cbda906e-12ff-43a4-a616-6f806eb02188\"/>\n",
       "          </symbol>\n",
       "          <symbol overflow=\"visible\" id=\"id-5c611e23-f958-48a3-a1df-f2b5b423c5a8\">\n",
       "            <path style=\"stroke:none;stroke-width:0\" d=\"m 3.515625,-1.40625 c 0,-0.78125 -0.59375,-1.5 -1.453125,-1.5 -0.3125,0 -0.671875,0.0625 -0.984375,0.328125 v -1.3125 c 0.359375,0.09375 0.5625,0.09375 0.671875,0.09375 0.921875,0 1.46875,-0.625 1.46875,-0.734375 0,-0.078125 -0.046875,-0.09375 -0.078125,-0.09375 0,0 -0.03125,0 -0.0625,0.015625 -0.171875,0.0625 -0.53125,0.203125 -1.046875,0.203125 -0.203125,0 -0.5625,-0.015625 -1.015625,-0.1875 C 0.9375,-4.625 0.921875,-4.625 0.921875,-4.625 c -0.09375,0 -0.09375,0.078125 -0.09375,0.1875 v 2.046875 c 0,0.125 0,0.203125 0.109375,0.203125 0.0625,0 0.078125,0 0.140625,-0.09375 0.296875,-0.375 0.734375,-0.4375 0.96875,-0.4375 0.421875,0 0.609375,0.328125 0.640625,0.390625 0.125,0.234375 0.171875,0.5 0.171875,0.90625 0,0.203125 0,0.609375 -0.21875,0.921875 -0.171875,0.25 -0.46875,0.421875 -0.8125,0.421875 -0.453125,0 -0.921875,-0.25 -1.09375,-0.71875 0.265625,0.015625 0.40625,-0.15625 0.40625,-0.34375 0,-0.296875 -0.265625,-0.34375 -0.359375,-0.34375 0,0 -0.34375,0 -0.34375,0.375 0,0.625 0.578125,1.25 1.40625,1.25 0.890625,0 1.671875,-0.65625 1.671875,-1.546875 z m 0,0\" id=\"id-cde0b67c-9df4-4b43-bf78-ffed76c3feea\"/>\n",
       "          </symbol>\n",
       "        </g>\n",
       "      </defs>\n",
       "      <g id=\"id-05dc1714-3799-4ab2-b8bc-4a07daf8780c\" transform=\"translate(-149.118,-130.359)\">\n",
       "        <g style=\"fill:#000000;fill-opacity:1\" id=\"id-34bcb482-623c-4ae0-8386-46b0efcf8561\">\n",
       "          <g transform=\"translate(148.712,134.765)\" id=\"g6282\">\n",
       "            <path style=\"stroke:none;stroke-width:0\" d=\"M 3.828125,1.734375 C 3.828125,1.625 3.734375,1.625 3.5625,1.625 3.09375,1.625 3.09375,1.5625 3.09375,1.46875 3.09375,1.390625 3.109375,1.328125 3.125,1.25 L 4.5,-4.296875 c 0,-0.046875 -0.03125,-0.09375 -0.09375,-0.09375 -0.109375,0 -0.515625,0.390625 -0.671875,0.6875 C 3.515625,-4.25 3.125,-4.40625 2.796875,-4.40625 c -1.171875,0 -2.390625,1.46875 -2.390625,2.921875 0,0.96875 0.578125,1.59375 1.3125,1.59375 0.421875,0 0.8125,-0.234375 1.171875,-0.59375 L 2.4375,1.296875 C 2.359375,1.578125 2.28125,1.609375 1.71875,1.625 1.59375,1.625 1.5,1.625 1.5,1.828125 c 0,0 0,0.109375 0.125,0.109375 0.3125,0 0.671875,-0.03125 1,-0.03125 0.328125,0 0.6875,0.03125 1.03125,0.03125 0.046875,0 0.171875,0 0.171875,-0.203125 z M 3.59375,-3.3125 c 0,0.0625 -0.546875,2.25 -0.578125,2.28125 C 2.859375,-0.75 2.296875,-0.109375 1.75,-0.109375 c -0.609375,0 -0.640625,-0.765625 -0.640625,-0.9375 0,-0.484375 0.28125,-1.5625 0.453125,-1.984375 0.3125,-0.734375 0.828125,-1.15625 1.234375,-1.15625 0.65625,0 0.796875,0.8125 0.796875,0.875 z m 0,0\" id=\"id-15f67a67-21b4-42b1-8f37-152ad2345598\"/>\n",
       "          </g>\n",
       "        </g>\n",
       "        <g style=\"fill:#000000;fill-opacity:1\" id=\"id-abeb1607-f9af-4d86-863c-a9d8a6a6b300\">\n",
       "          <g transform=\"translate(153.16,136.259)\" id=\"g6286\">\n",
       "            <path style=\"stroke:none;stroke-width:0\" d=\"m 3.515625,-1.40625 c 0,-0.78125 -0.59375,-1.5 -1.453125,-1.5 -0.3125,0 -0.671875,0.0625 -0.984375,0.328125 v -1.3125 c 0.359375,0.09375 0.5625,0.09375 0.671875,0.09375 0.921875,0 1.46875,-0.625 1.46875,-0.734375 0,-0.078125 -0.046875,-0.09375 -0.078125,-0.09375 0,0 -0.03125,0 -0.0625,0.015625 -0.171875,0.0625 -0.53125,0.203125 -1.046875,0.203125 -0.203125,0 -0.5625,-0.015625 -1.015625,-0.1875 C 0.9375,-4.625 0.921875,-4.625 0.921875,-4.625 c -0.09375,0 -0.09375,0.078125 -0.09375,0.1875 v 2.046875 c 0,0.125 0,0.203125 0.109375,0.203125 0.0625,0 0.078125,0 0.140625,-0.09375 0.296875,-0.375 0.734375,-0.4375 0.96875,-0.4375 0.421875,0 0.609375,0.328125 0.640625,0.390625 0.125,0.234375 0.171875,0.5 0.171875,0.90625 0,0.203125 0,0.609375 -0.21875,0.921875 -0.171875,0.25 -0.46875,0.421875 -0.8125,0.421875 -0.453125,0 -0.921875,-0.25 -1.09375,-0.71875 0.265625,0.015625 0.40625,-0.15625 0.40625,-0.34375 0,-0.296875 -0.265625,-0.34375 -0.359375,-0.34375 0,0 -0.34375,0 -0.34375,0.375 0,0.625 0.578125,1.25 1.40625,1.25 0.890625,0 1.671875,-0.65625 1.671875,-1.546875 z m 0,0\" id=\"id-b36a8c45-263d-465b-b975-6c0e89ddba7a\"/>\n",
       "          </g>\n",
       "        </g>\n",
       "      </g>\n",
       "    </g>\n",
       "    <g transform=\"matrix(0.705556,0,0,0.705556,191.77164,109.08694)\" ns2:version=\"1.3.0\" ns2:texconverter=\"pdflatex\" ns2:pdfconverter=\"inkscape\" ns2:text=\"\\\\fontsize{10pt}{1em}\\\\selectfont{$q_6$}\\n\" ns2:preamble=\"/Users/abhi/Software/textext-1.3.0/textext/default_packages.tex\" ns2:scale=\"2.0\" ns2:alignment=\"middle center\" ns2:inkscapeversion=\"1.0.2\" ns2:jacobian_sqrt=\"0.705556\" id=\"g6769\">\n",
       "      <defs id=\"id-ee085846-9d98-4444-ad3d-e23cef0ff724\">\n",
       "        <g id=\"id-4c0f4cea-d475-4a96-9b91-14e29518d8e5\">\n",
       "          <symbol overflow=\"visible\" id=\"id-911d0312-c6cd-4115-a756-940cccd2de6c\">\n",
       "            <path style=\"stroke:none;stroke-width:0\" d=\"\" id=\"id-8357d524-d6bc-49e6-af5b-7c256aa9d8e0\"/>\n",
       "          </symbol>\n",
       "          <symbol overflow=\"visible\" id=\"id-3a8faf33-f85a-4aec-b9b8-ff2ec7796d79\">\n",
       "            <path style=\"stroke:none;stroke-width:0\" d=\"M 3.828125,1.734375 C 3.828125,1.625 3.734375,1.625 3.5625,1.625 3.09375,1.625 3.09375,1.5625 3.09375,1.46875 3.09375,1.390625 3.109375,1.328125 3.125,1.25 L 4.5,-4.296875 c 0,-0.046875 -0.03125,-0.09375 -0.09375,-0.09375 -0.109375,0 -0.515625,0.390625 -0.671875,0.6875 C 3.515625,-4.25 3.125,-4.40625 2.796875,-4.40625 c -1.171875,0 -2.390625,1.46875 -2.390625,2.921875 0,0.96875 0.578125,1.59375 1.3125,1.59375 0.421875,0 0.8125,-0.234375 1.171875,-0.59375 L 2.4375,1.296875 C 2.359375,1.578125 2.28125,1.609375 1.71875,1.625 1.59375,1.625 1.5,1.625 1.5,1.828125 c 0,0 0,0.109375 0.125,0.109375 0.3125,0 0.671875,-0.03125 1,-0.03125 0.328125,0 0.6875,0.03125 1.03125,0.03125 0.046875,0 0.171875,0 0.171875,-0.203125 z M 3.59375,-3.3125 c 0,0.0625 -0.546875,2.25 -0.578125,2.28125 C 2.859375,-0.75 2.296875,-0.109375 1.75,-0.109375 c -0.609375,0 -0.640625,-0.765625 -0.640625,-0.9375 0,-0.484375 0.28125,-1.5625 0.453125,-1.984375 0.3125,-0.734375 0.828125,-1.15625 1.234375,-1.15625 0.65625,0 0.796875,0.8125 0.796875,0.875 z m 0,0\" id=\"id-fcdb06d6-6677-4679-914e-4688be9d45c6\"/>\n",
       "          </symbol>\n",
       "          <symbol overflow=\"visible\" id=\"id-6aad45d0-54d0-402f-9cfb-e4b112483eb1\">\n",
       "            <path style=\"stroke:none;stroke-width:0\" d=\"\" id=\"id-0686eef0-ebc7-4f2d-9e45-74da2cf20203\"/>\n",
       "          </symbol>\n",
       "          <symbol overflow=\"visible\" id=\"id-53d88469-affb-495a-90ef-cea3edea0ac5\">\n",
       "            <path style=\"stroke:none;stroke-width:0\" d=\"M 3.578125,-1.421875 C 3.578125,-2.3125 2.875,-2.96875 2.0625,-2.96875 c -0.5625,0 -0.859375,0.375 -1.015625,0.6875 0,-0.5625 0.046875,-1.078125 0.3125,-1.515625 0.234375,-0.375 0.609375,-0.625 1.0625,-0.625 0.203125,0 0.484375,0.046875 0.625,0.234375 C 2.875,-4.171875 2.71875,-4.046875 2.71875,-3.84375 c 0,0.171875 0.125,0.328125 0.328125,0.328125 0.21875,0 0.34375,-0.140625 0.34375,-0.34375 0,-0.40625 -0.296875,-0.765625 -0.984375,-0.765625 -1,0 -2.03125,0.921875 -2.03125,2.421875 0,1.796875 0.84375,2.34375 1.625,2.34375 0.84375,0 1.578125,-0.65625 1.578125,-1.5625 z m -0.671875,0 c 0,0.390625 0,0.6875 -0.1875,0.96875 -0.15625,0.234375 -0.390625,0.375 -0.71875,0.375 -0.359375,0 -0.625,-0.203125 -0.78125,-0.515625 C 1.125,-0.796875 1.0625,-1.15625 1.0625,-1.5625 c 0,-0.6875 0.40625,-1.203125 0.96875,-1.203125 0.3125,0 0.53125,0.125 0.703125,0.375 0.171875,0.265625 0.171875,0.5625 0.171875,0.96875 z m 0,0\" id=\"id-55223509-8415-41ce-aa8f-b268d045f495\"/>\n",
       "          </symbol>\n",
       "        </g>\n",
       "      </defs>\n",
       "      <g id=\"id-3087957c-409f-43a6-8072-013267039549\" transform=\"translate(-149.118,-130.359)\">\n",
       "        <g style=\"fill:#000000;fill-opacity:1\" id=\"id-e42c01b1-cbbe-4d68-a878-bb5f4ef4b4f2\">\n",
       "          <g transform=\"translate(148.712,134.765)\" id=\"g6761\">\n",
       "            <path style=\"stroke:none;stroke-width:0\" d=\"M 3.828125,1.734375 C 3.828125,1.625 3.734375,1.625 3.5625,1.625 3.09375,1.625 3.09375,1.5625 3.09375,1.46875 3.09375,1.390625 3.109375,1.328125 3.125,1.25 L 4.5,-4.296875 c 0,-0.046875 -0.03125,-0.09375 -0.09375,-0.09375 -0.109375,0 -0.515625,0.390625 -0.671875,0.6875 C 3.515625,-4.25 3.125,-4.40625 2.796875,-4.40625 c -1.171875,0 -2.390625,1.46875 -2.390625,2.921875 0,0.96875 0.578125,1.59375 1.3125,1.59375 0.421875,0 0.8125,-0.234375 1.171875,-0.59375 L 2.4375,1.296875 C 2.359375,1.578125 2.28125,1.609375 1.71875,1.625 1.59375,1.625 1.5,1.625 1.5,1.828125 c 0,0 0,0.109375 0.125,0.109375 0.3125,0 0.671875,-0.03125 1,-0.03125 0.328125,0 0.6875,0.03125 1.03125,0.03125 0.046875,0 0.171875,0 0.171875,-0.203125 z M 3.59375,-3.3125 c 0,0.0625 -0.546875,2.25 -0.578125,2.28125 C 2.859375,-0.75 2.296875,-0.109375 1.75,-0.109375 c -0.609375,0 -0.640625,-0.765625 -0.640625,-0.9375 0,-0.484375 0.28125,-1.5625 0.453125,-1.984375 0.3125,-0.734375 0.828125,-1.15625 1.234375,-1.15625 0.65625,0 0.796875,0.8125 0.796875,0.875 z m 0,0\" id=\"id-ea64181e-3d6f-4fb0-83be-7d19ea2d56d2\"/>\n",
       "          </g>\n",
       "        </g>\n",
       "        <g style=\"fill:#000000;fill-opacity:1\" id=\"id-1596d6a7-0811-4dad-9421-ce29531e4a25\">\n",
       "          <g transform=\"translate(153.16,136.259)\" id=\"g6765\">\n",
       "            <path style=\"stroke:none;stroke-width:0\" d=\"M 3.578125,-1.421875 C 3.578125,-2.3125 2.875,-2.96875 2.0625,-2.96875 c -0.5625,0 -0.859375,0.375 -1.015625,0.6875 0,-0.5625 0.046875,-1.078125 0.3125,-1.515625 0.234375,-0.375 0.609375,-0.625 1.0625,-0.625 0.203125,0 0.484375,0.046875 0.625,0.234375 C 2.875,-4.171875 2.71875,-4.046875 2.71875,-3.84375 c 0,0.171875 0.125,0.328125 0.328125,0.328125 0.21875,0 0.34375,-0.140625 0.34375,-0.34375 0,-0.40625 -0.296875,-0.765625 -0.984375,-0.765625 -1,0 -2.03125,0.921875 -2.03125,2.421875 0,1.796875 0.84375,2.34375 1.625,2.34375 0.84375,0 1.578125,-0.65625 1.578125,-1.5625 z m -0.671875,0 c 0,0.390625 0,0.6875 -0.1875,0.96875 -0.15625,0.234375 -0.390625,0.375 -0.71875,0.375 -0.359375,0 -0.625,-0.203125 -0.78125,-0.515625 C 1.125,-0.796875 1.0625,-1.15625 1.0625,-1.5625 c 0,-0.6875 0.40625,-1.203125 0.96875,-1.203125 0.3125,0 0.53125,0.125 0.703125,0.375 0.171875,0.265625 0.171875,0.5625 0.171875,0.96875 z m 0,0\" id=\"id-c3d9206f-5b80-449f-8f0f-6738ed46050d\"/>\n",
       "          </g>\n",
       "        </g>\n",
       "      </g>\n",
       "    </g>\n",
       "    <g transform=\"matrix(0.705556,0,0,0.705556,62.688284,108.44386)\" ns2:version=\"1.3.0\" ns2:texconverter=\"pdflatex\" ns2:pdfconverter=\"inkscape\" ns2:text=\"\\\\fontsize{10pt}{1em}\\\\selectfont{$q_7$}\\n\" ns2:preamble=\"/Users/abhi/Software/textext-1.3.0/textext/default_packages.tex\" ns2:scale=\"2.0\" ns2:alignment=\"middle center\" ns2:inkscapeversion=\"1.0.2\" ns2:jacobian_sqrt=\"0.705556\" id=\"g7267\">\n",
       "      <defs id=\"id-bfa8d70b-4901-4b6b-bcbe-89c2415f3852\">\n",
       "        <g id=\"id-f6617fb7-a734-4219-a2de-879086e75458\">\n",
       "          <symbol overflow=\"visible\" id=\"id-e2e668c1-1679-425e-b529-d8c195ff65c2\">\n",
       "            <path style=\"stroke:none;stroke-width:0\" d=\"\" id=\"id-ff59726b-e904-4219-9a8b-4da59f8183c1\"/>\n",
       "          </symbol>\n",
       "          <symbol overflow=\"visible\" id=\"id-b7cad650-0a65-400c-8026-f18a2bc1fda2\">\n",
       "            <path style=\"stroke:none;stroke-width:0\" d=\"M 3.828125,1.734375 C 3.828125,1.625 3.734375,1.625 3.5625,1.625 3.09375,1.625 3.09375,1.5625 3.09375,1.46875 3.09375,1.390625 3.109375,1.328125 3.125,1.25 L 4.5,-4.296875 c 0,-0.046875 -0.03125,-0.09375 -0.09375,-0.09375 -0.109375,0 -0.515625,0.390625 -0.671875,0.6875 C 3.515625,-4.25 3.125,-4.40625 2.796875,-4.40625 c -1.171875,0 -2.390625,1.46875 -2.390625,2.921875 0,0.96875 0.578125,1.59375 1.3125,1.59375 0.421875,0 0.8125,-0.234375 1.171875,-0.59375 L 2.4375,1.296875 C 2.359375,1.578125 2.28125,1.609375 1.71875,1.625 1.59375,1.625 1.5,1.625 1.5,1.828125 c 0,0 0,0.109375 0.125,0.109375 0.3125,0 0.671875,-0.03125 1,-0.03125 0.328125,0 0.6875,0.03125 1.03125,0.03125 0.046875,0 0.171875,0 0.171875,-0.203125 z M 3.59375,-3.3125 c 0,0.0625 -0.546875,2.25 -0.578125,2.28125 C 2.859375,-0.75 2.296875,-0.109375 1.75,-0.109375 c -0.609375,0 -0.640625,-0.765625 -0.640625,-0.9375 0,-0.484375 0.28125,-1.5625 0.453125,-1.984375 0.3125,-0.734375 0.828125,-1.15625 1.234375,-1.15625 0.65625,0 0.796875,0.8125 0.796875,0.875 z m 0,0\" id=\"id-1d58152b-4fa2-4980-bf98-033a54821852\"/>\n",
       "          </symbol>\n",
       "          <symbol overflow=\"visible\" id=\"id-1dca0b6b-32a1-4e35-a710-ff4c446afefc\">\n",
       "            <path style=\"stroke:none;stroke-width:0\" d=\"\" id=\"id-52938ce3-ef58-4b3c-a5f8-35e352b69847\"/>\n",
       "          </symbol>\n",
       "          <symbol overflow=\"visible\" id=\"id-f12e6260-6019-4fd3-826f-3849f6615c00\">\n",
       "            <path style=\"stroke:none;stroke-width:0\" d=\"M 3.796875,-4.484375 H 1.96875 C 1.6875,-4.484375 1.609375,-4.5 1.359375,-4.515625 1,-4.546875 0.984375,-4.59375 0.96875,-4.703125 H 0.734375 l -0.25,1.484375 H 0.71875 c 0.015625,-0.109375 0.09375,-0.5625 0.203125,-0.640625 0.046875,-0.03125 0.625,-0.03125 0.71875,-0.03125 H 3.15625 L 2.4375,-2.96875 c -0.90625,1.1875 -1,2.296875 -1,2.703125 0,0.078125 0,0.40625 0.328125,0.40625 0.34375,0 0.34375,-0.3125 0.34375,-0.40625 v -0.28125 c 0,-1.34375 0.28125,-1.96875 0.578125,-2.34375 l 1.046875,-1.3125 c 0.0625,-0.09375 0.0625,-0.109375 0.0625,-0.28125 z m 0,0\" id=\"id-3772d3c2-154f-4f1c-858d-61490bd5b46f\"/>\n",
       "          </symbol>\n",
       "        </g>\n",
       "      </defs>\n",
       "      <g id=\"id-b146f602-c33f-417d-98ee-32776c062b0a\" transform=\"translate(-149.118,-130.359)\">\n",
       "        <g style=\"fill:#000000;fill-opacity:1\" id=\"id-a746b755-6135-4bf6-abd5-20f493fcd398\">\n",
       "          <g transform=\"translate(148.712,134.765)\" id=\"g7259\">\n",
       "            <path style=\"stroke:none;stroke-width:0\" d=\"M 3.828125,1.734375 C 3.828125,1.625 3.734375,1.625 3.5625,1.625 3.09375,1.625 3.09375,1.5625 3.09375,1.46875 3.09375,1.390625 3.109375,1.328125 3.125,1.25 L 4.5,-4.296875 c 0,-0.046875 -0.03125,-0.09375 -0.09375,-0.09375 -0.109375,0 -0.515625,0.390625 -0.671875,0.6875 C 3.515625,-4.25 3.125,-4.40625 2.796875,-4.40625 c -1.171875,0 -2.390625,1.46875 -2.390625,2.921875 0,0.96875 0.578125,1.59375 1.3125,1.59375 0.421875,0 0.8125,-0.234375 1.171875,-0.59375 L 2.4375,1.296875 C 2.359375,1.578125 2.28125,1.609375 1.71875,1.625 1.59375,1.625 1.5,1.625 1.5,1.828125 c 0,0 0,0.109375 0.125,0.109375 0.3125,0 0.671875,-0.03125 1,-0.03125 0.328125,0 0.6875,0.03125 1.03125,0.03125 0.046875,0 0.171875,0 0.171875,-0.203125 z M 3.59375,-3.3125 c 0,0.0625 -0.546875,2.25 -0.578125,2.28125 C 2.859375,-0.75 2.296875,-0.109375 1.75,-0.109375 c -0.609375,0 -0.640625,-0.765625 -0.640625,-0.9375 0,-0.484375 0.28125,-1.5625 0.453125,-1.984375 0.3125,-0.734375 0.828125,-1.15625 1.234375,-1.15625 0.65625,0 0.796875,0.8125 0.796875,0.875 z m 0,0\" id=\"id-ef0f18fe-0281-4b27-b8ee-ce70c6728afd\"/>\n",
       "          </g>\n",
       "        </g>\n",
       "        <g style=\"fill:#000000;fill-opacity:1\" id=\"id-ed2fbd0a-52dc-4e06-b6cf-4bf1a331b94e\">\n",
       "          <g transform=\"translate(153.16,136.259)\" id=\"g7263\">\n",
       "            <path style=\"stroke:none;stroke-width:0\" d=\"M 3.796875,-4.484375 H 1.96875 C 1.6875,-4.484375 1.609375,-4.5 1.359375,-4.515625 1,-4.546875 0.984375,-4.59375 0.96875,-4.703125 H 0.734375 l -0.25,1.484375 H 0.71875 c 0.015625,-0.109375 0.09375,-0.5625 0.203125,-0.640625 0.046875,-0.03125 0.625,-0.03125 0.71875,-0.03125 H 3.15625 L 2.4375,-2.96875 c -0.90625,1.1875 -1,2.296875 -1,2.703125 0,0.078125 0,0.40625 0.328125,0.40625 0.34375,0 0.34375,-0.3125 0.34375,-0.40625 v -0.28125 c 0,-1.34375 0.28125,-1.96875 0.578125,-2.34375 l 1.046875,-1.3125 c 0.0625,-0.09375 0.0625,-0.109375 0.0625,-0.28125 z m 0,0\" id=\"id-1e1b1cbf-1d61-4fbb-a92b-36035ae3ee35\"/>\n",
       "          </g>\n",
       "        </g>\n",
       "      </g>\n",
       "    </g>\n",
       "    <g transform=\"matrix(0.705556,0,0,0.705556,130.59911,178.38302)\" ns2:version=\"1.3.0\" ns2:texconverter=\"pdflatex\" ns2:pdfconverter=\"inkscape\" ns2:text=\"\\\\fontsize{10pt}{1em}\\\\selectfont{$q_8$}\\n\" ns2:preamble=\"/Users/abhi/Software/textext-1.3.0/textext/default_packages.tex\" ns2:scale=\"2.0\" ns2:alignment=\"middle center\" ns2:inkscapeversion=\"1.0.2\" ns2:jacobian_sqrt=\"0.705556\" id=\"g7784\">\n",
       "      <defs id=\"id-de919f58-e1a7-404a-a8af-2267b8bb21a3\">\n",
       "        <g id=\"id-2f4b1190-13c2-4c97-8deb-13e8a1e85e2a\">\n",
       "          <symbol overflow=\"visible\" id=\"id-08f004e3-cebf-4897-b3ac-7bdf533c7d4c\">\n",
       "            <path style=\"stroke:none;stroke-width:0\" d=\"\" id=\"id-11a324f9-8e84-49d6-a769-af9c8f834c4e\"/>\n",
       "          </symbol>\n",
       "          <symbol overflow=\"visible\" id=\"id-6fd05259-ca6a-4e84-892f-ee55fbfc4153\">\n",
       "            <path style=\"stroke:none;stroke-width:0\" d=\"M 3.828125,1.734375 C 3.828125,1.625 3.734375,1.625 3.5625,1.625 3.09375,1.625 3.09375,1.5625 3.09375,1.46875 3.09375,1.390625 3.109375,1.328125 3.125,1.25 L 4.5,-4.296875 c 0,-0.046875 -0.03125,-0.09375 -0.09375,-0.09375 -0.109375,0 -0.515625,0.390625 -0.671875,0.6875 C 3.515625,-4.25 3.125,-4.40625 2.796875,-4.40625 c -1.171875,0 -2.390625,1.46875 -2.390625,2.921875 0,0.96875 0.578125,1.59375 1.3125,1.59375 0.421875,0 0.8125,-0.234375 1.171875,-0.59375 L 2.4375,1.296875 C 2.359375,1.578125 2.28125,1.609375 1.71875,1.625 1.59375,1.625 1.5,1.625 1.5,1.828125 c 0,0 0,0.109375 0.125,0.109375 0.3125,0 0.671875,-0.03125 1,-0.03125 0.328125,0 0.6875,0.03125 1.03125,0.03125 0.046875,0 0.171875,0 0.171875,-0.203125 z M 3.59375,-3.3125 c 0,0.0625 -0.546875,2.25 -0.578125,2.28125 C 2.859375,-0.75 2.296875,-0.109375 1.75,-0.109375 c -0.609375,0 -0.640625,-0.765625 -0.640625,-0.9375 0,-0.484375 0.28125,-1.5625 0.453125,-1.984375 0.3125,-0.734375 0.828125,-1.15625 1.234375,-1.15625 0.65625,0 0.796875,0.8125 0.796875,0.875 z m 0,0\" id=\"id-2829add2-4083-4225-b6ab-d0e632f77dce\"/>\n",
       "          </symbol>\n",
       "          <symbol overflow=\"visible\" id=\"id-9c3a7655-ac19-4265-9f4b-ee936473ef0d\">\n",
       "            <path style=\"stroke:none;stroke-width:0\" d=\"\" id=\"id-699dcbcb-ce85-4002-a2ea-1b3e568b13c7\"/>\n",
       "          </symbol>\n",
       "          <symbol overflow=\"visible\" id=\"id-85d07e1c-8eb7-47a9-9d3a-15944991af0e\">\n",
       "            <path style=\"stroke:none;stroke-width:0\" d=\"m 3.578125,-1.171875 c 0,-0.46875 -0.265625,-0.859375 -0.671875,-1.09375 l -0.4375,-0.25 c 0.546875,-0.265625 0.890625,-0.59375 0.890625,-1.078125 0,-0.671875 -0.703125,-1.03125 -1.375,-1.03125 -0.765625,0 -1.390625,0.5 -1.390625,1.15625 0,0.328125 0.15625,0.5625 0.28125,0.703125 0.125,0.15625 0.171875,0.1875 0.578125,0.421875 C 1.0625,-2.171875 0.375,-1.796875 0.375,-1.0625 c 0,0.765625 0.796875,1.203125 1.59375,1.203125 0.890625,0 1.609375,-0.5625 1.609375,-1.3125 z M 3,-3.59375 c 0,0.625 -0.734375,0.9375 -0.734375,0.9375 0,0 -0.03125,0 -0.078125,-0.03125 L 1.34375,-3.171875 c -0.1875,-0.109375 -0.375,-0.296875 -0.375,-0.5625 0,-0.4375 0.5,-0.6875 1,-0.6875 0.546875,0 1.03125,0.34375 1.03125,0.828125 z m 0.15625,2.65625 c 0,0.53125 -0.578125,0.859375 -1.171875,0.859375 -0.640625,0 -1.1875,-0.421875 -1.1875,-0.984375 0,-0.515625 0.375,-0.921875 0.875,-1.140625 0.390625,0.21875 0.40625,0.21875 0.96875,0.546875 0.171875,0.109375 0.515625,0.3125 0.515625,0.71875 z m 0,0\" id=\"id-e1f95870-7598-41df-9086-d7eff7bf9b27\"/>\n",
       "          </symbol>\n",
       "        </g>\n",
       "      </defs>\n",
       "      <g id=\"id-a7ab5e1f-0b25-4d24-9801-1655c3d15a0b\" transform=\"translate(-149.118,-130.359)\">\n",
       "        <g style=\"fill:#000000;fill-opacity:1\" id=\"id-6676a5ce-8429-4469-ba93-f62d4c6c40fa\">\n",
       "          <g transform=\"translate(148.712,134.765)\" id=\"g7776\">\n",
       "            <path style=\"stroke:none;stroke-width:0\" d=\"M 3.828125,1.734375 C 3.828125,1.625 3.734375,1.625 3.5625,1.625 3.09375,1.625 3.09375,1.5625 3.09375,1.46875 3.09375,1.390625 3.109375,1.328125 3.125,1.25 L 4.5,-4.296875 c 0,-0.046875 -0.03125,-0.09375 -0.09375,-0.09375 -0.109375,0 -0.515625,0.390625 -0.671875,0.6875 C 3.515625,-4.25 3.125,-4.40625 2.796875,-4.40625 c -1.171875,0 -2.390625,1.46875 -2.390625,2.921875 0,0.96875 0.578125,1.59375 1.3125,1.59375 0.421875,0 0.8125,-0.234375 1.171875,-0.59375 L 2.4375,1.296875 C 2.359375,1.578125 2.28125,1.609375 1.71875,1.625 1.59375,1.625 1.5,1.625 1.5,1.828125 c 0,0 0,0.109375 0.125,0.109375 0.3125,0 0.671875,-0.03125 1,-0.03125 0.328125,0 0.6875,0.03125 1.03125,0.03125 0.046875,0 0.171875,0 0.171875,-0.203125 z M 3.59375,-3.3125 c 0,0.0625 -0.546875,2.25 -0.578125,2.28125 C 2.859375,-0.75 2.296875,-0.109375 1.75,-0.109375 c -0.609375,0 -0.640625,-0.765625 -0.640625,-0.9375 0,-0.484375 0.28125,-1.5625 0.453125,-1.984375 0.3125,-0.734375 0.828125,-1.15625 1.234375,-1.15625 0.65625,0 0.796875,0.8125 0.796875,0.875 z m 0,0\" id=\"id-a48517bc-47e5-4496-bcc3-d404d4512207\"/>\n",
       "          </g>\n",
       "        </g>\n",
       "        <g style=\"fill:#000000;fill-opacity:1\" id=\"id-e8cc91dd-d150-415c-9c58-803e9f2a1afc\">\n",
       "          <g transform=\"translate(153.16,136.259)\" id=\"g7780\">\n",
       "            <path style=\"stroke:none;stroke-width:0\" d=\"m 3.578125,-1.171875 c 0,-0.46875 -0.265625,-0.859375 -0.671875,-1.09375 l -0.4375,-0.25 c 0.546875,-0.265625 0.890625,-0.59375 0.890625,-1.078125 0,-0.671875 -0.703125,-1.03125 -1.375,-1.03125 -0.765625,0 -1.390625,0.5 -1.390625,1.15625 0,0.328125 0.15625,0.5625 0.28125,0.703125 0.125,0.15625 0.171875,0.1875 0.578125,0.421875 C 1.0625,-2.171875 0.375,-1.796875 0.375,-1.0625 c 0,0.765625 0.796875,1.203125 1.59375,1.203125 0.890625,0 1.609375,-0.5625 1.609375,-1.3125 z M 3,-3.59375 c 0,0.625 -0.734375,0.9375 -0.734375,0.9375 0,0 -0.03125,0 -0.078125,-0.03125 L 1.34375,-3.171875 c -0.1875,-0.109375 -0.375,-0.296875 -0.375,-0.5625 0,-0.4375 0.5,-0.6875 1,-0.6875 0.546875,0 1.03125,0.34375 1.03125,0.828125 z m 0.15625,2.65625 c 0,0.53125 -0.578125,0.859375 -1.171875,0.859375 -0.640625,0 -1.1875,-0.421875 -1.1875,-0.984375 0,-0.515625 0.375,-0.921875 0.875,-1.140625 0.390625,0.21875 0.40625,0.21875 0.96875,0.546875 0.171875,0.109375 0.515625,0.3125 0.515625,0.71875 z m 0,0\" id=\"id-d5efd67e-e285-415d-b848-4d7167a78a59\"/>\n",
       "          </g>\n",
       "        </g>\n",
       "      </g>\n",
       "    </g>\n",
       "    <g id=\"id-17cf55cf-df2b-4ae9-83aa-d2346b7216ac\" transform=\"matrix(0.705556,0,0,0.705556,-68.95221,97.96267)\">\n",
       "      <g style=\"fill:#000000;fill-opacity:1\" id=\"id-e74ffb4d-0160-4f2c-857d-0cf86342ddc7\">\n",
       "        <g transform=\"translate(148.712,134.765)\" id=\"g8326\">\n",
       "          <path style=\"stroke:none;stroke-width:0\" d=\"m 7.375,-4.34375 c 0,-1.609375 -1.0625,-2.6875 -2.546875,-2.6875 -2.140625,0 -4.34375,2.265625 -4.34375,4.59375 0,1.65625 1.125,2.65625 2.5625,2.65625 2.109375,0 4.328125,-2.1875 4.328125,-4.5625 z M 6.484375,-4.734375 c 0,0.71875 -0.265625,2.265625 -1.25,3.5 C 4.75,-0.625 3.9375,-0.046875 3.09375,-0.046875 c -0.984375,0 -1.671875,-0.796875 -1.671875,-2.109375 0,-0.453125 0.140625,-1.90625 0.90625,-3.0625 0.6875,-1.046875 1.65625,-1.5625 2.453125,-1.5625 0.8125,0 1.703125,0.5625 1.703125,2.046875 z m 0,0\" id=\"id-4847fe30-c764-46f0-9057-c8b46bce0f3a\"/>\n",
       "        </g>\n",
       "      </g>\n",
       "    </g>\n",
       "    <g id=\"id-7181c8e3-9b45-4018-86bf-54d1e197dc7a\" transform=\"matrix(0.705556,0,0,0.705556,-9.1173936,59.769183)\">\n",
       "      <g style=\"fill:#000000;fill-opacity:1\" id=\"id-d1bfbef3-07f8-49c2-a12e-12ec0cde6de2\">\n",
       "        <g transform=\"translate(148.712,134.765)\" id=\"g8838\">\n",
       "          <path style=\"stroke:none;stroke-width:0\" d=\"m 7.515625,-4.6754492 c 0,-0.78125 -0.65625,-1.515625 -1.96875,-1.515625 h -3.21875 c -0.1875,0 -0.296875,0 -0.296875,0.1875 0,0.125 0.078125,0.125 0.28125,0.125 0.125,0 0.3125,0.015625 0.421875,0.015625 0.171875,0.03125 0.21875,0.046875 0.21875,0.171875 0,0.03125 0,0.0625 -0.03125,0.1875 l -1.34375,5.34375004 c -0.09375,0.390625 -0.109375,0.46875 -0.90625,0.46875 -0.15625,0 -0.265625,0 -0.265625,0.1875 0,0.125 0.109375,0.125 0.140625,0.125 l 1.265625,-0.03125 0.640625,0.015625 c 0.21875,0 0.4375,0.015625 0.640625,0.015625 0.078125,0 0.203125,0 0.203125,-0.203125 0,-0.109375 -0.09375,-0.109375 -0.28125,-0.109375 -0.359375,0 -0.640625,0 -0.640625,-0.171875 0,-0.0625 0.015625,-0.109375 0.03125,-0.171875 L 3.015625,-2.5348242 H 4.71875 c 1.40625,0 2.796875,-1.03125 2.796875,-2.140625 z m -0.921875,-0.25 c 0,0.390625 -0.203125,1.25 -0.59375,1.609375 -0.5,0.453125 -1.09375,0.53125 -1.53125,0.53125 H 3.0625 l 0.671875,-2.71875 c 0.09375,-0.34375 0.109375,-0.375 0.546875,-0.375 h 0.953125 c 0.828125,0 1.359375,0.265625 1.359375,0.953125 z m 0,0\" id=\"id-d19bc558-e5b7-4618-9d98-b22422e7321f\"/>\n",
       "        </g>\n",
       "      </g>\n",
       "    </g>\n",
       "    <g id=\"id-e3de7cf5-406b-47db-a8fc-29ae77d5a852\" transform=\"matrix(0.705556,0,0,0.705556,47.331907,4.8888019)\">\n",
       "      <g style=\"fill:#000000;fill-opacity:1\" id=\"id-54b4402b-dfbf-44e1-bff7-336143746ce0\">\n",
       "        <g transform=\"translate(148.712,134.765)\" id=\"g2122\">\n",
       "          <path style=\"stroke:none;stroke-width:0\" d=\"m 6.46875,0 c 0,-0.0625 -0.0625,-0.09375 -0.109375,-0.09375 -0.078125,0 -0.09375,0.046875 -0.125,0.109375 C 6,0.71875 5.421875,0.96875 5.078125,0.96875 4.609375,0.96875 4.46875,0.703125 4.359375,-0.0625 5.90625,-0.640625 7.375,-2.421875 7.375,-4.34375 c 0,-1.609375 -1.0625,-2.6875 -2.546875,-2.6875 -2.140625,0 -4.34375,2.265625 -4.34375,4.59375 0,1.65625 1.125,2.65625 2.5625,2.65625 0.25,0 0.578125,-0.046875 0.96875,-0.15625 -0.03125,0.625 -0.03125,0.640625 -0.03125,0.78125 0,0.3125 0,1.09375 0.828125,1.09375 C 5.984375,1.9375 6.46875,0.109375 6.46875,0 Z M 6.5,-4.671875 c 0,1 -0.515625,3.34375 -2.1875,4.265625 -0.046875,-0.34375 -0.140625,-1.0625 -0.875,-1.0625 -0.53125,0 -1.015625,0.484375 -1.015625,1.015625 0,0.1875 0.0625,0.3125 0.0625,0.3125 -0.78125,-0.3125 -1.125,-1.078125 -1.125,-1.984375 0,-0.6875 0.265625,-2.109375 1.015625,-3.171875 C 3.109375,-6.3125 4.046875,-6.78125 4.78125,-6.78125 5.765625,-6.78125 6.5,-6 6.5,-4.671875 Z M 4.046875,-0.40625 c 0,0.140625 -0.015625,0.15625 -0.109375,0.203125 -0.265625,0.109375 -0.5625,0.171875 -0.84375,0.171875 -0.140625,0 -0.453125,0 -0.453125,-0.421875 0,-0.40625 0.375,-0.796875 0.796875,-0.796875 0.421875,0 0.609375,0.234375 0.609375,0.84375 z m 0,0\" id=\"id-2624fa1a-b115-47f3-b926-f7e884c4484a\"/>\n",
       "        </g>\n",
       "      </g>\n",
       "    </g>\n",
       "    <g transform=\"matrix(0.62893323,0,0,0.62893322,176.66438,160.96347)\" ns2:version=\"1.3.0\" ns2:texconverter=\"pdflatex\" ns2:pdfconverter=\"inkscape\" ns2:text=\"\\\\fontsize{9pt}{1em}\\\\selectfont{ \\\\circled{$N$} }\\n\" ns2:preamble=\"/Users/abhi/Software/textext-1.3.0/textext/default_packages.tex\" ns2:scale=\"2.0\" ns2:alignment=\"middle center\" ns2:inkscapeversion=\"1.0.2\" ns2:jacobian_sqrt=\"0.705556\" id=\"g4338\" style=\"stroke-width:1.12183\">\n",
       "      <defs id=\"id-be1683ed-e3c8-44f3-8a7b-dda4965a6d83\">\n",
       "        <g id=\"id-8bfaa5db-1e9f-40a2-8090-325f40da4301\">\n",
       "          <symbol overflow=\"visible\" id=\"id-7824c6bb-d062-4ca5-a6c9-7c95a5a4748a\">\n",
       "            <path style=\"stroke:none;stroke-width:0\" d=\"\" id=\"id-34ad30c5-93af-4cb9-b223-86851b717caa\"/>\n",
       "          </symbol>\n",
       "          <symbol overflow=\"visible\" id=\"id-7c1258a2-4a5b-4542-a5d6-b6d8f96a3733\">\n",
       "            <path style=\"stroke:none;stroke-width:0\" d=\"m 8.046875,-6.015625 c 0,-0.0625 -0.0625,-0.109375 -0.125,-0.109375 -0.203125,0 -0.703125,0.03125 -0.90625,0.03125 L 6.5625,-6.109375 c -0.140625,0 -0.328125,-0.015625 -0.46875,-0.015625 -0.03125,0 -0.15625,0 -0.15625,0.15625 0,0.125 0.109375,0.125 0.15625,0.125 0.34375,0 0.609375,0.078125 0.609375,0.375 0,0.046875 -0.03125,0.1875 -0.03125,0.1875 l -1,3.984375 -2.0625,-4.65625 C 3.53125,-6.109375 3.53125,-6.125 3.3125,-6.125 H 2.125 c -0.171875,0 -0.265625,0 -0.265625,0.15625 0,0.125 0.09375,0.125 0.265625,0.125 0.046875,0 0.375,0 0.59375,0.046875 L 1.5,-0.953125 c -0.09375,0.4375 -0.328125,0.640625 -0.953125,0.671875 -0.03125,0 -0.15625,0.015625 -0.15625,0.171875 0,0 0,0.109375 0.125,0.109375 C 0.625,0 0.859375,-0.015625 0.96875,-0.015625 1.109375,-0.03125 1.125,-0.03125 1.421875,-0.03125 L 1.875,-0.015625 C 2.015625,-0.015625 2.203125,0 2.34375,0 2.390625,0 2.5,0 2.5,-0.15625 c 0,-0.109375 -0.09375,-0.125 -0.171875,-0.125 -0.421875,0 -0.59375,-0.140625 -0.59375,-0.375 0,-0.0625 0.015625,-0.078125 0.046875,-0.203125 l 1.171875,-4.734375 2.40625,5.4375 C 5.421875,-0.015625 5.421875,0 5.515625,0 5.625,0 5.640625,-0.03125 5.671875,-0.1875 l 1.25,-4.96875 c 0.09375,-0.375 0.265625,-0.671875 0.96875,-0.6875 0.046875,0 0.15625,-0.015625 0.15625,-0.171875 z m 0,0\" id=\"id-75c680e4-0ed7-456f-b411-5d403e65ab49\"/>\n",
       "          </symbol>\n",
       "        </g>\n",
       "      </defs>\n",
       "      <g id=\"id-886c2c66-9a2f-490f-a7ff-78d56ade6871\" transform=\"translate(-148.711,-124.801)\" style=\"stroke-width:1.12183\">\n",
       "        <path style=\"fill:none;stroke:#000000;stroke-width:0.447049;stroke-linecap:butt;stroke-linejoin:miter;stroke-miterlimit:10;stroke-opacity:1\" d=\"M 7.963844,0.00115625 C 7.963844,4.399594 4.397437,7.966 -0.001,7.966 c -4.398438,0 -7.964844,-3.566406 -7.964844,-7.96484375 0,-4.39843725 3.566406,-7.96484325 7.964844,-7.96484325 4.398437,0 7.964844,3.566406 7.964844,7.96484325 z m 0,0\" transform=\"matrix(1,0,0,-1,156.876,132.966)\" id=\"id-ab9e9f3d-76a2-489f-9d8f-b26f9396a689\"/>\n",
       "        <g style=\"fill:#000000;fill-opacity:1;stroke-width:1.12183\" id=\"id-5da62ed5-954d-4c8e-84c1-343c0b57ee21\">\n",
       "          <g transform=\"translate(152.708,136.029)\" id=\"g4334\" style=\"stroke-width:1.12183\">\n",
       "            <path style=\"stroke:none;stroke-width:0\" d=\"m 8.046875,-6.015625 c 0,-0.0625 -0.0625,-0.109375 -0.125,-0.109375 -0.203125,0 -0.703125,0.03125 -0.90625,0.03125 L 6.5625,-6.109375 c -0.140625,0 -0.328125,-0.015625 -0.46875,-0.015625 -0.03125,0 -0.15625,0 -0.15625,0.15625 0,0.125 0.109375,0.125 0.15625,0.125 0.34375,0 0.609375,0.078125 0.609375,0.375 0,0.046875 -0.03125,0.1875 -0.03125,0.1875 l -1,3.984375 -2.0625,-4.65625 C 3.53125,-6.109375 3.53125,-6.125 3.3125,-6.125 H 2.125 c -0.171875,0 -0.265625,0 -0.265625,0.15625 0,0.125 0.09375,0.125 0.265625,0.125 0.046875,0 0.375,0 0.59375,0.046875 L 1.5,-0.953125 c -0.09375,0.4375 -0.328125,0.640625 -0.953125,0.671875 -0.03125,0 -0.15625,0.015625 -0.15625,0.171875 0,0 0,0.109375 0.125,0.109375 C 0.625,0 0.859375,-0.015625 0.96875,-0.015625 1.109375,-0.03125 1.125,-0.03125 1.421875,-0.03125 L 1.875,-0.015625 C 2.015625,-0.015625 2.203125,0 2.34375,0 2.390625,0 2.5,0 2.5,-0.15625 c 0,-0.109375 -0.09375,-0.125 -0.171875,-0.125 -0.421875,0 -0.59375,-0.140625 -0.59375,-0.375 0,-0.0625 0.015625,-0.078125 0.046875,-0.203125 l 1.171875,-4.734375 2.40625,5.4375 C 5.421875,-0.015625 5.421875,0 5.515625,0 5.625,0 5.640625,-0.03125 5.671875,-0.1875 l 1.25,-4.96875 c 0.09375,-0.375 0.265625,-0.671875 0.96875,-0.6875 0.046875,0 0.15625,-0.015625 0.15625,-0.171875 z m 0,0\" id=\"id-90961f8a-cc54-4cfc-9dc5-bcda09c6ef0c\"/>\n",
       "          </g>\n",
       "        </g>\n",
       "      </g>\n",
       "    </g>\n",
       "    <g id=\"id-061a22c5-00ef-463c-93e3-11f687b830c5\" transform=\"matrix(0.705556,0,0,0.705556,23.944067,36.697952)\">\n",
       "      <g style=\"fill:#000000;fill-opacity:1\" id=\"id-2f73e277-23f6-485b-9c0c-84d4fb4e9545\">\n",
       "        <g transform=\"translate(148.712,134.765)\" id=\"g4897\">\n",
       "          <path style=\"stroke:none;stroke-width:0\" d=\"m 6.40625,-2.46875 c 0,-0.03125 -0.03125,-0.109375 -0.109375,-0.109375 -0.09375,0 -0.109375,0.0625 -0.171875,0.21875 -0.34375,0.90625 -0.78125,2.046875 -2.5,2.046875 H 2.6875 c -0.140625,0 -0.171875,0 -0.21875,0 -0.109375,-0.015625 -0.140625,-0.03125 -0.140625,-0.109375 0,-0.03125 0,-0.046875 0.046875,-0.21875 L 3.734375,-6.03125 C 3.8125,-6.390625 3.84375,-6.5 4.78125,-6.5 c 0.296875,0 0.375,0 0.375,-0.1875 0,-0.125 -0.109375,-0.125 -0.15625,-0.125 L 3.53125,-6.78125 2.203125,-6.8125 c -0.0625,0 -0.1875,0 -0.1875,0.203125 0,0.109375 0.09375,0.109375 0.28125,0.109375 0,0 0.203125,0 0.375,0.015625 0.171875,0.03125 0.265625,0.03125 0.265625,0.171875 0,0.03125 0,0.0625 -0.03125,0.1875 L 1.5625,-0.78125 c -0.09375,0.390625 -0.109375,0.46875 -0.90625,0.46875 -0.171875,0 -0.265625,0 -0.265625,0.203125 C 0.390625,0 0.484375,0 0.65625,0 h 4.625 C 5.515625,0 5.515625,0 5.578125,-0.171875 L 6.375,-2.328125 C 6.40625,-2.4375 6.40625,-2.46875 6.40625,-2.46875 Z m 0,0\" id=\"id-c267b16c-a18c-414a-9a3f-9ba8852bcb47\"/>\n",
       "        </g>\n",
       "      </g>\n",
       "    </g>\n",
       "    <g transform=\"matrix(0.705556,0,0,0.705556,142.96316,74.904293)\" ns2:version=\"1.3.0\" ns2:texconverter=\"pdflatex\" ns2:pdfconverter=\"inkscape\" ns2:text=\"\\\\fontsize{10pt}{1em}\\\\selectfont{$2a$}\\n\" ns2:preamble=\"/Users/abhi/Software/textext-1.3.0/textext/default_packages.tex\" ns2:scale=\"2.0\" ns2:alignment=\"middle center\" ns2:inkscapeversion=\"1.0.2\" ns2:jacobian_sqrt=\"0.705556\" id=\"g6038\">\n",
       "      <defs id=\"id-7acaa2cd-d187-4095-a699-fd356c75a464\">\n",
       "        <g id=\"id-c68ee1ce-1d9e-4688-8c7c-cb70b3c4b9f5\">\n",
       "          <symbol overflow=\"visible\" id=\"id-bb32c3ee-d64f-4734-a395-a2d896e494f2\">\n",
       "            <path style=\"stroke:none;stroke-width:0\" d=\"\" id=\"id-09960bfd-2fc0-4f69-a4e1-d7fcbd4a64e9\"/>\n",
       "          </symbol>\n",
       "          <symbol overflow=\"visible\" id=\"id-afaf15c0-74b8-47cb-a6d8-e0d2efd14ae4\">\n",
       "            <path style=\"stroke:none;stroke-width:0\" d=\"M 4.46875,-1.734375 H 4.234375 C 4.171875,-1.4375 4.109375,-1 4,-0.84375 3.9375,-0.765625 3.28125,-0.765625 3.0625,-0.765625 H 1.265625 l 1.0625,-1.03125 c 1.546875,-1.375 2.140625,-1.90625 2.140625,-2.90625 0,-1.140625 -0.890625,-1.9375 -2.109375,-1.9375 -1.125,0 -1.859375,0.921875 -1.859375,1.8125 0,0.546875 0.5,0.546875 0.53125,0.546875 0.171875,0 0.515625,-0.109375 0.515625,-0.53125 0,-0.25 -0.1875,-0.515625 -0.53125,-0.515625 -0.078125,0 -0.09375,0 -0.125,0.015625 0.21875,-0.65625 0.765625,-1.015625 1.34375,-1.015625 0.90625,0 1.328125,0.8125 1.328125,1.625 C 3.5625,-3.90625 3.078125,-3.125 2.515625,-2.5 l -1.90625,2.125 C 0.5,-0.265625 0.5,-0.234375 0.5,0 h 3.703125 z m 0,0\" id=\"id-241346f3-5132-4a9d-b732-b250925bfd6c\"/>\n",
       "          </symbol>\n",
       "          <symbol overflow=\"visible\" id=\"id-26aa62ad-3f02-4584-b203-0591e671f2ce\">\n",
       "            <path style=\"stroke:none;stroke-width:0\" d=\"\" id=\"id-e6621902-a280-4542-a5b7-cf04591438da\"/>\n",
       "          </symbol>\n",
       "          <symbol overflow=\"visible\" id=\"id-f6f7b7c5-b246-4eea-bec5-4f72cdba9a8f\">\n",
       "            <path style=\"stroke:none;stroke-width:0\" d=\"m 4.96875,-1.421875 c 0,-0.109375 -0.09375,-0.109375 -0.125,-0.109375 -0.09375,0 -0.109375,0.046875 -0.140625,0.1875 -0.171875,0.640625 -0.34375,1.234375 -0.75,1.234375 -0.28125,0 -0.296875,-0.265625 -0.296875,-0.453125 0,-0.21875 0.015625,-0.3125 0.125,-0.75 L 4,-2.203125 4.359375,-3.59375 c 0.0625,-0.28125 0.0625,-0.296875 0.0625,-0.34375 0,-0.171875 -0.109375,-0.265625 -0.28125,-0.265625 -0.25,0 -0.390625,0.21875 -0.421875,0.4375 -0.1875,-0.375 -0.46875,-0.640625 -0.921875,-0.640625 -1.15625,0 -2.390625,1.46875 -2.390625,2.921875 0,0.9375 0.546875,1.59375 1.3125,1.59375 0.203125,0 0.703125,-0.046875 1.296875,-0.75 0.078125,0.421875 0.4375,0.75 0.90625,0.75 0.359375,0 0.578125,-0.234375 0.75,-0.546875 0.15625,-0.359375 0.296875,-0.984375 0.296875,-0.984375 z M 3.5625,-3.140625 3.078125,-1.1875 C 3.015625,-1 3.015625,-0.984375 2.875,-0.8125 2.4375,-0.265625 2.03125,-0.109375 1.75,-0.109375 c -0.5,0 -0.640625,-0.546875 -0.640625,-0.9375 0,-0.5 0.3125,-1.71875 0.546875,-2.1875 0.3125,-0.578125 0.75,-0.953125 1.15625,-0.953125 0.640625,0 0.78125,0.8125 0.78125,0.875 0,0.0625 -0.015625,0.125 -0.03125,0.171875 z m 0,0\" id=\"id-ee5d569d-259d-41b4-8e45-00a8970d8b08\"/>\n",
       "          </symbol>\n",
       "        </g>\n",
       "      </defs>\n",
       "      <g id=\"id-9b9fdcc4-883e-46a9-8c72-032faead7e52\" transform=\"translate(-149.212,-128.124)\">\n",
       "        <g style=\"fill:#000000;fill-opacity:1\" id=\"id-37b2c320-e277-4777-a8a7-2939a83eda74\">\n",
       "          <g transform=\"translate(148.712,134.765)\" id=\"g6030\">\n",
       "            <path style=\"stroke:none;stroke-width:0\" d=\"M 4.46875,-1.734375 H 4.234375 C 4.171875,-1.4375 4.109375,-1 4,-0.84375 3.9375,-0.765625 3.28125,-0.765625 3.0625,-0.765625 H 1.265625 l 1.0625,-1.03125 c 1.546875,-1.375 2.140625,-1.90625 2.140625,-2.90625 0,-1.140625 -0.890625,-1.9375 -2.109375,-1.9375 -1.125,0 -1.859375,0.921875 -1.859375,1.8125 0,0.546875 0.5,0.546875 0.53125,0.546875 0.171875,0 0.515625,-0.109375 0.515625,-0.53125 0,-0.25 -0.1875,-0.515625 -0.53125,-0.515625 -0.078125,0 -0.09375,0 -0.125,0.015625 0.21875,-0.65625 0.765625,-1.015625 1.34375,-1.015625 0.90625,0 1.328125,0.8125 1.328125,1.625 C 3.5625,-3.90625 3.078125,-3.125 2.515625,-2.5 l -1.90625,2.125 C 0.5,-0.265625 0.5,-0.234375 0.5,0 h 3.703125 z m 0,0\" id=\"id-9385fefa-cc16-4137-a1e6-1c1a518b236a\"/>\n",
       "          </g>\n",
       "        </g>\n",
       "        <g style=\"fill:#000000;fill-opacity:1\" id=\"id-8353704b-3941-4376-99b3-98697a31da6e\">\n",
       "          <g transform=\"translate(153.694,134.765)\" id=\"g6034\">\n",
       "            <path style=\"stroke:none;stroke-width:0\" d=\"m 4.96875,-1.421875 c 0,-0.109375 -0.09375,-0.109375 -0.125,-0.109375 -0.09375,0 -0.109375,0.046875 -0.140625,0.1875 -0.171875,0.640625 -0.34375,1.234375 -0.75,1.234375 -0.28125,0 -0.296875,-0.265625 -0.296875,-0.453125 0,-0.21875 0.015625,-0.3125 0.125,-0.75 L 4,-2.203125 4.359375,-3.59375 c 0.0625,-0.28125 0.0625,-0.296875 0.0625,-0.34375 0,-0.171875 -0.109375,-0.265625 -0.28125,-0.265625 -0.25,0 -0.390625,0.21875 -0.421875,0.4375 -0.1875,-0.375 -0.46875,-0.640625 -0.921875,-0.640625 -1.15625,0 -2.390625,1.46875 -2.390625,2.921875 0,0.9375 0.546875,1.59375 1.3125,1.59375 0.203125,0 0.703125,-0.046875 1.296875,-0.75 0.078125,0.421875 0.4375,0.75 0.90625,0.75 0.359375,0 0.578125,-0.234375 0.75,-0.546875 0.15625,-0.359375 0.296875,-0.984375 0.296875,-0.984375 z M 3.5625,-3.140625 3.078125,-1.1875 C 3.015625,-1 3.015625,-0.984375 2.875,-0.8125 2.4375,-0.265625 2.03125,-0.109375 1.75,-0.109375 c -0.5,0 -0.640625,-0.546875 -0.640625,-0.9375 0,-0.5 0.3125,-1.71875 0.546875,-2.1875 0.3125,-0.578125 0.75,-0.953125 1.15625,-0.953125 0.640625,0 0.78125,0.8125 0.78125,0.875 0,0.0625 -0.015625,0.125 -0.03125,0.171875 z m 0,0\" id=\"id-788b0306-7c7b-4554-93b1-42a4fdc6631f\"/>\n",
       "          </g>\n",
       "        </g>\n",
       "      </g>\n",
       "    </g>\n",
       "    <g transform=\"matrix(0.705556,0,0,0.705556,74.251891,156.70662)\" ns2:version=\"1.3.0\" ns2:texconverter=\"pdflatex\" ns2:pdfconverter=\"inkscape\" ns2:text=\"\\\\fontsize{10pt}{1em}\\\\selectfont{$2b$}\\n\" ns2:preamble=\"/Users/abhi/Software/textext-1.3.0/textext/default_packages.tex\" ns2:scale=\"2.0\" ns2:alignment=\"middle center\" ns2:inkscapeversion=\"1.0.2\" ns2:jacobian_sqrt=\"0.705556\" id=\"g6662\">\n",
       "      <defs id=\"id-27824db0-8f01-49fb-ac26-1f9ac438e4db\">\n",
       "        <g id=\"id-ab1cac1b-4eee-4015-8314-9cbd4b4888ab\">\n",
       "          <symbol overflow=\"visible\" id=\"id-11d2963e-505c-461d-90eb-e8120fbd8686\">\n",
       "            <path style=\"stroke:none;stroke-width:0\" d=\"\" id=\"id-d63bc694-560c-459a-a5ab-47423fd32dfb\"/>\n",
       "          </symbol>\n",
       "          <symbol overflow=\"visible\" id=\"id-630d2bfc-285b-4b55-89ca-ca5164f6489f\">\n",
       "            <path style=\"stroke:none;stroke-width:0\" d=\"M 4.46875,-1.734375 H 4.234375 C 4.171875,-1.4375 4.109375,-1 4,-0.84375 3.9375,-0.765625 3.28125,-0.765625 3.0625,-0.765625 H 1.265625 l 1.0625,-1.03125 c 1.546875,-1.375 2.140625,-1.90625 2.140625,-2.90625 0,-1.140625 -0.890625,-1.9375 -2.109375,-1.9375 -1.125,0 -1.859375,0.921875 -1.859375,1.8125 0,0.546875 0.5,0.546875 0.53125,0.546875 0.171875,0 0.515625,-0.109375 0.515625,-0.53125 0,-0.25 -0.1875,-0.515625 -0.53125,-0.515625 -0.078125,0 -0.09375,0 -0.125,0.015625 0.21875,-0.65625 0.765625,-1.015625 1.34375,-1.015625 0.90625,0 1.328125,0.8125 1.328125,1.625 C 3.5625,-3.90625 3.078125,-3.125 2.515625,-2.5 l -1.90625,2.125 C 0.5,-0.265625 0.5,-0.234375 0.5,0 h 3.703125 z m 0,0\" id=\"id-133df873-652e-4b55-96f2-28dfb03d7d26\"/>\n",
       "          </symbol>\n",
       "          <symbol overflow=\"visible\" id=\"id-5e5a042c-5a6e-4f37-8945-2ef2ec0cab45\">\n",
       "            <path style=\"stroke:none;stroke-width:0\" d=\"\" id=\"id-14c3b66f-f352-4ba9-8edc-f76909bc2b9a\"/>\n",
       "          </symbol>\n",
       "          <symbol overflow=\"visible\" id=\"id-a1a8aaf3-cc83-4530-a02c-3f80760626de\">\n",
       "            <path style=\"stroke:none;stroke-width:0\" d=\"m 4.140625,-2.8125 c 0,-0.90625 -0.53125,-1.59375 -1.328125,-1.59375 -0.453125,0 -0.875,0.296875 -1.171875,0.59375 l 0.734375,-3 c 0,0 0,-0.109375 -0.125,-0.109375 -0.21875,0 -0.953125,0.078125 -1.21875,0.109375 -0.078125,0 -0.1875,0.015625 -0.1875,0.1875 0,0.125 0.09375,0.125 0.25,0.125 0.46875,0 0.484375,0.0625 0.484375,0.171875 0,0.0625 -0.078125,0.40625 -0.125,0.609375 l -0.828125,3.25 c -0.109375,0.5 -0.15625,0.671875 -0.15625,1.015625 0,0.9375 0.53125,1.5625 1.265625,1.5625 1.171875,0 2.40625,-1.484375 2.40625,-2.921875 z M 2.90625,-1.140625 c -0.328125,0.671875 -0.78125,1.03125 -1.171875,1.03125 -0.34375,0 -0.671875,-0.265625 -0.671875,-1 0,-0.203125 0,-0.390625 0.15625,-1.015625 L 1.453125,-3.046875 C 1.5,-3.265625 1.5,-3.28125 1.59375,-3.390625 2.078125,-4.03125 2.53125,-4.1875 2.796875,-4.1875 c 0.359375,0 0.625,0.296875 0.625,0.9375 0,0.59375 -0.328125,1.734375 -0.515625,2.109375 z m 0,0\" id=\"id-1cdc1907-a444-43f2-a8c0-a9cb400b0115\"/>\n",
       "          </symbol>\n",
       "        </g>\n",
       "      </defs>\n",
       "      <g id=\"id-70c71463-9d69-4928-85b2-f67450a3edf3\" transform=\"translate(-149.212,-127.843)\">\n",
       "        <g style=\"fill:#000000;fill-opacity:1\" id=\"id-86238383-372e-4cb2-8f0b-d70e96fac4ce\">\n",
       "          <g transform=\"translate(148.712,134.765)\" id=\"g6654\">\n",
       "            <path style=\"stroke:none;stroke-width:0\" d=\"M 4.46875,-1.734375 H 4.234375 C 4.171875,-1.4375 4.109375,-1 4,-0.84375 3.9375,-0.765625 3.28125,-0.765625 3.0625,-0.765625 H 1.265625 l 1.0625,-1.03125 c 1.546875,-1.375 2.140625,-1.90625 2.140625,-2.90625 0,-1.140625 -0.890625,-1.9375 -2.109375,-1.9375 -1.125,0 -1.859375,0.921875 -1.859375,1.8125 0,0.546875 0.5,0.546875 0.53125,0.546875 0.171875,0 0.515625,-0.109375 0.515625,-0.53125 0,-0.25 -0.1875,-0.515625 -0.53125,-0.515625 -0.078125,0 -0.09375,0 -0.125,0.015625 0.21875,-0.65625 0.765625,-1.015625 1.34375,-1.015625 0.90625,0 1.328125,0.8125 1.328125,1.625 C 3.5625,-3.90625 3.078125,-3.125 2.515625,-2.5 l -1.90625,2.125 C 0.5,-0.265625 0.5,-0.234375 0.5,0 h 3.703125 z m 0,0\" id=\"id-6070ccab-a08a-4fb9-83b4-813f4eb2e197\"/>\n",
       "          </g>\n",
       "        </g>\n",
       "        <g style=\"fill:#000000;fill-opacity:1\" id=\"id-a62ce73a-9f65-4870-b8d8-e267e70899bc\">\n",
       "          <g transform=\"translate(153.694,134.765)\" id=\"g6658\">\n",
       "            <path style=\"stroke:none;stroke-width:0\" d=\"m 4.140625,-2.8125 c 0,-0.90625 -0.53125,-1.59375 -1.328125,-1.59375 -0.453125,0 -0.875,0.296875 -1.171875,0.59375 l 0.734375,-3 c 0,0 0,-0.109375 -0.125,-0.109375 -0.21875,0 -0.953125,0.078125 -1.21875,0.109375 -0.078125,0 -0.1875,0.015625 -0.1875,0.1875 0,0.125 0.09375,0.125 0.25,0.125 0.46875,0 0.484375,0.0625 0.484375,0.171875 0,0.0625 -0.078125,0.40625 -0.125,0.609375 l -0.828125,3.25 c -0.109375,0.5 -0.15625,0.671875 -0.15625,1.015625 0,0.9375 0.53125,1.5625 1.265625,1.5625 1.171875,0 2.40625,-1.484375 2.40625,-2.921875 z M 2.90625,-1.140625 c -0.328125,0.671875 -0.78125,1.03125 -1.171875,1.03125 -0.34375,0 -0.671875,-0.265625 -0.671875,-1 0,-0.203125 0,-0.390625 0.15625,-1.015625 L 1.453125,-3.046875 C 1.5,-3.265625 1.5,-3.28125 1.59375,-3.390625 2.078125,-4.03125 2.53125,-4.1875 2.796875,-4.1875 c 0.359375,0 0.625,0.296875 0.625,0.9375 0,0.59375 -0.328125,1.734375 -0.515625,2.109375 z m 0,0\" id=\"id-73333207-02cc-47f2-b918-2eea2620ae1a\"/>\n",
       "          </g>\n",
       "        </g>\n",
       "      </g>\n",
       "    </g>\n",
       "    <g transform=\"matrix(0.705556,0,0,0.705556,107.47629,76.223933)\" ns2:version=\"1.3.0\" ns2:texconverter=\"pdflatex\" ns2:pdfconverter=\"inkscape\" ns2:text=\"\\\\fontsize{10pt}{1em}\\\\selectfont{$2r_{1}$}\\n\" ns2:preamble=\"/Users/abhi/Software/textext-1.3.0/textext/default_packages.tex\" ns2:scale=\"2.0\" ns2:alignment=\"middle center\" ns2:inkscapeversion=\"1.0.2\" ns2:jacobian_sqrt=\"0.705556\" id=\"g7313\">\n",
       "      <defs id=\"id-0bf80f9d-a073-4d44-a980-f215b836184b\">\n",
       "        <g id=\"id-4387d9c5-42e7-481e-a71e-6d01c95a7b3b\">\n",
       "          <symbol overflow=\"visible\" id=\"id-3d4355ad-0396-4fb8-9b93-8a5b3e5ce73a\">\n",
       "            <path style=\"stroke:none;stroke-width:0\" d=\"\" id=\"id-b02eceec-9651-4070-8086-0d30c796d2f5\"/>\n",
       "          </symbol>\n",
       "          <symbol overflow=\"visible\" id=\"id-2851df72-93db-4fdf-a3ec-985bf427faa8\">\n",
       "            <path style=\"stroke:none;stroke-width:0\" d=\"M 4.46875,-1.734375 H 4.234375 C 4.171875,-1.4375 4.109375,-1 4,-0.84375 3.9375,-0.765625 3.28125,-0.765625 3.0625,-0.765625 H 1.265625 l 1.0625,-1.03125 c 1.546875,-1.375 2.140625,-1.90625 2.140625,-2.90625 0,-1.140625 -0.890625,-1.9375 -2.109375,-1.9375 -1.125,0 -1.859375,0.921875 -1.859375,1.8125 0,0.546875 0.5,0.546875 0.53125,0.546875 0.171875,0 0.515625,-0.109375 0.515625,-0.53125 0,-0.25 -0.1875,-0.515625 -0.53125,-0.515625 -0.078125,0 -0.09375,0 -0.125,0.015625 0.21875,-0.65625 0.765625,-1.015625 1.34375,-1.015625 0.90625,0 1.328125,0.8125 1.328125,1.625 C 3.5625,-3.90625 3.078125,-3.125 2.515625,-2.5 l -1.90625,2.125 C 0.5,-0.265625 0.5,-0.234375 0.5,0 h 3.703125 z m 0,0\" id=\"id-367b60ee-d569-464f-bdc1-fdfd1492d8e8\"/>\n",
       "          </symbol>\n",
       "          <symbol overflow=\"visible\" id=\"id-93da7d3e-e05d-4c5c-8612-c7822bff38f0\">\n",
       "            <path style=\"stroke:none;stroke-width:0\" d=\"\" id=\"id-a7df92c4-b173-49eb-9849-c5a1dd34566d\"/>\n",
       "          </symbol>\n",
       "          <symbol overflow=\"visible\" id=\"id-ac496021-c989-4bf4-81c1-28f3f60f9d21\">\n",
       "            <path style=\"stroke:none;stroke-width:0\" d=\"m 4.34375,-3.765625 c 0,-0.34375 -0.3125,-0.640625 -0.828125,-0.640625 C 2.875,-4.40625 2.4375,-3.921875 2.25,-3.640625 2.15625,-4.09375 1.796875,-4.40625 1.328125,-4.40625 0.875,-4.40625 0.6875,-4.015625 0.59375,-3.84375 0.421875,-3.5 0.296875,-2.90625 0.296875,-2.875 c 0,0.109375 0.109375,0.109375 0.109375,0.109375 0.109375,0 0.109375,-0.015625 0.171875,-0.234375 0.171875,-0.703125 0.375,-1.1875 0.734375,-1.1875 0.15625,0 0.296875,0.078125 0.296875,0.453125 0,0.21875 -0.03125,0.328125 -0.15625,0.84375 L 0.875,-0.59375 c -0.03125,0.15625 -0.09375,0.390625 -0.09375,0.4375 0,0.171875 0.140625,0.265625 0.296875,0.265625 0.125,0 0.296875,-0.078125 0.375,-0.28125 C 1.46875,-0.203125 1.796875,-1.5625 1.84375,-1.75 l 0.3125,-1.296875 c 0.046875,-0.125 0.328125,-0.59375 0.5625,-0.8125 0.078125,-0.0625 0.375,-0.328125 0.796875,-0.328125 0.265625,0 0.421875,0.125 0.421875,0.125 -0.296875,0.046875 -0.515625,0.28125 -0.515625,0.546875 0,0.15625 0.109375,0.34375 0.375,0.34375 0.265625,0 0.546875,-0.234375 0.546875,-0.59375 z m 0,0\" id=\"id-659f940b-4abe-490d-bfc2-5a4f5e49da34\"/>\n",
       "          </symbol>\n",
       "          <symbol overflow=\"visible\" id=\"id-1e08b242-df19-4634-b1d7-a10981ef0d06\">\n",
       "            <path style=\"stroke:none;stroke-width:0\" d=\"\" id=\"id-561063a8-6e0b-4ee4-b663-70d908a2a8b3\"/>\n",
       "          </symbol>\n",
       "          <symbol overflow=\"visible\" id=\"id-037fd771-f665-4249-aab1-03d841235894\">\n",
       "            <path style=\"stroke:none;stroke-width:0\" d=\"M 3.296875,0 V -0.25 H 3.03125 c -0.703125,0 -0.703125,-0.09375 -0.703125,-0.328125 V -4.4375 c 0,-0.1875 0,-0.1875 -0.203125,-0.1875 -0.453125,0.4375 -1.078125,0.4375 -1.359375,0.4375 v 0.25 c 0.15625,0 0.625,0 1,-0.1875 v 3.546875 c 0,0.234375 0,0.328125 -0.6875,0.328125 H 0.8125 V 0 l 1.234375,-0.03125 z m 0,0\" id=\"id-8b627752-3160-4f08-b9e7-ba4a9fd194dc\"/>\n",
       "          </symbol>\n",
       "        </g>\n",
       "      </defs>\n",
       "      <g id=\"id-522f37a9-f339-448a-a69c-409711d3e713\" transform=\"translate(-149.212,-128.124)\">\n",
       "        <g style=\"fill:#000000;fill-opacity:1\" id=\"id-f5647839-1c3b-41fb-8452-5df46c6930cb\">\n",
       "          <g transform=\"translate(148.712,134.765)\" id=\"g7301\">\n",
       "            <path style=\"stroke:none;stroke-width:0\" d=\"M 4.46875,-1.734375 H 4.234375 C 4.171875,-1.4375 4.109375,-1 4,-0.84375 3.9375,-0.765625 3.28125,-0.765625 3.0625,-0.765625 H 1.265625 l 1.0625,-1.03125 c 1.546875,-1.375 2.140625,-1.90625 2.140625,-2.90625 0,-1.140625 -0.890625,-1.9375 -2.109375,-1.9375 -1.125,0 -1.859375,0.921875 -1.859375,1.8125 0,0.546875 0.5,0.546875 0.53125,0.546875 0.171875,0 0.515625,-0.109375 0.515625,-0.53125 0,-0.25 -0.1875,-0.515625 -0.53125,-0.515625 -0.078125,0 -0.09375,0 -0.125,0.015625 0.21875,-0.65625 0.765625,-1.015625 1.34375,-1.015625 0.90625,0 1.328125,0.8125 1.328125,1.625 C 3.5625,-3.90625 3.078125,-3.125 2.515625,-2.5 l -1.90625,2.125 C 0.5,-0.265625 0.5,-0.234375 0.5,0 h 3.703125 z m 0,0\" id=\"id-cc77c88c-fcc3-4051-86eb-1ddace39d8cd\"/>\n",
       "          </g>\n",
       "        </g>\n",
       "        <g style=\"fill:#000000;fill-opacity:1\" id=\"id-a30bebb9-cf6e-4c57-b424-c959607a8420\">\n",
       "          <g transform=\"translate(153.694,134.765)\" id=\"g7305\">\n",
       "            <path style=\"stroke:none;stroke-width:0\" d=\"m 4.34375,-3.765625 c 0,-0.34375 -0.3125,-0.640625 -0.828125,-0.640625 C 2.875,-4.40625 2.4375,-3.921875 2.25,-3.640625 2.15625,-4.09375 1.796875,-4.40625 1.328125,-4.40625 0.875,-4.40625 0.6875,-4.015625 0.59375,-3.84375 0.421875,-3.5 0.296875,-2.90625 0.296875,-2.875 c 0,0.109375 0.109375,0.109375 0.109375,0.109375 0.109375,0 0.109375,-0.015625 0.171875,-0.234375 0.171875,-0.703125 0.375,-1.1875 0.734375,-1.1875 0.15625,0 0.296875,0.078125 0.296875,0.453125 0,0.21875 -0.03125,0.328125 -0.15625,0.84375 L 0.875,-0.59375 c -0.03125,0.15625 -0.09375,0.390625 -0.09375,0.4375 0,0.171875 0.140625,0.265625 0.296875,0.265625 0.125,0 0.296875,-0.078125 0.375,-0.28125 C 1.46875,-0.203125 1.796875,-1.5625 1.84375,-1.75 l 0.3125,-1.296875 c 0.046875,-0.125 0.328125,-0.59375 0.5625,-0.8125 0.078125,-0.0625 0.375,-0.328125 0.796875,-0.328125 0.265625,0 0.421875,0.125 0.421875,0.125 -0.296875,0.046875 -0.515625,0.28125 -0.515625,0.546875 0,0.15625 0.109375,0.34375 0.375,0.34375 0.265625,0 0.546875,-0.234375 0.546875,-0.59375 z m 0,0\" id=\"id-f5e906b7-4e86-4126-a2fd-a7ca97e720fe\"/>\n",
       "          </g>\n",
       "        </g>\n",
       "        <g style=\"fill:#000000;fill-opacity:1\" id=\"id-a5b32a54-94d4-43d6-87e9-4773eb671e6f\">\n",
       "          <g transform=\"translate(158.188,136.259)\" id=\"g7309\">\n",
       "            <path style=\"stroke:none;stroke-width:0\" d=\"M 3.296875,0 V -0.25 H 3.03125 c -0.703125,0 -0.703125,-0.09375 -0.703125,-0.328125 V -4.4375 c 0,-0.1875 0,-0.1875 -0.203125,-0.1875 -0.453125,0.4375 -1.078125,0.4375 -1.359375,0.4375 v 0.25 c 0.15625,0 0.625,0 1,-0.1875 v 3.546875 c 0,0.234375 0,0.328125 -0.6875,0.328125 H 0.8125 V 0 l 1.234375,-0.03125 z m 0,0\" id=\"id-ed9f7dc2-3e23-45e0-a5bf-8a2aa07196a7\"/>\n",
       "          </g>\n",
       "        </g>\n",
       "      </g>\n",
       "    </g>\n",
       "    <g transform=\"matrix(0.705556,0,0,0.705556,78.080717,107.39403)\" ns2:version=\"1.3.0\" ns2:texconverter=\"pdflatex\" ns2:pdfconverter=\"inkscape\" ns2:text=\"\\\\fontsize{10pt}{1em}\\\\selectfont{$2r_{2}$}\\n\" ns2:preamble=\"/Users/abhi/Software/textext-1.3.0/textext/default_packages.tex\" ns2:scale=\"2.0\" ns2:alignment=\"middle center\" ns2:inkscapeversion=\"1.0.2\" ns2:jacobian_sqrt=\"0.705556\" id=\"g8004\">\n",
       "      <defs id=\"id-00d7476f-2689-45ef-acac-b6eaea41574e\">\n",
       "        <g id=\"id-87c1a2f1-f4c8-4381-9b87-99679a8af62a\">\n",
       "          <symbol overflow=\"visible\" id=\"id-7134ca2b-9dcb-40e0-be7e-0ebc5e8892de\">\n",
       "            <path style=\"stroke:none;stroke-width:0\" d=\"\" id=\"id-14df90e7-4139-4ef5-a40b-dfb95ce79c76\"/>\n",
       "          </symbol>\n",
       "          <symbol overflow=\"visible\" id=\"id-540657da-7ad8-41b5-b427-82cac81ab8ed\">\n",
       "            <path style=\"stroke:none;stroke-width:0\" d=\"M 4.46875,-1.734375 H 4.234375 C 4.171875,-1.4375 4.109375,-1 4,-0.84375 3.9375,-0.765625 3.28125,-0.765625 3.0625,-0.765625 H 1.265625 l 1.0625,-1.03125 c 1.546875,-1.375 2.140625,-1.90625 2.140625,-2.90625 0,-1.140625 -0.890625,-1.9375 -2.109375,-1.9375 -1.125,0 -1.859375,0.921875 -1.859375,1.8125 0,0.546875 0.5,0.546875 0.53125,0.546875 0.171875,0 0.515625,-0.109375 0.515625,-0.53125 0,-0.25 -0.1875,-0.515625 -0.53125,-0.515625 -0.078125,0 -0.09375,0 -0.125,0.015625 0.21875,-0.65625 0.765625,-1.015625 1.34375,-1.015625 0.90625,0 1.328125,0.8125 1.328125,1.625 C 3.5625,-3.90625 3.078125,-3.125 2.515625,-2.5 l -1.90625,2.125 C 0.5,-0.265625 0.5,-0.234375 0.5,0 h 3.703125 z m 0,0\" id=\"id-9d0bc3a2-d3dd-440d-9b08-8f8bb701a949\"/>\n",
       "          </symbol>\n",
       "          <symbol overflow=\"visible\" id=\"id-b244565b-4b27-4c7f-9b50-36de3531a657\">\n",
       "            <path style=\"stroke:none;stroke-width:0\" d=\"\" id=\"id-371d815f-f3d5-4108-903f-0ca757c83fbc\"/>\n",
       "          </symbol>\n",
       "          <symbol overflow=\"visible\" id=\"id-7dd32811-b1c3-4a5e-b25d-d34cf3d633e8\">\n",
       "            <path style=\"stroke:none;stroke-width:0\" d=\"m 4.34375,-3.765625 c 0,-0.34375 -0.3125,-0.640625 -0.828125,-0.640625 C 2.875,-4.40625 2.4375,-3.921875 2.25,-3.640625 2.15625,-4.09375 1.796875,-4.40625 1.328125,-4.40625 0.875,-4.40625 0.6875,-4.015625 0.59375,-3.84375 0.421875,-3.5 0.296875,-2.90625 0.296875,-2.875 c 0,0.109375 0.109375,0.109375 0.109375,0.109375 0.109375,0 0.109375,-0.015625 0.171875,-0.234375 0.171875,-0.703125 0.375,-1.1875 0.734375,-1.1875 0.15625,0 0.296875,0.078125 0.296875,0.453125 0,0.21875 -0.03125,0.328125 -0.15625,0.84375 L 0.875,-0.59375 c -0.03125,0.15625 -0.09375,0.390625 -0.09375,0.4375 0,0.171875 0.140625,0.265625 0.296875,0.265625 0.125,0 0.296875,-0.078125 0.375,-0.28125 C 1.46875,-0.203125 1.796875,-1.5625 1.84375,-1.75 l 0.3125,-1.296875 c 0.046875,-0.125 0.328125,-0.59375 0.5625,-0.8125 0.078125,-0.0625 0.375,-0.328125 0.796875,-0.328125 0.265625,0 0.421875,0.125 0.421875,0.125 -0.296875,0.046875 -0.515625,0.28125 -0.515625,0.546875 0,0.15625 0.109375,0.34375 0.375,0.34375 0.265625,0 0.546875,-0.234375 0.546875,-0.59375 z m 0,0\" id=\"id-916640f1-8de5-44ff-a9db-f3d2a51452e7\"/>\n",
       "          </symbol>\n",
       "          <symbol overflow=\"visible\" id=\"id-33d1357b-d742-42ef-b0db-9a1a2a85b1c9\">\n",
       "            <path style=\"stroke:none;stroke-width:0\" d=\"\" id=\"id-e1358fef-b3ac-439d-b3d4-6981240de527\"/>\n",
       "          </symbol>\n",
       "          <symbol overflow=\"visible\" id=\"id-21bec5e4-3e31-402b-967c-836a7eac235e\">\n",
       "            <path style=\"stroke:none;stroke-width:0\" d=\"M 3.515625,-1.265625 H 3.28125 c -0.015625,0.15625 -0.09375,0.5625 -0.1875,0.625 C 3.046875,-0.59375 2.515625,-0.59375 2.40625,-0.59375 H 1.125 c 0.734375,-0.640625 0.984375,-0.84375 1.390625,-1.171875 0.515625,-0.40625 1,-0.84375 1,-1.5 0,-0.84375 -0.734375,-1.359375 -1.625,-1.359375 -0.859375,0 -1.453125,0.609375 -1.453125,1.25 0,0.34375 0.296875,0.390625 0.375,0.390625 0.15625,0 0.359375,-0.125 0.359375,-0.375 0,-0.125 -0.046875,-0.375 -0.40625,-0.375 C 0.984375,-4.21875 1.453125,-4.375 1.78125,-4.375 c 0.703125,0 1.0625,0.546875 1.0625,1.109375 0,0.609375 -0.4375,1.078125 -0.65625,1.328125 L 0.515625,-0.265625 C 0.4375,-0.203125 0.4375,-0.1875 0.4375,0 h 2.875 z m 0,0\" id=\"id-dd47f69d-05bc-4f87-bbdc-86105e07b634\"/>\n",
       "          </symbol>\n",
       "        </g>\n",
       "      </defs>\n",
       "      <g id=\"id-c5b91758-5c73-4d51-a5c4-f75f92fc5a50\" transform=\"translate(-149.212,-128.124)\">\n",
       "        <g style=\"fill:#000000;fill-opacity:1\" id=\"id-ff204988-7f29-4d86-aa23-c9057d041ca6\">\n",
       "          <g transform=\"translate(148.712,134.765)\" id=\"g7992\">\n",
       "            <path style=\"stroke:none;stroke-width:0\" d=\"M 4.46875,-1.734375 H 4.234375 C 4.171875,-1.4375 4.109375,-1 4,-0.84375 3.9375,-0.765625 3.28125,-0.765625 3.0625,-0.765625 H 1.265625 l 1.0625,-1.03125 c 1.546875,-1.375 2.140625,-1.90625 2.140625,-2.90625 0,-1.140625 -0.890625,-1.9375 -2.109375,-1.9375 -1.125,0 -1.859375,0.921875 -1.859375,1.8125 0,0.546875 0.5,0.546875 0.53125,0.546875 0.171875,0 0.515625,-0.109375 0.515625,-0.53125 0,-0.25 -0.1875,-0.515625 -0.53125,-0.515625 -0.078125,0 -0.09375,0 -0.125,0.015625 0.21875,-0.65625 0.765625,-1.015625 1.34375,-1.015625 0.90625,0 1.328125,0.8125 1.328125,1.625 C 3.5625,-3.90625 3.078125,-3.125 2.515625,-2.5 l -1.90625,2.125 C 0.5,-0.265625 0.5,-0.234375 0.5,0 h 3.703125 z m 0,0\" id=\"id-c524d0a9-eeb0-4bf7-8228-23f9d41e9a92\"/>\n",
       "          </g>\n",
       "        </g>\n",
       "        <g style=\"fill:#000000;fill-opacity:1\" id=\"id-44e1d4b4-e8ec-4c6f-ade6-8dd5c6825fcb\">\n",
       "          <g transform=\"translate(153.694,134.765)\" id=\"g7996\">\n",
       "            <path style=\"stroke:none;stroke-width:0\" d=\"m 4.34375,-3.765625 c 0,-0.34375 -0.3125,-0.640625 -0.828125,-0.640625 C 2.875,-4.40625 2.4375,-3.921875 2.25,-3.640625 2.15625,-4.09375 1.796875,-4.40625 1.328125,-4.40625 0.875,-4.40625 0.6875,-4.015625 0.59375,-3.84375 0.421875,-3.5 0.296875,-2.90625 0.296875,-2.875 c 0,0.109375 0.109375,0.109375 0.109375,0.109375 0.109375,0 0.109375,-0.015625 0.171875,-0.234375 0.171875,-0.703125 0.375,-1.1875 0.734375,-1.1875 0.15625,0 0.296875,0.078125 0.296875,0.453125 0,0.21875 -0.03125,0.328125 -0.15625,0.84375 L 0.875,-0.59375 c -0.03125,0.15625 -0.09375,0.390625 -0.09375,0.4375 0,0.171875 0.140625,0.265625 0.296875,0.265625 0.125,0 0.296875,-0.078125 0.375,-0.28125 C 1.46875,-0.203125 1.796875,-1.5625 1.84375,-1.75 l 0.3125,-1.296875 c 0.046875,-0.125 0.328125,-0.59375 0.5625,-0.8125 0.078125,-0.0625 0.375,-0.328125 0.796875,-0.328125 0.265625,0 0.421875,0.125 0.421875,0.125 -0.296875,0.046875 -0.515625,0.28125 -0.515625,0.546875 0,0.15625 0.109375,0.34375 0.375,0.34375 0.265625,0 0.546875,-0.234375 0.546875,-0.59375 z m 0,0\" id=\"id-117f9c9b-1225-413c-a51b-cd00c2562375\"/>\n",
       "          </g>\n",
       "        </g>\n",
       "        <g style=\"fill:#000000;fill-opacity:1\" id=\"id-c53e5221-ddc3-4b3a-a793-c0bc26aba728\">\n",
       "          <g transform=\"translate(158.188,136.259)\" id=\"g8000\">\n",
       "            <path style=\"stroke:none;stroke-width:0\" d=\"M 3.515625,-1.265625 H 3.28125 c -0.015625,0.15625 -0.09375,0.5625 -0.1875,0.625 C 3.046875,-0.59375 2.515625,-0.59375 2.40625,-0.59375 H 1.125 c 0.734375,-0.640625 0.984375,-0.84375 1.390625,-1.171875 0.515625,-0.40625 1,-0.84375 1,-1.5 0,-0.84375 -0.734375,-1.359375 -1.625,-1.359375 -0.859375,0 -1.453125,0.609375 -1.453125,1.25 0,0.34375 0.296875,0.390625 0.375,0.390625 0.15625,0 0.359375,-0.125 0.359375,-0.375 0,-0.125 -0.046875,-0.375 -0.40625,-0.375 C 0.984375,-4.21875 1.453125,-4.375 1.78125,-4.375 c 0.703125,0 1.0625,0.546875 1.0625,1.109375 0,0.609375 -0.4375,1.078125 -0.65625,1.328125 L 0.515625,-0.265625 C 0.4375,-0.203125 0.4375,-0.1875 0.4375,0 h 2.875 z m 0,0\" id=\"id-7f265355-da56-4530-b1ad-7d86d9c1bfbf\"/>\n",
       "          </g>\n",
       "        </g>\n",
       "      </g>\n",
       "    </g>\n",
       "    <g transform=\"matrix(0.705556,0,0,0.705556,50.417298,190.63593)\" ns2:version=\"1.3.0\" ns2:texconverter=\"pdflatex\" ns2:pdfconverter=\"inkscape\" ns2:text=\"\\\\fontsize{10pt}{1em}\\\\selectfont{$\\\\hat{n}_{x}$}\\n\" ns2:preamble=\"/Users/abhi/Software/textext-1.3.0/textext/default_packages.tex\" ns2:scale=\"2.0\" ns2:alignment=\"middle center\" ns2:inkscapeversion=\"1.0.2\" ns2:jacobian_sqrt=\"0.705556\" id=\"g8721\">\n",
       "      <defs id=\"id-597f049a-d635-41b8-9612-c5ce747a9fee\">\n",
       "        <g id=\"id-ce155507-a206-41e9-ac52-3064f1a81a59\">\n",
       "          <symbol overflow=\"visible\" id=\"id-11399147-9c67-425f-b6f9-da8f9fdbb043\">\n",
       "            <path style=\"stroke:none;stroke-width:0\" d=\"\" id=\"id-67731930-9968-463d-8445-20718fdc4f57\"/>\n",
       "          </symbol>\n",
       "          <symbol overflow=\"visible\" id=\"id-05c486a1-fcde-4ef7-a2d3-74924b4961e1\">\n",
       "            <path style=\"stroke:none;stroke-width:0\" d=\"M 4,-5.28125 2.5,-6.890625 0.984375,-5.28125 1.109375,-5.140625 2.5,-6.21875 3.875,-5.140625 Z m 0,0\" id=\"id-b26ee067-8871-4862-844d-01df74566976\"/>\n",
       "          </symbol>\n",
       "          <symbol overflow=\"visible\" id=\"id-ff1e9be2-fb9f-4153-aea4-45799df31877\">\n",
       "            <path style=\"stroke:none;stroke-width:0\" d=\"\" id=\"id-960f9d06-9b0b-407a-b275-6210e4254649\"/>\n",
       "          </symbol>\n",
       "          <symbol overflow=\"visible\" id=\"id-6bce5b7b-c10b-45b6-bae2-b4b78eeedd7a\">\n",
       "            <path style=\"stroke:none;stroke-width:0\" d=\"m 5.6875,-1.421875 c 0,-0.109375 -0.078125,-0.109375 -0.109375,-0.109375 -0.109375,0 -0.109375,0.03125 -0.15625,0.1875 -0.203125,0.671875 -0.53125,1.234375 -1.015625,1.234375 -0.171875,0 -0.234375,-0.09375 -0.234375,-0.328125 0,-0.25 0.078125,-0.484375 0.171875,-0.703125 0.1875,-0.53125 0.609375,-1.625 0.609375,-2.203125 0,-0.65625 -0.421875,-1.0625 -1.140625,-1.0625 -0.90625,0 -1.390625,0.640625 -1.5625,0.875 -0.046875,-0.5625 -0.453125,-0.875 -0.921875,-0.875 -0.453125,0 -0.640625,0.390625 -0.734375,0.5625 C 0.421875,-3.5 0.296875,-2.90625 0.296875,-2.875 c 0,0.109375 0.109375,0.109375 0.109375,0.109375 0.109375,0 0.109375,-0.015625 0.171875,-0.234375 0.171875,-0.703125 0.375,-1.1875 0.734375,-1.1875 0.1875,0 0.296875,0.125 0.296875,0.453125 0,0.21875 -0.03125,0.328125 -0.15625,0.84375 L 0.875,-0.59375 c -0.03125,0.15625 -0.09375,0.390625 -0.09375,0.4375 0,0.171875 0.140625,0.265625 0.296875,0.265625 0.125,0 0.296875,-0.078125 0.375,-0.28125 0,-0.015625 0.125,-0.484375 0.1875,-0.734375 l 0.21875,-0.890625 C 1.90625,-2.03125 1.96875,-2.25 2.03125,-2.46875 l 0.125,-0.5 c 0.140625,-0.3125 0.671875,-1.21875 1.625,-1.21875 0.453125,0 0.53125,0.375 0.53125,0.703125 0,0.609375 -0.484375,1.890625 -0.640625,2.3125 C 3.578125,-0.9375 3.5625,-0.8125 3.5625,-0.703125 c 0,0.46875 0.359375,0.8125 0.828125,0.8125 0.9375,0 1.296875,-1.453125 1.296875,-1.53125 z m 0,0\" id=\"id-64f246c6-3541-445c-8dcb-b9aa244ca285\"/>\n",
       "          </symbol>\n",
       "          <symbol overflow=\"visible\" id=\"id-1695780c-e628-43bf-9e07-30b56f29fc01\">\n",
       "            <path style=\"stroke:none;stroke-width:0\" d=\"\" id=\"id-cda75488-2e02-4c69-ba69-ae1df99a0000\"/>\n",
       "          </symbol>\n",
       "          <symbol overflow=\"visible\" id=\"id-97be3dd0-6dee-4265-a930-dbea890e0477\">\n",
       "            <path style=\"stroke:none;stroke-width:0\" d=\"m 3.90625,-1 c 0,-0.09375 -0.09375,-0.09375 -0.109375,-0.09375 -0.109375,0 -0.109375,0.046875 -0.140625,0.125 -0.140625,0.484375 -0.5625,0.84375 -0.953125,0.84375 -0.28125,0 -0.421875,-0.1875 -0.421875,-0.453125 0,-0.1875 0.171875,-0.8125 0.359375,-1.59375 C 2.78125,-2.703125 3.09375,-2.875 3.328125,-2.875 c 0,0 0.21875,0 0.375,0.09375 -0.21875,0.0625 -0.3125,0.265625 -0.3125,0.390625 0,0.140625 0.125,0.25 0.28125,0.25 0.15625,0 0.390625,-0.125 0.390625,-0.421875 0,-0.390625 -0.453125,-0.515625 -0.71875,-0.515625 -0.359375,0 -0.640625,0.234375 -0.78125,0.5 -0.125,-0.28125 -0.453125,-0.5 -0.84375,-0.5 C 0.9375,-3.078125 0.5,-2.21875 0.5,-2 c 0,0.078125 0.09375,0.078125 0.109375,0.078125 0.09375,0 0.09375,-0.015625 0.140625,-0.109375 C 0.921875,-2.578125 1.359375,-2.875 1.703125,-2.875 1.9375,-2.875 2.125,-2.75 2.125,-2.421875 2.125,-2.28125 2.03125,-1.9375 1.96875,-1.6875 L 1.734375,-0.734375 C 1.671875,-0.5 1.4375,-0.125 1.078125,-0.125 c -0.015625,0 -0.234375,0 -0.375,-0.09375 0.28125,-0.09375 0.3125,-0.34375 0.3125,-0.390625 0,-0.15625 -0.125,-0.25 -0.28125,-0.25 -0.203125,0 -0.40625,0.15625 -0.40625,0.421875 0,0.34375 0.390625,0.5 0.734375,0.5 0.328125,0 0.609375,-0.1875 0.78125,-0.484375 C 2.015625,-0.0625 2.390625,0.0625 2.671875,0.0625 3.484375,0.0625 3.90625,-0.796875 3.90625,-1 Z m 0,0\" id=\"id-a9a58e1c-493c-4633-8668-164d51d16ee5\"/>\n",
       "          </symbol>\n",
       "        </g>\n",
       "      </defs>\n",
       "      <g id=\"id-83b8aa23-a28a-4180-b5bd-76b755a1656b\" transform=\"translate(-149.009,-127.874)\">\n",
       "        <g style=\"fill:#000000;fill-opacity:1\" id=\"id-9139e719-26ab-4420-b566-fc983511012e\">\n",
       "          <g transform=\"translate(149.212,134.765)\" id=\"g8709\">\n",
       "            <path style=\"stroke:none;stroke-width:0\" d=\"M 4,-5.28125 2.5,-6.890625 0.984375,-5.28125 1.109375,-5.140625 2.5,-6.21875 3.875,-5.140625 Z m 0,0\" id=\"id-689300f7-91a1-417a-933f-fb4d8510c3dc\"/>\n",
       "          </g>\n",
       "        </g>\n",
       "        <g style=\"fill:#000000;fill-opacity:1\" id=\"id-7d71e7b4-4907-4dae-a961-d1ede5af4248\">\n",
       "          <g transform=\"translate(148.712,134.765)\" id=\"g8713\">\n",
       "            <path style=\"stroke:none;stroke-width:0\" d=\"m 5.6875,-1.421875 c 0,-0.109375 -0.078125,-0.109375 -0.109375,-0.109375 -0.109375,0 -0.109375,0.03125 -0.15625,0.1875 -0.203125,0.671875 -0.53125,1.234375 -1.015625,1.234375 -0.171875,0 -0.234375,-0.09375 -0.234375,-0.328125 0,-0.25 0.078125,-0.484375 0.171875,-0.703125 0.1875,-0.53125 0.609375,-1.625 0.609375,-2.203125 0,-0.65625 -0.421875,-1.0625 -1.140625,-1.0625 -0.90625,0 -1.390625,0.640625 -1.5625,0.875 -0.046875,-0.5625 -0.453125,-0.875 -0.921875,-0.875 -0.453125,0 -0.640625,0.390625 -0.734375,0.5625 C 0.421875,-3.5 0.296875,-2.90625 0.296875,-2.875 c 0,0.109375 0.109375,0.109375 0.109375,0.109375 0.109375,0 0.109375,-0.015625 0.171875,-0.234375 0.171875,-0.703125 0.375,-1.1875 0.734375,-1.1875 0.1875,0 0.296875,0.125 0.296875,0.453125 0,0.21875 -0.03125,0.328125 -0.15625,0.84375 L 0.875,-0.59375 c -0.03125,0.15625 -0.09375,0.390625 -0.09375,0.4375 0,0.171875 0.140625,0.265625 0.296875,0.265625 0.125,0 0.296875,-0.078125 0.375,-0.28125 0,-0.015625 0.125,-0.484375 0.1875,-0.734375 l 0.21875,-0.890625 C 1.90625,-2.03125 1.96875,-2.25 2.03125,-2.46875 l 0.125,-0.5 c 0.140625,-0.3125 0.671875,-1.21875 1.625,-1.21875 0.453125,0 0.53125,0.375 0.53125,0.703125 0,0.609375 -0.484375,1.890625 -0.640625,2.3125 C 3.578125,-0.9375 3.5625,-0.8125 3.5625,-0.703125 c 0,0.46875 0.359375,0.8125 0.828125,0.8125 0.9375,0 1.296875,-1.453125 1.296875,-1.53125 z m 0,0\" id=\"id-7e5f016d-d272-4fd9-aceb-32fe32a3eef7\"/>\n",
       "          </g>\n",
       "        </g>\n",
       "        <g style=\"fill:#000000;fill-opacity:1\" id=\"id-0a24935e-e7e3-4352-a5e7-5f1ff62fe804\">\n",
       "          <g transform=\"translate(154.692,136.259)\" id=\"g8717\">\n",
       "            <path style=\"stroke:none;stroke-width:0\" d=\"m 3.90625,-1 c 0,-0.09375 -0.09375,-0.09375 -0.109375,-0.09375 -0.109375,0 -0.109375,0.046875 -0.140625,0.125 -0.140625,0.484375 -0.5625,0.84375 -0.953125,0.84375 -0.28125,0 -0.421875,-0.1875 -0.421875,-0.453125 0,-0.1875 0.171875,-0.8125 0.359375,-1.59375 C 2.78125,-2.703125 3.09375,-2.875 3.328125,-2.875 c 0,0 0.21875,0 0.375,0.09375 -0.21875,0.0625 -0.3125,0.265625 -0.3125,0.390625 0,0.140625 0.125,0.25 0.28125,0.25 0.15625,0 0.390625,-0.125 0.390625,-0.421875 0,-0.390625 -0.453125,-0.515625 -0.71875,-0.515625 -0.359375,0 -0.640625,0.234375 -0.78125,0.5 -0.125,-0.28125 -0.453125,-0.5 -0.84375,-0.5 C 0.9375,-3.078125 0.5,-2.21875 0.5,-2 c 0,0.078125 0.09375,0.078125 0.109375,0.078125 0.09375,0 0.09375,-0.015625 0.140625,-0.109375 C 0.921875,-2.578125 1.359375,-2.875 1.703125,-2.875 1.9375,-2.875 2.125,-2.75 2.125,-2.421875 2.125,-2.28125 2.03125,-1.9375 1.96875,-1.6875 L 1.734375,-0.734375 C 1.671875,-0.5 1.4375,-0.125 1.078125,-0.125 c -0.015625,0 -0.234375,0 -0.375,-0.09375 0.28125,-0.09375 0.3125,-0.34375 0.3125,-0.390625 0,-0.15625 -0.125,-0.25 -0.28125,-0.25 -0.203125,0 -0.40625,0.15625 -0.40625,0.421875 0,0.34375 0.390625,0.5 0.734375,0.5 0.328125,0 0.609375,-0.1875 0.78125,-0.484375 C 2.015625,-0.0625 2.390625,0.0625 2.671875,0.0625 3.484375,0.0625 3.90625,-0.796875 3.90625,-1 Z m 0,0\" id=\"id-53c77833-0ce9-4b42-a282-0406b0852059\"/>\n",
       "          </g>\n",
       "        </g>\n",
       "      </g>\n",
       "    </g>\n",
       "    <g transform=\"matrix(0.705556,0,0,0.705556,46.210419,175.08557)\" ns2:version=\"1.3.0\" ns2:texconverter=\"pdflatex\" ns2:pdfconverter=\"inkscape\" ns2:text=\"\\\\fontsize{10pt}{1em}\\\\selectfont{$\\\\hat{n}_{y}$}\\n\" ns2:preamble=\"/Users/abhi/Software/textext-1.3.0/textext/default_packages.tex\" ns2:scale=\"2.0\" ns2:alignment=\"middle center\" ns2:inkscapeversion=\"1.0.2\" ns2:jacobian_sqrt=\"0.705556\" id=\"g9464\">\n",
       "      <defs id=\"id-85e86dd0-e625-4c8c-846d-ff9ae4b32522\">\n",
       "        <g id=\"id-41f84072-f074-4337-91c1-576af5f4031e\">\n",
       "          <symbol overflow=\"visible\" id=\"id-2c21370e-c8da-4cb2-82df-76c303940254\">\n",
       "            <path style=\"stroke:none;stroke-width:0\" d=\"\" id=\"id-dbf07e89-aa3d-4b31-8152-61a8a51a04ea\"/>\n",
       "          </symbol>\n",
       "          <symbol overflow=\"visible\" id=\"id-1bd5c6b0-d736-46d5-9102-317c82a2e269\">\n",
       "            <path style=\"stroke:none;stroke-width:0\" d=\"M 4,-5.28125 2.5,-6.890625 0.984375,-5.28125 1.109375,-5.140625 2.5,-6.21875 3.875,-5.140625 Z m 0,0\" id=\"id-768dbe39-6af8-4898-9921-588ca8452d7e\"/>\n",
       "          </symbol>\n",
       "          <symbol overflow=\"visible\" id=\"id-face2b79-9d77-4516-81ad-45a8d599f44d\">\n",
       "            <path style=\"stroke:none;stroke-width:0\" d=\"\" id=\"id-ac81802d-afa1-4823-a5be-d56d86f778d2\"/>\n",
       "          </symbol>\n",
       "          <symbol overflow=\"visible\" id=\"id-ce13f6f2-0514-4a84-95a1-962425306866\">\n",
       "            <path style=\"stroke:none;stroke-width:0\" d=\"m 5.6875,-1.421875 c 0,-0.109375 -0.078125,-0.109375 -0.109375,-0.109375 -0.109375,0 -0.109375,0.03125 -0.15625,0.1875 -0.203125,0.671875 -0.53125,1.234375 -1.015625,1.234375 -0.171875,0 -0.234375,-0.09375 -0.234375,-0.328125 0,-0.25 0.078125,-0.484375 0.171875,-0.703125 0.1875,-0.53125 0.609375,-1.625 0.609375,-2.203125 0,-0.65625 -0.421875,-1.0625 -1.140625,-1.0625 -0.90625,0 -1.390625,0.640625 -1.5625,0.875 -0.046875,-0.5625 -0.453125,-0.875 -0.921875,-0.875 -0.453125,0 -0.640625,0.390625 -0.734375,0.5625 C 0.421875,-3.5 0.296875,-2.90625 0.296875,-2.875 c 0,0.109375 0.109375,0.109375 0.109375,0.109375 0.109375,0 0.109375,-0.015625 0.171875,-0.234375 0.171875,-0.703125 0.375,-1.1875 0.734375,-1.1875 0.1875,0 0.296875,0.125 0.296875,0.453125 0,0.21875 -0.03125,0.328125 -0.15625,0.84375 L 0.875,-0.59375 c -0.03125,0.15625 -0.09375,0.390625 -0.09375,0.4375 0,0.171875 0.140625,0.265625 0.296875,0.265625 0.125,0 0.296875,-0.078125 0.375,-0.28125 0,-0.015625 0.125,-0.484375 0.1875,-0.734375 l 0.21875,-0.890625 C 1.90625,-2.03125 1.96875,-2.25 2.03125,-2.46875 l 0.125,-0.5 c 0.140625,-0.3125 0.671875,-1.21875 1.625,-1.21875 0.453125,0 0.53125,0.375 0.53125,0.703125 0,0.609375 -0.484375,1.890625 -0.640625,2.3125 C 3.578125,-0.9375 3.5625,-0.8125 3.5625,-0.703125 c 0,0.46875 0.359375,0.8125 0.828125,0.8125 0.9375,0 1.296875,-1.453125 1.296875,-1.53125 z m 0,0\" id=\"id-180a86d1-703d-4d4d-a9b8-0fd4a485cd58\"/>\n",
       "          </symbol>\n",
       "          <symbol overflow=\"visible\" id=\"id-ce738197-9c41-4455-8db3-38ad8e399571\">\n",
       "            <path style=\"stroke:none;stroke-width:0\" d=\"\" id=\"id-f00625bc-ee51-4c9e-8846-4754f59f3ac4\"/>\n",
       "          </symbol>\n",
       "          <symbol overflow=\"visible\" id=\"id-c2e4fa52-f257-4a26-84ac-e87c5e9fbedb\">\n",
       "            <path style=\"stroke:none;stroke-width:0\" d=\"M 3.875,-2.625 C 3.90625,-2.71875 3.90625,-2.734375 3.90625,-2.78125 3.90625,-2.921875 3.796875,-3 3.671875,-3 3.59375,-3 3.46875,-2.96875 3.390625,-2.84375 3.359375,-2.796875 3.3125,-2.578125 3.28125,-2.4375 l -0.15625,0.578125 -0.28125,1.125 c 0,0 -0.3125,0.609375 -0.84375,0.609375 -0.484375,0 -0.484375,-0.453125 -0.484375,-0.578125 0,-0.375 0.15625,-0.8125 0.375,-1.359375 C 1.96875,-2.28125 2,-2.359375 2,-2.484375 2,-2.8125 1.71875,-3.078125 1.34375,-3.078125 0.640625,-3.078125 0.328125,-2.125 0.328125,-2 c 0,0.078125 0.09375,0.078125 0.125,0.078125 0.09375,0 0.09375,-0.03125 0.125,-0.109375 C 0.75,-2.609375 1.046875,-2.875 1.328125,-2.875 1.4375,-2.875 1.5,-2.796875 1.5,-2.640625 c 0,0.171875 -0.0625,0.3125 -0.09375,0.40625 C 1.0625,-1.375 1,-1.125 1,-0.8125 1,-0.703125 1,-0.375 1.265625,-0.140625 1.484375,0.03125 1.78125,0.0625 1.96875,0.0625 2.25,0.0625 2.5,-0.03125 2.71875,-0.25 2.640625,0.140625 2.5625,0.4375 2.265625,0.78125 2.078125,1 1.796875,1.21875 1.421875,1.21875 c -0.046875,0 -0.375,0 -0.515625,-0.21875 0.375,-0.046875 0.375,-0.390625 0.375,-0.390625 0,-0.21875 -0.203125,-0.265625 -0.265625,-0.265625 -0.171875,0 -0.40625,0.140625 -0.40625,0.46875 0,0.34375 0.328125,0.609375 0.828125,0.609375 C 2.140625,1.421875 3,0.875 3.21875,0 Z m 0,0\" id=\"id-9ac40c41-0dec-49e5-994f-4997705b2df1\"/>\n",
       "          </symbol>\n",
       "        </g>\n",
       "      </defs>\n",
       "      <g id=\"id-3803d9de-1c60-4a7f-b91c-ae4a9d422e7b\" transform=\"translate(-149.009,-127.874)\">\n",
       "        <g style=\"fill:#000000;fill-opacity:1\" id=\"id-56677e50-f6b7-4fe1-b52f-7f5829705171\">\n",
       "          <g transform=\"translate(149.212,134.765)\" id=\"g9452\">\n",
       "            <path style=\"stroke:none;stroke-width:0\" d=\"M 4,-5.28125 2.5,-6.890625 0.984375,-5.28125 1.109375,-5.140625 2.5,-6.21875 3.875,-5.140625 Z m 0,0\" id=\"id-33b7c15b-1b47-4d9c-8f9c-9490a9383ff8\"/>\n",
       "          </g>\n",
       "        </g>\n",
       "        <g style=\"fill:#000000;fill-opacity:1\" id=\"id-646df2f8-cb5b-46b3-b48c-80f20c4b6f92\">\n",
       "          <g transform=\"translate(148.712,134.765)\" id=\"g9456\">\n",
       "            <path style=\"stroke:none;stroke-width:0\" d=\"m 5.6875,-1.421875 c 0,-0.109375 -0.078125,-0.109375 -0.109375,-0.109375 -0.109375,0 -0.109375,0.03125 -0.15625,0.1875 -0.203125,0.671875 -0.53125,1.234375 -1.015625,1.234375 -0.171875,0 -0.234375,-0.09375 -0.234375,-0.328125 0,-0.25 0.078125,-0.484375 0.171875,-0.703125 0.1875,-0.53125 0.609375,-1.625 0.609375,-2.203125 0,-0.65625 -0.421875,-1.0625 -1.140625,-1.0625 -0.90625,0 -1.390625,0.640625 -1.5625,0.875 -0.046875,-0.5625 -0.453125,-0.875 -0.921875,-0.875 -0.453125,0 -0.640625,0.390625 -0.734375,0.5625 C 0.421875,-3.5 0.296875,-2.90625 0.296875,-2.875 c 0,0.109375 0.109375,0.109375 0.109375,0.109375 0.109375,0 0.109375,-0.015625 0.171875,-0.234375 0.171875,-0.703125 0.375,-1.1875 0.734375,-1.1875 0.1875,0 0.296875,0.125 0.296875,0.453125 0,0.21875 -0.03125,0.328125 -0.15625,0.84375 L 0.875,-0.59375 c -0.03125,0.15625 -0.09375,0.390625 -0.09375,0.4375 0,0.171875 0.140625,0.265625 0.296875,0.265625 0.125,0 0.296875,-0.078125 0.375,-0.28125 0,-0.015625 0.125,-0.484375 0.1875,-0.734375 l 0.21875,-0.890625 C 1.90625,-2.03125 1.96875,-2.25 2.03125,-2.46875 l 0.125,-0.5 c 0.140625,-0.3125 0.671875,-1.21875 1.625,-1.21875 0.453125,0 0.53125,0.375 0.53125,0.703125 0,0.609375 -0.484375,1.890625 -0.640625,2.3125 C 3.578125,-0.9375 3.5625,-0.8125 3.5625,-0.703125 c 0,0.46875 0.359375,0.8125 0.828125,0.8125 0.9375,0 1.296875,-1.453125 1.296875,-1.53125 z m 0,0\" id=\"id-1e353297-3b80-4a7c-8105-17d9c688c0f9\"/>\n",
       "          </g>\n",
       "        </g>\n",
       "        <g style=\"fill:#000000;fill-opacity:1\" id=\"id-56f69cca-d6de-405f-91aa-5d553600bbb6\">\n",
       "          <g transform=\"translate(154.692,136.259)\" id=\"g9460\">\n",
       "            <path style=\"stroke:none;stroke-width:0\" d=\"M 3.875,-2.625 C 3.90625,-2.71875 3.90625,-2.734375 3.90625,-2.78125 3.90625,-2.921875 3.796875,-3 3.671875,-3 3.59375,-3 3.46875,-2.96875 3.390625,-2.84375 3.359375,-2.796875 3.3125,-2.578125 3.28125,-2.4375 l -0.15625,0.578125 -0.28125,1.125 c 0,0 -0.3125,0.609375 -0.84375,0.609375 -0.484375,0 -0.484375,-0.453125 -0.484375,-0.578125 0,-0.375 0.15625,-0.8125 0.375,-1.359375 C 1.96875,-2.28125 2,-2.359375 2,-2.484375 2,-2.8125 1.71875,-3.078125 1.34375,-3.078125 0.640625,-3.078125 0.328125,-2.125 0.328125,-2 c 0,0.078125 0.09375,0.078125 0.125,0.078125 0.09375,0 0.09375,-0.03125 0.125,-0.109375 C 0.75,-2.609375 1.046875,-2.875 1.328125,-2.875 1.4375,-2.875 1.5,-2.796875 1.5,-2.640625 c 0,0.171875 -0.0625,0.3125 -0.09375,0.40625 C 1.0625,-1.375 1,-1.125 1,-0.8125 1,-0.703125 1,-0.375 1.265625,-0.140625 1.484375,0.03125 1.78125,0.0625 1.96875,0.0625 2.25,0.0625 2.5,-0.03125 2.71875,-0.25 2.640625,0.140625 2.5625,0.4375 2.265625,0.78125 2.078125,1 1.796875,1.21875 1.421875,1.21875 c -0.046875,0 -0.375,0 -0.515625,-0.21875 0.375,-0.046875 0.375,-0.390625 0.375,-0.390625 0,-0.21875 -0.203125,-0.265625 -0.265625,-0.265625 -0.171875,0 -0.40625,0.140625 -0.40625,0.46875 0,0.34375 0.328125,0.609375 0.828125,0.609375 C 2.140625,1.421875 3,0.875 3.21875,0 Z m 0,0\" id=\"id-8251c3c9-dd98-4480-bbda-7f5ce549f504\"/>\n",
       "          </g>\n",
       "        </g>\n",
       "      </g>\n",
       "    </g>\n",
       "    <g transform=\"matrix(0.705556,0,0,0.705556,29.385533,170.56403)\" ns2:version=\"1.3.0\" ns2:texconverter=\"pdflatex\" ns2:pdfconverter=\"inkscape\" ns2:text=\"\\\\fontsize{10pt}{1em}\\\\selectfont{$\\\\hat{n}_{z}$}\\n\" ns2:preamble=\"/Users/abhi/Software/textext-1.3.0/textext/default_packages.tex\" ns2:scale=\"2.0\" ns2:alignment=\"middle center\" ns2:inkscapeversion=\"1.0.2\" ns2:jacobian_sqrt=\"0.705556\" id=\"g10233\">\n",
       "      <defs id=\"id-5e3ed6a2-b6ff-4d2e-8541-8c1063681e41\">\n",
       "        <g id=\"id-4f66b633-d6d1-41f9-b4d3-ac00e2b019a9\">\n",
       "          <symbol overflow=\"visible\" id=\"id-cd4615af-0645-4225-807d-3fba89c37583\">\n",
       "            <path style=\"stroke:none;stroke-width:0\" d=\"\" id=\"id-7c6eb017-84fd-471b-baee-cc7f2ebf7d25\"/>\n",
       "          </symbol>\n",
       "          <symbol overflow=\"visible\" id=\"id-c37f376c-c04d-40da-b3e9-178b94135c8f\">\n",
       "            <path style=\"stroke:none;stroke-width:0\" d=\"M 4,-5.28125 2.5,-6.890625 0.984375,-5.28125 1.109375,-5.140625 2.5,-6.21875 3.875,-5.140625 Z m 0,0\" id=\"id-469fa8c7-d3db-45ad-af85-afe159cc1bd0\"/>\n",
       "          </symbol>\n",
       "          <symbol overflow=\"visible\" id=\"id-9dde73f3-d09d-4996-b9e7-df0ee83d40e2\">\n",
       "            <path style=\"stroke:none;stroke-width:0\" d=\"\" id=\"id-a99f4ed9-cb82-4108-90b8-3f60ff160afc\"/>\n",
       "          </symbol>\n",
       "          <symbol overflow=\"visible\" id=\"id-77718448-e999-4258-ba23-ff4c02d340ba\">\n",
       "            <path style=\"stroke:none;stroke-width:0\" d=\"m 5.6875,-1.421875 c 0,-0.109375 -0.078125,-0.109375 -0.109375,-0.109375 -0.109375,0 -0.109375,0.03125 -0.15625,0.1875 -0.203125,0.671875 -0.53125,1.234375 -1.015625,1.234375 -0.171875,0 -0.234375,-0.09375 -0.234375,-0.328125 0,-0.25 0.078125,-0.484375 0.171875,-0.703125 0.1875,-0.53125 0.609375,-1.625 0.609375,-2.203125 0,-0.65625 -0.421875,-1.0625 -1.140625,-1.0625 -0.90625,0 -1.390625,0.640625 -1.5625,0.875 -0.046875,-0.5625 -0.453125,-0.875 -0.921875,-0.875 -0.453125,0 -0.640625,0.390625 -0.734375,0.5625 C 0.421875,-3.5 0.296875,-2.90625 0.296875,-2.875 c 0,0.109375 0.109375,0.109375 0.109375,0.109375 0.109375,0 0.109375,-0.015625 0.171875,-0.234375 0.171875,-0.703125 0.375,-1.1875 0.734375,-1.1875 0.1875,0 0.296875,0.125 0.296875,0.453125 0,0.21875 -0.03125,0.328125 -0.15625,0.84375 L 0.875,-0.59375 c -0.03125,0.15625 -0.09375,0.390625 -0.09375,0.4375 0,0.171875 0.140625,0.265625 0.296875,0.265625 0.125,0 0.296875,-0.078125 0.375,-0.28125 0,-0.015625 0.125,-0.484375 0.1875,-0.734375 l 0.21875,-0.890625 C 1.90625,-2.03125 1.96875,-2.25 2.03125,-2.46875 l 0.125,-0.5 c 0.140625,-0.3125 0.671875,-1.21875 1.625,-1.21875 0.453125,0 0.53125,0.375 0.53125,0.703125 0,0.609375 -0.484375,1.890625 -0.640625,2.3125 C 3.578125,-0.9375 3.5625,-0.8125 3.5625,-0.703125 c 0,0.46875 0.359375,0.8125 0.828125,0.8125 0.9375,0 1.296875,-1.453125 1.296875,-1.53125 z m 0,0\" id=\"id-f3f3ad4e-cf8b-4493-8436-7ae1f796086b\"/>\n",
       "          </symbol>\n",
       "          <symbol overflow=\"visible\" id=\"id-98f4f508-8b31-48b7-bb7e-5a277a2c509f\">\n",
       "            <path style=\"stroke:none;stroke-width:0\" d=\"\" id=\"id-0658e2b9-9b4b-4f43-80fe-71feb5f6b36f\"/>\n",
       "          </symbol>\n",
       "          <symbol overflow=\"visible\" id=\"id-cd6c3c05-3e82-48ee-8352-688974d427ae\">\n",
       "            <path style=\"stroke:none;stroke-width:0\" d=\"m 3.46875,-1.015625 c 0,-0.078125 -0.078125,-0.078125 -0.109375,-0.078125 -0.09375,0 -0.109375,0.03125 -0.140625,0.109375 -0.125,0.34375 -0.53125,0.515625 -0.875,0.515625 C 2.1875,-0.46875 2,-0.515625 1.828125,-0.546875 1.515625,-0.625 1.453125,-0.625 1.328125,-0.625 c 0,0 -0.109375,0 -0.15625,0.015625 0.1875,-0.1875 0.3125,-0.3125 0.890625,-0.796875 0.15625,-0.109375 0.671875,-0.53125 0.875,-0.71875 0.421875,-0.421875 0.6875,-0.78125 0.6875,-0.859375 0,-0.09375 -0.078125,-0.09375 -0.109375,-0.09375 -0.0625,0 -0.09375,0.015625 -0.125,0.078125 -0.21875,0.3125 -0.359375,0.421875 -0.53125,0.421875 -0.078125,0 -0.1875,0 -0.390625,-0.203125 -0.234375,-0.25 -0.390625,-0.296875 -0.546875,-0.296875 -0.5625,0 -0.9375,0.609375 -0.9375,0.8125 0,0.078125 0.0625,0.09375 0.109375,0.09375 0.09375,0 0.109375,-0.015625 0.125,-0.09375 0.109375,-0.25 0.5,-0.265625 0.609375,-0.265625 0.171875,0 0.34375,0.046875 0.4375,0.0625 0.390625,0.078125 0.4375,0.078125 0.609375,0.078125 -0.171875,0.203125 -0.296875,0.328125 -0.96875,0.84375 -0.546875,0.4375 -0.734375,0.609375 -0.859375,0.75 -0.421875,0.40625 -0.625,0.71875 -0.625,0.78125 0,0.078125 0.09375,0.078125 0.125,0.078125 0.0625,0 0.078125,0 0.109375,-0.0625 0.1875,-0.265625 0.40625,-0.421875 0.640625,-0.421875 0.09375,0 0.1875,0 0.375,0.171875 0.21875,0.21875 0.359375,0.3125 0.59375,0.3125 C 3,0.0625 3.46875,-0.78125 3.46875,-1.015625 Z m 0,0\" id=\"id-264d78db-8f5a-4bd0-8116-809f4f830706\"/>\n",
       "          </symbol>\n",
       "        </g>\n",
       "      </defs>\n",
       "      <g id=\"id-028d5fbd-972f-44e4-923e-7ee9fa7b6c50\" transform=\"translate(-149.009,-127.874)\">\n",
       "        <g style=\"fill:#000000;fill-opacity:1\" id=\"id-d72d3883-0bcf-431a-8a8a-844cfb7aaf27\">\n",
       "          <g transform=\"translate(149.212,134.765)\" id=\"g10221\">\n",
       "            <path style=\"stroke:none;stroke-width:0\" d=\"M 4,-5.28125 2.5,-6.890625 0.984375,-5.28125 1.109375,-5.140625 2.5,-6.21875 3.875,-5.140625 Z m 0,0\" id=\"id-2b0f2e3e-c906-43ea-8285-c8dc053c85c0\"/>\n",
       "          </g>\n",
       "        </g>\n",
       "        <g style=\"fill:#000000;fill-opacity:1\" id=\"id-57e3975b-0480-498a-a1ec-88948d2f3714\">\n",
       "          <g transform=\"translate(148.712,134.765)\" id=\"g10225\">\n",
       "            <path style=\"stroke:none;stroke-width:0\" d=\"m 5.6875,-1.421875 c 0,-0.109375 -0.078125,-0.109375 -0.109375,-0.109375 -0.109375,0 -0.109375,0.03125 -0.15625,0.1875 -0.203125,0.671875 -0.53125,1.234375 -1.015625,1.234375 -0.171875,0 -0.234375,-0.09375 -0.234375,-0.328125 0,-0.25 0.078125,-0.484375 0.171875,-0.703125 0.1875,-0.53125 0.609375,-1.625 0.609375,-2.203125 0,-0.65625 -0.421875,-1.0625 -1.140625,-1.0625 -0.90625,0 -1.390625,0.640625 -1.5625,0.875 -0.046875,-0.5625 -0.453125,-0.875 -0.921875,-0.875 -0.453125,0 -0.640625,0.390625 -0.734375,0.5625 C 0.421875,-3.5 0.296875,-2.90625 0.296875,-2.875 c 0,0.109375 0.109375,0.109375 0.109375,0.109375 0.109375,0 0.109375,-0.015625 0.171875,-0.234375 0.171875,-0.703125 0.375,-1.1875 0.734375,-1.1875 0.1875,0 0.296875,0.125 0.296875,0.453125 0,0.21875 -0.03125,0.328125 -0.15625,0.84375 L 0.875,-0.59375 c -0.03125,0.15625 -0.09375,0.390625 -0.09375,0.4375 0,0.171875 0.140625,0.265625 0.296875,0.265625 0.125,0 0.296875,-0.078125 0.375,-0.28125 0,-0.015625 0.125,-0.484375 0.1875,-0.734375 l 0.21875,-0.890625 C 1.90625,-2.03125 1.96875,-2.25 2.03125,-2.46875 l 0.125,-0.5 c 0.140625,-0.3125 0.671875,-1.21875 1.625,-1.21875 0.453125,0 0.53125,0.375 0.53125,0.703125 0,0.609375 -0.484375,1.890625 -0.640625,2.3125 C 3.578125,-0.9375 3.5625,-0.8125 3.5625,-0.703125 c 0,0.46875 0.359375,0.8125 0.828125,0.8125 0.9375,0 1.296875,-1.453125 1.296875,-1.53125 z m 0,0\" id=\"id-1b02ee33-fee0-4374-8f8b-05fcd726d02c\"/>\n",
       "          </g>\n",
       "        </g>\n",
       "        <g style=\"fill:#000000;fill-opacity:1\" id=\"id-591f7bb9-a559-4ac9-93cc-a8cf4b2ea4a2\">\n",
       "          <g transform=\"translate(154.692,136.259)\" id=\"g10229\">\n",
       "            <path style=\"stroke:none;stroke-width:0\" d=\"m 3.46875,-1.015625 c 0,-0.078125 -0.078125,-0.078125 -0.109375,-0.078125 -0.09375,0 -0.109375,0.03125 -0.140625,0.109375 -0.125,0.34375 -0.53125,0.515625 -0.875,0.515625 C 2.1875,-0.46875 2,-0.515625 1.828125,-0.546875 1.515625,-0.625 1.453125,-0.625 1.328125,-0.625 c 0,0 -0.109375,0 -0.15625,0.015625 0.1875,-0.1875 0.3125,-0.3125 0.890625,-0.796875 0.15625,-0.109375 0.671875,-0.53125 0.875,-0.71875 0.421875,-0.421875 0.6875,-0.78125 0.6875,-0.859375 0,-0.09375 -0.078125,-0.09375 -0.109375,-0.09375 -0.0625,0 -0.09375,0.015625 -0.125,0.078125 -0.21875,0.3125 -0.359375,0.421875 -0.53125,0.421875 -0.078125,0 -0.1875,0 -0.390625,-0.203125 -0.234375,-0.25 -0.390625,-0.296875 -0.546875,-0.296875 -0.5625,0 -0.9375,0.609375 -0.9375,0.8125 0,0.078125 0.0625,0.09375 0.109375,0.09375 0.09375,0 0.109375,-0.015625 0.125,-0.09375 0.109375,-0.25 0.5,-0.265625 0.609375,-0.265625 0.171875,0 0.34375,0.046875 0.4375,0.0625 0.390625,0.078125 0.4375,0.078125 0.609375,0.078125 -0.171875,0.203125 -0.296875,0.328125 -0.96875,0.84375 -0.546875,0.4375 -0.734375,0.609375 -0.859375,0.75 -0.421875,0.40625 -0.625,0.71875 -0.625,0.78125 0,0.078125 0.09375,0.078125 0.125,0.078125 0.0625,0 0.078125,0 0.109375,-0.0625 0.1875,-0.265625 0.40625,-0.421875 0.640625,-0.421875 0.09375,0 0.1875,0 0.375,0.171875 0.21875,0.21875 0.359375,0.3125 0.59375,0.3125 C 3,0.0625 3.46875,-0.78125 3.46875,-1.015625 Z m 0,0\" id=\"id-5b0222ed-1719-4a90-b82f-659f86b18e97\"/>\n",
       "          </g>\n",
       "        </g>\n",
       "      </g>\n",
       "    </g>\n",
       "    <g transform=\"matrix(0.705556,0,0,0.705556,136.64095,90.410512)\" ns2:version=\"1.3.0\" ns2:texconverter=\"pdflatex\" ns2:pdfconverter=\"inkscape\" ns2:text=\"\\\\fontsize{10pt}{1em}\\\\selectfont{$\\\\hat{a}_{1_y}$}\\n\" ns2:preamble=\"/Users/abhi/Software/textext-1.3.0/textext/default_packages.tex\" ns2:scale=\"2.0\" ns2:alignment=\"middle center\" ns2:inkscapeversion=\"1.0.2\" ns2:jacobian_sqrt=\"0.705556\" id=\"g12693\">\n",
       "      <defs id=\"id-e8542800-ca2e-42ae-b3be-38ab43dc711d\">\n",
       "        <g id=\"id-572c7b88-3092-4439-8a93-b55cf0bb5712\">\n",
       "          <symbol overflow=\"visible\" id=\"id-c74dbb03-ce5e-451e-990b-64e03cfa419a\">\n",
       "            <path style=\"stroke:none;stroke-width:0\" d=\"\" id=\"id-a8c10da7-8c6b-485f-a8ac-75b7ab3283b1\"/>\n",
       "          </symbol>\n",
       "          <symbol overflow=\"visible\" id=\"id-79d686d6-419a-4022-83ab-4764d5ed09ee\">\n",
       "            <path style=\"stroke:none;stroke-width:0\" d=\"M 4,-5.28125 2.5,-6.890625 0.984375,-5.28125 1.109375,-5.140625 2.5,-6.21875 3.875,-5.140625 Z m 0,0\" id=\"id-2083bb87-13df-4658-8791-2f16f9969d89\"/>\n",
       "          </symbol>\n",
       "          <symbol overflow=\"visible\" id=\"id-72637b5a-b536-47c1-8ed3-c7a38b2daf89\">\n",
       "            <path style=\"stroke:none;stroke-width:0\" d=\"\" id=\"id-8c2f8fe9-66c8-4f20-b36b-2b5aaf4de956\"/>\n",
       "          </symbol>\n",
       "          <symbol overflow=\"visible\" id=\"id-034e454f-130e-4a4d-8d08-546f7d2b5802\">\n",
       "            <path style=\"stroke:none;stroke-width:0\" d=\"m 4.96875,-1.421875 c 0,-0.109375 -0.09375,-0.109375 -0.125,-0.109375 -0.09375,0 -0.109375,0.046875 -0.140625,0.1875 -0.171875,0.640625 -0.34375,1.234375 -0.75,1.234375 -0.28125,0 -0.296875,-0.265625 -0.296875,-0.453125 0,-0.21875 0.015625,-0.3125 0.125,-0.75 L 4,-2.203125 4.359375,-3.59375 c 0.0625,-0.28125 0.0625,-0.296875 0.0625,-0.34375 0,-0.171875 -0.109375,-0.265625 -0.28125,-0.265625 -0.25,0 -0.390625,0.21875 -0.421875,0.4375 -0.1875,-0.375 -0.46875,-0.640625 -0.921875,-0.640625 -1.15625,0 -2.390625,1.46875 -2.390625,2.921875 0,0.9375 0.546875,1.59375 1.3125,1.59375 0.203125,0 0.703125,-0.046875 1.296875,-0.75 0.078125,0.421875 0.4375,0.75 0.90625,0.75 0.359375,0 0.578125,-0.234375 0.75,-0.546875 0.15625,-0.359375 0.296875,-0.984375 0.296875,-0.984375 z M 3.5625,-3.140625 3.078125,-1.1875 C 3.015625,-1 3.015625,-0.984375 2.875,-0.8125 2.4375,-0.265625 2.03125,-0.109375 1.75,-0.109375 c -0.5,0 -0.640625,-0.546875 -0.640625,-0.9375 0,-0.5 0.3125,-1.71875 0.546875,-2.1875 0.3125,-0.578125 0.75,-0.953125 1.15625,-0.953125 0.640625,0 0.78125,0.8125 0.78125,0.875 0,0.0625 -0.015625,0.125 -0.03125,0.171875 z m 0,0\" id=\"id-71203160-c164-4582-ab03-21fe8e47eb7f\"/>\n",
       "          </symbol>\n",
       "          <symbol overflow=\"visible\" id=\"id-b1a32be2-9a4b-4907-94a0-4706ad62c1c8\">\n",
       "            <path style=\"stroke:none;stroke-width:0\" d=\"\" id=\"id-5508e275-df4b-4d61-864c-22f103a98a87\"/>\n",
       "          </symbol>\n",
       "          <symbol overflow=\"visible\" id=\"id-209daa58-8a64-4f28-a85b-e510e372979e\">\n",
       "            <path style=\"stroke:none;stroke-width:0\" d=\"M 3.296875,0 V -0.25 H 3.03125 c -0.703125,0 -0.703125,-0.09375 -0.703125,-0.328125 V -4.4375 c 0,-0.1875 0,-0.1875 -0.203125,-0.1875 -0.453125,0.4375 -1.078125,0.4375 -1.359375,0.4375 v 0.25 c 0.15625,0 0.625,0 1,-0.1875 v 3.546875 c 0,0.234375 0,0.328125 -0.6875,0.328125 H 0.8125 V 0 l 1.234375,-0.03125 z m 0,0\" id=\"id-7b900d5d-4abc-47b8-b31b-4cafc091146e\"/>\n",
       "          </symbol>\n",
       "          <symbol overflow=\"visible\" id=\"id-a207fb58-9955-4d40-b2c9-b1353f1213f0\">\n",
       "            <path style=\"stroke:none;stroke-width:0\" d=\"\" id=\"id-16bc94d0-5b2e-40a7-a74a-33b8d1cd48bb\"/>\n",
       "          </symbol>\n",
       "          <symbol overflow=\"visible\" id=\"id-3df52044-4119-4371-9128-5e000c533712\">\n",
       "            <path style=\"stroke:none;stroke-width:0\" d=\"M 3.296875,-1.859375 C 3.3125,-1.9375 3.3125,-1.96875 3.3125,-1.96875 c 0,-0.109375 -0.078125,-0.171875 -0.171875,-0.171875 -0.203125,0 -0.25,0.171875 -0.28125,0.296875 L 2.75,-1.421875 l -0.140625,0.625 c -0.03125,0.0625 -0.046875,0.15625 -0.0625,0.1875 0,0.03125 -0.265625,0.5 -0.6875,0.5 -0.234375,0 -0.40625,-0.109375 -0.40625,-0.4375 0,-0.265625 0.140625,-0.640625 0.28125,-1 0.03125,-0.046875 0.0625,-0.140625 0.0625,-0.21875 0,-0.25 -0.234375,-0.4375 -0.546875,-0.4375 -0.515625,0 -0.796875,0.640625 -0.796875,0.765625 0,0.078125 0.078125,0.078125 0.109375,0.078125 0.078125,0 0.078125,-0.03125 0.109375,-0.09375 0.109375,-0.34375 0.34375,-0.578125 0.5625,-0.578125 0.09375,0 0.15625,0.046875 0.15625,0.1875 0,0.09375 -0.03125,0.171875 -0.0625,0.265625 -0.25,0.59375 -0.296875,0.765625 -0.296875,0.96875 0,0.546875 0.46875,0.671875 0.796875,0.671875 0.28125,0 0.5,-0.140625 0.625,-0.25 -0.078125,0.28125 -0.125,0.5 -0.359375,0.734375 -0.125,0.109375 -0.359375,0.3125 -0.65625,0.3125 -0.09375,0 -0.28125,-0.015625 -0.390625,-0.125 0.21875,-0.0625 0.25,-0.25 0.25,-0.296875 0,-0.140625 -0.125,-0.203125 -0.21875,-0.203125 -0.15625,0 -0.328125,0.109375 -0.328125,0.34375 0,0.25 0.265625,0.4375 0.6875,0.4375 C 2,1.015625 2.671875,0.640625 2.828125,0 Z m 0,0\" id=\"id-2561403d-cdc1-41f6-b79d-965ae3218828\"/>\n",
       "          </symbol>\n",
       "        </g>\n",
       "      </defs>\n",
       "      <g id=\"id-5f6ac1c8-582e-460d-851a-2e120998ea87\" transform=\"translate(-149.118,-127.874)\">\n",
       "        <g style=\"fill:#000000;fill-opacity:1\" id=\"id-cd2c4bfd-1b80-4cf6-9104-6617d95630ea\">\n",
       "          <g transform=\"translate(148.855,134.765)\" id=\"g12677\">\n",
       "            <path style=\"stroke:none;stroke-width:0\" d=\"M 4,-5.28125 2.5,-6.890625 0.984375,-5.28125 1.109375,-5.140625 2.5,-6.21875 3.875,-5.140625 Z m 0,0\" id=\"id-e64c7ed1-a5d2-47c9-a775-b5624dfa49da\"/>\n",
       "          </g>\n",
       "        </g>\n",
       "        <g style=\"fill:#000000;fill-opacity:1\" id=\"id-b82f5cfa-0b89-419a-a974-09a021ddfeb5\">\n",
       "          <g transform=\"translate(148.712,134.765)\" id=\"g12681\">\n",
       "            <path style=\"stroke:none;stroke-width:0\" d=\"m 4.96875,-1.421875 c 0,-0.109375 -0.09375,-0.109375 -0.125,-0.109375 -0.09375,0 -0.109375,0.046875 -0.140625,0.1875 -0.171875,0.640625 -0.34375,1.234375 -0.75,1.234375 -0.28125,0 -0.296875,-0.265625 -0.296875,-0.453125 0,-0.21875 0.015625,-0.3125 0.125,-0.75 L 4,-2.203125 4.359375,-3.59375 c 0.0625,-0.28125 0.0625,-0.296875 0.0625,-0.34375 0,-0.171875 -0.109375,-0.265625 -0.28125,-0.265625 -0.25,0 -0.390625,0.21875 -0.421875,0.4375 -0.1875,-0.375 -0.46875,-0.640625 -0.921875,-0.640625 -1.15625,0 -2.390625,1.46875 -2.390625,2.921875 0,0.9375 0.546875,1.59375 1.3125,1.59375 0.203125,0 0.703125,-0.046875 1.296875,-0.75 0.078125,0.421875 0.4375,0.75 0.90625,0.75 0.359375,0 0.578125,-0.234375 0.75,-0.546875 0.15625,-0.359375 0.296875,-0.984375 0.296875,-0.984375 z M 3.5625,-3.140625 3.078125,-1.1875 C 3.015625,-1 3.015625,-0.984375 2.875,-0.8125 2.4375,-0.265625 2.03125,-0.109375 1.75,-0.109375 c -0.5,0 -0.640625,-0.546875 -0.640625,-0.9375 0,-0.5 0.3125,-1.71875 0.546875,-2.1875 0.3125,-0.578125 0.75,-0.953125 1.15625,-0.953125 0.640625,0 0.78125,0.8125 0.78125,0.875 0,0.0625 -0.015625,0.125 -0.03125,0.171875 z m 0,0\" id=\"id-2365c8b6-accc-43ca-8fea-328b56d3db2f\"/>\n",
       "          </g>\n",
       "        </g>\n",
       "        <g style=\"fill:#000000;fill-opacity:1\" id=\"id-3667f19b-367c-42e3-b544-ef4fd2a96357\">\n",
       "          <g transform=\"translate(153.978,136.259)\" id=\"g12685\">\n",
       "            <path style=\"stroke:none;stroke-width:0\" d=\"M 3.296875,0 V -0.25 H 3.03125 c -0.703125,0 -0.703125,-0.09375 -0.703125,-0.328125 V -4.4375 c 0,-0.1875 0,-0.1875 -0.203125,-0.1875 -0.453125,0.4375 -1.078125,0.4375 -1.359375,0.4375 v 0.25 c 0.15625,0 0.625,0 1,-0.1875 v 3.546875 c 0,0.234375 0,0.328125 -0.6875,0.328125 H 0.8125 V 0 l 1.234375,-0.03125 z m 0,0\" id=\"id-53b2ff9b-543c-466b-b0d6-229391d3dd7d\"/>\n",
       "          </g>\n",
       "        </g>\n",
       "        <g style=\"fill:#000000;fill-opacity:1\" id=\"id-3dfcdac6-ce46-4abd-908b-45013c169885\">\n",
       "          <g transform=\"translate(157.95,137.255)\" id=\"g12689\">\n",
       "            <path style=\"stroke:none;stroke-width:0\" d=\"M 3.296875,-1.859375 C 3.3125,-1.9375 3.3125,-1.96875 3.3125,-1.96875 c 0,-0.109375 -0.078125,-0.171875 -0.171875,-0.171875 -0.203125,0 -0.25,0.171875 -0.28125,0.296875 L 2.75,-1.421875 l -0.140625,0.625 c -0.03125,0.0625 -0.046875,0.15625 -0.0625,0.1875 0,0.03125 -0.265625,0.5 -0.6875,0.5 -0.234375,0 -0.40625,-0.109375 -0.40625,-0.4375 0,-0.265625 0.140625,-0.640625 0.28125,-1 0.03125,-0.046875 0.0625,-0.140625 0.0625,-0.21875 0,-0.25 -0.234375,-0.4375 -0.546875,-0.4375 -0.515625,0 -0.796875,0.640625 -0.796875,0.765625 0,0.078125 0.078125,0.078125 0.109375,0.078125 0.078125,0 0.078125,-0.03125 0.109375,-0.09375 0.109375,-0.34375 0.34375,-0.578125 0.5625,-0.578125 0.09375,0 0.15625,0.046875 0.15625,0.1875 0,0.09375 -0.03125,0.171875 -0.0625,0.265625 -0.25,0.59375 -0.296875,0.765625 -0.296875,0.96875 0,0.546875 0.46875,0.671875 0.796875,0.671875 0.28125,0 0.5,-0.140625 0.625,-0.25 -0.078125,0.28125 -0.125,0.5 -0.359375,0.734375 -0.125,0.109375 -0.359375,0.3125 -0.65625,0.3125 -0.09375,0 -0.28125,-0.015625 -0.390625,-0.125 0.21875,-0.0625 0.25,-0.25 0.25,-0.296875 0,-0.140625 -0.125,-0.203125 -0.21875,-0.203125 -0.15625,0 -0.328125,0.109375 -0.328125,0.34375 0,0.25 0.265625,0.4375 0.6875,0.4375 C 2,1.015625 2.671875,0.640625 2.828125,0 Z m 0,0\" id=\"id-d6eb882b-2703-496e-a8ed-43028a4d1c90\"/>\n",
       "          </g>\n",
       "        </g>\n",
       "      </g>\n",
       "    </g>\n",
       "    <g transform=\"matrix(0.705556,0,0,0.705556,108.44925,138.44574)\" ns2:version=\"1.3.0\" ns2:texconverter=\"pdflatex\" ns2:pdfconverter=\"inkscape\" ns2:text=\"\\\\fontsize{10pt}{1em}\\\\selectfont{$\\\\hat{a}_{2_x}$}\\n\" ns2:preamble=\"/Users/abhi/Software/textext-1.3.0/textext/default_packages.tex\" ns2:scale=\"2.0\" ns2:alignment=\"middle center\" ns2:inkscapeversion=\"1.0.2\" ns2:jacobian_sqrt=\"0.705556\" id=\"g15477\">\n",
       "      <defs id=\"id-26a2d4ea-2278-4302-825d-197c389e3229\">\n",
       "        <g id=\"id-24ec0a28-525f-4785-a15d-b2eba50debb2\">\n",
       "          <symbol overflow=\"visible\" id=\"id-9cac2d29-c8ac-446e-809c-9043f249ea7a\">\n",
       "            <path style=\"stroke:none;stroke-width:0\" d=\"\" id=\"id-fbd45490-ebaf-4d00-873e-788c5fa8ae00\"/>\n",
       "          </symbol>\n",
       "          <symbol overflow=\"visible\" id=\"id-08416a59-43b8-4141-a130-8795852ad703\">\n",
       "            <path style=\"stroke:none;stroke-width:0\" d=\"M 4,-5.28125 2.5,-6.890625 0.984375,-5.28125 1.109375,-5.140625 2.5,-6.21875 3.875,-5.140625 Z m 0,0\" id=\"id-dcea8431-856f-4fb6-bd90-af9fa39dbad0\"/>\n",
       "          </symbol>\n",
       "          <symbol overflow=\"visible\" id=\"id-ae4b6209-02f5-4ef8-87c5-9eb6f55e6352\">\n",
       "            <path style=\"stroke:none;stroke-width:0\" d=\"\" id=\"id-b8058eb0-675d-4ada-97e4-733d40bfb053\"/>\n",
       "          </symbol>\n",
       "          <symbol overflow=\"visible\" id=\"id-1921a317-3719-4a9e-9d90-28f8de69fd2c\">\n",
       "            <path style=\"stroke:none;stroke-width:0\" d=\"m 4.96875,-1.421875 c 0,-0.109375 -0.09375,-0.109375 -0.125,-0.109375 -0.09375,0 -0.109375,0.046875 -0.140625,0.1875 -0.171875,0.640625 -0.34375,1.234375 -0.75,1.234375 -0.28125,0 -0.296875,-0.265625 -0.296875,-0.453125 0,-0.21875 0.015625,-0.3125 0.125,-0.75 L 4,-2.203125 4.359375,-3.59375 c 0.0625,-0.28125 0.0625,-0.296875 0.0625,-0.34375 0,-0.171875 -0.109375,-0.265625 -0.28125,-0.265625 -0.25,0 -0.390625,0.21875 -0.421875,0.4375 -0.1875,-0.375 -0.46875,-0.640625 -0.921875,-0.640625 -1.15625,0 -2.390625,1.46875 -2.390625,2.921875 0,0.9375 0.546875,1.59375 1.3125,1.59375 0.203125,0 0.703125,-0.046875 1.296875,-0.75 0.078125,0.421875 0.4375,0.75 0.90625,0.75 0.359375,0 0.578125,-0.234375 0.75,-0.546875 0.15625,-0.359375 0.296875,-0.984375 0.296875,-0.984375 z M 3.5625,-3.140625 3.078125,-1.1875 C 3.015625,-1 3.015625,-0.984375 2.875,-0.8125 2.4375,-0.265625 2.03125,-0.109375 1.75,-0.109375 c -0.5,0 -0.640625,-0.546875 -0.640625,-0.9375 0,-0.5 0.3125,-1.71875 0.546875,-2.1875 0.3125,-0.578125 0.75,-0.953125 1.15625,-0.953125 0.640625,0 0.78125,0.8125 0.78125,0.875 0,0.0625 -0.015625,0.125 -0.03125,0.171875 z m 0,0\" id=\"id-5e094964-929f-4c91-b652-b14687e3583c\"/>\n",
       "          </symbol>\n",
       "          <symbol overflow=\"visible\" id=\"id-a8b5994b-7e82-4369-a89d-14d597c8a41f\">\n",
       "            <path style=\"stroke:none;stroke-width:0\" d=\"\" id=\"id-d6d1b7fa-567e-4422-afa3-545df80e9d6f\"/>\n",
       "          </symbol>\n",
       "          <symbol overflow=\"visible\" id=\"id-0027a8fd-b34d-4ccc-8c3e-fc5120c13837\">\n",
       "            <path style=\"stroke:none;stroke-width:0\" d=\"M 3.515625,-1.265625 H 3.28125 c -0.015625,0.15625 -0.09375,0.5625 -0.1875,0.625 C 3.046875,-0.59375 2.515625,-0.59375 2.40625,-0.59375 H 1.125 c 0.734375,-0.640625 0.984375,-0.84375 1.390625,-1.171875 0.515625,-0.40625 1,-0.84375 1,-1.5 0,-0.84375 -0.734375,-1.359375 -1.625,-1.359375 -0.859375,0 -1.453125,0.609375 -1.453125,1.25 0,0.34375 0.296875,0.390625 0.375,0.390625 0.15625,0 0.359375,-0.125 0.359375,-0.375 0,-0.125 -0.046875,-0.375 -0.40625,-0.375 C 0.984375,-4.21875 1.453125,-4.375 1.78125,-4.375 c 0.703125,0 1.0625,0.546875 1.0625,1.109375 0,0.609375 -0.4375,1.078125 -0.65625,1.328125 L 0.515625,-0.265625 C 0.4375,-0.203125 0.4375,-0.1875 0.4375,0 h 2.875 z m 0,0\" id=\"id-b62d00b0-30e2-48e5-b17c-f638d65827ff\"/>\n",
       "          </symbol>\n",
       "          <symbol overflow=\"visible\" id=\"id-5cc0e530-628f-4092-9914-31e493823c10\">\n",
       "            <path style=\"stroke:none;stroke-width:0\" d=\"\" id=\"id-8f18eaef-321f-4e56-8228-3a3bf2d7f32a\"/>\n",
       "          </symbol>\n",
       "          <symbol overflow=\"visible\" id=\"id-f7ef0f49-6d13-4835-aaff-a3e91cc1be62\">\n",
       "            <path style=\"stroke:none;stroke-width:0\" d=\"m 3.328125,-0.71875 c 0,-0.0625 -0.078125,-0.0625 -0.109375,-0.0625 -0.078125,0 -0.09375,0.03125 -0.109375,0.0625 C 2.96875,-0.265625 2.59375,-0.109375 2.375,-0.109375 c -0.15625,0 -0.359375,-0.0625 -0.359375,-0.34375 0,-0.0625 0,-0.09375 0.03125,-0.265625 0.09375,-0.34375 0.21875,-0.890625 0.265625,-0.984375 0.0625,-0.125 0.234375,-0.328125 0.484375,-0.328125 0.015625,0 0.1875,0 0.296875,0.078125 -0.234375,0.0625 -0.234375,0.296875 -0.234375,0.296875 0,0.078125 0.0625,0.203125 0.234375,0.203125 0.140625,0 0.3125,-0.125 0.3125,-0.34375 0,-0.296875 -0.328125,-0.40625 -0.59375,-0.40625 -0.328125,0 -0.546875,0.203125 -0.640625,0.34375 -0.15625,-0.28125 -0.484375,-0.34375 -0.65625,-0.34375 -0.625,0 -0.984375,0.59375 -0.984375,0.765625 0,0.078125 0.078125,0.078125 0.109375,0.078125 0.046875,0 0.078125,0 0.109375,-0.0625 0.140625,-0.484375 0.546875,-0.609375 0.734375,-0.609375 0.171875,0 0.359375,0.0625 0.359375,0.328125 0,0.125 -0.09375,0.46875 -0.265625,1.140625 -0.0625,0.28125 -0.296875,0.453125 -0.515625,0.453125 -0.03125,0 -0.171875,0 -0.296875,-0.078125 0.21875,-0.09375 0.21875,-0.28125 0.21875,-0.296875 0,-0.140625 -0.109375,-0.203125 -0.21875,-0.203125 -0.125,0 -0.296875,0.09375 -0.296875,0.328125 0,0.3125 0.328125,0.421875 0.59375,0.421875 0.265625,0 0.5,-0.171875 0.609375,-0.34375 C 1.875,0.015625 2.1875,0.0625 2.34375,0.0625 c 0.625,0 0.984375,-0.59375 0.984375,-0.78125 z m 0,0\" id=\"id-b80dce76-b75a-4b23-8e29-58437d5d9218\"/>\n",
       "          </symbol>\n",
       "        </g>\n",
       "      </defs>\n",
       "      <g id=\"id-04a345ea-6436-4cd3-a534-4801b3eb1cbf\" transform=\"translate(-149.118,-127.874)\">\n",
       "        <g style=\"fill:#000000;fill-opacity:1\" id=\"id-9363e576-91a2-441d-a77e-9c94f88f8f92\">\n",
       "          <g transform=\"translate(148.855,134.765)\" id=\"g15461\">\n",
       "            <path style=\"stroke:none;stroke-width:0\" d=\"M 4,-5.28125 2.5,-6.890625 0.984375,-5.28125 1.109375,-5.140625 2.5,-6.21875 3.875,-5.140625 Z m 0,0\" id=\"id-d099428b-9acd-4be9-a9a4-a7fe0b0e3737\"/>\n",
       "          </g>\n",
       "        </g>\n",
       "        <g style=\"fill:#000000;fill-opacity:1\" id=\"id-8e0b0d55-710a-42da-8ddf-986e5ff489b2\">\n",
       "          <g transform=\"translate(148.712,134.765)\" id=\"g15465\">\n",
       "            <path style=\"stroke:none;stroke-width:0\" d=\"m 4.96875,-1.421875 c 0,-0.109375 -0.09375,-0.109375 -0.125,-0.109375 -0.09375,0 -0.109375,0.046875 -0.140625,0.1875 -0.171875,0.640625 -0.34375,1.234375 -0.75,1.234375 -0.28125,0 -0.296875,-0.265625 -0.296875,-0.453125 0,-0.21875 0.015625,-0.3125 0.125,-0.75 L 4,-2.203125 4.359375,-3.59375 c 0.0625,-0.28125 0.0625,-0.296875 0.0625,-0.34375 0,-0.171875 -0.109375,-0.265625 -0.28125,-0.265625 -0.25,0 -0.390625,0.21875 -0.421875,0.4375 -0.1875,-0.375 -0.46875,-0.640625 -0.921875,-0.640625 -1.15625,0 -2.390625,1.46875 -2.390625,2.921875 0,0.9375 0.546875,1.59375 1.3125,1.59375 0.203125,0 0.703125,-0.046875 1.296875,-0.75 0.078125,0.421875 0.4375,0.75 0.90625,0.75 0.359375,0 0.578125,-0.234375 0.75,-0.546875 0.15625,-0.359375 0.296875,-0.984375 0.296875,-0.984375 z M 3.5625,-3.140625 3.078125,-1.1875 C 3.015625,-1 3.015625,-0.984375 2.875,-0.8125 2.4375,-0.265625 2.03125,-0.109375 1.75,-0.109375 c -0.5,0 -0.640625,-0.546875 -0.640625,-0.9375 0,-0.5 0.3125,-1.71875 0.546875,-2.1875 0.3125,-0.578125 0.75,-0.953125 1.15625,-0.953125 0.640625,0 0.78125,0.8125 0.78125,0.875 0,0.0625 -0.015625,0.125 -0.03125,0.171875 z m 0,0\" id=\"id-06fd63d9-4b54-4d2c-8f3f-813c363528da\"/>\n",
       "          </g>\n",
       "        </g>\n",
       "        <g style=\"fill:#000000;fill-opacity:1\" id=\"id-6e90e04c-db1f-4b24-99c7-18170319e4a5\">\n",
       "          <g transform=\"translate(153.978,136.259)\" id=\"g15469\">\n",
       "            <path style=\"stroke:none;stroke-width:0\" d=\"M 3.515625,-1.265625 H 3.28125 c -0.015625,0.15625 -0.09375,0.5625 -0.1875,0.625 C 3.046875,-0.59375 2.515625,-0.59375 2.40625,-0.59375 H 1.125 c 0.734375,-0.640625 0.984375,-0.84375 1.390625,-1.171875 0.515625,-0.40625 1,-0.84375 1,-1.5 0,-0.84375 -0.734375,-1.359375 -1.625,-1.359375 -0.859375,0 -1.453125,0.609375 -1.453125,1.25 0,0.34375 0.296875,0.390625 0.375,0.390625 0.15625,0 0.359375,-0.125 0.359375,-0.375 0,-0.125 -0.046875,-0.375 -0.40625,-0.375 C 0.984375,-4.21875 1.453125,-4.375 1.78125,-4.375 c 0.703125,0 1.0625,0.546875 1.0625,1.109375 0,0.609375 -0.4375,1.078125 -0.65625,1.328125 L 0.515625,-0.265625 C 0.4375,-0.203125 0.4375,-0.1875 0.4375,0 h 2.875 z m 0,0\" id=\"id-1b0583c3-2af6-4d82-a4a3-7bcb8175a8c9\"/>\n",
       "          </g>\n",
       "        </g>\n",
       "        <g style=\"fill:#000000;fill-opacity:1\" id=\"id-27b696bc-78ed-4a3b-b923-f13d195a1f2b\">\n",
       "          <g transform=\"translate(157.95,137.255)\" id=\"g15473\">\n",
       "            <path style=\"stroke:none;stroke-width:0\" d=\"m 3.328125,-0.71875 c 0,-0.0625 -0.078125,-0.0625 -0.109375,-0.0625 -0.078125,0 -0.09375,0.03125 -0.109375,0.0625 C 2.96875,-0.265625 2.59375,-0.109375 2.375,-0.109375 c -0.15625,0 -0.359375,-0.0625 -0.359375,-0.34375 0,-0.0625 0,-0.09375 0.03125,-0.265625 0.09375,-0.34375 0.21875,-0.890625 0.265625,-0.984375 0.0625,-0.125 0.234375,-0.328125 0.484375,-0.328125 0.015625,0 0.1875,0 0.296875,0.078125 -0.234375,0.0625 -0.234375,0.296875 -0.234375,0.296875 0,0.078125 0.0625,0.203125 0.234375,0.203125 0.140625,0 0.3125,-0.125 0.3125,-0.34375 0,-0.296875 -0.328125,-0.40625 -0.59375,-0.40625 -0.328125,0 -0.546875,0.203125 -0.640625,0.34375 -0.15625,-0.28125 -0.484375,-0.34375 -0.65625,-0.34375 -0.625,0 -0.984375,0.59375 -0.984375,0.765625 0,0.078125 0.078125,0.078125 0.109375,0.078125 0.046875,0 0.078125,0 0.109375,-0.0625 0.140625,-0.484375 0.546875,-0.609375 0.734375,-0.609375 0.171875,0 0.359375,0.0625 0.359375,0.328125 0,0.125 -0.09375,0.46875 -0.265625,1.140625 -0.0625,0.28125 -0.296875,0.453125 -0.515625,0.453125 -0.03125,0 -0.171875,0 -0.296875,-0.078125 0.21875,-0.09375 0.21875,-0.28125 0.21875,-0.296875 0,-0.140625 -0.109375,-0.203125 -0.21875,-0.203125 -0.125,0 -0.296875,0.09375 -0.296875,0.328125 0,0.3125 0.328125,0.421875 0.59375,0.421875 0.265625,0 0.5,-0.171875 0.609375,-0.34375 C 1.875,0.015625 2.1875,0.0625 2.34375,0.0625 c 0.625,0 0.984375,-0.59375 0.984375,-0.78125 z m 0,0\" id=\"id-e69195b8-d28f-45d7-b01e-627ee255c72c\"/>\n",
       "          </g>\n",
       "        </g>\n",
       "      </g>\n",
       "    </g>\n",
       "    <g transform=\"matrix(0.705556,0,0,0.705556,97.231933,128.1535)\" ns2:version=\"1.3.0\" ns2:texconverter=\"pdflatex\" ns2:pdfconverter=\"inkscape\" ns2:text=\"\\\\fontsize{10pt}{1em}\\\\selectfont{$\\\\hat{a}_{2_z}$}\\n\" ns2:preamble=\"/Users/abhi/Software/textext-1.3.0/textext/default_packages.tex\" ns2:scale=\"2.0\" ns2:alignment=\"middle center\" ns2:inkscapeversion=\"1.0.2\" ns2:jacobian_sqrt=\"0.705556\" id=\"g17407\">\n",
       "      <defs id=\"id-d1d1d340-318c-423a-bfb2-09c72670f367\">\n",
       "        <g id=\"id-dd89417b-7c07-4ef0-bd42-db0b8f9d08fc\">\n",
       "          <symbol overflow=\"visible\" id=\"id-69ed74b5-e07b-4842-9191-a1d7c12a6e93\">\n",
       "            <path style=\"stroke:none;stroke-width:0\" d=\"\" id=\"id-c137b640-2995-4a21-a1d6-153e0c0b181e\"/>\n",
       "          </symbol>\n",
       "          <symbol overflow=\"visible\" id=\"id-54ed5069-598b-4e85-933d-ba30039f82ec\">\n",
       "            <path style=\"stroke:none;stroke-width:0\" d=\"M 4,-5.28125 2.5,-6.890625 0.984375,-5.28125 1.109375,-5.140625 2.5,-6.21875 3.875,-5.140625 Z m 0,0\" id=\"id-b244cf44-1bf1-48ca-8977-7962580184b9\"/>\n",
       "          </symbol>\n",
       "          <symbol overflow=\"visible\" id=\"id-ab8ecaee-a40e-46ed-a1ce-ddd996cfe629\">\n",
       "            <path style=\"stroke:none;stroke-width:0\" d=\"\" id=\"id-0dfd69bc-d4ff-4445-9c82-72734a4c6bf6\"/>\n",
       "          </symbol>\n",
       "          <symbol overflow=\"visible\" id=\"id-529a2663-9ed8-4657-8f5e-ce1681fa36d5\">\n",
       "            <path style=\"stroke:none;stroke-width:0\" d=\"m 4.96875,-1.421875 c 0,-0.109375 -0.09375,-0.109375 -0.125,-0.109375 -0.09375,0 -0.109375,0.046875 -0.140625,0.1875 -0.171875,0.640625 -0.34375,1.234375 -0.75,1.234375 -0.28125,0 -0.296875,-0.265625 -0.296875,-0.453125 0,-0.21875 0.015625,-0.3125 0.125,-0.75 L 4,-2.203125 4.359375,-3.59375 c 0.0625,-0.28125 0.0625,-0.296875 0.0625,-0.34375 0,-0.171875 -0.109375,-0.265625 -0.28125,-0.265625 -0.25,0 -0.390625,0.21875 -0.421875,0.4375 -0.1875,-0.375 -0.46875,-0.640625 -0.921875,-0.640625 -1.15625,0 -2.390625,1.46875 -2.390625,2.921875 0,0.9375 0.546875,1.59375 1.3125,1.59375 0.203125,0 0.703125,-0.046875 1.296875,-0.75 0.078125,0.421875 0.4375,0.75 0.90625,0.75 0.359375,0 0.578125,-0.234375 0.75,-0.546875 0.15625,-0.359375 0.296875,-0.984375 0.296875,-0.984375 z M 3.5625,-3.140625 3.078125,-1.1875 C 3.015625,-1 3.015625,-0.984375 2.875,-0.8125 2.4375,-0.265625 2.03125,-0.109375 1.75,-0.109375 c -0.5,0 -0.640625,-0.546875 -0.640625,-0.9375 0,-0.5 0.3125,-1.71875 0.546875,-2.1875 0.3125,-0.578125 0.75,-0.953125 1.15625,-0.953125 0.640625,0 0.78125,0.8125 0.78125,0.875 0,0.0625 -0.015625,0.125 -0.03125,0.171875 z m 0,0\" id=\"id-b4c26cc6-16f3-4e86-bc6e-f852773a5d64\"/>\n",
       "          </symbol>\n",
       "          <symbol overflow=\"visible\" id=\"id-a9d8cd48-9b54-4132-8025-d30cdd09301b\">\n",
       "            <path style=\"stroke:none;stroke-width:0\" d=\"\" id=\"id-b6206d90-4fc5-484d-8650-feca9c9760f3\"/>\n",
       "          </symbol>\n",
       "          <symbol overflow=\"visible\" id=\"id-2a5ff84f-24ba-4e56-9eec-a07a654e6725\">\n",
       "            <path style=\"stroke:none;stroke-width:0\" d=\"M 3.515625,-1.265625 H 3.28125 c -0.015625,0.15625 -0.09375,0.5625 -0.1875,0.625 C 3.046875,-0.59375 2.515625,-0.59375 2.40625,-0.59375 H 1.125 c 0.734375,-0.640625 0.984375,-0.84375 1.390625,-1.171875 0.515625,-0.40625 1,-0.84375 1,-1.5 0,-0.84375 -0.734375,-1.359375 -1.625,-1.359375 -0.859375,0 -1.453125,0.609375 -1.453125,1.25 0,0.34375 0.296875,0.390625 0.375,0.390625 0.15625,0 0.359375,-0.125 0.359375,-0.375 0,-0.125 -0.046875,-0.375 -0.40625,-0.375 C 0.984375,-4.21875 1.453125,-4.375 1.78125,-4.375 c 0.703125,0 1.0625,0.546875 1.0625,1.109375 0,0.609375 -0.4375,1.078125 -0.65625,1.328125 L 0.515625,-0.265625 C 0.4375,-0.203125 0.4375,-0.1875 0.4375,0 h 2.875 z m 0,0\" id=\"id-1d168d60-46c4-46c8-8dfc-6f33f460de81\"/>\n",
       "          </symbol>\n",
       "          <symbol overflow=\"visible\" id=\"id-4936e0b6-a485-49dd-9690-8afadb43c4d4\">\n",
       "            <path style=\"stroke:none;stroke-width:0\" d=\"\" id=\"id-4a8b4f60-4dc9-484d-8e7e-3c799f423d9d\"/>\n",
       "          </symbol>\n",
       "          <symbol overflow=\"visible\" id=\"id-39b23935-6f26-44f2-b993-7f14a0fc7897\">\n",
       "            <path style=\"stroke:none;stroke-width:0\" d=\"M 2.984375,-0.734375 C 2.984375,-0.8125 2.90625,-0.8125 2.875,-0.8125 c -0.078125,0 -0.078125,0.03125 -0.109375,0.078125 -0.109375,0.3125 -0.5,0.359375 -0.6875,0.359375 C 1.96875,-0.375 1.84375,-0.390625 1.6875,-0.40625 1.421875,-0.453125 1.328125,-0.453125 1.265625,-0.453125 c -0.078125,0 -0.09375,0 -0.125,0 0.203125,-0.1875 0.453125,-0.375 0.734375,-0.578125 0.34375,-0.234375 0.546875,-0.40625 0.765625,-0.59375 0.25,-0.234375 0.421875,-0.453125 0.421875,-0.515625 0,-0.0625 -0.078125,-0.0625 -0.109375,-0.0625 -0.078125,0 -0.078125,0 -0.109375,0.0625 -0.203125,0.265625 -0.3125,0.28125 -0.390625,0.28125 -0.078125,0 -0.15625,-0.015625 -0.3125,-0.125 -0.171875,-0.140625 -0.28125,-0.21875 -0.46875,-0.21875 -0.453125,0 -0.75,0.4375 -0.75,0.59375 0,0.078125 0.0625,0.078125 0.109375,0.078125 0.046875,0 0.078125,-0.015625 0.09375,-0.0625 0.03125,-0.0625 0.078125,-0.1875 0.46875,-0.1875 0.140625,0 0.25,0.015625 0.515625,0.0625 0.171875,0.03125 0.234375,0.03125 0.328125,0.03125 -0.15625,0.125 -0.296875,0.25 -0.671875,0.53125 -0.359375,0.25 -0.578125,0.40625 -0.8125,0.625 -0.203125,0.171875 -0.4375,0.453125 -0.4375,0.515625 0,0.078125 0.078125,0.078125 0.109375,0.078125 0.0625,0 0.078125,-0.015625 0.109375,-0.046875 0.140625,-0.203125 0.328125,-0.3125 0.5,-0.3125 0.140625,0 0.203125,0.0625 0.390625,0.203125 C 1.765625,0 1.875,0.0625 2.015625,0.0625 c 0.59375,0 0.96875,-0.59375 0.96875,-0.796875 z m 0,0\" id=\"id-6a3933db-1b4d-4366-ba5b-70498c92bb48\"/>\n",
       "          </symbol>\n",
       "        </g>\n",
       "      </defs>\n",
       "      <g id=\"id-949fb1ec-359c-4ebd-a377-77a8272d6862\" transform=\"translate(-149.118,-127.874)\">\n",
       "        <g style=\"fill:#000000;fill-opacity:1\" id=\"id-75982dc3-c7d7-411f-a6f2-5768c213b978\">\n",
       "          <g transform=\"translate(148.855,134.765)\" id=\"g17391\">\n",
       "            <path style=\"stroke:none;stroke-width:0\" d=\"M 4,-5.28125 2.5,-6.890625 0.984375,-5.28125 1.109375,-5.140625 2.5,-6.21875 3.875,-5.140625 Z m 0,0\" id=\"id-1fb6899c-b3e7-4208-bbd9-b7270666c26f\"/>\n",
       "          </g>\n",
       "        </g>\n",
       "        <g style=\"fill:#000000;fill-opacity:1\" id=\"id-ca88d381-b8fc-4f65-b5e1-7908ef861a2a\">\n",
       "          <g transform=\"translate(148.712,134.765)\" id=\"g17395\">\n",
       "            <path style=\"stroke:none;stroke-width:0\" d=\"m 4.96875,-1.421875 c 0,-0.109375 -0.09375,-0.109375 -0.125,-0.109375 -0.09375,0 -0.109375,0.046875 -0.140625,0.1875 -0.171875,0.640625 -0.34375,1.234375 -0.75,1.234375 -0.28125,0 -0.296875,-0.265625 -0.296875,-0.453125 0,-0.21875 0.015625,-0.3125 0.125,-0.75 L 4,-2.203125 4.359375,-3.59375 c 0.0625,-0.28125 0.0625,-0.296875 0.0625,-0.34375 0,-0.171875 -0.109375,-0.265625 -0.28125,-0.265625 -0.25,0 -0.390625,0.21875 -0.421875,0.4375 -0.1875,-0.375 -0.46875,-0.640625 -0.921875,-0.640625 -1.15625,0 -2.390625,1.46875 -2.390625,2.921875 0,0.9375 0.546875,1.59375 1.3125,1.59375 0.203125,0 0.703125,-0.046875 1.296875,-0.75 0.078125,0.421875 0.4375,0.75 0.90625,0.75 0.359375,0 0.578125,-0.234375 0.75,-0.546875 0.15625,-0.359375 0.296875,-0.984375 0.296875,-0.984375 z M 3.5625,-3.140625 3.078125,-1.1875 C 3.015625,-1 3.015625,-0.984375 2.875,-0.8125 2.4375,-0.265625 2.03125,-0.109375 1.75,-0.109375 c -0.5,0 -0.640625,-0.546875 -0.640625,-0.9375 0,-0.5 0.3125,-1.71875 0.546875,-2.1875 0.3125,-0.578125 0.75,-0.953125 1.15625,-0.953125 0.640625,0 0.78125,0.8125 0.78125,0.875 0,0.0625 -0.015625,0.125 -0.03125,0.171875 z m 0,0\" id=\"id-24874751-4b08-4024-be68-ba6b51d60d9f\"/>\n",
       "          </g>\n",
       "        </g>\n",
       "        <g style=\"fill:#000000;fill-opacity:1\" id=\"id-4a5ad15d-e849-4c8a-853f-674a0105b95d\">\n",
       "          <g transform=\"translate(153.978,136.259)\" id=\"g17399\">\n",
       "            <path style=\"stroke:none;stroke-width:0\" d=\"M 3.515625,-1.265625 H 3.28125 c -0.015625,0.15625 -0.09375,0.5625 -0.1875,0.625 C 3.046875,-0.59375 2.515625,-0.59375 2.40625,-0.59375 H 1.125 c 0.734375,-0.640625 0.984375,-0.84375 1.390625,-1.171875 0.515625,-0.40625 1,-0.84375 1,-1.5 0,-0.84375 -0.734375,-1.359375 -1.625,-1.359375 -0.859375,0 -1.453125,0.609375 -1.453125,1.25 0,0.34375 0.296875,0.390625 0.375,0.390625 0.15625,0 0.359375,-0.125 0.359375,-0.375 0,-0.125 -0.046875,-0.375 -0.40625,-0.375 C 0.984375,-4.21875 1.453125,-4.375 1.78125,-4.375 c 0.703125,0 1.0625,0.546875 1.0625,1.109375 0,0.609375 -0.4375,1.078125 -0.65625,1.328125 L 0.515625,-0.265625 C 0.4375,-0.203125 0.4375,-0.1875 0.4375,0 h 2.875 z m 0,0\" id=\"id-6e6f57da-889c-4a3b-9e3f-17891d313bed\"/>\n",
       "          </g>\n",
       "        </g>\n",
       "        <g style=\"fill:#000000;fill-opacity:1\" id=\"id-56f5906e-2507-4197-b5ef-3ed2ed598b7a\">\n",
       "          <g transform=\"translate(157.95,137.255)\" id=\"g17403\">\n",
       "            <path style=\"stroke:none;stroke-width:0\" d=\"M 2.984375,-0.734375 C 2.984375,-0.8125 2.90625,-0.8125 2.875,-0.8125 c -0.078125,0 -0.078125,0.03125 -0.109375,0.078125 -0.109375,0.3125 -0.5,0.359375 -0.6875,0.359375 C 1.96875,-0.375 1.84375,-0.390625 1.6875,-0.40625 1.421875,-0.453125 1.328125,-0.453125 1.265625,-0.453125 c -0.078125,0 -0.09375,0 -0.125,0 0.203125,-0.1875 0.453125,-0.375 0.734375,-0.578125 0.34375,-0.234375 0.546875,-0.40625 0.765625,-0.59375 0.25,-0.234375 0.421875,-0.453125 0.421875,-0.515625 0,-0.0625 -0.078125,-0.0625 -0.109375,-0.0625 -0.078125,0 -0.078125,0 -0.109375,0.0625 -0.203125,0.265625 -0.3125,0.28125 -0.390625,0.28125 -0.078125,0 -0.15625,-0.015625 -0.3125,-0.125 -0.171875,-0.140625 -0.28125,-0.21875 -0.46875,-0.21875 -0.453125,0 -0.75,0.4375 -0.75,0.59375 0,0.078125 0.0625,0.078125 0.109375,0.078125 0.046875,0 0.078125,-0.015625 0.09375,-0.0625 0.03125,-0.0625 0.078125,-0.1875 0.46875,-0.1875 0.140625,0 0.25,0.015625 0.515625,0.0625 0.171875,0.03125 0.234375,0.03125 0.328125,0.03125 -0.15625,0.125 -0.296875,0.25 -0.671875,0.53125 -0.359375,0.25 -0.578125,0.40625 -0.8125,0.625 -0.203125,0.171875 -0.4375,0.453125 -0.4375,0.515625 0,0.078125 0.078125,0.078125 0.109375,0.078125 0.0625,0 0.078125,-0.015625 0.109375,-0.046875 0.140625,-0.203125 0.328125,-0.3125 0.5,-0.3125 0.140625,0 0.203125,0.0625 0.390625,0.203125 C 1.765625,0 1.875,0.0625 2.015625,0.0625 c 0.59375,0 0.96875,-0.59375 0.96875,-0.796875 z m 0,0\" id=\"id-36325501-58d5-42a5-861e-42f4a981d370\"/>\n",
       "          </g>\n",
       "        </g>\n",
       "      </g>\n",
       "    </g>\n",
       "    <g transform=\"matrix(0.705556,0,0,0.705556,146.65417,84.255014)\" ns2:version=\"1.3.0\" ns2:texconverter=\"pdflatex\" ns2:pdfconverter=\"inkscape\" ns2:text=\"\\\\fontsize{10pt}{1em}\\\\selectfont{$\\\\hat{a}_{1_x}$}\\n\" ns2:preamble=\"/Users/abhi/Software/textext-1.3.0/textext/default_packages.tex\" ns2:scale=\"2.0\" ns2:alignment=\"middle center\" ns2:inkscapeversion=\"1.0.2\" ns2:jacobian_sqrt=\"0.705556\" id=\"g11843\">\n",
       "      <defs id=\"id-0f7079b4-540c-4b04-a906-567beb4cdd6f\">\n",
       "        <g id=\"g17608\">\n",
       "          <symbol overflow=\"visible\" id=\"symbol17578\">\n",
       "            <path style=\"stroke:none;stroke-width:0\" d=\"\" id=\"path17576\"/>\n",
       "          </symbol>\n",
       "          <symbol overflow=\"visible\" id=\"symbol17582\">\n",
       "            <path style=\"stroke:none;stroke-width:0\" d=\"M 4,-5.28125 2.5,-6.890625 0.984375,-5.28125 1.109375,-5.140625 2.5,-6.21875 3.875,-5.140625 Z m 0,0\" id=\"path17580\"/>\n",
       "          </symbol>\n",
       "          <symbol overflow=\"visible\" id=\"symbol17586\">\n",
       "            <path style=\"stroke:none;stroke-width:0\" d=\"\" id=\"path17584\"/>\n",
       "          </symbol>\n",
       "          <symbol overflow=\"visible\" id=\"symbol17590\">\n",
       "            <path style=\"stroke:none;stroke-width:0\" d=\"m 4.96875,-1.421875 c 0,-0.109375 -0.09375,-0.109375 -0.125,-0.109375 -0.09375,0 -0.109375,0.046875 -0.140625,0.1875 -0.171875,0.640625 -0.34375,1.234375 -0.75,1.234375 -0.28125,0 -0.296875,-0.265625 -0.296875,-0.453125 0,-0.21875 0.015625,-0.3125 0.125,-0.75 L 4,-2.203125 4.359375,-3.59375 c 0.0625,-0.28125 0.0625,-0.296875 0.0625,-0.34375 0,-0.171875 -0.109375,-0.265625 -0.28125,-0.265625 -0.25,0 -0.390625,0.21875 -0.421875,0.4375 -0.1875,-0.375 -0.46875,-0.640625 -0.921875,-0.640625 -1.15625,0 -2.390625,1.46875 -2.390625,2.921875 0,0.9375 0.546875,1.59375 1.3125,1.59375 0.203125,0 0.703125,-0.046875 1.296875,-0.75 0.078125,0.421875 0.4375,0.75 0.90625,0.75 0.359375,0 0.578125,-0.234375 0.75,-0.546875 0.15625,-0.359375 0.296875,-0.984375 0.296875,-0.984375 z M 3.5625,-3.140625 3.078125,-1.1875 C 3.015625,-1 3.015625,-0.984375 2.875,-0.8125 2.4375,-0.265625 2.03125,-0.109375 1.75,-0.109375 c -0.5,0 -0.640625,-0.546875 -0.640625,-0.9375 0,-0.5 0.3125,-1.71875 0.546875,-2.1875 0.3125,-0.578125 0.75,-0.953125 1.15625,-0.953125 0.640625,0 0.78125,0.8125 0.78125,0.875 0,0.0625 -0.015625,0.125 -0.03125,0.171875 z m 0,0\" id=\"path17588\"/>\n",
       "          </symbol>\n",
       "          <symbol overflow=\"visible\" id=\"symbol17594\">\n",
       "            <path style=\"stroke:none;stroke-width:0\" d=\"\" id=\"path17592\"/>\n",
       "          </symbol>\n",
       "          <symbol overflow=\"visible\" id=\"symbol17598\">\n",
       "            <path style=\"stroke:none;stroke-width:0\" d=\"M 3.296875,0 V -0.25 H 3.03125 c -0.703125,0 -0.703125,-0.09375 -0.703125,-0.328125 V -4.4375 c 0,-0.1875 0,-0.1875 -0.203125,-0.1875 -0.453125,0.4375 -1.078125,0.4375 -1.359375,0.4375 v 0.25 c 0.15625,0 0.625,0 1,-0.1875 v 3.546875 c 0,0.234375 0,0.328125 -0.6875,0.328125 H 0.8125 V 0 l 1.234375,-0.03125 z m 0,0\" id=\"path17596\"/>\n",
       "          </symbol>\n",
       "          <symbol overflow=\"visible\" id=\"symbol17602\">\n",
       "            <path style=\"stroke:none;stroke-width:0\" d=\"\" id=\"path17600\"/>\n",
       "          </symbol>\n",
       "          <symbol overflow=\"visible\" id=\"symbol17606\">\n",
       "            <path style=\"stroke:none;stroke-width:0\" d=\"m 3.328125,-0.71875 c 0,-0.0625 -0.078125,-0.0625 -0.109375,-0.0625 -0.078125,0 -0.09375,0.03125 -0.109375,0.0625 C 2.96875,-0.265625 2.59375,-0.109375 2.375,-0.109375 c -0.15625,0 -0.359375,-0.0625 -0.359375,-0.34375 0,-0.0625 0,-0.09375 0.03125,-0.265625 0.09375,-0.34375 0.21875,-0.890625 0.265625,-0.984375 0.0625,-0.125 0.234375,-0.328125 0.484375,-0.328125 0.015625,0 0.1875,0 0.296875,0.078125 -0.234375,0.0625 -0.234375,0.296875 -0.234375,0.296875 0,0.078125 0.0625,0.203125 0.234375,0.203125 0.140625,0 0.3125,-0.125 0.3125,-0.34375 0,-0.296875 -0.328125,-0.40625 -0.59375,-0.40625 -0.328125,0 -0.546875,0.203125 -0.640625,0.34375 -0.15625,-0.28125 -0.484375,-0.34375 -0.65625,-0.34375 -0.625,0 -0.984375,0.59375 -0.984375,0.765625 0,0.078125 0.078125,0.078125 0.109375,0.078125 0.046875,0 0.078125,0 0.109375,-0.0625 0.140625,-0.484375 0.546875,-0.609375 0.734375,-0.609375 0.171875,0 0.359375,0.0625 0.359375,0.328125 0,0.125 -0.09375,0.46875 -0.265625,1.140625 -0.0625,0.28125 -0.296875,0.453125 -0.515625,0.453125 -0.03125,0 -0.171875,0 -0.296875,-0.078125 0.21875,-0.09375 0.21875,-0.28125 0.21875,-0.296875 0,-0.140625 -0.109375,-0.203125 -0.21875,-0.203125 -0.125,0 -0.296875,0.09375 -0.296875,0.328125 0,0.3125 0.328125,0.421875 0.59375,0.421875 0.265625,0 0.5,-0.171875 0.609375,-0.34375 C 1.875,0.015625 2.1875,0.0625 2.34375,0.0625 c 0.625,0 0.984375,-0.59375 0.984375,-0.78125 z m 0,0\" id=\"path17604\"/>\n",
       "          </symbol>\n",
       "        </g>\n",
       "      </defs>\n",
       "      <g id=\"id-f29731d4-5b5a-431a-b3c9-d1e029d92192\" transform=\"translate(-149.118,-127.874)\">\n",
       "        <g style=\"fill:#000000;fill-opacity:1\" id=\"id-25a47cc3-d803-4eef-ad84-d5db13191699\">\n",
       "          <g transform=\"translate(148.855,134.765)\" id=\"g11827\">\n",
       "            <path style=\"stroke:none;stroke-width:0\" d=\"M 4,-5.28125 2.5,-6.890625 0.984375,-5.28125 1.109375,-5.140625 2.5,-6.21875 3.875,-5.140625 Z m 0,0\" id=\"id-d2ddf506-1b19-41ae-897a-40e77f2beb07\"/>\n",
       "          </g>\n",
       "        </g>\n",
       "        <g style=\"fill:#000000;fill-opacity:1\" id=\"id-a4733bea-67e8-4ce7-8404-d3a24ba3e026\">\n",
       "          <g transform=\"translate(148.712,134.765)\" id=\"g11831\">\n",
       "            <path style=\"stroke:none;stroke-width:0\" d=\"m 4.96875,-1.421875 c 0,-0.109375 -0.09375,-0.109375 -0.125,-0.109375 -0.09375,0 -0.109375,0.046875 -0.140625,0.1875 -0.171875,0.640625 -0.34375,1.234375 -0.75,1.234375 -0.28125,0 -0.296875,-0.265625 -0.296875,-0.453125 0,-0.21875 0.015625,-0.3125 0.125,-0.75 L 4,-2.203125 4.359375,-3.59375 c 0.0625,-0.28125 0.0625,-0.296875 0.0625,-0.34375 0,-0.171875 -0.109375,-0.265625 -0.28125,-0.265625 -0.25,0 -0.390625,0.21875 -0.421875,0.4375 -0.1875,-0.375 -0.46875,-0.640625 -0.921875,-0.640625 -1.15625,0 -2.390625,1.46875 -2.390625,2.921875 0,0.9375 0.546875,1.59375 1.3125,1.59375 0.203125,0 0.703125,-0.046875 1.296875,-0.75 0.078125,0.421875 0.4375,0.75 0.90625,0.75 0.359375,0 0.578125,-0.234375 0.75,-0.546875 0.15625,-0.359375 0.296875,-0.984375 0.296875,-0.984375 z M 3.5625,-3.140625 3.078125,-1.1875 C 3.015625,-1 3.015625,-0.984375 2.875,-0.8125 2.4375,-0.265625 2.03125,-0.109375 1.75,-0.109375 c -0.5,0 -0.640625,-0.546875 -0.640625,-0.9375 0,-0.5 0.3125,-1.71875 0.546875,-2.1875 0.3125,-0.578125 0.75,-0.953125 1.15625,-0.953125 0.640625,0 0.78125,0.8125 0.78125,0.875 0,0.0625 -0.015625,0.125 -0.03125,0.171875 z m 0,0\" id=\"id-eb8b07d0-06df-44b4-88a3-142238ce1e9a\"/>\n",
       "          </g>\n",
       "        </g>\n",
       "        <g style=\"fill:#000000;fill-opacity:1\" id=\"id-e2c8fd8e-df1b-49a5-8c3d-18c9664bea9f\">\n",
       "          <g transform=\"translate(153.978,136.259)\" id=\"g11835\">\n",
       "            <path style=\"stroke:none;stroke-width:0\" d=\"M 3.296875,0 V -0.25 H 3.03125 c -0.703125,0 -0.703125,-0.09375 -0.703125,-0.328125 V -4.4375 c 0,-0.1875 0,-0.1875 -0.203125,-0.1875 -0.453125,0.4375 -1.078125,0.4375 -1.359375,0.4375 v 0.25 c 0.15625,0 0.625,0 1,-0.1875 v 3.546875 c 0,0.234375 0,0.328125 -0.6875,0.328125 H 0.8125 V 0 l 1.234375,-0.03125 z m 0,0\" id=\"id-4509ec50-03b6-479c-a444-af534d4e43f7\"/>\n",
       "          </g>\n",
       "        </g>\n",
       "        <g style=\"fill:#000000;fill-opacity:1\" id=\"id-77f437a2-d88f-43ec-a076-31ffcd39a60c\">\n",
       "          <g transform=\"translate(157.95,137.255)\" id=\"g11839\">\n",
       "            <path style=\"stroke:none;stroke-width:0\" d=\"m 3.328125,-0.71875 c 0,-0.0625 -0.078125,-0.0625 -0.109375,-0.0625 -0.078125,0 -0.09375,0.03125 -0.109375,0.0625 C 2.96875,-0.265625 2.59375,-0.109375 2.375,-0.109375 c -0.15625,0 -0.359375,-0.0625 -0.359375,-0.34375 0,-0.0625 0,-0.09375 0.03125,-0.265625 0.09375,-0.34375 0.21875,-0.890625 0.265625,-0.984375 0.0625,-0.125 0.234375,-0.328125 0.484375,-0.328125 0.015625,0 0.1875,0 0.296875,0.078125 -0.234375,0.0625 -0.234375,0.296875 -0.234375,0.296875 0,0.078125 0.0625,0.203125 0.234375,0.203125 0.140625,0 0.3125,-0.125 0.3125,-0.34375 0,-0.296875 -0.328125,-0.40625 -0.59375,-0.40625 -0.328125,0 -0.546875,0.203125 -0.640625,0.34375 -0.15625,-0.28125 -0.484375,-0.34375 -0.65625,-0.34375 -0.625,0 -0.984375,0.59375 -0.984375,0.765625 0,0.078125 0.078125,0.078125 0.109375,0.078125 0.046875,0 0.078125,0 0.109375,-0.0625 0.140625,-0.484375 0.546875,-0.609375 0.734375,-0.609375 0.171875,0 0.359375,0.0625 0.359375,0.328125 0,0.125 -0.09375,0.46875 -0.265625,1.140625 -0.0625,0.28125 -0.296875,0.453125 -0.515625,0.453125 -0.03125,0 -0.171875,0 -0.296875,-0.078125 0.21875,-0.09375 0.21875,-0.28125 0.21875,-0.296875 0,-0.140625 -0.109375,-0.203125 -0.21875,-0.203125 -0.125,0 -0.296875,0.09375 -0.296875,0.328125 0,0.3125 0.328125,0.421875 0.59375,0.421875 0.265625,0 0.5,-0.171875 0.609375,-0.34375 C 1.875,0.015625 2.1875,0.0625 2.34375,0.0625 c 0.625,0 0.984375,-0.59375 0.984375,-0.78125 z m 0,0\" id=\"id-571b9c91-9245-484d-8d4d-de13200f228d\"/>\n",
       "          </g>\n",
       "        </g>\n",
       "      </g>\n",
       "    </g>\n",
       "    <g transform=\"matrix(0.705556,0,0,0.705556,134.6211,80.715239)\" ns2:version=\"1.3.0\" ns2:texconverter=\"pdflatex\" ns2:pdfconverter=\"inkscape\" ns2:text=\"\\\\fontsize{10pt}{1em}\\\\selectfont{$\\\\hat{a}_{1_z}$}\\n\" ns2:preamble=\"/Users/abhi/Software/textext-1.3.0/textext/default_packages.tex\" ns2:scale=\"2.0\" ns2:alignment=\"middle center\" ns2:inkscapeversion=\"1.0.2\" ns2:jacobian_sqrt=\"0.705556\" id=\"g13576\">\n",
       "      <defs id=\"id-3b0a3061-7ab0-4163-a165-01cd7d3d9933\">\n",
       "        <g id=\"g17790\">\n",
       "          <symbol overflow=\"visible\" id=\"symbol17760\">\n",
       "            <path style=\"stroke:none;stroke-width:0\" d=\"\" id=\"path17758\"/>\n",
       "          </symbol>\n",
       "          <symbol overflow=\"visible\" id=\"symbol17764\">\n",
       "            <path style=\"stroke:none;stroke-width:0\" d=\"M 4,-5.28125 2.5,-6.890625 0.984375,-5.28125 1.109375,-5.140625 2.5,-6.21875 3.875,-5.140625 Z m 0,0\" id=\"path17762\"/>\n",
       "          </symbol>\n",
       "          <symbol overflow=\"visible\" id=\"symbol17768\">\n",
       "            <path style=\"stroke:none;stroke-width:0\" d=\"\" id=\"path17766\"/>\n",
       "          </symbol>\n",
       "          <symbol overflow=\"visible\" id=\"symbol17772\">\n",
       "            <path style=\"stroke:none;stroke-width:0\" d=\"m 4.96875,-1.421875 c 0,-0.109375 -0.09375,-0.109375 -0.125,-0.109375 -0.09375,0 -0.109375,0.046875 -0.140625,0.1875 -0.171875,0.640625 -0.34375,1.234375 -0.75,1.234375 -0.28125,0 -0.296875,-0.265625 -0.296875,-0.453125 0,-0.21875 0.015625,-0.3125 0.125,-0.75 L 4,-2.203125 4.359375,-3.59375 c 0.0625,-0.28125 0.0625,-0.296875 0.0625,-0.34375 0,-0.171875 -0.109375,-0.265625 -0.28125,-0.265625 -0.25,0 -0.390625,0.21875 -0.421875,0.4375 -0.1875,-0.375 -0.46875,-0.640625 -0.921875,-0.640625 -1.15625,0 -2.390625,1.46875 -2.390625,2.921875 0,0.9375 0.546875,1.59375 1.3125,1.59375 0.203125,0 0.703125,-0.046875 1.296875,-0.75 0.078125,0.421875 0.4375,0.75 0.90625,0.75 0.359375,0 0.578125,-0.234375 0.75,-0.546875 0.15625,-0.359375 0.296875,-0.984375 0.296875,-0.984375 z M 3.5625,-3.140625 3.078125,-1.1875 C 3.015625,-1 3.015625,-0.984375 2.875,-0.8125 2.4375,-0.265625 2.03125,-0.109375 1.75,-0.109375 c -0.5,0 -0.640625,-0.546875 -0.640625,-0.9375 0,-0.5 0.3125,-1.71875 0.546875,-2.1875 0.3125,-0.578125 0.75,-0.953125 1.15625,-0.953125 0.640625,0 0.78125,0.8125 0.78125,0.875 0,0.0625 -0.015625,0.125 -0.03125,0.171875 z m 0,0\" id=\"path17770\"/>\n",
       "          </symbol>\n",
       "          <symbol overflow=\"visible\" id=\"symbol17776\">\n",
       "            <path style=\"stroke:none;stroke-width:0\" d=\"\" id=\"path17774\"/>\n",
       "          </symbol>\n",
       "          <symbol overflow=\"visible\" id=\"symbol17780\">\n",
       "            <path style=\"stroke:none;stroke-width:0\" d=\"M 3.296875,0 V -0.25 H 3.03125 c -0.703125,0 -0.703125,-0.09375 -0.703125,-0.328125 V -4.4375 c 0,-0.1875 0,-0.1875 -0.203125,-0.1875 -0.453125,0.4375 -1.078125,0.4375 -1.359375,0.4375 v 0.25 c 0.15625,0 0.625,0 1,-0.1875 v 3.546875 c 0,0.234375 0,0.328125 -0.6875,0.328125 H 0.8125 V 0 l 1.234375,-0.03125 z m 0,0\" id=\"path17778\"/>\n",
       "          </symbol>\n",
       "          <symbol overflow=\"visible\" id=\"symbol17784\">\n",
       "            <path style=\"stroke:none;stroke-width:0\" d=\"\" id=\"path17782\"/>\n",
       "          </symbol>\n",
       "          <symbol overflow=\"visible\" id=\"symbol17788\">\n",
       "            <path style=\"stroke:none;stroke-width:0\" d=\"M 2.984375,-0.734375 C 2.984375,-0.8125 2.90625,-0.8125 2.875,-0.8125 c -0.078125,0 -0.078125,0.03125 -0.109375,0.078125 -0.109375,0.3125 -0.5,0.359375 -0.6875,0.359375 C 1.96875,-0.375 1.84375,-0.390625 1.6875,-0.40625 1.421875,-0.453125 1.328125,-0.453125 1.265625,-0.453125 c -0.078125,0 -0.09375,0 -0.125,0 0.203125,-0.1875 0.453125,-0.375 0.734375,-0.578125 0.34375,-0.234375 0.546875,-0.40625 0.765625,-0.59375 0.25,-0.234375 0.421875,-0.453125 0.421875,-0.515625 0,-0.0625 -0.078125,-0.0625 -0.109375,-0.0625 -0.078125,0 -0.078125,0 -0.109375,0.0625 -0.203125,0.265625 -0.3125,0.28125 -0.390625,0.28125 -0.078125,0 -0.15625,-0.015625 -0.3125,-0.125 -0.171875,-0.140625 -0.28125,-0.21875 -0.46875,-0.21875 -0.453125,0 -0.75,0.4375 -0.75,0.59375 0,0.078125 0.0625,0.078125 0.109375,0.078125 0.046875,0 0.078125,-0.015625 0.09375,-0.0625 0.03125,-0.0625 0.078125,-0.1875 0.46875,-0.1875 0.140625,0 0.25,0.015625 0.515625,0.0625 0.171875,0.03125 0.234375,0.03125 0.328125,0.03125 -0.15625,0.125 -0.296875,0.25 -0.671875,0.53125 -0.359375,0.25 -0.578125,0.40625 -0.8125,0.625 -0.203125,0.171875 -0.4375,0.453125 -0.4375,0.515625 0,0.078125 0.078125,0.078125 0.109375,0.078125 0.0625,0 0.078125,-0.015625 0.109375,-0.046875 0.140625,-0.203125 0.328125,-0.3125 0.5,-0.3125 0.140625,0 0.203125,0.0625 0.390625,0.203125 C 1.765625,0 1.875,0.0625 2.015625,0.0625 c 0.59375,0 0.96875,-0.59375 0.96875,-0.796875 z m 0,0\" id=\"path17786\"/>\n",
       "          </symbol>\n",
       "        </g>\n",
       "      </defs>\n",
       "      <g id=\"id-dfdf92c7-a410-495c-b936-bd2a353ca881\" transform=\"translate(-149.118,-127.874)\">\n",
       "        <g style=\"fill:#000000;fill-opacity:1\" id=\"id-3a4c94fb-82cf-4835-b4af-9d97f60b91df\">\n",
       "          <g transform=\"translate(148.855,134.765)\" id=\"g13560\">\n",
       "            <path style=\"stroke:none;stroke-width:0\" d=\"M 4,-5.28125 2.5,-6.890625 0.984375,-5.28125 1.109375,-5.140625 2.5,-6.21875 3.875,-5.140625 Z m 0,0\" id=\"id-37ef6cae-8344-4d24-a714-52e35560febe\"/>\n",
       "          </g>\n",
       "        </g>\n",
       "        <g style=\"fill:#000000;fill-opacity:1\" id=\"id-a9bb6e95-d668-4716-9ef8-2b0070cf6d9a\">\n",
       "          <g transform=\"translate(148.712,134.765)\" id=\"g13564\">\n",
       "            <path style=\"stroke:none;stroke-width:0\" d=\"m 4.96875,-1.421875 c 0,-0.109375 -0.09375,-0.109375 -0.125,-0.109375 -0.09375,0 -0.109375,0.046875 -0.140625,0.1875 -0.171875,0.640625 -0.34375,1.234375 -0.75,1.234375 -0.28125,0 -0.296875,-0.265625 -0.296875,-0.453125 0,-0.21875 0.015625,-0.3125 0.125,-0.75 L 4,-2.203125 4.359375,-3.59375 c 0.0625,-0.28125 0.0625,-0.296875 0.0625,-0.34375 0,-0.171875 -0.109375,-0.265625 -0.28125,-0.265625 -0.25,0 -0.390625,0.21875 -0.421875,0.4375 -0.1875,-0.375 -0.46875,-0.640625 -0.921875,-0.640625 -1.15625,0 -2.390625,1.46875 -2.390625,2.921875 0,0.9375 0.546875,1.59375 1.3125,1.59375 0.203125,0 0.703125,-0.046875 1.296875,-0.75 0.078125,0.421875 0.4375,0.75 0.90625,0.75 0.359375,0 0.578125,-0.234375 0.75,-0.546875 0.15625,-0.359375 0.296875,-0.984375 0.296875,-0.984375 z M 3.5625,-3.140625 3.078125,-1.1875 C 3.015625,-1 3.015625,-0.984375 2.875,-0.8125 2.4375,-0.265625 2.03125,-0.109375 1.75,-0.109375 c -0.5,0 -0.640625,-0.546875 -0.640625,-0.9375 0,-0.5 0.3125,-1.71875 0.546875,-2.1875 0.3125,-0.578125 0.75,-0.953125 1.15625,-0.953125 0.640625,0 0.78125,0.8125 0.78125,0.875 0,0.0625 -0.015625,0.125 -0.03125,0.171875 z m 0,0\" id=\"id-d22ae4f7-459e-48c8-8cd8-804a33f67dcf\"/>\n",
       "          </g>\n",
       "        </g>\n",
       "        <g style=\"fill:#000000;fill-opacity:1\" id=\"id-b2f8dc9f-56b9-4b5e-832f-daa00c6f08f7\">\n",
       "          <g transform=\"translate(153.978,136.259)\" id=\"g13568\">\n",
       "            <path style=\"stroke:none;stroke-width:0\" d=\"M 3.296875,0 V -0.25 H 3.03125 c -0.703125,0 -0.703125,-0.09375 -0.703125,-0.328125 V -4.4375 c 0,-0.1875 0,-0.1875 -0.203125,-0.1875 -0.453125,0.4375 -1.078125,0.4375 -1.359375,0.4375 v 0.25 c 0.15625,0 0.625,0 1,-0.1875 v 3.546875 c 0,0.234375 0,0.328125 -0.6875,0.328125 H 0.8125 V 0 l 1.234375,-0.03125 z m 0,0\" id=\"id-32a121ba-7e5e-446a-930c-32bfd85175ec\"/>\n",
       "          </g>\n",
       "        </g>\n",
       "        <g style=\"fill:#000000;fill-opacity:1\" id=\"id-f985d2cf-3523-4d47-b17d-a8edcc39b882\">\n",
       "          <g transform=\"translate(157.95,137.255)\" id=\"g13572\">\n",
       "            <path style=\"stroke:none;stroke-width:0\" d=\"M 2.984375,-0.734375 C 2.984375,-0.8125 2.90625,-0.8125 2.875,-0.8125 c -0.078125,0 -0.078125,0.03125 -0.109375,0.078125 -0.109375,0.3125 -0.5,0.359375 -0.6875,0.359375 C 1.96875,-0.375 1.84375,-0.390625 1.6875,-0.40625 1.421875,-0.453125 1.328125,-0.453125 1.265625,-0.453125 c -0.078125,0 -0.09375,0 -0.125,0 0.203125,-0.1875 0.453125,-0.375 0.734375,-0.578125 0.34375,-0.234375 0.546875,-0.40625 0.765625,-0.59375 0.25,-0.234375 0.421875,-0.453125 0.421875,-0.515625 0,-0.0625 -0.078125,-0.0625 -0.109375,-0.0625 -0.078125,0 -0.078125,0 -0.109375,0.0625 -0.203125,0.265625 -0.3125,0.28125 -0.390625,0.28125 -0.078125,0 -0.15625,-0.015625 -0.3125,-0.125 -0.171875,-0.140625 -0.28125,-0.21875 -0.46875,-0.21875 -0.453125,0 -0.75,0.4375 -0.75,0.59375 0,0.078125 0.0625,0.078125 0.109375,0.078125 0.046875,0 0.078125,-0.015625 0.09375,-0.0625 0.03125,-0.0625 0.078125,-0.1875 0.46875,-0.1875 0.140625,0 0.25,0.015625 0.515625,0.0625 0.171875,0.03125 0.234375,0.03125 0.328125,0.03125 -0.15625,0.125 -0.296875,0.25 -0.671875,0.53125 -0.359375,0.25 -0.578125,0.40625 -0.8125,0.625 -0.203125,0.171875 -0.4375,0.453125 -0.4375,0.515625 0,0.078125 0.078125,0.078125 0.109375,0.078125 0.0625,0 0.078125,-0.015625 0.109375,-0.046875 0.140625,-0.203125 0.328125,-0.3125 0.5,-0.3125 0.140625,0 0.203125,0.0625 0.390625,0.203125 C 1.765625,0 1.875,0.0625 2.015625,0.0625 c 0.59375,0 0.96875,-0.59375 0.96875,-0.796875 z m 0,0\" id=\"id-3cb1127a-6b4f-4980-85bc-6e2e65767f0f\"/>\n",
       "          </g>\n",
       "        </g>\n",
       "      </g>\n",
       "    </g>\n",
       "    <g transform=\"matrix(0.705556,0,0,0.705556,87.229439,141.00478)\" ns2:version=\"1.3.0\" ns2:texconverter=\"pdflatex\" ns2:pdfconverter=\"inkscape\" ns2:text=\"\\\\fontsize{10pt}{1em}\\\\selectfont{$\\\\hat{a}_{2_y}$}\\n\" ns2:preamble=\"/Users/abhi/Software/textext-1.3.0/textext/default_packages.tex\" ns2:scale=\"2.0\" ns2:alignment=\"middle center\" ns2:inkscapeversion=\"1.0.2\" ns2:jacobian_sqrt=\"0.705556\" id=\"g14528\">\n",
       "      <defs id=\"id-e45faf55-4ee8-41d3-9a32-b23a682bd7a6\">\n",
       "        <g id=\"g17972\">\n",
       "          <symbol overflow=\"visible\" id=\"symbol17942\">\n",
       "            <path style=\"stroke:none;stroke-width:0\" d=\"\" id=\"path17940\"/>\n",
       "          </symbol>\n",
       "          <symbol overflow=\"visible\" id=\"symbol17946\">\n",
       "            <path style=\"stroke:none;stroke-width:0\" d=\"M 4,-5.28125 2.5,-6.890625 0.984375,-5.28125 1.109375,-5.140625 2.5,-6.21875 3.875,-5.140625 Z m 0,0\" id=\"path17944\"/>\n",
       "          </symbol>\n",
       "          <symbol overflow=\"visible\" id=\"symbol17950\">\n",
       "            <path style=\"stroke:none;stroke-width:0\" d=\"\" id=\"path17948\"/>\n",
       "          </symbol>\n",
       "          <symbol overflow=\"visible\" id=\"symbol17954\">\n",
       "            <path style=\"stroke:none;stroke-width:0\" d=\"m 4.96875,-1.421875 c 0,-0.109375 -0.09375,-0.109375 -0.125,-0.109375 -0.09375,0 -0.109375,0.046875 -0.140625,0.1875 -0.171875,0.640625 -0.34375,1.234375 -0.75,1.234375 -0.28125,0 -0.296875,-0.265625 -0.296875,-0.453125 0,-0.21875 0.015625,-0.3125 0.125,-0.75 L 4,-2.203125 4.359375,-3.59375 c 0.0625,-0.28125 0.0625,-0.296875 0.0625,-0.34375 0,-0.171875 -0.109375,-0.265625 -0.28125,-0.265625 -0.25,0 -0.390625,0.21875 -0.421875,0.4375 -0.1875,-0.375 -0.46875,-0.640625 -0.921875,-0.640625 -1.15625,0 -2.390625,1.46875 -2.390625,2.921875 0,0.9375 0.546875,1.59375 1.3125,1.59375 0.203125,0 0.703125,-0.046875 1.296875,-0.75 0.078125,0.421875 0.4375,0.75 0.90625,0.75 0.359375,0 0.578125,-0.234375 0.75,-0.546875 0.15625,-0.359375 0.296875,-0.984375 0.296875,-0.984375 z M 3.5625,-3.140625 3.078125,-1.1875 C 3.015625,-1 3.015625,-0.984375 2.875,-0.8125 2.4375,-0.265625 2.03125,-0.109375 1.75,-0.109375 c -0.5,0 -0.640625,-0.546875 -0.640625,-0.9375 0,-0.5 0.3125,-1.71875 0.546875,-2.1875 0.3125,-0.578125 0.75,-0.953125 1.15625,-0.953125 0.640625,0 0.78125,0.8125 0.78125,0.875 0,0.0625 -0.015625,0.125 -0.03125,0.171875 z m 0,0\" id=\"path17952\"/>\n",
       "          </symbol>\n",
       "          <symbol overflow=\"visible\" id=\"symbol17958\">\n",
       "            <path style=\"stroke:none;stroke-width:0\" d=\"\" id=\"path17956\"/>\n",
       "          </symbol>\n",
       "          <symbol overflow=\"visible\" id=\"symbol17962\">\n",
       "            <path style=\"stroke:none;stroke-width:0\" d=\"M 3.515625,-1.265625 H 3.28125 c -0.015625,0.15625 -0.09375,0.5625 -0.1875,0.625 C 3.046875,-0.59375 2.515625,-0.59375 2.40625,-0.59375 H 1.125 c 0.734375,-0.640625 0.984375,-0.84375 1.390625,-1.171875 0.515625,-0.40625 1,-0.84375 1,-1.5 0,-0.84375 -0.734375,-1.359375 -1.625,-1.359375 -0.859375,0 -1.453125,0.609375 -1.453125,1.25 0,0.34375 0.296875,0.390625 0.375,0.390625 0.15625,0 0.359375,-0.125 0.359375,-0.375 0,-0.125 -0.046875,-0.375 -0.40625,-0.375 C 0.984375,-4.21875 1.453125,-4.375 1.78125,-4.375 c 0.703125,0 1.0625,0.546875 1.0625,1.109375 0,0.609375 -0.4375,1.078125 -0.65625,1.328125 L 0.515625,-0.265625 C 0.4375,-0.203125 0.4375,-0.1875 0.4375,0 h 2.875 z m 0,0\" id=\"path17960\"/>\n",
       "          </symbol>\n",
       "          <symbol overflow=\"visible\" id=\"symbol17966\">\n",
       "            <path style=\"stroke:none;stroke-width:0\" d=\"\" id=\"path17964\"/>\n",
       "          </symbol>\n",
       "          <symbol overflow=\"visible\" id=\"symbol17970\">\n",
       "            <path style=\"stroke:none;stroke-width:0\" d=\"M 3.296875,-1.859375 C 3.3125,-1.9375 3.3125,-1.96875 3.3125,-1.96875 c 0,-0.109375 -0.078125,-0.171875 -0.171875,-0.171875 -0.203125,0 -0.25,0.171875 -0.28125,0.296875 L 2.75,-1.421875 l -0.140625,0.625 c -0.03125,0.0625 -0.046875,0.15625 -0.0625,0.1875 0,0.03125 -0.265625,0.5 -0.6875,0.5 -0.234375,0 -0.40625,-0.109375 -0.40625,-0.4375 0,-0.265625 0.140625,-0.640625 0.28125,-1 0.03125,-0.046875 0.0625,-0.140625 0.0625,-0.21875 0,-0.25 -0.234375,-0.4375 -0.546875,-0.4375 -0.515625,0 -0.796875,0.640625 -0.796875,0.765625 0,0.078125 0.078125,0.078125 0.109375,0.078125 0.078125,0 0.078125,-0.03125 0.109375,-0.09375 0.109375,-0.34375 0.34375,-0.578125 0.5625,-0.578125 0.09375,0 0.15625,0.046875 0.15625,0.1875 0,0.09375 -0.03125,0.171875 -0.0625,0.265625 -0.25,0.59375 -0.296875,0.765625 -0.296875,0.96875 0,0.546875 0.46875,0.671875 0.796875,0.671875 0.28125,0 0.5,-0.140625 0.625,-0.25 -0.078125,0.28125 -0.125,0.5 -0.359375,0.734375 -0.125,0.109375 -0.359375,0.3125 -0.65625,0.3125 -0.09375,0 -0.28125,-0.015625 -0.390625,-0.125 0.21875,-0.0625 0.25,-0.25 0.25,-0.296875 0,-0.140625 -0.125,-0.203125 -0.21875,-0.203125 -0.15625,0 -0.328125,0.109375 -0.328125,0.34375 0,0.25 0.265625,0.4375 0.6875,0.4375 C 2,1.015625 2.671875,0.640625 2.828125,0 Z m 0,0\" id=\"path17968\"/>\n",
       "          </symbol>\n",
       "        </g>\n",
       "      </defs>\n",
       "      <g id=\"id-7deb18bf-05a5-472f-ad3d-b1b22c360b0a\" transform=\"translate(-149.118,-127.874)\">\n",
       "        <g style=\"fill:#000000;fill-opacity:1\" id=\"id-e1706274-a8bb-42c9-a404-adc3ef261af3\">\n",
       "          <g transform=\"translate(148.855,134.765)\" id=\"g14512\">\n",
       "            <path style=\"stroke:none;stroke-width:0\" d=\"M 4,-5.28125 2.5,-6.890625 0.984375,-5.28125 1.109375,-5.140625 2.5,-6.21875 3.875,-5.140625 Z m 0,0\" id=\"id-0766dffa-647a-414e-9520-d5edd6c8a782\"/>\n",
       "          </g>\n",
       "        </g>\n",
       "        <g style=\"fill:#000000;fill-opacity:1\" id=\"id-9a726cd7-8462-4817-8cbf-bd000d80697e\">\n",
       "          <g transform=\"translate(148.712,134.765)\" id=\"g14516\">\n",
       "            <path style=\"stroke:none;stroke-width:0\" d=\"m 4.96875,-1.421875 c 0,-0.109375 -0.09375,-0.109375 -0.125,-0.109375 -0.09375,0 -0.109375,0.046875 -0.140625,0.1875 -0.171875,0.640625 -0.34375,1.234375 -0.75,1.234375 -0.28125,0 -0.296875,-0.265625 -0.296875,-0.453125 0,-0.21875 0.015625,-0.3125 0.125,-0.75 L 4,-2.203125 4.359375,-3.59375 c 0.0625,-0.28125 0.0625,-0.296875 0.0625,-0.34375 0,-0.171875 -0.109375,-0.265625 -0.28125,-0.265625 -0.25,0 -0.390625,0.21875 -0.421875,0.4375 -0.1875,-0.375 -0.46875,-0.640625 -0.921875,-0.640625 -1.15625,0 -2.390625,1.46875 -2.390625,2.921875 0,0.9375 0.546875,1.59375 1.3125,1.59375 0.203125,0 0.703125,-0.046875 1.296875,-0.75 0.078125,0.421875 0.4375,0.75 0.90625,0.75 0.359375,0 0.578125,-0.234375 0.75,-0.546875 0.15625,-0.359375 0.296875,-0.984375 0.296875,-0.984375 z M 3.5625,-3.140625 3.078125,-1.1875 C 3.015625,-1 3.015625,-0.984375 2.875,-0.8125 2.4375,-0.265625 2.03125,-0.109375 1.75,-0.109375 c -0.5,0 -0.640625,-0.546875 -0.640625,-0.9375 0,-0.5 0.3125,-1.71875 0.546875,-2.1875 0.3125,-0.578125 0.75,-0.953125 1.15625,-0.953125 0.640625,0 0.78125,0.8125 0.78125,0.875 0,0.0625 -0.015625,0.125 -0.03125,0.171875 z m 0,0\" id=\"id-94f24140-75fb-4ef1-92ae-ee37d8ad247d\"/>\n",
       "          </g>\n",
       "        </g>\n",
       "        <g style=\"fill:#000000;fill-opacity:1\" id=\"id-085ce7a6-e302-4095-9ca3-b91b61d70d29\">\n",
       "          <g transform=\"translate(153.978,136.259)\" id=\"g14520\">\n",
       "            <path style=\"stroke:none;stroke-width:0\" d=\"M 3.515625,-1.265625 H 3.28125 c -0.015625,0.15625 -0.09375,0.5625 -0.1875,0.625 C 3.046875,-0.59375 2.515625,-0.59375 2.40625,-0.59375 H 1.125 c 0.734375,-0.640625 0.984375,-0.84375 1.390625,-1.171875 0.515625,-0.40625 1,-0.84375 1,-1.5 0,-0.84375 -0.734375,-1.359375 -1.625,-1.359375 -0.859375,0 -1.453125,0.609375 -1.453125,1.25 0,0.34375 0.296875,0.390625 0.375,0.390625 0.15625,0 0.359375,-0.125 0.359375,-0.375 0,-0.125 -0.046875,-0.375 -0.40625,-0.375 C 0.984375,-4.21875 1.453125,-4.375 1.78125,-4.375 c 0.703125,0 1.0625,0.546875 1.0625,1.109375 0,0.609375 -0.4375,1.078125 -0.65625,1.328125 L 0.515625,-0.265625 C 0.4375,-0.203125 0.4375,-0.1875 0.4375,0 h 2.875 z m 0,0\" id=\"id-cc9d6bcb-7b71-4559-9054-316cc80a76c5\"/>\n",
       "          </g>\n",
       "        </g>\n",
       "        <g style=\"fill:#000000;fill-opacity:1\" id=\"id-890a5dd2-83a3-46db-9126-0f1398848772\">\n",
       "          <g transform=\"translate(157.95,137.255)\" id=\"g14524\">\n",
       "            <path style=\"stroke:none;stroke-width:0\" d=\"M 3.296875,-1.859375 C 3.3125,-1.9375 3.3125,-1.96875 3.3125,-1.96875 c 0,-0.109375 -0.078125,-0.171875 -0.171875,-0.171875 -0.203125,0 -0.25,0.171875 -0.28125,0.296875 L 2.75,-1.421875 l -0.140625,0.625 c -0.03125,0.0625 -0.046875,0.15625 -0.0625,0.1875 0,0.03125 -0.265625,0.5 -0.6875,0.5 -0.234375,0 -0.40625,-0.109375 -0.40625,-0.4375 0,-0.265625 0.140625,-0.640625 0.28125,-1 0.03125,-0.046875 0.0625,-0.140625 0.0625,-0.21875 0,-0.25 -0.234375,-0.4375 -0.546875,-0.4375 -0.515625,0 -0.796875,0.640625 -0.796875,0.765625 0,0.078125 0.078125,0.078125 0.109375,0.078125 0.078125,0 0.078125,-0.03125 0.109375,-0.09375 0.109375,-0.34375 0.34375,-0.578125 0.5625,-0.578125 0.09375,0 0.15625,0.046875 0.15625,0.1875 0,0.09375 -0.03125,0.171875 -0.0625,0.265625 -0.25,0.59375 -0.296875,0.765625 -0.296875,0.96875 0,0.546875 0.46875,0.671875 0.796875,0.671875 0.28125,0 0.5,-0.140625 0.625,-0.25 -0.078125,0.28125 -0.125,0.5 -0.359375,0.734375 -0.125,0.109375 -0.359375,0.3125 -0.65625,0.3125 -0.09375,0 -0.28125,-0.015625 -0.390625,-0.125 0.21875,-0.0625 0.25,-0.25 0.25,-0.296875 0,-0.140625 -0.125,-0.203125 -0.21875,-0.203125 -0.15625,0 -0.328125,0.109375 -0.328125,0.34375 0,0.25 0.265625,0.4375 0.6875,0.4375 C 2,1.015625 2.671875,0.640625 2.828125,0 Z m 0,0\" id=\"id-edf7145c-bf30-4d06-9662-24dc35e46f7e\"/>\n",
       "          </g>\n",
       "        </g>\n",
       "      </g>\n",
       "    </g>\n",
       "    <g id=\"id-380d2913-c3d7-4b39-a23d-eaf1e39e480b\" transform=\"matrix(0.705556,0,0,0.705556,10.927418,42.78525)\">\n",
       "      <g style=\"fill:#000000;fill-opacity:1\" id=\"id-b2cbaf7b-d8d8-468a-803b-82d838e006d5\">\n",
       "        <g transform=\"translate(148.712,134.765)\" id=\"g18991\">\n",
       "          <path style=\"stroke:none;stroke-width:0\" d=\"M 6.453125,-2.390625 C 6.453125,-2.5 6.328125,-2.5 6.328125,-2.5 c -0.0625,0 -0.109375,0.03125 -0.125,0.109375 -0.09375,0.28125 -0.328125,1 -1.015625,1.578125 -0.6875,0.546875 -1.3125,0.71875 -1.828125,0.71875 -0.890625,0 -1.953125,-0.515625 -1.953125,-2.0625 0,-0.578125 0.203125,-2.1875 1.203125,-3.359375 0.609375,-0.703125 1.546875,-1.203125 2.4375,-1.203125 1.015625,0 1.609375,0.765625 1.609375,1.921875 0,0.40625 -0.03125,0.40625 -0.03125,0.515625 0,0.09375 0.109375,0.09375 0.140625,0.09375 0.125,0 0.125,-0.015625 0.1875,-0.203125 l 0.625,-2.53125 c 0,-0.03125 -0.015625,-0.109375 -0.109375,-0.109375 -0.03125,0 -0.046875,0.015625 -0.15625,0.125 L 6.625,-6.140625 C 6.53125,-6.28125 6.078125,-7.03125 4.96875,-7.03125 2.734375,-7.03125 0.5,-4.828125 0.5,-2.515625 0.5,-0.875 1.671875,0.21875 3.203125,0.21875 c 0.859375,0 1.625,-0.390625 2.15625,-0.859375 0.921875,-0.8125 1.09375,-1.71875 1.09375,-1.75 z m 0,0\" id=\"id-98145d59-52ed-4e27-99a8-059fe5d0e373\"/>\n",
       "        </g>\n",
       "      </g>\n",
       "    </g>\n",
       "    <g id=\"id-c3287be3-bd8a-4c24-b5eb-1621298841ef-2\" transform=\"matrix(0.705556,0,0,0.705556,-0.14347199,35.269555)\">\n",
       "      <g style=\"fill:#000000;fill-opacity:1\" id=\"id-d7e5cc96-c776-4f47-a3de-130212033b67-7\">\n",
       "        <g transform=\"translate(148.712,134.765)\" id=\"g5456-1\">\n",
       "          <path style=\"stroke:none;stroke-width:0\" d=\"m 2.9609785,-2.4199935 c 0,-0.109375 -0.09375,-0.109375 -0.125,-0.109375 -0.09375,0 -0.109375,0.046875 -0.125,0.1875 -0.171875,0.640625 -0.359375,1.234375 -0.765625,1.234375 -0.296875,0 -0.296875,-0.3125 -0.296875,-0.453125 0,-0.25 0.015625,-0.296875 0.0625,-0.484375 l 1.4375,-5.765625 c 0,0 0,-0.109375 -0.140625,-0.109375 -0.21875,0 -0.953125,0.078125 -1.21875,0.109375 -0.078125,0 -0.1875,0.015625 -0.1875,0.203125 0,0.109375 0.109375,0.109375 0.25,0.109375 0.484375,0 0.5,0.09375 0.5,0.171875 l -0.03125,0.203125 -1.265625,4.984375 c -0.03125,0.109375 -0.046875,0.171875 -0.046875,0.328125 0,0.578125 0.4375,0.92187495 0.90625,0.92187495 0.328125,0 0.578125,-0.20312495 0.75,-0.56249995 0.171875,-0.375 0.296875,-0.96875 0.296875,-0.96875 z m 0,0\" id=\"id-b5de8d25-536b-4133-a574-c58948841889-5\"/>\n",
       "        </g>\n",
       "      </g>\n",
       "    </g>\n",
       "    <path style=\"fill:none;stroke:#000000;stroke-width:0.264583px;stroke-linecap:butt;stroke-linejoin:miter;stroke-opacity:1;marker-end:url(#marker2127)\" d=\"m 178.13228,169.51085 c -5.28263,5.95806 -7.95841,12.36949 -7.93537,19.25028\" id=\"path2453\" sodipodi:nodetypes=\"cc\"/>\n",
       "    <path style=\"fill:#d40000;stroke:#d40000;stroke-width:0.75;stroke-linecap:round;stroke-linejoin:miter;stroke-opacity:1;marker-end:url(#Arrow2Mend-6)\" d=\"m 147.44088,100.28374 1.93956,-8.845913\" id=\"path4354-5\" inkscape:transform-center-x=\"-0.8376475\" inkscape:transform-center-y=\"-4.5668396\" sodipodi:nodetypes=\"cc\"/>\n",
       "    <path style=\"fill:#008000;stroke:#008000;stroke-width:0.75;stroke-linecap:round;stroke-linejoin:miter;stroke-miterlimit:4;stroke-dasharray:none;stroke-opacity:1;marker-start:url(#marker11438-4)\" d=\"m 143.81202,87.332277 3.59896,13.087833\" id=\"path979-6-5-1\" sodipodi:nodetypes=\"cc\"/>\n",
       "    <g transform=\"matrix(0.56143111,0,0,0.56143111,29.38756,177.76342)\" ns2:version=\"1.3.0\" ns2:texconverter=\"pdflatex\" ns2:pdfconverter=\"inkscape\" ns2:text=\"\\\\fontsize{9pt}{1em}\\\\selectfont{ \\\\circled{$\\\\mathbf{\\\\cdot}$} }\\n\" ns2:preamble=\"/Users/abhi/Software/textext-1.3.0/textext/default_packages.tex\" ns2:scale=\"2.0\" ns2:alignment=\"middle center\" ns2:inkscapeversion=\"1.0.2\" ns2:jacobian_sqrt=\"0.705556\" id=\"g12221\" style=\"stroke-width:1.29134;stroke-miterlimit:4;stroke-dasharray:none\">\n",
       "      <defs id=\"id-b25dd344-7624-41ff-9081-caf080ca23d2\">\n",
       "        <g id=\"id-3d8c2afd-97cd-46e6-9a93-e1eaa1aa3bad\">\n",
       "          <symbol overflow=\"visible\" id=\"id-6095e29f-1dfc-4c92-8475-1b4ee14f1f02\">\n",
       "            <path style=\"stroke:none;stroke-width:0\" d=\"\" id=\"id-ab180149-d21c-4ae3-b8c9-345e83d4f99c\"/>\n",
       "          </symbol>\n",
       "          <symbol overflow=\"visible\" id=\"id-0d395d45-f843-4e98-ac56-5e08ff1b8f5a\">\n",
       "            <path style=\"stroke:none;stroke-width:0\" d=\"m 1.765625,-2.25 c 0,-0.265625 -0.21875,-0.484375 -0.484375,-0.484375 -0.28125,0 -0.484375,0.21875 -0.484375,0.484375 0,0.265625 0.203125,0.484375 0.484375,0.484375 0.265625,0 0.484375,-0.21875 0.484375,-0.484375 z m 0,0\" id=\"id-30275591-7d31-4835-a453-3cfe61b8ee30\"/>\n",
       "          </symbol>\n",
       "        </g>\n",
       "      </defs>\n",
       "      <g id=\"id-3add48ca-a93b-4e9b-904f-dbe832ac0be9\" transform=\"translate(-148.711,-127.391)\" style=\"stroke-width:1.29134;stroke-miterlimit:4;stroke-dasharray:none\">\n",
       "        <path style=\"fill:none;stroke:#000000;stroke-width:1.29134;stroke-linecap:butt;stroke-linejoin:miter;stroke-miterlimit:4;stroke-dasharray:none;stroke-opacity:1\" d=\"m 5.157563,0.00190625 c 0,2.84765675 -2.308594,5.15624975 -5.1562505,5.15624975 -2.8515625,0 -5.1601565,-2.308593 -5.1601565,-5.15624975 0,-2.85156225 2.308594,-5.16015625 5.1601565,-5.16015625 2.8476565,0 5.1562505,2.308594 5.1562505,5.16015625 z m 0,0\" transform=\"matrix(1,0,0,-1,154.069,132.748)\" id=\"id-783cc14c-7f2f-4b46-84e2-1fc11a3d8b26\"/>\n",
       "        <g style=\"fill:#000000;fill-opacity:1;stroke-width:1.29134;stroke-miterlimit:4;stroke-dasharray:none\" id=\"id-3236bb99-8f51-4d3f-9436-f3a585f4c411\">\n",
       "          <g transform=\"translate(152.789,134.765)\" id=\"g12217\" style=\"stroke-width:1.29134;stroke-miterlimit:4;stroke-dasharray:none\">\n",
       "            <path style=\"stroke:none;stroke-width:1.29134;stroke-miterlimit:4;stroke-dasharray:none\" d=\"m 2.54496,-2.016953 c 0,-0.6940389 -0.5715615,-1.2656004 -1.2656005,-1.2656004 -0.73486486,0 -1.26560048,0.5715615 -1.26560048,1.2656004 0,0.694039 0.53073562,1.26560042 1.26560048,1.26560042 0.694039,0 1.2656005,-0.57156142 1.2656005,-1.26560042 z m 0,0\" id=\"id-f645b860-1bf2-4502-88ba-6cf775ecd8d3\"/>\n",
       "          </g>\n",
       "        </g>\n",
       "      </g>\n",
       "    </g>\n",
       "  </g>\n",
       "</svg>"
      ],
      "text/plain": [
       "<IPython.core.display.SVG object>"
      ]
     },
     "execution_count": 1,
     "metadata": {},
     "output_type": "execute_result"
    }
   ],
   "source": [
    "from IPython.display import SVG\n",
    "SVG('figure/rocket-car.svg')"
   ]
  },
  {
   "cell_type": "code",
   "execution_count": 2,
   "metadata": {},
   "outputs": [
    {
     "ename": "ModuleNotFoundError",
     "evalue": "No module named 'pydy'",
     "output_type": "error",
     "traceback": [
      "\u001b[1;31m---------------------------------------------------------------------------\u001b[0m",
      "\u001b[1;31mModuleNotFoundError\u001b[0m                       Traceback (most recent call last)",
      "\u001b[1;32m<ipython-input-2-e87ad6a6ec3d>\u001b[0m in \u001b[0;36m<module>\u001b[1;34m\u001b[0m\n\u001b[0;32m      1\u001b[0m \u001b[1;32mimport\u001b[0m \u001b[0msympy\u001b[0m \u001b[1;32mas\u001b[0m \u001b[0msm\u001b[0m\u001b[1;33m\u001b[0m\u001b[1;33m\u001b[0m\u001b[0m\n\u001b[0;32m      2\u001b[0m \u001b[1;32mimport\u001b[0m \u001b[0msympy\u001b[0m\u001b[1;33m.\u001b[0m\u001b[0mphysics\u001b[0m\u001b[1;33m.\u001b[0m\u001b[0mmechanics\u001b[0m \u001b[1;32mas\u001b[0m \u001b[0mme\u001b[0m\u001b[1;33m\u001b[0m\u001b[1;33m\u001b[0m\u001b[0m\n\u001b[1;32m----> 3\u001b[1;33m \u001b[1;32mfrom\u001b[0m \u001b[0mpydy\u001b[0m\u001b[1;33m.\u001b[0m\u001b[0msystem\u001b[0m \u001b[1;32mimport\u001b[0m \u001b[0mSystem\u001b[0m\u001b[1;33m\u001b[0m\u001b[1;33m\u001b[0m\u001b[0m\n\u001b[0m\u001b[0;32m      4\u001b[0m \u001b[1;32mimport\u001b[0m \u001b[0mnumpy\u001b[0m \u001b[1;32mas\u001b[0m \u001b[0mnp\u001b[0m\u001b[1;33m\u001b[0m\u001b[1;33m\u001b[0m\u001b[0m\n\u001b[0;32m      5\u001b[0m \u001b[1;32mfrom\u001b[0m \u001b[0msympy\u001b[0m\u001b[1;33m.\u001b[0m\u001b[0msimplify\u001b[0m\u001b[1;33m.\u001b[0m\u001b[0mfu\u001b[0m \u001b[1;32mimport\u001b[0m \u001b[0mTR2\u001b[0m\u001b[1;33m\u001b[0m\u001b[1;33m\u001b[0m\u001b[0m\n",
      "\u001b[1;31mModuleNotFoundError\u001b[0m: No module named 'pydy'"
     ]
    }
   ],
   "source": [
    "import sympy as sm\n",
    "import sympy.physics.mechanics as me\n",
    "from pydy.system import System\n",
    "import numpy as np\n",
    "from sympy.simplify.fu import TR2\n",
    "import matplotlib.pyplot as plt\n",
    "from scipy.integrate import odeint\n",
    "me.init_vprinting()\n",
    "\n",
    "from IPython.display import Latex, display\n",
    "def print_answer(x, x_res):\n",
    "    for xi, xri in zip(x, x_res):\n",
    "        display(Latex(sm.latex(sm.Eq(xi, xri), mode='inline')))"
   ]
  },
  {
   "cell_type": "code",
   "execution_count": null,
   "metadata": {
    "execution": {
     "iopub.execute_input": "2021-03-08T22:37:36.689487Z",
     "iopub.status.busy": "2021-03-08T22:37:36.687609Z",
     "iopub.status.idle": "2021-03-08T22:37:36.712131Z",
     "shell.execute_reply": "2021-03-08T22:37:36.712446Z"
    }
   },
   "outputs": [],
   "source": [
    "N = me.ReferenceFrame('N')\n",
    "\n",
    "q1, q2, q3, q4, q5, q6, q7, q8 = me.dynamicsymbols('q1:9')\n",
    "\n",
    "A2 = N.orientnew('A_2', 'Axis', [q3, N.z])\n",
    "A1 = A2.orientnew('A_1', 'Axis', [q4, A2.z])\n",
    "\n",
    "B1 = A1.orientnew('B_1', 'Axis', [q5, A1.y])\n",
    "B2 = A1.orientnew('B_2', 'Axis', [q6, A1.y])\n",
    "B3 = A2.orientnew('B_3', 'Axis', [q7, A2.y])\n",
    "B4 = A2.orientnew('B_4', 'Axis', [q8, A2.y])\n",
    "\n",
    "t = me.dynamicsymbols._t"
   ]
  },
  {
   "cell_type": "code",
   "execution_count": null,
   "metadata": {
    "execution": {
     "iopub.execute_input": "2021-03-08T22:37:36.716002Z",
     "iopub.status.busy": "2021-03-08T22:37:36.715160Z",
     "iopub.status.idle": "2021-03-08T22:37:36.717211Z",
     "shell.execute_reply": "2021-03-08T22:37:36.716858Z"
    }
   },
   "outputs": [],
   "source": [
    "O = me.Point('O') # fixed point in the inertial reference frame\n",
    "O.set_vel(N, 0)"
   ]
  },
  {
   "cell_type": "code",
   "execution_count": null,
   "metadata": {
    "execution": {
     "iopub.execute_input": "2021-03-08T22:37:36.720838Z",
     "iopub.status.busy": "2021-03-08T22:37:36.719984Z",
     "iopub.status.idle": "2021-03-08T22:37:36.722068Z",
     "shell.execute_reply": "2021-03-08T22:37:36.721719Z"
    }
   },
   "outputs": [],
   "source": [
    "L, l , a, b, r1, r2 = sm.symbols('L, l , a, b, r_1, r_2')"
   ]
  },
  {
   "cell_type": "code",
   "execution_count": null,
   "metadata": {
    "execution": {
     "iopub.execute_input": "2021-03-08T22:37:36.726907Z",
     "iopub.status.busy": "2021-03-08T22:37:36.726201Z",
     "iopub.status.idle": "2021-03-08T22:37:36.727968Z",
     "shell.execute_reply": "2021-03-08T22:37:36.728265Z"
    }
   },
   "outputs": [],
   "source": [
    "Q = O.locatenew('Q', q1 * N.x + q2 * N.y)"
   ]
  },
  {
   "cell_type": "code",
   "execution_count": null,
   "metadata": {
    "execution": {
     "iopub.execute_input": "2021-03-08T22:37:36.732078Z",
     "iopub.status.busy": "2021-03-08T22:37:36.731381Z",
     "iopub.status.idle": "2021-03-08T22:37:36.733478Z",
     "shell.execute_reply": "2021-03-08T22:37:36.733119Z"
    }
   },
   "outputs": [],
   "source": [
    "P = Q.locatenew('P', L * -A2.x)"
   ]
  },
  {
   "cell_type": "code",
   "execution_count": null,
   "metadata": {
    "execution": {
     "iopub.execute_input": "2021-03-08T22:37:36.737270Z",
     "iopub.status.busy": "2021-03-08T22:37:36.736427Z",
     "iopub.status.idle": "2021-03-08T22:37:36.738215Z",
     "shell.execute_reply": "2021-03-08T22:37:36.738514Z"
    }
   },
   "outputs": [],
   "source": [
    "C = P.locatenew('C', l * A2.x)"
   ]
  },
  {
   "cell_type": "code",
   "execution_count": null,
   "metadata": {
    "execution": {
     "iopub.execute_input": "2021-03-08T22:37:36.743376Z",
     "iopub.status.busy": "2021-03-08T22:37:36.742756Z",
     "iopub.status.idle": "2021-03-08T22:37:36.969733Z",
     "shell.execute_reply": "2021-03-08T22:37:36.969386Z"
    }
   },
   "outputs": [],
   "source": [
    "Q.set_vel(N, Q.pos_from(O).dt(N))\n",
    "Q.vel(N)"
   ]
  },
  {
   "cell_type": "code",
   "execution_count": null,
   "metadata": {
    "execution": {
     "iopub.execute_input": "2021-03-08T22:37:36.979021Z",
     "iopub.status.busy": "2021-03-08T22:37:36.978496Z",
     "iopub.status.idle": "2021-03-08T22:37:37.200773Z",
     "shell.execute_reply": "2021-03-08T22:37:37.200405Z"
    }
   },
   "outputs": [],
   "source": [
    "P.v2pt_theory(Q, N, A2)\n",
    "P.vel(N)"
   ]
  },
  {
   "cell_type": "code",
   "execution_count": null,
   "metadata": {
    "execution": {
     "iopub.execute_input": "2021-03-08T22:37:37.210335Z",
     "iopub.status.busy": "2021-03-08T22:37:37.209811Z",
     "iopub.status.idle": "2021-03-08T22:37:37.431649Z",
     "shell.execute_reply": "2021-03-08T22:37:37.431263Z"
    }
   },
   "outputs": [],
   "source": [
    "C.v2pt_theory(P, N, A2)\n",
    "# C.vel(N)"
   ]
  },
  {
   "cell_type": "code",
   "execution_count": null,
   "metadata": {
    "execution": {
     "iopub.execute_input": "2021-03-08T22:37:37.437259Z",
     "iopub.status.busy": "2021-03-08T22:37:37.436659Z",
     "iopub.status.idle": "2021-03-08T22:37:37.658586Z",
     "shell.execute_reply": "2021-03-08T22:37:37.658228Z"
    }
   },
   "outputs": [],
   "source": [
    "A1.ang_vel_in(A2).express(A1)"
   ]
  },
  {
   "cell_type": "code",
   "execution_count": null,
   "metadata": {
    "execution": {
     "iopub.execute_input": "2021-03-08T22:37:37.662931Z",
     "iopub.status.busy": "2021-03-08T22:37:37.662536Z",
     "iopub.status.idle": "2021-03-08T22:37:37.665136Z",
     "shell.execute_reply": "2021-03-08T22:37:37.665440Z"
    }
   },
   "outputs": [],
   "source": [
    "u1, u2 = me.dynamicsymbols('u_1:3')"
   ]
  },
  {
   "cell_type": "code",
   "execution_count": null,
   "metadata": {
    "execution": {
     "iopub.execute_input": "2021-03-08T22:37:37.681666Z",
     "iopub.status.busy": "2021-03-08T22:37:37.681269Z",
     "iopub.status.idle": "2021-03-08T22:37:37.683893Z",
     "shell.execute_reply": "2021-03-08T22:37:37.684196Z"
    }
   },
   "outputs": [],
   "source": [
    "z1 = sm.Eq(u1, A1.ang_vel_in(A2).dot(A1.z))\n",
    "z2 = sm.Eq(u2, Q.vel(N).dot(A1.x))"
   ]
  },
  {
   "cell_type": "code",
   "execution_count": null,
   "metadata": {
    "execution": {
     "iopub.execute_input": "2021-03-08T22:37:37.727047Z",
     "iopub.status.busy": "2021-03-08T22:37:37.701353Z",
     "iopub.status.idle": "2021-03-08T22:37:38.076900Z",
     "shell.execute_reply": "2021-03-08T22:37:38.077227Z"
    }
   },
   "outputs": [],
   "source": [
    "u = sm.trigsimp(sm.solve([z1, z2], A1.ang_vel_in(A2).dot(A1.z), Q.vel(N).dot(A1.x)))\n",
    "u"
   ]
  },
  {
   "cell_type": "code",
   "execution_count": null,
   "metadata": {
    "execution": {
     "iopub.execute_input": "2021-03-08T22:37:38.082525Z",
     "iopub.status.busy": "2021-03-08T22:37:38.082008Z",
     "iopub.status.idle": "2021-03-08T22:37:38.299251Z",
     "shell.execute_reply": "2021-03-08T22:37:38.299764Z"
    }
   },
   "outputs": [],
   "source": [
    "B1_center = Q.locatenew('B_1_center', a * A1.y)\n",
    "B1_center.pos_from(Q)"
   ]
  },
  {
   "cell_type": "code",
   "execution_count": null,
   "metadata": {
    "execution": {
     "iopub.execute_input": "2021-03-08T22:37:38.353307Z",
     "iopub.status.busy": "2021-03-08T22:37:38.338030Z",
     "iopub.status.idle": "2021-03-08T22:37:38.901851Z",
     "shell.execute_reply": "2021-03-08T22:37:38.901454Z"
    }
   },
   "outputs": [],
   "source": [
    "B1_center.v2pt_theory(Q, N, A1)\n",
    "B1_center.vel(N).express(A1).simplify()"
   ]
  },
  {
   "cell_type": "code",
   "execution_count": null,
   "metadata": {
    "execution": {
     "iopub.execute_input": "2021-03-08T22:37:38.907847Z",
     "iopub.status.busy": "2021-03-08T22:37:38.907322Z",
     "iopub.status.idle": "2021-03-08T22:37:39.129212Z",
     "shell.execute_reply": "2021-03-08T22:37:39.128842Z"
    }
   },
   "outputs": [],
   "source": [
    "B1_ground = B1_center.locatenew('B_1_ground', r1 * -A1.z)\n",
    "B1_ground.pos_from(B1_center)"
   ]
  },
  {
   "cell_type": "code",
   "execution_count": null,
   "metadata": {
    "execution": {
     "iopub.execute_input": "2021-03-08T22:37:39.162797Z",
     "iopub.status.busy": "2021-03-08T22:37:39.162213Z",
     "iopub.status.idle": "2021-03-08T22:37:39.387561Z",
     "shell.execute_reply": "2021-03-08T22:37:39.387203Z"
    }
   },
   "outputs": [],
   "source": [
    "B1_ground.v2pt_theory(B1_center, N, B1)\n",
    "B1_ground.vel(N).simplify()"
   ]
  },
  {
   "cell_type": "code",
   "execution_count": null,
   "metadata": {
    "execution": {
     "iopub.execute_input": "2021-03-08T22:37:39.440931Z",
     "iopub.status.busy": "2021-03-08T22:37:39.420468Z",
     "iopub.status.idle": "2021-03-08T22:37:40.420627Z",
     "shell.execute_reply": "2021-03-08T22:37:40.420258Z"
    }
   },
   "outputs": [],
   "source": [
    "B1_cons = [me.dot(B1_ground.vel(N).simplify(), uv) for uv in A1]\n",
    "for i in range(len(B1_cons)):\n",
    "    display(sm.trigsimp(B1_cons[i]))"
   ]
  },
  {
   "cell_type": "code",
   "execution_count": null,
   "metadata": {
    "execution": {
     "iopub.execute_input": "2021-03-08T22:37:40.468918Z",
     "iopub.status.busy": "2021-03-08T22:37:40.458681Z",
     "iopub.status.idle": "2021-03-08T22:37:40.910015Z",
     "shell.execute_reply": "2021-03-08T22:37:40.909645Z"
    }
   },
   "outputs": [],
   "source": [
    "eq1 = sm.Eq(B1_cons[0].simplify().subs(u), 0)\n",
    "eq1"
   ]
  },
  {
   "cell_type": "code",
   "execution_count": null,
   "metadata": {
    "execution": {
     "iopub.execute_input": "2021-03-08T22:37:40.947918Z",
     "iopub.status.busy": "2021-03-08T22:37:40.942826Z",
     "iopub.status.idle": "2021-03-08T22:37:41.269979Z",
     "shell.execute_reply": "2021-03-08T22:37:41.270307Z"
    }
   },
   "outputs": [],
   "source": [
    "eq2 = sm.Eq(B1_cons[1].simplify().subs(u), 0)\n",
    "eq2"
   ]
  },
  {
   "cell_type": "code",
   "execution_count": null,
   "metadata": {
    "execution": {
     "iopub.execute_input": "2021-03-08T22:37:41.275871Z",
     "iopub.status.busy": "2021-03-08T22:37:41.275481Z",
     "iopub.status.idle": "2021-03-08T22:37:41.493452Z",
     "shell.execute_reply": "2021-03-08T22:37:41.493071Z"
    }
   },
   "outputs": [],
   "source": [
    "B2_center = Q.locatenew('B_1_center', a * -A1.y)\n",
    "B2_center.pos_from(Q)"
   ]
  },
  {
   "cell_type": "code",
   "execution_count": null,
   "metadata": {
    "execution": {
     "iopub.execute_input": "2021-03-08T22:37:41.536379Z",
     "iopub.status.busy": "2021-03-08T22:37:41.531280Z",
     "iopub.status.idle": "2021-03-08T22:37:42.049107Z",
     "shell.execute_reply": "2021-03-08T22:37:42.049448Z"
    }
   },
   "outputs": [],
   "source": [
    "B2_center.v2pt_theory(Q, N, A1)\n",
    "B2_center.vel(N).express(A1).simplify()"
   ]
  },
  {
   "cell_type": "code",
   "execution_count": null,
   "metadata": {
    "execution": {
     "iopub.execute_input": "2021-03-08T22:37:42.054590Z",
     "iopub.status.busy": "2021-03-08T22:37:42.054200Z",
     "iopub.status.idle": "2021-03-08T22:37:42.271075Z",
     "shell.execute_reply": "2021-03-08T22:37:42.270682Z"
    }
   },
   "outputs": [],
   "source": [
    "B2_ground = B2_center.locatenew('B_2_ground', r1 * -A1.z)\n",
    "B2_ground.pos_from(B2_center)"
   ]
  },
  {
   "cell_type": "code",
   "execution_count": null,
   "metadata": {
    "execution": {
     "iopub.execute_input": "2021-03-08T22:37:42.303581Z",
     "iopub.status.busy": "2021-03-08T22:37:42.303034Z",
     "iopub.status.idle": "2021-03-08T22:37:42.526786Z",
     "shell.execute_reply": "2021-03-08T22:37:42.527299Z"
    }
   },
   "outputs": [],
   "source": [
    "B2_ground.v2pt_theory(B2_center, N, B2)\n",
    "B2_ground.vel(N).simplify()"
   ]
  },
  {
   "cell_type": "code",
   "execution_count": null,
   "metadata": {
    "execution": {
     "iopub.execute_input": "2021-03-08T22:37:42.585545Z",
     "iopub.status.busy": "2021-03-08T22:37:42.565044Z",
     "iopub.status.idle": "2021-03-08T22:37:43.546880Z",
     "shell.execute_reply": "2021-03-08T22:37:43.546512Z"
    }
   },
   "outputs": [],
   "source": [
    "B2_cons = [me.dot(B2_ground.vel(N).simplify(), uv) for uv in A1]\n",
    "for i in range(len(B2_cons)):\n",
    "    display(sm.trigsimp(B2_cons[i]))"
   ]
  },
  {
   "cell_type": "code",
   "execution_count": null,
   "metadata": {
    "execution": {
     "iopub.execute_input": "2021-03-08T22:37:43.600061Z",
     "iopub.status.busy": "2021-03-08T22:37:43.584775Z",
     "iopub.status.idle": "2021-03-08T22:37:44.025229Z",
     "shell.execute_reply": "2021-03-08T22:37:44.024810Z"
    }
   },
   "outputs": [],
   "source": [
    "eq3 = sm.Eq(B2_cons[0].simplify().subs(u), 0)\n",
    "eq3"
   ]
  },
  {
   "cell_type": "code",
   "execution_count": null,
   "metadata": {
    "execution": {
     "iopub.execute_input": "2021-03-08T22:37:44.073253Z",
     "iopub.status.busy": "2021-03-08T22:37:44.063052Z",
     "iopub.status.idle": "2021-03-08T22:37:44.379992Z",
     "shell.execute_reply": "2021-03-08T22:37:44.380496Z"
    }
   },
   "outputs": [],
   "source": [
    "eq4 = sm.Eq(B2_cons[1].simplify().subs(u), 0)\n",
    "eq4"
   ]
  },
  {
   "cell_type": "code",
   "execution_count": null,
   "metadata": {
    "execution": {
     "iopub.execute_input": "2021-03-08T22:37:44.385927Z",
     "iopub.status.busy": "2021-03-08T22:37:44.385412Z",
     "iopub.status.idle": "2021-03-08T22:37:44.601710Z",
     "shell.execute_reply": "2021-03-08T22:37:44.601321Z"
    }
   },
   "outputs": [],
   "source": [
    "B3_center = P.locatenew('B_3_center', b * A2.y)\n",
    "B3_center.pos_from(P)"
   ]
  },
  {
   "cell_type": "code",
   "execution_count": null,
   "metadata": {
    "execution": {
     "iopub.execute_input": "2021-03-08T22:37:44.649737Z",
     "iopub.status.busy": "2021-03-08T22:37:44.634462Z",
     "iopub.status.idle": "2021-03-08T22:37:44.985732Z",
     "shell.execute_reply": "2021-03-08T22:37:44.985361Z"
    }
   },
   "outputs": [],
   "source": [
    "B3_center.v2pt_theory(P, N, A2)\n",
    "B3_center.vel(N).express(A2).simplify()"
   ]
  },
  {
   "cell_type": "code",
   "execution_count": null,
   "metadata": {
    "execution": {
     "iopub.execute_input": "2021-03-08T22:37:44.991386Z",
     "iopub.status.busy": "2021-03-08T22:37:44.990973Z",
     "iopub.status.idle": "2021-03-08T22:37:45.207405Z",
     "shell.execute_reply": "2021-03-08T22:37:45.207041Z"
    }
   },
   "outputs": [],
   "source": [
    "B3_ground = B3_center.locatenew('B_3_ground', r2 * -A2.z)\n",
    "B3_ground.pos_from(B3_center)"
   ]
  },
  {
   "cell_type": "code",
   "execution_count": null,
   "metadata": {
    "execution": {
     "iopub.execute_input": "2021-03-08T22:37:45.239918Z",
     "iopub.status.busy": "2021-03-08T22:37:45.239380Z",
     "iopub.status.idle": "2021-03-08T22:37:45.462286Z",
     "shell.execute_reply": "2021-03-08T22:37:45.461932Z"
    }
   },
   "outputs": [],
   "source": [
    "B3_ground.v2pt_theory(B3_center, N, B3)\n",
    "B3_ground.vel(N).simplify()"
   ]
  },
  {
   "cell_type": "code",
   "execution_count": null,
   "metadata": {
    "execution": {
     "iopub.execute_input": "2021-03-08T22:37:45.515553Z",
     "iopub.status.busy": "2021-03-08T22:37:45.500202Z",
     "iopub.status.idle": "2021-03-08T22:37:46.285979Z",
     "shell.execute_reply": "2021-03-08T22:37:46.286715Z"
    }
   },
   "outputs": [],
   "source": [
    "B3_cons = [me.dot(B3_ground.vel(N).simplify(), uv) for uv in A2]\n",
    "for i in range(len(B3_cons)):\n",
    "    display(sm.trigsimp(B3_cons[i]))"
   ]
  },
  {
   "cell_type": "code",
   "execution_count": null,
   "metadata": {
    "execution": {
     "iopub.execute_input": "2021-03-08T22:37:46.324692Z",
     "iopub.status.busy": "2021-03-08T22:37:46.314480Z",
     "iopub.status.idle": "2021-03-08T22:37:46.623619Z",
     "shell.execute_reply": "2021-03-08T22:37:46.623249Z"
    }
   },
   "outputs": [],
   "source": [
    "eq5 = sm.Eq(B3_cons[0].simplify().subs(u), 0)\n",
    "eq5"
   ]
  },
  {
   "cell_type": "code",
   "execution_count": null,
   "metadata": {
    "execution": {
     "iopub.execute_input": "2021-03-08T22:37:46.671592Z",
     "iopub.status.busy": "2021-03-08T22:37:46.661409Z",
     "iopub.status.idle": "2021-03-08T22:37:46.914536Z",
     "shell.execute_reply": "2021-03-08T22:37:46.914173Z"
    }
   },
   "outputs": [],
   "source": [
    "eq6 = sm.Eq(B3_cons[1].simplify().subs(u), 0)\n",
    "eq6"
   ]
  },
  {
   "cell_type": "code",
   "execution_count": null,
   "metadata": {
    "execution": {
     "iopub.execute_input": "2021-03-08T22:37:46.920142Z",
     "iopub.status.busy": "2021-03-08T22:37:46.919614Z",
     "iopub.status.idle": "2021-03-08T22:37:47.138419Z",
     "shell.execute_reply": "2021-03-08T22:37:47.138039Z"
    }
   },
   "outputs": [],
   "source": [
    "B4_center = P.locatenew('B_4_center', b * -A2.y)\n",
    "B4_center.pos_from(P)"
   ]
  },
  {
   "cell_type": "code",
   "execution_count": null,
   "metadata": {
    "execution": {
     "iopub.execute_input": "2021-03-08T22:37:47.196641Z",
     "iopub.status.busy": "2021-03-08T22:37:47.176244Z",
     "iopub.status.idle": "2021-03-08T22:37:47.500108Z",
     "shell.execute_reply": "2021-03-08T22:37:47.499739Z"
    }
   },
   "outputs": [],
   "source": [
    "B4_center.v2pt_theory(P, N, A2)\n",
    "B4_center.vel(N).express(A2).simplify()"
   ]
  },
  {
   "cell_type": "code",
   "execution_count": null,
   "metadata": {
    "execution": {
     "iopub.execute_input": "2021-03-08T22:37:47.505498Z",
     "iopub.status.busy": "2021-03-08T22:37:47.505097Z",
     "iopub.status.idle": "2021-03-08T22:37:47.723538Z",
     "shell.execute_reply": "2021-03-08T22:37:47.724037Z"
    }
   },
   "outputs": [],
   "source": [
    "B4_ground = B4_center.locatenew('B_4_ground', r2 * -A2.z)\n",
    "B4_ground.pos_from(B4_center)"
   ]
  },
  {
   "cell_type": "code",
   "execution_count": null,
   "metadata": {
    "execution": {
     "iopub.execute_input": "2021-03-08T22:37:47.753855Z",
     "iopub.status.busy": "2021-03-08T22:37:47.751842Z",
     "iopub.status.idle": "2021-03-08T22:37:47.975970Z",
     "shell.execute_reply": "2021-03-08T22:37:47.975603Z"
    }
   },
   "outputs": [],
   "source": [
    "B4_ground.v2pt_theory(B4_center, N, B4)\n",
    "B4_ground.vel(N).simplify()"
   ]
  },
  {
   "cell_type": "code",
   "execution_count": null,
   "metadata": {
    "execution": {
     "iopub.execute_input": "2021-03-08T22:37:48.029116Z",
     "iopub.status.busy": "2021-03-08T22:37:48.008704Z",
     "iopub.status.idle": "2021-03-08T22:37:48.799773Z",
     "shell.execute_reply": "2021-03-08T22:37:48.799407Z"
    }
   },
   "outputs": [],
   "source": [
    "B4_cons = [me.dot(B4_ground.vel(N).simplify(), uv) for uv in A2]\n",
    "for i in range(len(B4_cons)):\n",
    "    display(sm.trigsimp(B4_cons[i]))"
   ]
  },
  {
   "cell_type": "code",
   "execution_count": null,
   "metadata": {
    "execution": {
     "iopub.execute_input": "2021-03-08T22:37:48.847821Z",
     "iopub.status.busy": "2021-03-08T22:37:48.837619Z",
     "iopub.status.idle": "2021-03-08T22:37:49.137888Z",
     "shell.execute_reply": "2021-03-08T22:37:49.138445Z"
    }
   },
   "outputs": [],
   "source": [
    "eq7 = sm.Eq(B4_cons[0].simplify().subs(u), 0)\n",
    "eq7"
   ]
  },
  {
   "cell_type": "code",
   "execution_count": null,
   "metadata": {
    "execution": {
     "iopub.execute_input": "2021-03-08T22:37:49.186689Z",
     "iopub.status.busy": "2021-03-08T22:37:49.166307Z",
     "iopub.status.idle": "2021-03-08T22:37:49.429780Z",
     "shell.execute_reply": "2021-03-08T22:37:49.429419Z"
    }
   },
   "outputs": [],
   "source": [
    "eq8 = sm.Eq(B4_cons[1].simplify().subs(u), 0)\n",
    "eq8"
   ]
  },
  {
   "cell_type": "code",
   "execution_count": null,
   "metadata": {
    "execution": {
     "iopub.execute_input": "2021-03-08T22:37:49.437465Z",
     "iopub.status.busy": "2021-03-08T22:37:49.436801Z",
     "iopub.status.idle": "2021-03-08T22:37:49.654817Z",
     "shell.execute_reply": "2021-03-08T22:37:49.654448Z"
    }
   },
   "outputs": [],
   "source": [
    "eq9 = sm.Eq(A1.ang_vel_in(A2).dot(A1.z), u1)\n",
    "eq9"
   ]
  },
  {
   "cell_type": "code",
   "execution_count": null,
   "metadata": {
    "execution": {
     "iopub.execute_input": "2021-03-08T22:37:49.667558Z",
     "iopub.status.busy": "2021-03-08T22:37:49.667027Z",
     "iopub.status.idle": "2021-03-08T22:37:49.888750Z",
     "shell.execute_reply": "2021-03-08T22:37:49.888393Z"
    }
   },
   "outputs": [],
   "source": [
    "eq10 = sm.Eq(Q.vel(N).dot(A1.x), u2)\n",
    "eq10"
   ]
  },
  {
   "cell_type": "code",
   "execution_count": null,
   "metadata": {
    "execution": {
     "iopub.execute_input": "2021-03-08T22:37:49.931743Z",
     "iopub.status.busy": "2021-03-08T22:37:49.916425Z",
     "iopub.status.idle": "2021-03-08T22:37:51.251447Z",
     "shell.execute_reply": "2021-03-08T22:37:51.251053Z"
    }
   },
   "outputs": [],
   "source": [
    "solution = sm.linsolve([eq1, eq2, eq3, eq5, eq6, eq7, eq9, eq10], q1.diff(), q2.diff(), q3.diff(),  q4.diff(), q5.diff(), q6.diff(), q7.diff(), q8.diff())"
   ]
  },
  {
   "cell_type": "code",
   "execution_count": null,
   "metadata": {
    "execution": {
     "iopub.execute_input": "2021-03-08T22:37:51.261839Z",
     "iopub.status.busy": "2021-03-08T22:37:51.258530Z",
     "iopub.status.idle": "2021-03-08T22:37:51.481590Z",
     "shell.execute_reply": "2021-03-08T22:37:51.480936Z"
    }
   },
   "outputs": [],
   "source": [
    "sollist_keys = [q1.diff(), q2.diff(), q3.diff(),  q4.diff(), q5.diff(), q6.diff(), q7.diff(), q8.diff()]\n",
    "sollist_keys"
   ]
  },
  {
   "cell_type": "code",
   "execution_count": null,
   "metadata": {
    "execution": {
     "iopub.execute_input": "2021-03-08T22:37:51.485169Z",
     "iopub.status.busy": "2021-03-08T22:37:51.484709Z",
     "iopub.status.idle": "2021-03-08T22:37:51.487694Z",
     "shell.execute_reply": "2021-03-08T22:37:51.487336Z"
    }
   },
   "outputs": [],
   "source": [
    "sollist_values = list(solution.args[0])"
   ]
  },
  {
   "cell_type": "code",
   "execution_count": null,
   "metadata": {
    "execution": {
     "iopub.execute_input": "2021-03-08T22:37:51.524974Z",
     "iopub.status.busy": "2021-03-08T22:37:51.504734Z",
     "iopub.status.idle": "2021-03-08T22:37:55.690250Z",
     "shell.execute_reply": "2021-03-08T22:37:55.689864Z"
    }
   },
   "outputs": [],
   "source": [
    "sollist_values_simple = []\n",
    "for i in range(len(sollist_values)):\n",
    "    sollist_values_simple.append(sm.factor(TR2(sollist_values[i]).simplify()))"
   ]
  },
  {
   "cell_type": "code",
   "execution_count": null,
   "metadata": {
    "execution": {
     "iopub.execute_input": "2021-03-08T22:37:55.697918Z",
     "iopub.status.busy": "2021-03-08T22:37:55.697441Z",
     "iopub.status.idle": "2021-03-08T22:37:55.736468Z",
     "shell.execute_reply": "2021-03-08T22:37:55.736773Z"
    }
   },
   "outputs": [],
   "source": [
    "soldict = dict(zip(sollist_keys, sollist_values_simple))\n",
    "print_answer(sollist_keys, sollist_values_simple)"
   ]
  },
  {
   "cell_type": "code",
   "execution_count": null,
   "metadata": {
    "execution": {
     "iopub.execute_input": "2021-03-08T22:37:55.769316Z",
     "iopub.status.busy": "2021-03-08T22:37:55.754031Z",
     "iopub.status.idle": "2021-03-08T22:37:56.275743Z",
     "shell.execute_reply": "2021-03-08T22:37:56.275393Z"
    }
   },
   "outputs": [],
   "source": [
    "N_v_Q = Q.vel(N).subs(soldict).express(A1).simplify()\n",
    "N_v_Q"
   ]
  },
  {
   "cell_type": "code",
   "execution_count": null,
   "metadata": {
    "execution": {
     "iopub.execute_input": "2021-03-08T22:37:56.309335Z",
     "iopub.status.busy": "2021-03-08T22:37:56.308636Z",
     "iopub.status.idle": "2021-03-08T22:37:56.695118Z",
     "shell.execute_reply": "2021-03-08T22:37:56.694763Z"
    }
   },
   "outputs": [],
   "source": [
    "N_v_P = P.vel(N).subs(soldict).express(A2).simplify()\n",
    "N_v_P"
   ]
  },
  {
   "cell_type": "code",
   "execution_count": null,
   "metadata": {
    "execution": {
     "iopub.execute_input": "2021-03-08T22:37:56.738059Z",
     "iopub.status.busy": "2021-03-08T22:37:56.727843Z",
     "iopub.status.idle": "2021-03-08T22:37:57.114548Z",
     "shell.execute_reply": "2021-03-08T22:37:57.114189Z"
    }
   },
   "outputs": [],
   "source": [
    "N_v_C = C.vel(N).subs(soldict).express(A2).simplify()\n",
    "N_v_C"
   ]
  },
  {
   "cell_type": "code",
   "execution_count": null,
   "metadata": {
    "execution": {
     "iopub.execute_input": "2021-03-08T22:37:57.167619Z",
     "iopub.status.busy": "2021-03-08T22:37:57.152295Z",
     "iopub.status.idle": "2021-03-08T22:37:57.399348Z",
     "shell.execute_reply": "2021-03-08T22:37:57.399821Z"
    }
   },
   "outputs": [],
   "source": [
    "N_w_A1 = A1.ang_vel_in(N).subs(soldict).express(A1).simplify()\n",
    "N_w_A1"
   ]
  },
  {
   "cell_type": "code",
   "execution_count": null,
   "metadata": {
    "execution": {
     "iopub.execute_input": "2021-03-08T22:37:57.418078Z",
     "iopub.status.busy": "2021-03-08T22:37:57.417679Z",
     "iopub.status.idle": "2021-03-08T22:37:57.636615Z",
     "shell.execute_reply": "2021-03-08T22:37:57.637204Z"
    }
   },
   "outputs": [],
   "source": [
    "N_w_A2 = A2.ang_vel_in(N).subs(soldict).express(A2).simplify()\n",
    "N_w_A2"
   ]
  },
  {
   "cell_type": "code",
   "execution_count": null,
   "metadata": {
    "execution": {
     "iopub.execute_input": "2021-03-08T22:37:57.642598Z",
     "iopub.status.busy": "2021-03-08T22:37:57.642200Z",
     "iopub.status.idle": "2021-03-08T22:37:57.859016Z",
     "shell.execute_reply": "2021-03-08T22:37:57.859532Z"
    }
   },
   "outputs": [],
   "source": [
    "V_1_Q = N_v_Q.diff(u1, N)\n",
    "V_1_Q"
   ]
  },
  {
   "cell_type": "code",
   "execution_count": null,
   "metadata": {
    "execution": {
     "iopub.execute_input": "2021-03-08T22:37:57.867422Z",
     "iopub.status.busy": "2021-03-08T22:37:57.866901Z",
     "iopub.status.idle": "2021-03-08T22:37:58.083222Z",
     "shell.execute_reply": "2021-03-08T22:37:58.082870Z"
    }
   },
   "outputs": [],
   "source": [
    "V_2_Q = N_v_Q.diff(u2, N)\n",
    "V_2_Q"
   ]
  },
  {
   "cell_type": "code",
   "execution_count": null,
   "metadata": {
    "execution": {
     "iopub.execute_input": "2021-03-08T22:37:58.088561Z",
     "iopub.status.busy": "2021-03-08T22:37:58.088043Z",
     "iopub.status.idle": "2021-03-08T22:37:58.301953Z",
     "shell.execute_reply": "2021-03-08T22:37:58.301586Z"
    }
   },
   "outputs": [],
   "source": [
    "V_1_C = N_v_C.diff(u1, N)\n",
    "V_1_C"
   ]
  },
  {
   "cell_type": "code",
   "execution_count": null,
   "metadata": {
    "execution": {
     "iopub.execute_input": "2021-03-08T22:37:58.312885Z",
     "iopub.status.busy": "2021-03-08T22:37:58.312320Z",
     "iopub.status.idle": "2021-03-08T22:37:58.532620Z",
     "shell.execute_reply": "2021-03-08T22:37:58.533155Z"
    }
   },
   "outputs": [],
   "source": [
    "V_2_C = N_v_C.diff(u2, N)\n",
    "V_2_C"
   ]
  },
  {
   "cell_type": "code",
   "execution_count": null,
   "metadata": {
    "execution": {
     "iopub.execute_input": "2021-03-08T22:37:58.538159Z",
     "iopub.status.busy": "2021-03-08T22:37:58.537756Z",
     "iopub.status.idle": "2021-03-08T22:37:58.751143Z",
     "shell.execute_reply": "2021-03-08T22:37:58.750762Z"
    }
   },
   "outputs": [],
   "source": [
    "V_1_P = N_v_P.diff(u1, N)\n",
    "V_1_P"
   ]
  },
  {
   "cell_type": "code",
   "execution_count": null,
   "metadata": {
    "execution": {
     "iopub.execute_input": "2021-03-08T22:37:58.759162Z",
     "iopub.status.busy": "2021-03-08T22:37:58.758737Z",
     "iopub.status.idle": "2021-03-08T22:37:58.977250Z",
     "shell.execute_reply": "2021-03-08T22:37:58.976886Z"
    }
   },
   "outputs": [],
   "source": [
    "V_2_P = N_v_P.diff(u2, N)\n",
    "V_2_P"
   ]
  },
  {
   "cell_type": "code",
   "execution_count": null,
   "metadata": {
    "execution": {
     "iopub.execute_input": "2021-03-08T22:37:58.985129Z",
     "iopub.status.busy": "2021-03-08T22:37:58.984561Z",
     "iopub.status.idle": "2021-03-08T22:37:59.203385Z",
     "shell.execute_reply": "2021-03-08T22:37:59.203008Z"
    }
   },
   "outputs": [],
   "source": [
    "w_1_A1 = N_w_A1.diff(u1, N)\n",
    "w_1_A1"
   ]
  },
  {
   "cell_type": "code",
   "execution_count": null,
   "metadata": {
    "execution": {
     "iopub.execute_input": "2021-03-08T22:37:59.213474Z",
     "iopub.status.busy": "2021-03-08T22:37:59.212801Z",
     "iopub.status.idle": "2021-03-08T22:37:59.430802Z",
     "shell.execute_reply": "2021-03-08T22:37:59.430435Z"
    }
   },
   "outputs": [],
   "source": [
    "w_2_A1 = N_w_A1.diff(u2, N)\n",
    "w_2_A1"
   ]
  },
  {
   "cell_type": "code",
   "execution_count": null,
   "metadata": {
    "execution": {
     "iopub.execute_input": "2021-03-08T22:37:59.436126Z",
     "iopub.status.busy": "2021-03-08T22:37:59.435599Z",
     "iopub.status.idle": "2021-03-08T22:37:59.648903Z",
     "shell.execute_reply": "2021-03-08T22:37:59.648497Z"
    }
   },
   "outputs": [],
   "source": [
    "w_1_A2 = N_w_A2.diff(u1, N)\n",
    "w_1_A2"
   ]
  },
  {
   "cell_type": "code",
   "execution_count": null,
   "metadata": {
    "execution": {
     "iopub.execute_input": "2021-03-08T22:37:59.657810Z",
     "iopub.status.busy": "2021-03-08T22:37:59.657288Z",
     "iopub.status.idle": "2021-03-08T22:37:59.873758Z",
     "shell.execute_reply": "2021-03-08T22:37:59.874071Z"
    }
   },
   "outputs": [],
   "source": [
    "w_2_A2 = N_w_A2.diff(u2, N)\n",
    "w_2_A2"
   ]
  },
  {
   "cell_type": "code",
   "execution_count": null,
   "metadata": {
    "execution": {
     "iopub.execute_input": "2021-03-08T22:37:59.878198Z",
     "iopub.status.busy": "2021-03-08T22:37:59.877801Z",
     "iopub.status.idle": "2021-03-08T22:37:59.880381Z",
     "shell.execute_reply": "2021-03-08T22:37:59.880688Z"
    }
   },
   "outputs": [],
   "source": [
    "a_1__P, a_2__P, a_3__P, a_1__C, a_2__C, a_3__C, a__Q, alpha__A1, alpha__A2 = sm.symbols('a_1__P, a_2__P, a_3__P, a_1__C, a_2__C, a_3__C, a__Q, alpha__A1, alpha__A2')"
   ]
  },
  {
   "cell_type": "code",
   "execution_count": null,
   "metadata": {
    "execution": {
     "iopub.execute_input": "2021-03-08T22:37:59.904501Z",
     "iopub.status.busy": "2021-03-08T22:37:59.903035Z",
     "iopub.status.idle": "2021-03-08T22:38:00.127066Z",
     "shell.execute_reply": "2021-03-08T22:38:00.126706Z"
    }
   },
   "outputs": [],
   "source": [
    "N_a_P = N_v_P.dt(N).subs(soldict)\n",
    "N_a_P"
   ]
  },
  {
   "cell_type": "code",
   "execution_count": null,
   "metadata": {
    "execution": {
     "iopub.execute_input": "2021-03-08T22:38:00.158040Z",
     "iopub.status.busy": "2021-03-08T22:38:00.157477Z",
     "iopub.status.idle": "2021-03-08T22:38:00.383373Z",
     "shell.execute_reply": "2021-03-08T22:38:00.383019Z"
    }
   },
   "outputs": [],
   "source": [
    "N_a_C = N_v_C.dt(N).subs(soldict)\n",
    "N_a_C"
   ]
  },
  {
   "cell_type": "code",
   "execution_count": null,
   "metadata": {
    "execution": {
     "iopub.execute_input": "2021-03-08T22:38:00.399328Z",
     "iopub.status.busy": "2021-03-08T22:38:00.398789Z",
     "iopub.status.idle": "2021-03-08T22:38:00.622010Z",
     "shell.execute_reply": "2021-03-08T22:38:00.621643Z"
    }
   },
   "outputs": [],
   "source": [
    "N_a_Q = N_v_Q.dt(N).subs(soldict)\n",
    "N_a_Q"
   ]
  },
  {
   "cell_type": "code",
   "execution_count": null,
   "metadata": {
    "execution": {
     "iopub.execute_input": "2021-03-08T22:38:00.645139Z",
     "iopub.status.busy": "2021-03-08T22:38:00.644569Z",
     "iopub.status.idle": "2021-03-08T22:38:00.867264Z",
     "shell.execute_reply": "2021-03-08T22:38:00.866909Z"
    }
   },
   "outputs": [],
   "source": [
    "N_aa_A1 = N_w_A1.dt(N).subs(soldict)\n",
    "N_aa_A1"
   ]
  },
  {
   "cell_type": "code",
   "execution_count": null,
   "metadata": {
    "execution": {
     "iopub.execute_input": "2021-03-08T22:38:00.880684Z",
     "iopub.status.busy": "2021-03-08T22:38:00.880166Z",
     "iopub.status.idle": "2021-03-08T22:38:01.104394Z",
     "shell.execute_reply": "2021-03-08T22:38:01.103847Z"
    }
   },
   "outputs": [],
   "source": [
    "N_aa_A2 = N_w_A2.dt(N).subs(soldict)\n",
    "N_aa_A2"
   ]
  },
  {
   "cell_type": "code",
   "execution_count": null,
   "metadata": {
    "execution": {
     "iopub.execute_input": "2021-03-08T22:38:01.110281Z",
     "iopub.status.busy": "2021-03-08T22:38:01.109880Z",
     "iopub.status.idle": "2021-03-08T22:38:01.112539Z",
     "shell.execute_reply": "2021-03-08T22:38:01.113146Z"
    }
   },
   "outputs": [],
   "source": [
    "M1, M2 = sm.symbols('M_1, M_2')\n",
    "m = me.dynamicsymbols('m')"
   ]
  },
  {
   "cell_type": "code",
   "execution_count": null,
   "metadata": {
    "execution": {
     "iopub.execute_input": "2021-03-08T22:38:01.116628Z",
     "iopub.status.busy": "2021-03-08T22:38:01.116227Z",
     "iopub.status.idle": "2021-03-08T22:38:01.118835Z",
     "shell.execute_reply": "2021-03-08T22:38:01.119159Z"
    }
   },
   "outputs": [],
   "source": [
    "I1x, I1y, I1z = sm.symbols('I_{1_x}, I_{1_y}, I_{1_z}')\n",
    "I2x, I2y, I2z = sm.symbols('I_{2_x}, I_{2_y}, I_{2_z}')\n",
    "J1, J2 = sm.symbols('J_1, J_2')"
   ]
  },
  {
   "cell_type": "code",
   "execution_count": null,
   "metadata": {
    "execution": {
     "iopub.execute_input": "2021-03-08T22:38:01.124575Z",
     "iopub.status.busy": "2021-03-08T22:38:01.124055Z",
     "iopub.status.idle": "2021-03-08T22:38:01.348679Z",
     "shell.execute_reply": "2021-03-08T22:38:01.349193Z"
    }
   },
   "outputs": [],
   "source": [
    "I1 = me.inertia(A1, I1x, I1y, I1z)\n",
    "I1"
   ]
  },
  {
   "cell_type": "code",
   "execution_count": null,
   "metadata": {
    "execution": {
     "iopub.execute_input": "2021-03-08T22:38:01.355812Z",
     "iopub.status.busy": "2021-03-08T22:38:01.355299Z",
     "iopub.status.idle": "2021-03-08T22:38:01.575388Z",
     "shell.execute_reply": "2021-03-08T22:38:01.575033Z"
    }
   },
   "outputs": [],
   "source": [
    "I2 = me.inertia(A2, I2x, I2y, I2z)\n",
    "I2"
   ]
  },
  {
   "cell_type": "code",
   "execution_count": null,
   "metadata": {
    "execution": {
     "iopub.execute_input": "2021-03-08T22:38:01.584453Z",
     "iopub.status.busy": "2021-03-08T22:38:01.583922Z",
     "iopub.status.idle": "2021-03-08T22:38:01.812204Z",
     "shell.execute_reply": "2021-03-08T22:38:01.811834Z"
    }
   },
   "outputs": [],
   "source": [
    "Fstar_G1 = -M1 * N_a_Q\n",
    "Fstar_G1"
   ]
  },
  {
   "cell_type": "code",
   "execution_count": null,
   "metadata": {
    "execution": {
     "iopub.execute_input": "2021-03-08T22:38:01.826586Z",
     "iopub.status.busy": "2021-03-08T22:38:01.826019Z",
     "iopub.status.idle": "2021-03-08T22:38:02.057703Z",
     "shell.execute_reply": "2021-03-08T22:38:02.057332Z"
    }
   },
   "outputs": [],
   "source": [
    "Tstar_G1 = -(N_aa_A1.dot(I1) + me.cross(N_w_A1, I1.dot(N_w_A1)))\n",
    "Tstar_G1"
   ]
  },
  {
   "cell_type": "code",
   "execution_count": null,
   "metadata": {
    "execution": {
     "iopub.execute_input": "2021-03-08T22:38:02.074447Z",
     "iopub.status.busy": "2021-03-08T22:38:02.073892Z",
     "iopub.status.idle": "2021-03-08T22:38:02.294309Z",
     "shell.execute_reply": "2021-03-08T22:38:02.293954Z"
    }
   },
   "outputs": [],
   "source": [
    "Fstar_1_G1_R = V_1_Q.dot(Fstar_G1) + w_1_A1.dot(Tstar_G1).subs(soldict)\n",
    "Fstar_1_G1_R.subs({N_w_A1.dt(N).subs(soldict).dot(A1.z): alpha__A1})"
   ]
  },
  {
   "cell_type": "code",
   "execution_count": null,
   "metadata": {
    "execution": {
     "iopub.execute_input": "2021-03-08T22:38:02.313688Z",
     "iopub.status.busy": "2021-03-08T22:38:02.313154Z",
     "iopub.status.idle": "2021-03-08T22:38:02.536311Z",
     "shell.execute_reply": "2021-03-08T22:38:02.535950Z"
    }
   },
   "outputs": [],
   "source": [
    "Fstar_2_G1_R = V_2_Q.dot(Fstar_G1) + w_2_A1.dot(Tstar_G1).subs(soldict)\n",
    "Fstar_2_G1_R.subs({N_w_A1.dt(N).subs(soldict).dot(A1.z): alpha__A1})"
   ]
  },
  {
   "cell_type": "code",
   "execution_count": null,
   "metadata": {
    "execution": {
     "iopub.execute_input": "2021-03-08T22:38:02.568850Z",
     "iopub.status.busy": "2021-03-08T22:38:02.558608Z",
     "iopub.status.idle": "2021-03-08T22:38:02.823895Z",
     "shell.execute_reply": "2021-03-08T22:38:02.823540Z"
    }
   },
   "outputs": [],
   "source": [
    "# C_kr\n",
    "C51, C61 = sm.symbols('C_51, C_61')\n",
    "C_51 = soldict[q5.diff()].diff(u1)\n",
    "C_61 = soldict[q6.diff()].diff(u1)\n",
    "Fstar_1_G1_I = -J1 * (N_w_A1.dot(q5.diff().diff() * A1.y + q5.diff()*(N_w_A1.dot(A1.x)*A1.z - N_w_A1.dot(A1.z)*A1.x)) + C_51 * (N_w_A1.dot(A1.y).diff() + q5.diff().diff())) \\\n",
    "               -J1 * (N_w_A1.dot(q6.diff().diff() * A1.y + q6.diff()*(N_w_A1.dot(A1.x)*A1.z - N_w_A1.dot(A1.z)*A1.x)) + C_61 * (N_w_A1.dot(A1.y).diff() + q6.diff().diff()))   # B1 \\ B2\n",
    "\n",
    "Fstar_1_G1_I, C_51, C_61, Fstar_1_G1_I.subs({-C_51: -C51, -C_61: -C61}).simplify()"
   ]
  },
  {
   "cell_type": "code",
   "execution_count": null,
   "metadata": {
    "execution": {
     "iopub.execute_input": "2021-03-08T22:38:02.855096Z",
     "iopub.status.busy": "2021-03-08T22:38:02.851629Z",
     "iopub.status.idle": "2021-03-08T22:38:03.773134Z",
     "shell.execute_reply": "2021-03-08T22:38:03.773579Z"
    }
   },
   "outputs": [],
   "source": [
    "# C_kr\n",
    "C52, C62 = sm.symbols('C_52, C_62')\n",
    "C_52 = soldict[q5.diff()].diff(u2)\n",
    "C_62 = soldict[q6.diff()].diff(u2)\n",
    "Fstar_2_G1_I = -J1 * (N_w_A1.dot(q5.diff().diff() * A1.y + q5.diff()*(N_w_A1.dot(A1.x)*A1.z - N_w_A1.dot(A1.z)*A1.x)) + C_52 * (N_w_A1.dot(A1.y).diff() + q5.diff().diff())) \\\n",
    "               -J1 * (N_w_A1.dot(q6.diff().diff() * A1.y + q6.diff()*(N_w_A1.dot(A1.x)*A1.z - N_w_A1.dot(A1.z)*A1.x)) + C_62 * (N_w_A1.dot(A1.y).diff() + q6.diff().diff()))   # B1 \\ B2\n",
    "\n",
    "display(Fstar_2_G1_I),\n",
    "display(C_52)\n",
    "display(C_62)\n",
    "display(Fstar_2_G1_I.subs({-C_52: -C52, -C_62: -C62}).simplify())"
   ]
  },
  {
   "cell_type": "code",
   "execution_count": null,
   "metadata": {
    "execution": {
     "iopub.execute_input": "2021-03-08T22:38:03.809341Z",
     "iopub.status.busy": "2021-03-08T22:38:03.806426Z",
     "iopub.status.idle": "2021-03-08T22:38:04.029960Z",
     "shell.execute_reply": "2021-03-08T22:38:04.029592Z"
    }
   },
   "outputs": [],
   "source": [
    "Fstar_1_G1 = Fstar_1_G1_R + Fstar_1_G1_I\n",
    "Fstar_1_G1.subs({N_w_A1.dt(N).subs(soldict).dot(A1.z): alpha__A1}).subs({-C_51: -C51, -C_61: -C61}).simplify()"
   ]
  },
  {
   "cell_type": "code",
   "execution_count": null,
   "metadata": {
    "execution": {
     "iopub.execute_input": "2021-03-08T22:38:04.088885Z",
     "iopub.status.busy": "2021-03-08T22:38:04.067830Z",
     "iopub.status.idle": "2021-03-08T22:38:04.723232Z",
     "shell.execute_reply": "2021-03-08T22:38:04.722866Z"
    }
   },
   "outputs": [],
   "source": [
    "Fstar_2_G1 = Fstar_2_G1_R + Fstar_2_G1_I\n",
    "Fstar_2_G1.subs({N_w_A1.dt(N).subs(soldict).dot(A1.z): alpha__A1}).subs({-C_52: -C52, -C_62: -C62}).simplify()"
   ]
  },
  {
   "cell_type": "code",
   "execution_count": null,
   "metadata": {
    "execution": {
     "iopub.execute_input": "2021-03-08T22:38:04.740063Z",
     "iopub.status.busy": "2021-03-08T22:38:04.739529Z",
     "iopub.status.idle": "2021-03-08T22:38:04.970127Z",
     "shell.execute_reply": "2021-03-08T22:38:04.969775Z"
    }
   },
   "outputs": [],
   "source": [
    "Fstar_G2 = -M2 * N_a_C\n",
    "Fstar_G2"
   ]
  },
  {
   "cell_type": "code",
   "execution_count": null,
   "metadata": {
    "execution": {
     "iopub.execute_input": "2021-03-08T22:38:04.983172Z",
     "iopub.status.busy": "2021-03-08T22:38:04.982639Z",
     "iopub.status.idle": "2021-03-08T22:38:05.208172Z",
     "shell.execute_reply": "2021-03-08T22:38:05.207822Z"
    }
   },
   "outputs": [],
   "source": [
    "Tstar_G2 = -(N_aa_A2.dot(I2) + me.cross(N_w_A2, I2.dot(N_w_A2)))\n",
    "Tstar_G2"
   ]
  },
  {
   "cell_type": "code",
   "execution_count": null,
   "metadata": {
    "execution": {
     "iopub.execute_input": "2021-03-08T22:38:05.219263Z",
     "iopub.status.busy": "2021-03-08T22:38:05.218741Z",
     "iopub.status.idle": "2021-03-08T22:38:05.433920Z",
     "shell.execute_reply": "2021-03-08T22:38:05.433562Z"
    }
   },
   "outputs": [],
   "source": [
    "Fstar_1_G2_R = V_1_C.dot(Fstar_G2) + w_1_A2.dot(Tstar_G2).subs(soldict)\n",
    "Fstar_1_G2_R.subs({N_w_A2.dt(N).subs(soldict).dot(A2.z): alpha__A2})"
   ]
  },
  {
   "cell_type": "code",
   "execution_count": null,
   "metadata": {
    "execution": {
     "iopub.execute_input": "2021-03-08T22:38:05.464493Z",
     "iopub.status.busy": "2021-03-08T22:38:05.463970Z",
     "iopub.status.idle": "2021-03-08T22:38:05.692963Z",
     "shell.execute_reply": "2021-03-08T22:38:05.692548Z"
    }
   },
   "outputs": [],
   "source": [
    "Fstar_2_G2_R = V_2_C.dot(Fstar_G2) + w_2_A1.dot(Tstar_G2).subs(soldict)\n",
    "Fstar_2_G2_R.subs({N_w_A2.dt(N).subs(soldict).dot(A2.z): alpha__A2})"
   ]
  },
  {
   "cell_type": "code",
   "execution_count": null,
   "metadata": {
    "execution": {
     "iopub.execute_input": "2021-03-08T22:38:05.710470Z",
     "iopub.status.busy": "2021-03-08T22:38:05.709933Z",
     "iopub.status.idle": "2021-03-08T22:38:05.927807Z",
     "shell.execute_reply": "2021-03-08T22:38:05.927458Z"
    }
   },
   "outputs": [],
   "source": [
    "# C_kr\n",
    "C71, C81 = sm.symbols('C_71, C_81')\n",
    "C_71 = soldict[q7.diff()].diff(u1)\n",
    "C_81 = soldict[q8.diff()].diff(u1)\n",
    "Fstar_1_G2_I = -J2 * (N_w_A2.dot(q7.diff().diff() * A2.y + q7.diff()*(N_w_A2.dot(A2.x)*A2.z - N_w_A2.dot(A2.z)*A2.x)) + C_71 * (N_w_A2.dot(A2.y).diff() + q7.diff().diff())) \\\n",
    "               -J2 * (N_w_A2.dot(q8.diff().diff() * A2.y + q8.diff()*(N_w_A2.dot(A2.x)*A2.z - N_w_A2.dot(A2.z)*A2.x)) + C_81 * (N_w_A2.dot(A2.y).diff() + q8.diff().diff()))   # B1 \\ B2\n",
    "\n",
    "Fstar_1_G2_I, C_71, C_81, # Fstar_1_G2_I.subs({-C_71: -C71, -C_81: -C81}).simplify()"
   ]
  },
  {
   "cell_type": "code",
   "execution_count": null,
   "metadata": {
    "execution": {
     "iopub.execute_input": "2021-03-08T22:38:05.956297Z",
     "iopub.status.busy": "2021-03-08T22:38:05.955737Z",
     "iopub.status.idle": "2021-03-08T22:38:06.879744Z",
     "shell.execute_reply": "2021-03-08T22:38:06.880239Z"
    }
   },
   "outputs": [],
   "source": [
    "# C_kr\n",
    "C72, C82 = sm.symbols('C_72, C_82')\n",
    "C_72 = soldict[q7.diff()].diff(u2)\n",
    "C_82 = soldict[q8.diff()].diff(u2)\n",
    "Fstar_2_G2_I = -J2 * (N_w_A2.dot(q7.diff().diff() * A2.y + q7.diff()*(N_w_A2.dot(A2.x)*A2.z - N_w_A2.dot(A2.z)*A2.x)) + C_72 * (N_w_A2.dot(A2.y).diff() + q7.diff().diff())) \\\n",
    "               -J2 * (N_w_A2.dot(q8.diff().diff() * A2.y + q8.diff()*(N_w_A2.dot(A2.x)*A2.z - N_w_A2.dot(A2.z)*A2.x)) + C_82 * (N_w_A2.dot(A2.y).diff() + q8.diff().diff()))   # B1 \\ B2\n",
    "\n",
    "display(Fstar_2_G2_I)\n",
    "display(C_72)\n",
    "display(C_82)\n",
    "display(Fstar_2_G2_I.subs({-C_72: -C72, -C_82: -C82}).simplify())"
   ]
  },
  {
   "cell_type": "code",
   "execution_count": null,
   "metadata": {
    "execution": {
     "iopub.execute_input": "2021-03-08T22:38:06.883753Z",
     "iopub.status.busy": "2021-03-08T22:38:06.883364Z",
     "iopub.status.idle": "2021-03-08T22:38:06.886336Z",
     "shell.execute_reply": "2021-03-08T22:38:06.885974Z"
    }
   },
   "outputs": [],
   "source": [
    "Fstar_1_G2 = Fstar_1_G2_R + Fstar_1_G2_I\n",
    "# Fstar_1_G2.subs({N_w_A2.dt(N).subs(soldict).dot(A2.z): alpha__A2}) # .subs({-C_71: -C71, -C_81: -C81}).simplify()\n",
    "Fstar_1_G2 = 0"
   ]
  },
  {
   "cell_type": "code",
   "execution_count": null,
   "metadata": {
    "execution": {
     "iopub.execute_input": "2021-03-08T22:38:06.934035Z",
     "iopub.status.busy": "2021-03-08T22:38:06.918655Z",
     "iopub.status.idle": "2021-03-08T22:38:08.116905Z",
     "shell.execute_reply": "2021-03-08T22:38:08.117482Z"
    }
   },
   "outputs": [],
   "source": [
    "Fstar_2_G2 = Fstar_2_G2_R + Fstar_2_G2_I\n",
    "Fstar_2_G2.subs({N_w_A2.dt(N).subs(soldict).dot(A2.z): alpha__A2}).subs({N_v_C.dt(N).subs(soldict).dot(A2.x): a_3__C}).subs({N_v_C.dt(N).subs(soldict).dot(A2.y): a_1__C}).subs({-C_72: -C72, -C_82: -C82}).simplify()"
   ]
  },
  {
   "cell_type": "code",
   "execution_count": null,
   "metadata": {
    "execution": {
     "iopub.execute_input": "2021-03-08T22:38:08.127391Z",
     "iopub.status.busy": "2021-03-08T22:38:08.126982Z",
     "iopub.status.idle": "2021-03-08T22:38:08.355784Z",
     "shell.execute_reply": "2021-03-08T22:38:08.355427Z"
    }
   },
   "outputs": [],
   "source": [
    "Fstar_P = -m * N_a_P\n",
    "Fstar_P"
   ]
  },
  {
   "cell_type": "code",
   "execution_count": null,
   "metadata": {
    "execution": {
     "iopub.execute_input": "2021-03-08T22:38:08.359854Z",
     "iopub.status.busy": "2021-03-08T22:38:08.359342Z",
     "iopub.status.idle": "2021-03-08T22:38:08.577722Z",
     "shell.execute_reply": "2021-03-08T22:38:08.578211Z"
    }
   },
   "outputs": [],
   "source": [
    "Fstar_1_P_R = V_1_P.dot(Fstar_P)\n",
    "Fstar_1_P_R"
   ]
  },
  {
   "cell_type": "code",
   "execution_count": null,
   "metadata": {
    "execution": {
     "iopub.execute_input": "2021-03-08T22:38:08.587391Z",
     "iopub.status.busy": "2021-03-08T22:38:08.586879Z",
     "iopub.status.idle": "2021-03-08T22:38:08.806595Z",
     "shell.execute_reply": "2021-03-08T22:38:08.806239Z"
    }
   },
   "outputs": [],
   "source": [
    "Fstar_2_P_R = V_2_P.dot(Fstar_P)\n",
    "Fstar_2_P_R"
   ]
  },
  {
   "cell_type": "code",
   "execution_count": null,
   "metadata": {
    "execution": {
     "iopub.execute_input": "2021-03-08T22:38:08.810521Z",
     "iopub.status.busy": "2021-03-08T22:38:08.809996Z",
     "iopub.status.idle": "2021-03-08T22:38:09.027068Z",
     "shell.execute_reply": "2021-03-08T22:38:09.026623Z"
    }
   },
   "outputs": [],
   "source": [
    "Fstar_1_P = Fstar_1_P_R\n",
    "Fstar_1_P"
   ]
  },
  {
   "cell_type": "code",
   "execution_count": null,
   "metadata": {
    "execution": {
     "iopub.execute_input": "2021-03-08T22:38:09.061489Z",
     "iopub.status.busy": "2021-03-08T22:38:09.060691Z",
     "iopub.status.idle": "2021-03-08T22:38:09.285523Z",
     "shell.execute_reply": "2021-03-08T22:38:09.285171Z"
    }
   },
   "outputs": [],
   "source": [
    "Fstar_2_P = Fstar_2_P_R\n",
    "Fstar_2_P.subs({N_v_P.dt(N).subs(soldict).dot(A2.x): a_3__P}).subs({N_v_P.dt(N).subs(soldict).dot(A2.y): a_1__P}).simplify()"
   ]
  },
  {
   "cell_type": "code",
   "execution_count": null,
   "metadata": {
    "execution": {
     "iopub.execute_input": "2021-03-08T22:38:09.338886Z",
     "iopub.status.busy": "2021-03-08T22:38:09.323551Z",
     "iopub.status.idle": "2021-03-08T22:38:11.367164Z",
     "shell.execute_reply": "2021-03-08T22:38:11.366802Z"
    }
   },
   "outputs": [],
   "source": [
    "Fstar_1 = Fstar_1_G1 + Fstar_1_G2 + Fstar_1_P\n",
    "Fstar_1.subs(soldict).simplify()"
   ]
  },
  {
   "cell_type": "code",
   "execution_count": null,
   "metadata": {
    "execution": {
     "iopub.execute_input": "2021-03-08T22:38:11.399803Z",
     "iopub.status.busy": "2021-03-08T22:38:11.389585Z",
     "iopub.status.idle": "2021-03-08T22:38:33.744804Z",
     "shell.execute_reply": "2021-03-08T22:38:33.744438Z"
    }
   },
   "outputs": [],
   "source": [
    "Fstar_2 = Fstar_2_G1 + Fstar_2_G2 + Fstar_2_P\n",
    "Fstar_2.subs(soldict).simplify()"
   ]
  },
  {
   "cell_type": "code",
   "execution_count": null,
   "metadata": {
    "execution": {
     "iopub.execute_input": "2021-03-08T22:38:33.750746Z",
     "iopub.status.busy": "2021-03-08T22:38:33.750347Z",
     "iopub.status.idle": "2021-03-08T22:38:33.972629Z",
     "shell.execute_reply": "2021-03-08T22:38:33.972248Z"
    }
   },
   "outputs": [],
   "source": [
    "C = me.dynamicsymbols('C')\n",
    "C_t = -C*A2.x\n",
    "C_t"
   ]
  },
  {
   "cell_type": "code",
   "execution_count": null,
   "metadata": {
    "execution": {
     "iopub.execute_input": "2021-03-08T22:38:33.978250Z",
     "iopub.status.busy": "2021-03-08T22:38:33.977858Z",
     "iopub.status.idle": "2021-03-08T22:38:34.195770Z",
     "shell.execute_reply": "2021-03-08T22:38:34.195422Z"
    }
   },
   "outputs": [],
   "source": [
    "Fprime_1 = V_1_P.dot(C_t)*m.diff()\n",
    "Fprime_1"
   ]
  },
  {
   "cell_type": "code",
   "execution_count": null,
   "metadata": {
    "execution": {
     "iopub.execute_input": "2021-03-08T22:38:34.205175Z",
     "iopub.status.busy": "2021-03-08T22:38:34.204534Z",
     "iopub.status.idle": "2021-03-08T22:38:34.424365Z",
     "shell.execute_reply": "2021-03-08T22:38:34.424009Z"
    }
   },
   "outputs": [],
   "source": [
    "Fprime_2 = V_2_P.dot(C_t)*m.diff()\n",
    "Fprime_2"
   ]
  },
  {
   "cell_type": "code",
   "execution_count": null,
   "metadata": {
    "execution": {
     "iopub.execute_input": "2021-03-08T22:38:34.477640Z",
     "iopub.status.busy": "2021-03-08T22:38:34.462365Z",
     "iopub.status.idle": "2021-03-08T22:38:37.711732Z",
     "shell.execute_reply": "2021-03-08T22:38:37.711372Z"
    }
   },
   "outputs": [],
   "source": [
    "kane_1 = Fstar_1.simplify() + Fprime_1.simplify()\n",
    "kane_1.subs(soldict).simplify()"
   ]
  },
  {
   "cell_type": "code",
   "execution_count": null,
   "metadata": {
    "execution": {
     "iopub.execute_input": "2021-03-08T22:38:37.764922Z",
     "iopub.status.busy": "2021-03-08T22:38:37.734274Z",
     "iopub.status.idle": "2021-03-08T22:39:04.073966Z",
     "shell.execute_reply": "2021-03-08T22:39:04.074459Z"
    }
   },
   "outputs": [],
   "source": [
    "kane_2 = Fstar_2 + Fprime_2\n",
    "kane_2.subs(soldict).simplify()"
   ]
  },
  {
   "cell_type": "code",
   "execution_count": null,
   "metadata": {
    "execution": {
     "iopub.execute_input": "2021-03-08T22:39:04.102296Z",
     "iopub.status.busy": "2021-03-08T22:39:04.092051Z",
     "iopub.status.idle": "2021-03-08T22:39:07.905517Z",
     "shell.execute_reply": "2021-03-08T22:39:07.905856Z"
    }
   },
   "outputs": [],
   "source": [
    "kane_1_eq = sm.Eq(kane_1.simplify().subs(soldict).simplify().subs(u).simplify(), 0)\n",
    "kane_1_eq"
   ]
  },
  {
   "cell_type": "code",
   "execution_count": null,
   "metadata": {
    "execution": {
     "iopub.execute_input": "2021-03-08T22:39:07.964072Z",
     "iopub.status.busy": "2021-03-08T22:39:07.943694Z",
     "iopub.status.idle": "2021-03-08T22:40:20.082804Z",
     "shell.execute_reply": "2021-03-08T22:40:20.082446Z"
    }
   },
   "outputs": [],
   "source": [
    "kane_2_eq = sm.Eq(kane_2.simplify().subs(soldict).simplify().subs(u).simplify(), 0)\n",
    "kane_2_eq"
   ]
  }
 ],
 "metadata": {
  "kernelspec": {
   "display_name": "Python 3",
   "language": "python",
   "name": "python3"
  },
  "language_info": {
   "codemirror_mode": {
    "name": "ipython",
    "version": 3
   },
   "file_extension": ".py",
   "mimetype": "text/x-python",
   "name": "python",
   "nbconvert_exporter": "python",
   "pygments_lexer": "ipython3",
   "version": "3.8.5"
  }
 },
 "nbformat": 4,
 "nbformat_minor": 5
}
