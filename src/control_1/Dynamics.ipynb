{
 "cells": [
  {
   "cell_type": "code",
   "execution_count": 62,
   "metadata": {},
   "outputs": [],
   "source": [
    "import sympy as sp\n",
    "import numpy as np\n",
    "from sympy.physics.vector import dynamicsymbols\n",
    "from sympy.physics.vector import time_derivative\n",
    "from sympy.physics.vector import ReferenceFrame\n",
    "N = ReferenceFrame('N')\n",
    "import pylab as pl\n",
    "import control\n",
    "from EoM import *\n",
    "from sympy.physics.mechanics import *\n",
    "from numpy.linalg import matrix_rank, eig\n",
    "import math\n",
    "import intelligent_robotics as ir"
   ]
  },
  {
   "cell_type": "code",
   "execution_count": 63,
   "metadata": {},
   "outputs": [],
   "source": [
    "def rot_x(theta):\n",
    "    rot_x = sp.Matrix([[1,0,0],\n",
    "                       [0,sp.cos(theta),-sp.sin(theta)],\n",
    "                       [0,sp.sin(theta),sp.cos(theta)]])\n",
    "    return rot_x\n",
    "\n",
    "def rot_y(theta):\n",
    "    rot_y = sp.Matrix([[sp.cos(theta),0,sp.sin(theta)],\n",
    "                       [0,1,0],\n",
    "                       [-sp.sin(theta),0,sp.cos(theta)]])\n",
    "    return rot_y\n",
    "\n",
    "def rot_z(theta):\n",
    "    rot_z = sp.Matrix([[sp.cos(theta),-sp.sin(theta),0],\n",
    "                       [sp.sin(theta),sp.cos(theta),0],\n",
    "                       [0,0,1]])\n",
    "    return rot_z\n",
    "\n",
    "def trans(a,b,c):\n",
    "    x = sp.Matrix([[a],[b],[c]])\n",
    "    return x\n",
    "\n",
    "def get_torque_from_L(L,q,qd):\n",
    "    round_L_round_q = sp.zeros(len(q),1);\n",
    "    i = 0;\n",
    "    for q_i in q:\n",
    "        round_L_round_q_i = [];\n",
    "        round_L_round_q_i = sp.diff(L,q_i);\n",
    "        round_L_round_q[i] = round_L_round_q_i;\n",
    "        i+=1;\n",
    "     \n",
    "    d_dt_round_L_round_qd = sp.zeros(len(qd),1);\n",
    "    i = 0;\n",
    "    for qd_i in qd:\n",
    "        round_L_round_qd_i = [];\n",
    "        d_dt_round_L_round_qd_i = [];\n",
    "        round_L_round_qd_i = sp.diff(L,qd_i);\n",
    "        d_dt_round_L_round_qd_i = time_derivative(round_L_round_qd_i,N);\n",
    "        d_dt_round_L_round_qd[i] = d_dt_round_L_round_qd_i;\n",
    "        i+=1;\n",
    "        \n",
    "    tau = d_dt_round_L_round_qd - round_L_round_q \n",
    "    return tau"
   ]
  },
  {
   "cell_type": "code",
   "execution_count": 64,
   "metadata": {},
   "outputs": [],
   "source": [
    "r, L_1, l_t = sp.symbols('r, L_1, l_t')\n",
    "m_w, m_b, m_1, g = sp.symbols('m_w, m_b, m_1, g')\n",
    "I_w, I_b, I_1 = sp.symbols('I_w, I_b, I_1')\n",
    "theta_P, theta_w = dynamicsymbols('theta_P, theta_w')\n",
    "\n",
    "# Displacement Vector\n",
    "x_c = trans(r*theta_w,0,0)\n",
    "x_w = x_c +  trans(0,0,r)\n",
    "x_1 = x_w +  rot_y(theta_P) @ trans(0,0,L_1)\n",
    "x_b = x_w +  rot_y(theta_P) @ trans(0,0,l_t)\n",
    "\n",
    "\n",
    "# Velocity Vector\n",
    "v_w = sp.simplify(time_derivative(x_w,N))\n",
    "v_b = sp.simplify(time_derivative(x_b,N))\n",
    "v_1 = sp.simplify(time_derivative(x_1,N))\n",
    "\n",
    "# Angular Velocity Vector\n",
    "w_w = trans(0, theta_w.diff(), 0)\n",
    "w_b = trans(0, theta_P.diff(), 0)\n",
    "w_1 = trans(0, theta_P.diff(), 0)\n",
    "\n",
    "\n",
    "# Generalized Coordinates\n",
    "q = sp.Matrix([[theta_P], [theta_w]])\n",
    "qd = q.diff()\n",
    "qdd = qd.diff()\n",
    "\n",
    "# Kinetic Energy\n",
    "T_trans = 0.5*(m_w*v_w.dot(v_w) + m_b*v_b.dot(v_b) + m_1*v_1.dot(v_1))\n",
    "#T_body = I_by * w_b[1]**2 \n",
    "#T_wheel = I_wy * w_w[1]**2\n",
    "\n",
    "T_body = I_b* w_b[1]**2 \n",
    "T_wheel =I_w* w_w[1]**2 \n",
    "T_1 =I_1* w_1[1]**2 \n",
    "#T_motor = I_my * n**2 * (theta_w.diff() - theta_P.diff())**2\n",
    "#T_gimbal_right = I_lfx * w_lf[0]**2 + I_lfy * w_lf[1]**2 + I_lfz * theta_gb.diff()**2\n",
    "#T_gimbal_left = I_rfx * w_rf[0]**2 + I_rfy * w_rf[1]**2 + I_rfz * theta_gb.diff()**2\n",
    "T_rot = 0.5*(T_body + T_wheel + T_1 )\n",
    "\n",
    "#T_rot = 0.5*(I_wy*w_w[1]**2 + I_by*w_b[1]**2 + I_my*n*n*(theta_w.diff()**2) + I_lfz*w_lf[2]**2 + I_rfz*w_rf[2]**2 + I_lfy*w_lf[1]**2 + I_rfy*w_rf[1]**2)\n",
    "#I_my*n*n*(theta_w.diff()-theta_P.diff())**2,  I_bx*(theta_R.diff()-theta_gb.diff())**2\n",
    "# Potential Energy\n",
    "V =  m_b*g*(l_t*sp.cos(theta_P)) + m_1*g*(L_1*sp.cos(theta_P)) \n",
    "\n",
    "# Lagrangian\n",
    "L = T_trans + T_rot - V\n"
   ]
  },
  {
   "cell_type": "code",
   "execution_count": 65,
   "metadata": {},
   "outputs": [],
   "source": [
    "tau = get_torque_from_L(L,q,qd)\n",
    "tau = sp.simplify(tau)\n",
    "# Ml, Cl, Gl, Wl = ir.get_EoM_from_T(tau,qdd,g)\n",
    "# Ml, Cl, Gl, Wl"
   ]
  },
  {
   "cell_type": "code",
   "execution_count": 66,
   "metadata": {},
   "outputs": [
    {
     "data": {
      "text/latex": [
       "$\\displaystyle \\left[\\begin{matrix}1.0 I_{1} \\frac{d^{2}}{d t^{2}} \\theta_{P}{\\left(t \\right)} + 1.0 I_{b} \\frac{d^{2}}{d t^{2}} \\theta_{P}{\\left(t \\right)} + 1.0 L_{1}^{2} m_{1} \\frac{d^{2}}{d t^{2}} \\theta_{P}{\\left(t \\right)} - 1.0 L_{1} g m_{1} \\sin{\\left(\\theta_{P}{\\left(t \\right)} \\right)} + 1.0 L_{1} m_{1} r \\cos{\\left(\\theta_{P}{\\left(t \\right)} \\right)} \\frac{d^{2}}{d t^{2}} \\theta_{w}{\\left(t \\right)} - 1.0 g l_{t} m_{b} \\sin{\\left(\\theta_{P}{\\left(t \\right)} \\right)} + 1.0 l_{t}^{2} m_{b} \\frac{d^{2}}{d t^{2}} \\theta_{P}{\\left(t \\right)} + 1.0 l_{t} m_{b} r \\cos{\\left(\\theta_{P}{\\left(t \\right)} \\right)} \\frac{d^{2}}{d t^{2}} \\theta_{w}{\\left(t \\right)}\\\\1.0 I_{w} \\frac{d^{2}}{d t^{2}} \\theta_{w}{\\left(t \\right)} + 1.0 m_{1} r \\left(- L_{1} \\sin{\\left(\\theta_{P}{\\left(t \\right)} \\right)} \\left(\\frac{d}{d t} \\theta_{P}{\\left(t \\right)}\\right)^{2} + L_{1} \\cos{\\left(\\theta_{P}{\\left(t \\right)} \\right)} \\frac{d^{2}}{d t^{2}} \\theta_{P}{\\left(t \\right)} + r \\frac{d^{2}}{d t^{2}} \\theta_{w}{\\left(t \\right)}\\right) + 1.0 m_{b} r \\left(- l_{t} \\sin{\\left(\\theta_{P}{\\left(t \\right)} \\right)} \\left(\\frac{d}{d t} \\theta_{P}{\\left(t \\right)}\\right)^{2} + l_{t} \\cos{\\left(\\theta_{P}{\\left(t \\right)} \\right)} \\frac{d^{2}}{d t^{2}} \\theta_{P}{\\left(t \\right)} + r \\frac{d^{2}}{d t^{2}} \\theta_{w}{\\left(t \\right)}\\right) + 1.0 m_{w} r^{2} \\frac{d^{2}}{d t^{2}} \\theta_{w}{\\left(t \\right)}\\end{matrix}\\right]$"
      ],
      "text/plain": [
       "Matrix([\n",
       "[                       1.0*I_1*Derivative(theta_P(t), (t, 2)) + 1.0*I_b*Derivative(theta_P(t), (t, 2)) + 1.0*L_1**2*m_1*Derivative(theta_P(t), (t, 2)) - 1.0*L_1*g*m_1*sin(theta_P(t)) + 1.0*L_1*m_1*r*cos(theta_P(t))*Derivative(theta_w(t), (t, 2)) - 1.0*g*l_t*m_b*sin(theta_P(t)) + 1.0*l_t**2*m_b*Derivative(theta_P(t), (t, 2)) + 1.0*l_t*m_b*r*cos(theta_P(t))*Derivative(theta_w(t), (t, 2))],\n",
       "[1.0*I_w*Derivative(theta_w(t), (t, 2)) + 1.0*m_1*r*(-L_1*sin(theta_P(t))*Derivative(theta_P(t), t)**2 + L_1*cos(theta_P(t))*Derivative(theta_P(t), (t, 2)) + r*Derivative(theta_w(t), (t, 2))) + 1.0*m_b*r*(-l_t*sin(theta_P(t))*Derivative(theta_P(t), t)**2 + l_t*cos(theta_P(t))*Derivative(theta_P(t), (t, 2)) + r*Derivative(theta_w(t), (t, 2))) + 1.0*m_w*r**2*Derivative(theta_w(t), (t, 2))]])"
      ]
     },
     "execution_count": 66,
     "metadata": {},
     "output_type": "execute_result"
    }
   ],
   "source": [
    "tau"
   ]
  },
  {
   "cell_type": "code",
   "execution_count": 67,
   "metadata": {},
   "outputs": [],
   "source": [
    "T_w, F_b = sp.symbols('T_w, F_b')\n",
    "u = sp.Matrix([[T_w], [F_b]])\n",
    "\n",
    "u_matrix = sp.Matrix([[-T_w - F_b*l_t*sp.cos(theta_P)], [T_w - F_b*l_t*sp.cos(theta_P)]])"
   ]
  },
  {
   "cell_type": "code",
   "execution_count": 68,
   "metadata": {},
   "outputs": [],
   "source": [
    "tau_eq = tau+u_matrix"
   ]
  },
  {
   "cell_type": "code",
   "execution_count": 69,
   "metadata": {},
   "outputs": [],
   "source": [
    "M, C, G, W = get_EoM_from_T(tau_eq,qdd,g, u)"
   ]
  },
  {
   "cell_type": "code",
   "execution_count": 70,
   "metadata": {},
   "outputs": [
    {
     "data": {
      "text/latex": [
       "$\\displaystyle \\left[\\begin{matrix}1.0 I_{1} + 1.0 I_{b} + 1.0 L_{1}^{2} m_{1} + 1.0 l_{t}^{2} m_{b} & 1.0 r \\left(L_{1} m_{1} + l_{t} m_{b}\\right) \\cos{\\left(\\theta_{P}{\\left(t \\right)} \\right)}\\\\1.0 r \\left(L_{1} m_{1} + l_{t} m_{b}\\right) \\cos{\\left(\\theta_{P}{\\left(t \\right)} \\right)} & 1.0 I_{w} + 1.0 m_{1} r^{2} + 1.0 m_{b} r^{2} + 1.0 m_{w} r^{2}\\end{matrix}\\right]$"
      ],
      "text/plain": [
       "Matrix([\n",
       "[1.0*I_1 + 1.0*I_b + 1.0*L_1**2*m_1 + 1.0*l_t**2*m_b,            1.0*r*(L_1*m_1 + l_t*m_b)*cos(theta_P(t))],\n",
       "[          1.0*r*(L_1*m_1 + l_t*m_b)*cos(theta_P(t)), 1.0*I_w + 1.0*m_1*r**2 + 1.0*m_b*r**2 + 1.0*m_w*r**2]])"
      ]
     },
     "execution_count": 70,
     "metadata": {},
     "output_type": "execute_result"
    }
   ],
   "source": [
    "M"
   ]
  },
  {
   "cell_type": "code",
   "execution_count": 71,
   "metadata": {},
   "outputs": [
    {
     "data": {
      "text/latex": [
       "$\\displaystyle \\left[\\begin{matrix}0\\\\- 1.0 r \\left(L_{1} m_{1} + l_{t} m_{b}\\right) \\sin{\\left(\\theta_{P}{\\left(t \\right)} \\right)} \\left(\\frac{d}{d t} \\theta_{P}{\\left(t \\right)}\\right)^{2}\\end{matrix}\\right]$"
      ],
      "text/plain": [
       "Matrix([\n",
       "[                                                                      0],\n",
       "[-1.0*r*(L_1*m_1 + l_t*m_b)*sin(theta_P(t))*Derivative(theta_P(t), t)**2]])"
      ]
     },
     "execution_count": 71,
     "metadata": {},
     "output_type": "execute_result"
    }
   ],
   "source": [
    "C"
   ]
  },
  {
   "cell_type": "code",
   "execution_count": 72,
   "metadata": {},
   "outputs": [
    {
     "data": {
      "text/latex": [
       "$\\displaystyle \\left[\\begin{matrix}- 1.0 g \\left(L_{1} m_{1} + l_{t} m_{b}\\right) \\sin{\\left(\\theta_{P}{\\left(t \\right)} \\right)}\\\\0\\end{matrix}\\right]$"
      ],
      "text/plain": [
       "Matrix([\n",
       "[-1.0*g*(L_1*m_1 + l_t*m_b)*sin(theta_P(t))],\n",
       "[                                         0]])"
      ]
     },
     "execution_count": 72,
     "metadata": {},
     "output_type": "execute_result"
    }
   ],
   "source": [
    "G"
   ]
  },
  {
   "cell_type": "code",
   "execution_count": 73,
   "metadata": {},
   "outputs": [
    {
     "data": {
      "text/latex": [
       "$\\displaystyle \\left[\\begin{matrix}1 & l_{t} \\cos{\\left(\\theta_{P}{\\left(t \\right)} \\right)}\\\\-1 & l_{t} \\cos{\\left(\\theta_{P}{\\left(t \\right)} \\right)}\\end{matrix}\\right]$"
      ],
      "text/plain": [
       "Matrix([\n",
       "[ 1, l_t*cos(theta_P(t))],\n",
       "[-1, l_t*cos(theta_P(t))]])"
      ]
     },
     "execution_count": 73,
     "metadata": {},
     "output_type": "execute_result"
    }
   ],
   "source": [
    "W"
   ]
  },
  {
   "cell_type": "code",
   "execution_count": 74,
   "metadata": {},
   "outputs": [
    {
     "data": {
      "text/latex": [
       "$\\displaystyle \\left[\\begin{matrix}- 1.0 F_{b} l_{t} + 1.0 I_{1} \\frac{d^{2}}{d t^{2}} \\theta_{P}{\\left(t \\right)} + 1.0 I_{b} \\frac{d^{2}}{d t^{2}} \\theta_{P}{\\left(t \\right)} + 1.0 L_{1}^{2} m_{1} \\frac{d^{2}}{d t^{2}} \\theta_{P}{\\left(t \\right)} - 1.0 L_{1} g m_{1} \\theta_{P}{\\left(t \\right)} + 1.0 L_{1} m_{1} r \\frac{d^{2}}{d t^{2}} \\theta_{w}{\\left(t \\right)} - 1.0 T_{w} - 1.0 g l_{t} m_{b} \\theta_{P}{\\left(t \\right)} + 1.0 l_{t}^{2} m_{b} \\frac{d^{2}}{d t^{2}} \\theta_{P}{\\left(t \\right)} + 1.0 l_{t} m_{b} r \\frac{d^{2}}{d t^{2}} \\theta_{w}{\\left(t \\right)}\\\\- F_{b} l_{t} + 1.0 I_{w} \\frac{d^{2}}{d t^{2}} \\theta_{w}{\\left(t \\right)} + T_{w} + 1.0 m_{1} r \\left(L_{1} \\frac{d^{2}}{d t^{2}} \\theta_{P}{\\left(t \\right)} + r \\frac{d^{2}}{d t^{2}} \\theta_{w}{\\left(t \\right)}\\right) + 1.0 m_{b} r \\left(l_{t} \\frac{d^{2}}{d t^{2}} \\theta_{P}{\\left(t \\right)} + r \\frac{d^{2}}{d t^{2}} \\theta_{w}{\\left(t \\right)}\\right) + 1.0 m_{w} r^{2} \\frac{d^{2}}{d t^{2}} \\theta_{w}{\\left(t \\right)}\\end{matrix}\\right]$"
      ],
      "text/plain": [
       "Matrix([\n",
       "[-1.0*F_b*l_t + 1.0*I_1*Derivative(theta_P(t), (t, 2)) + 1.0*I_b*Derivative(theta_P(t), (t, 2)) + 1.0*L_1**2*m_1*Derivative(theta_P(t), (t, 2)) - 1.0*L_1*g*m_1*theta_P(t) + 1.0*L_1*m_1*r*Derivative(theta_w(t), (t, 2)) - 1.0*T_w - 1.0*g*l_t*m_b*theta_P(t) + 1.0*l_t**2*m_b*Derivative(theta_P(t), (t, 2)) + 1.0*l_t*m_b*r*Derivative(theta_w(t), (t, 2))],\n",
       "[                                                                               -F_b*l_t + 1.0*I_w*Derivative(theta_w(t), (t, 2)) + T_w + 1.0*m_1*r*(L_1*Derivative(theta_P(t), (t, 2)) + r*Derivative(theta_w(t), (t, 2))) + 1.0*m_b*r*(l_t*Derivative(theta_P(t), (t, 2)) + r*Derivative(theta_w(t), (t, 2))) + 1.0*m_w*r**2*Derivative(theta_w(t), (t, 2))]])"
      ]
     },
     "execution_count": 74,
     "metadata": {},
     "output_type": "execute_result"
    }
   ],
   "source": [
    "linearlize_eq = {sp.sin(theta_P):theta_P, sp.cos(theta_P):1, theta_P.diff()**2:0}\n",
    "tau_linear = sp.simplify(tau_eq.subs(linearlize_eq))\n",
    "tau_linear"
   ]
  },
  {
   "cell_type": "code",
   "execution_count": 75,
   "metadata": {},
   "outputs": [],
   "source": [
    "Ml, Cl, Gl, Wl = get_EoM_from_T(tau_linear,qdd,g, u)"
   ]
  },
  {
   "cell_type": "code",
   "execution_count": 76,
   "metadata": {},
   "outputs": [
    {
     "data": {
      "text/latex": [
       "$\\displaystyle \\left[\\begin{matrix}1.0 I_{1} + 1.0 I_{b} + 1.0 L_{1}^{2} m_{1} + 1.0 l_{t}^{2} m_{b} & 1.0 r \\left(L_{1} m_{1} + l_{t} m_{b}\\right)\\\\1.0 r \\left(L_{1} m_{1} + l_{t} m_{b}\\right) & 1.0 I_{w} + 1.0 m_{1} r^{2} + 1.0 m_{b} r^{2} + 1.0 m_{w} r^{2}\\end{matrix}\\right]$"
      ],
      "text/plain": [
       "Matrix([\n",
       "[1.0*I_1 + 1.0*I_b + 1.0*L_1**2*m_1 + 1.0*l_t**2*m_b,                            1.0*r*(L_1*m_1 + l_t*m_b)],\n",
       "[                          1.0*r*(L_1*m_1 + l_t*m_b), 1.0*I_w + 1.0*m_1*r**2 + 1.0*m_b*r**2 + 1.0*m_w*r**2]])"
      ]
     },
     "execution_count": 76,
     "metadata": {},
     "output_type": "execute_result"
    }
   ],
   "source": [
    "Ml"
   ]
  },
  {
   "cell_type": "code",
   "execution_count": 77,
   "metadata": {},
   "outputs": [
    {
     "data": {
      "text/latex": [
       "$\\displaystyle \\left[\\begin{matrix}0\\\\0\\end{matrix}\\right]$"
      ],
      "text/plain": [
       "Matrix([\n",
       "[0],\n",
       "[0]])"
      ]
     },
     "execution_count": 77,
     "metadata": {},
     "output_type": "execute_result"
    }
   ],
   "source": [
    "Cl"
   ]
  },
  {
   "cell_type": "code",
   "execution_count": 78,
   "metadata": {},
   "outputs": [
    {
     "data": {
      "text/latex": [
       "$\\displaystyle \\left[\\begin{matrix}- 1.0 g \\left(L_{1} m_{1} + l_{t} m_{b}\\right) \\theta_{P}{\\left(t \\right)}\\\\0\\end{matrix}\\right]$"
      ],
      "text/plain": [
       "Matrix([\n",
       "[-1.0*g*(L_1*m_1 + l_t*m_b)*theta_P(t)],\n",
       "[                                    0]])"
      ]
     },
     "execution_count": 78,
     "metadata": {},
     "output_type": "execute_result"
    }
   ],
   "source": [
    "Gl"
   ]
  },
  {
   "cell_type": "code",
   "execution_count": 79,
   "metadata": {},
   "outputs": [
    {
     "data": {
      "text/latex": [
       "$\\displaystyle \\left[\\begin{matrix}1.0 & 1.0 l_{t}\\\\-1 & l_{t}\\end{matrix}\\right]$"
      ],
      "text/plain": [
       "Matrix([\n",
       "[1.0, 1.0*l_t],\n",
       "[ -1,     l_t]])"
      ]
     },
     "execution_count": 79,
     "metadata": {},
     "output_type": "execute_result"
    }
   ],
   "source": [
    "Wl"
   ]
  },
  {
   "cell_type": "code",
   "execution_count": 90,
   "metadata": {},
   "outputs": [
    {
     "name": "stdout",
     "output_type": "stream",
     "text": [
      "A = [[  0.           0.           1.           0.        ]\n",
      "     [  0.           0.           0.           1.        ]\n",
      "     [ 14.60584998   0.           0.           0.        ]\n",
      "     [-66.63714437   0.           0.           0.        ]]\n",
      "\n",
      "B = [[ 0.          0.        ]\n",
      "     [ 0.          0.        ]\n",
      "     [ 0.265897   -0.17406177]\n",
      "     [-3.33605421  2.96407486]]\n",
      "\n",
      "C = [[1. 0. 0. 0.]\n",
      "     [0. 1. 0. 0.]\n",
      "     [0. 0. 1. 0.]\n",
      "     [0. 0. 0. 1.]]\n",
      "\n",
      "D = [[0. 0.]\n",
      "     [0. 0.]\n",
      "     [0. 0.]\n",
      "     [0. 0.]]\n",
      "\n"
     ]
    }
   ],
   "source": [
    "param = {I_1: 0.11, I_w:0.11, I_b:3.089539709502296,  m_b:25.278,  m_1:25.278,  m_w:25.278, r:0.069, L_1: 0.21, l_t:1.022142,  g:9.81}\n",
    "\n",
    "Mlp = msubs(Ml, param)\n",
    "Clp = msubs(Cl, param)\n",
    "Glp = msubs(Gl, param)\n",
    "Wlp = msubs(Wl, param)\n",
    "\n",
    "Mlp_inv = Mlp.inv()\n",
    "qdd_rhs_A = Mlp_inv*(-Clp -Glp)\n",
    "qdd_rhs_B = Mlp_inv*Wlp*u\n",
    "\n",
    "X = q.col_join(qd)\n",
    "Xd_A = qd.col_join(qdd_rhs_A)\n",
    "Xd_B = qd.col_join(qdd_rhs_B)\n",
    "U = u\n",
    "\n",
    "A = Xd_A.jacobian(X)\n",
    "B = Xd_B.jacobian(U)\n",
    "C = X.jacobian(X)\n",
    "D = X.jacobian(U)\n",
    "\n",
    "ss0 = [A, B, C, D]\n",
    "sys0 = control.ss(*[pl.array(mat_i.subs(param)).astype(float) for mat_i in ss0])\n",
    "mprint(sys0)"
   ]
  },
  {
   "cell_type": "code",
   "execution_count": null,
   "metadata": {},
   "outputs": [],
   "source": []
  }
 ],
 "metadata": {
  "kernelspec": {
   "display_name": "Python 3.7.11 ('py37')",
   "language": "python",
   "name": "python3"
  },
  "language_info": {
   "codemirror_mode": {
    "name": "ipython",
    "version": 3
   },
   "file_extension": ".py",
   "mimetype": "text/x-python",
   "name": "python",
   "nbconvert_exporter": "python",
   "pygments_lexer": "ipython3",
   "version": "3.7.11"
  },
  "vscode": {
   "interpreter": {
    "hash": "f2376f10e5480d9dd8a0eeeaa81051e72d24d2357c52529331f089560bf138e7"
   }
  }
 },
 "nbformat": 4,
 "nbformat_minor": 4
}
